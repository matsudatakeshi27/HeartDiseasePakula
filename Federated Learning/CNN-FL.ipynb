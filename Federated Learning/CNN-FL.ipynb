{
 "cells": [
  {
   "cell_type": "code",
   "execution_count": 1,
   "id": "b9f37971",
   "metadata": {},
   "outputs": [],
   "source": [
    "import numpy as np\n",
    "import random\n",
    "import cv2\n",
    "import os\n",
    "from imutils import paths\n",
    "from sklearn.preprocessing import LabelBinarizer\n",
    "from sklearn.model_selection import train_test_split\n",
    "from sklearn.utils import shuffle\n",
    "from sklearn.metrics import accuracy_score\n",
    "import pandas as pd\n",
    "\n",
    "import tensorflow as tf\n",
    "from tensorflow.keras.models import Sequential\n",
    "from tensorflow.keras.layers import Conv1D, MaxPooling1D, Activation, Flatten, Dense, Dropout\n",
    "from tensorflow.keras.optimizers import SGD\n",
    "from tensorflow.keras import backend as K\n",
    "from sklearn.metrics import confusion_matrix, classification_report"
   ]
  },
  {
   "cell_type": "code",
   "execution_count": 2,
   "id": "05fdffd3",
   "metadata": {},
   "outputs": [],
   "source": [
    "#binarize the labels\n",
    "lb = LabelBinarizer()\n",
    "\n",
    "import pandas as pd\n",
    "\n",
    "data_files = ['cle_train.csv','cle_test.csv','hun_train.csv','hun_test.csv','swi_train.csv','swi_test.csv','vir_train.csv','vir_test.csv']\n",
    "\n",
    "datasets = {}\n",
    "\n",
    "for file in data_files:\n",
    "    data = pd.read_csv('../TrainTestData/' + file)\n",
    "    \n",
    "    X = data.iloc[:, :-1]\n",
    "    Y = data.iloc[:, -1]\n",
    "    \n",
    "    Y_binary = Y.apply(lambda x: 1 if x > 0 else 0)\n",
    "    \n",
    "    # Extract the name from the file path\n",
    "    name = file.split('.')[0]\n",
    "    \n",
    "    # Store the dataset components in a dictionary\n",
    "    datasets[name] = {'X': X, 'Y': Y, 'Y_binary': Y_binary}\n",
    "\n",
    "# Unpack the dictionary values in a loop\n",
    "variables = ['cle', 'hun', 'swi', 'vir']\n",
    "train_test = ['train', 'test']\n",
    "\n",
    "for var in variables:\n",
    "    for tt in train_test:\n",
    "        X, Y, Y_binary = datasets[f'{var}_{tt}'].values()\n",
    "        globals()[f'{var}_X_{tt}'] = X\n",
    "        globals()[f'{var}_Y_{tt}'] = Y\n",
    "        globals()[f'{var}_Y_{tt}_binary'] = Y_binary"
   ]
  },
  {
   "cell_type": "code",
   "execution_count": 3,
   "id": "8171119e",
   "metadata": {},
   "outputs": [],
   "source": [
    "X_test = pd.concat([cle_X_test,hun_X_test,swi_X_test,vir_X_test])\n",
    "y_test = pd.concat([cle_Y_test_binary,hun_Y_test_binary,swi_Y_test_binary,vir_Y_test_binary])\n",
    "\n",
    "X_train = pd.concat([cle_X_train,hun_X_train,swi_X_train,vir_X_train])\n",
    "y_train = pd.concat([cle_Y_train_binary,hun_Y_train_binary,swi_Y_train_binary,vir_Y_train_binary])"
   ]
  },
  {
   "cell_type": "code",
   "execution_count": 4,
   "id": "3fc05e42",
   "metadata": {},
   "outputs": [],
   "source": [
    "def create_clients():\n",
    "    cle_zip = list(zip(cle_X_train.values,cle_Y_train_binary))\n",
    "    hun_zip = list(zip(hun_X_train.values,hun_Y_train_binary))\n",
    "    vir_zip = list(zip(vir_X_train.values,vir_Y_train_binary))\n",
    "    swi_zip = list(zip(swi_X_train.values,swi_Y_train_binary))\n",
    "    \n",
    "    shards = [cle_zip, hun_zip, vir_zip,swi_zip]\n",
    "    client_names = [\"client_1\",\"client_2\",\"client_3\",\"client_4\"]\n",
    "    dic = {client_names[i] : shards[i] for i in range(len(client_names))}\n",
    "    return dic\n",
    "\n",
    "\n",
    "def batch_data(data_shard, bs=32):\n",
    "    '''Takes in a clients data shard and create a tfds object off it\n",
    "    args:\n",
    "        shard: a data, label constituting a client's data shard\n",
    "        bs:batch size\n",
    "    return:\n",
    "        tfds object'''\n",
    "    #seperate shard into data and labels lists\n",
    "    data, label = zip(*data_shard)\n",
    "    dataset = tf.data.Dataset.from_tensor_slices((list(data), list(label)))\n",
    "    return dataset.shuffle(len(label)).batch(bs)\n",
    "\n",
    "\n",
    "class CNN:\n",
    "    @staticmethod\n",
    "    def build(shape, classes):\n",
    "        model = Sequential()\n",
    "        model.add(Conv1D(filters=64, kernel_size=3, activation='relu', input_shape=(22,1)))\n",
    "        model.add(Conv1D(filters=64, kernel_size=3, activation='relu'))\n",
    "        model.add(MaxPooling1D(pool_size=2))\n",
    "\n",
    "        model.add(Conv1D(filters=128, kernel_size=3, activation='relu'))\n",
    "        model.add(MaxPooling1D(pool_size=2))\n",
    "\n",
    "        model.add(Flatten())\n",
    "        model.add(Dense(256, activation='relu'))\n",
    "        model.add(Dense(2, activation='sigmoid'))\n",
    "\n",
    "        model.compile(loss='sparse_categorical_crossentropy', optimizer='adam', metrics=['accuracy'])\n",
    "        return model\n",
    "    \n",
    "\n",
    "def weight_scalling_factor(clients_trn_data, client_name):\n",
    "    client_names = list(clients_trn_data.keys())\n",
    "    #get the bs\n",
    "    bs = list(clients_trn_data[client_name])[0][0].shape[0]\n",
    "    #first calculate the total training data points across clinets\n",
    "    global_count = sum([tf.data.experimental.cardinality(clients_trn_data[client_name]).numpy() for client_name in client_names])*bs\n",
    "    # get the total number of data points held by a client\n",
    "    local_count = tf.data.experimental.cardinality(clients_trn_data[client_name]).numpy()*bs\n",
    "    return local_count/global_count\n",
    "\n",
    "\n",
    "def scale_model_weights(weight, scalar):\n",
    "    '''function for scaling a models weights'''\n",
    "    weight_final = []\n",
    "    steps = len(weight)\n",
    "    for i in range(steps):\n",
    "        weight_final.append(scalar * weight[i])\n",
    "    return weight_final\n",
    "\n",
    "\n",
    "def sum_scaled_weights(scaled_weight_list):\n",
    "    '''Return the sum of the listed scaled weights. The is equivalent to scaled avg of the weights'''\n",
    "    avg_grad = list()\n",
    "    #get the average grad accross all client gradients\n",
    "    for grad_list_tuple in zip(*scaled_weight_list):\n",
    "        layer_mean = tf.math.reduce_sum(grad_list_tuple, axis=0)\n",
    "        avg_grad.append(layer_mean)\n",
    "        \n",
    "    return avg_grad\n",
    "\n",
    "\n",
    "def test_model(X_test, Y_test,  model, comm_round):\n",
    "    cce = tf.keras.losses.SparseCategoricalCrossentropy(from_logits=True)\n",
    "    #logits = model.predict(X_test, batch_size=100)\n",
    "    logits = model.predict(X_test)\n",
    "    length = len(y_test)\n",
    "    Y_test = tf.reshape(Y_test,(length,1))\n",
    "    loss = cce(Y_test, logits)\n",
    "    acc = accuracy_score(tf.argmax(logits, axis=1), Y_test)\n",
    "    print('comm_round: {} | global_acc: {:.3%} | global_loss: {}'.format(comm_round, acc, loss))\n",
    "    return acc, loss"
   ]
  },
  {
   "cell_type": "code",
   "execution_count": 6,
   "id": "c94fcc46",
   "metadata": {
    "scrolled": true
   },
   "outputs": [
    {
     "name": "stderr",
     "output_type": "stream",
     "text": [
      "D:\\Anaconda\\envs\\GPU\\lib\\site-packages\\keras\\optimizers\\legacy\\gradient_descent.py:114: UserWarning: The `lr` argument is deprecated, use `learning_rate` instead.\n",
      "  super().__init__(name, **kwargs)\n"
     ]
    },
    {
     "name": "stdout",
     "output_type": "stream",
     "text": [
      "9/9 [==============================] - 0s 3ms/step\n",
      "comm_round: 0 | global_acc: 52.708% | global_loss: 0.6927624344825745\n",
      "9/9 [==============================] - 0s 1ms/step\n",
      "comm_round: 1 | global_acc: 62.816% | global_loss: 0.6918665170669556\n",
      "9/9 [==============================] - 0s 1ms/step\n",
      "comm_round: 2 | global_acc: 63.899% | global_loss: 0.6910293102264404\n",
      "9/9 [==============================] - 0s 1ms/step\n",
      "comm_round: 3 | global_acc: 71.119% | global_loss: 0.6904116272926331\n",
      "9/9 [==============================] - 0s 1ms/step\n",
      "comm_round: 4 | global_acc: 73.285% | global_loss: 0.6898230910301208\n",
      "9/9 [==============================] - 0s 1ms/step\n",
      "comm_round: 5 | global_acc: 72.202% | global_loss: 0.6894369125366211\n",
      "9/9 [==============================] - 0s 2ms/step\n",
      "comm_round: 6 | global_acc: 74.729% | global_loss: 0.6886847615242004\n",
      "9/9 [==============================] - 0s 1ms/step\n",
      "comm_round: 7 | global_acc: 72.563% | global_loss: 0.6885164380073547\n",
      "9/9 [==============================] - 0s 1ms/step\n",
      "comm_round: 8 | global_acc: 72.563% | global_loss: 0.6879224181175232\n",
      "9/9 [==============================] - 0s 1ms/step\n",
      "comm_round: 9 | global_acc: 71.841% | global_loss: 0.6871506571769714\n",
      "9/9 [==============================] - 0s 1ms/step\n",
      "comm_round: 10 | global_acc: 73.646% | global_loss: 0.6864445805549622\n",
      "9/9 [==============================] - 0s 1ms/step\n",
      "comm_round: 11 | global_acc: 74.368% | global_loss: 0.6858493685722351\n",
      "9/9 [==============================] - 0s 1ms/step\n",
      "comm_round: 12 | global_acc: 74.007% | global_loss: 0.6853322982788086\n",
      "9/9 [==============================] - 0s 1ms/step\n",
      "comm_round: 13 | global_acc: 74.007% | global_loss: 0.6844670176506042\n",
      "9/9 [==============================] - 0s 1ms/step\n",
      "comm_round: 14 | global_acc: 74.368% | global_loss: 0.6837055683135986\n",
      "9/9 [==============================] - 0s 1ms/step\n",
      "comm_round: 15 | global_acc: 74.007% | global_loss: 0.6828112006187439\n",
      "9/9 [==============================] - 0s 1ms/step\n",
      "comm_round: 16 | global_acc: 74.729% | global_loss: 0.6821882128715515\n",
      "9/9 [==============================] - 0s 1ms/step\n",
      "comm_round: 17 | global_acc: 74.729% | global_loss: 0.6814468502998352\n",
      "9/9 [==============================] - 0s 1ms/step\n",
      "comm_round: 18 | global_acc: 75.812% | global_loss: 0.6803346872329712\n",
      "9/9 [==============================] - 0s 1ms/step\n",
      "comm_round: 19 | global_acc: 74.007% | global_loss: 0.6791372895240784\n",
      "9/9 [==============================] - 0s 1ms/step\n",
      "comm_round: 20 | global_acc: 74.729% | global_loss: 0.6782448887825012\n",
      "9/9 [==============================] - 0s 1ms/step\n",
      "comm_round: 21 | global_acc: 74.368% | global_loss: 0.6770768165588379\n",
      "9/9 [==============================] - 0s 1ms/step\n",
      "comm_round: 22 | global_acc: 75.451% | global_loss: 0.6760976910591125\n",
      "9/9 [==============================] - 0s 1ms/step\n",
      "comm_round: 23 | global_acc: 75.812% | global_loss: 0.67502361536026\n",
      "9/9 [==============================] - 0s 1ms/step\n",
      "comm_round: 24 | global_acc: 75.451% | global_loss: 0.6735902428627014\n",
      "9/9 [==============================] - 0s 1ms/step\n",
      "comm_round: 25 | global_acc: 75.451% | global_loss: 0.6726586222648621\n",
      "9/9 [==============================] - 0s 1ms/step\n",
      "comm_round: 26 | global_acc: 75.451% | global_loss: 0.6707425713539124\n",
      "9/9 [==============================] - 0s 1ms/step\n",
      "comm_round: 27 | global_acc: 75.090% | global_loss: 0.6692443490028381\n",
      "9/9 [==============================] - 0s 1ms/step\n",
      "comm_round: 28 | global_acc: 75.090% | global_loss: 0.6677131056785583\n",
      "9/9 [==============================] - 0s 1ms/step\n",
      "comm_round: 29 | global_acc: 75.090% | global_loss: 0.6660332083702087\n",
      "9/9 [==============================] - 0s 1ms/step\n",
      "comm_round: 30 | global_acc: 75.451% | global_loss: 0.6642813682556152\n",
      "9/9 [==============================] - 0s 1ms/step\n",
      "comm_round: 31 | global_acc: 76.173% | global_loss: 0.6626782417297363\n",
      "9/9 [==============================] - 0s 1ms/step\n",
      "comm_round: 32 | global_acc: 76.895% | global_loss: 0.6608992218971252\n",
      "9/9 [==============================] - 0s 1ms/step\n",
      "comm_round: 33 | global_acc: 76.534% | global_loss: 0.6589452624320984\n",
      "9/9 [==============================] - 0s 1ms/step\n",
      "comm_round: 34 | global_acc: 76.534% | global_loss: 0.6569011211395264\n",
      "9/9 [==============================] - 0s 1ms/step\n",
      "comm_round: 35 | global_acc: 77.256% | global_loss: 0.6553544402122498\n",
      "9/9 [==============================] - 0s 1ms/step\n",
      "comm_round: 36 | global_acc: 77.617% | global_loss: 0.6524962186813354\n",
      "9/9 [==============================] - 0s 1ms/step\n",
      "comm_round: 37 | global_acc: 77.256% | global_loss: 0.6501721143722534\n",
      "9/9 [==============================] - 0s 1ms/step\n",
      "comm_round: 38 | global_acc: 77.256% | global_loss: 0.6476384401321411\n",
      "9/9 [==============================] - 0s 1ms/step\n",
      "comm_round: 39 | global_acc: 77.617% | global_loss: 0.6460049152374268\n",
      "9/9 [==============================] - 0s 1ms/step\n",
      "comm_round: 40 | global_acc: 77.617% | global_loss: 0.6431949138641357\n",
      "9/9 [==============================] - 0s 1ms/step\n",
      "comm_round: 41 | global_acc: 78.339% | global_loss: 0.641094446182251\n",
      "9/9 [==============================] - 0s 2ms/step\n",
      "comm_round: 42 | global_acc: 78.339% | global_loss: 0.639045000076294\n",
      "9/9 [==============================] - 0s 2ms/step\n",
      "comm_round: 43 | global_acc: 77.617% | global_loss: 0.6353731155395508\n",
      "9/9 [==============================] - 0s 1ms/step\n",
      "comm_round: 44 | global_acc: 79.422% | global_loss: 0.6343933343887329\n",
      "9/9 [==============================] - 0s 2ms/step\n",
      "comm_round: 45 | global_acc: 77.978% | global_loss: 0.630381166934967\n",
      "9/9 [==============================] - 0s 1ms/step\n",
      "comm_round: 46 | global_acc: 79.422% | global_loss: 0.6289064884185791\n",
      "9/9 [==============================] - 0s 1ms/step\n",
      "comm_round: 47 | global_acc: 79.422% | global_loss: 0.6260067224502563\n",
      "9/9 [==============================] - 0s 2ms/step\n",
      "comm_round: 48 | global_acc: 77.617% | global_loss: 0.622626543045044\n",
      "9/9 [==============================] - 0s 2ms/step\n",
      "comm_round: 49 | global_acc: 80.144% | global_loss: 0.6214645504951477\n",
      "9/9 [==============================] - 0s 1ms/step\n",
      "comm_round: 50 | global_acc: 78.700% | global_loss: 0.618162989616394\n",
      "9/9 [==============================] - 0s 1ms/step\n",
      "comm_round: 51 | global_acc: 80.866% | global_loss: 0.6172116994857788\n",
      "9/9 [==============================] - 0s 1ms/step\n",
      "comm_round: 52 | global_acc: 79.422% | global_loss: 0.6134262084960938\n",
      "9/9 [==============================] - 0s 1ms/step\n",
      "comm_round: 53 | global_acc: 79.061% | global_loss: 0.611735999584198\n",
      "9/9 [==============================] - 0s 1ms/step\n",
      "comm_round: 54 | global_acc: 79.422% | global_loss: 0.6090856194496155\n",
      "9/9 [==============================] - 0s 1ms/step\n",
      "comm_round: 55 | global_acc: 80.144% | global_loss: 0.6086007356643677\n",
      "9/9 [==============================] - 0s 2ms/step\n",
      "comm_round: 56 | global_acc: 79.422% | global_loss: 0.6039908528327942\n",
      "9/9 [==============================] - 0s 2ms/step\n",
      "comm_round: 57 | global_acc: 80.144% | global_loss: 0.6048198938369751\n",
      "9/9 [==============================] - 0s 1ms/step\n",
      "comm_round: 58 | global_acc: 80.505% | global_loss: 0.600229799747467\n",
      "9/9 [==============================] - 0s 2ms/step\n",
      "comm_round: 59 | global_acc: 81.949% | global_loss: 0.6004094481468201\n",
      "9/9 [==============================] - 0s 2ms/step\n",
      "comm_round: 60 | global_acc: 81.227% | global_loss: 0.5975012183189392\n",
      "9/9 [==============================] - 0s 1ms/step\n",
      "comm_round: 61 | global_acc: 82.310% | global_loss: 0.595620334148407\n",
      "9/9 [==============================] - 0s 1ms/step\n",
      "comm_round: 62 | global_acc: 81.227% | global_loss: 0.5941548943519592\n",
      "9/9 [==============================] - 0s 1ms/step\n",
      "comm_round: 63 | global_acc: 81.949% | global_loss: 0.5927944779396057\n",
      "9/9 [==============================] - 0s 1ms/step\n",
      "comm_round: 64 | global_acc: 82.310% | global_loss: 0.5923102498054504\n",
      "9/9 [==============================] - 0s 1ms/step\n",
      "comm_round: 65 | global_acc: 83.755% | global_loss: 0.5893288850784302\n",
      "9/9 [==============================] - 0s 1ms/step\n",
      "comm_round: 66 | global_acc: 82.310% | global_loss: 0.5883356928825378\n",
      "9/9 [==============================] - 0s 1ms/step\n",
      "comm_round: 67 | global_acc: 81.949% | global_loss: 0.5871657133102417\n",
      "9/9 [==============================] - 0s 1ms/step\n",
      "comm_round: 68 | global_acc: 83.032% | global_loss: 0.5850964784622192\n",
      "9/9 [==============================] - 0s 1ms/step\n",
      "comm_round: 69 | global_acc: 82.671% | global_loss: 0.5847876667976379\n",
      "9/9 [==============================] - 0s 2ms/step\n",
      "comm_round: 70 | global_acc: 83.032% | global_loss: 0.5833375453948975\n",
      "9/9 [==============================] - 0s 2ms/step\n",
      "comm_round: 71 | global_acc: 84.477% | global_loss: 0.5806387066841125\n",
      "9/9 [==============================] - 0s 1ms/step\n",
      "comm_round: 72 | global_acc: 82.310% | global_loss: 0.5812185406684875\n",
      "9/9 [==============================] - 0s 1ms/step\n",
      "comm_round: 73 | global_acc: 82.671% | global_loss: 0.5790292620658875\n",
      "9/9 [==============================] - 0s 2ms/step\n",
      "comm_round: 74 | global_acc: 83.755% | global_loss: 0.5793637633323669\n",
      "9/9 [==============================] - 0s 1ms/step\n",
      "comm_round: 75 | global_acc: 83.394% | global_loss: 0.57902592420578\n",
      "9/9 [==============================] - 0s 1ms/step\n",
      "comm_round: 76 | global_acc: 82.310% | global_loss: 0.5767726898193359\n",
      "9/9 [==============================] - 0s 1ms/step\n",
      "comm_round: 77 | global_acc: 83.394% | global_loss: 0.5774436593055725\n",
      "9/9 [==============================] - 0s 2ms/step\n",
      "comm_round: 78 | global_acc: 84.838% | global_loss: 0.5758385062217712\n",
      "9/9 [==============================] - 0s 1ms/step\n",
      "comm_round: 79 | global_acc: 84.477% | global_loss: 0.5756218433380127\n",
      "9/9 [==============================] - 0s 1ms/step\n",
      "comm_round: 80 | global_acc: 83.755% | global_loss: 0.5751111507415771\n",
      "9/9 [==============================] - 0s 1ms/step\n",
      "comm_round: 81 | global_acc: 84.116% | global_loss: 0.5752200484275818\n",
      "9/9 [==============================] - 0s 1ms/step\n",
      "comm_round: 82 | global_acc: 84.838% | global_loss: 0.5727930665016174\n",
      "9/9 [==============================] - 0s 1ms/step\n",
      "comm_round: 83 | global_acc: 84.116% | global_loss: 0.5732861161231995\n",
      "9/9 [==============================] - 0s 1ms/step\n",
      "comm_round: 84 | global_acc: 84.838% | global_loss: 0.5712286233901978\n",
      "9/9 [==============================] - 0s 1ms/step\n",
      "comm_round: 85 | global_acc: 84.116% | global_loss: 0.5743767619132996\n",
      "9/9 [==============================] - 0s 1ms/step\n",
      "comm_round: 86 | global_acc: 82.671% | global_loss: 0.5698317885398865\n",
      "9/9 [==============================] - 0s 2ms/step\n",
      "comm_round: 87 | global_acc: 84.477% | global_loss: 0.5717804431915283\n",
      "9/9 [==============================] - 0s 2ms/step\n",
      "comm_round: 88 | global_acc: 84.116% | global_loss: 0.5704943537712097\n",
      "9/9 [==============================] - 0s 1ms/step\n",
      "comm_round: 89 | global_acc: 84.477% | global_loss: 0.5702787041664124\n",
      "9/9 [==============================] - 0s 2ms/step\n",
      "comm_round: 90 | global_acc: 83.394% | global_loss: 0.5683639645576477\n",
      "9/9 [==============================] - 0s 1ms/step\n",
      "comm_round: 91 | global_acc: 85.199% | global_loss: 0.5711272358894348\n",
      "9/9 [==============================] - 0s 2ms/step\n",
      "comm_round: 92 | global_acc: 84.116% | global_loss: 0.5670599937438965\n",
      "9/9 [==============================] - 0s 1ms/step\n",
      "comm_round: 93 | global_acc: 84.116% | global_loss: 0.5685731768608093\n",
      "9/9 [==============================] - 0s 2ms/step\n",
      "comm_round: 94 | global_acc: 84.477% | global_loss: 0.5674976110458374\n",
      "9/9 [==============================] - 0s 1ms/step\n",
      "comm_round: 95 | global_acc: 84.116% | global_loss: 0.5650344491004944\n",
      "9/9 [==============================] - 0s 1ms/step\n",
      "comm_round: 96 | global_acc: 84.116% | global_loss: 0.5694738030433655\n",
      "9/9 [==============================] - 0s 1ms/step\n",
      "comm_round: 97 | global_acc: 85.199% | global_loss: 0.5648982524871826\n",
      "9/9 [==============================] - 0s 1ms/step\n",
      "comm_round: 98 | global_acc: 84.477% | global_loss: 0.565108597278595\n",
      "9/9 [==============================] - 0s 1ms/step\n",
      "comm_round: 99 | global_acc: 85.199% | global_loss: 0.565999448299408\n",
      "9/9 [==============================] - 0s 2ms/step\n",
      "comm_round: 1 | global_acc: 84.838% | global_loss: 0.549913227558136\n"
     ]
    }
   ],
   "source": [
    "#create clients\n",
    "clients = create_clients()\n",
    "\n",
    "#process and batch the training data for each client\n",
    "clients_batched = dict()\n",
    "for (client_name, data) in clients.items():\n",
    "    clients_batched[client_name] = batch_data(data)\n",
    "    \n",
    "#process and batch the test set  \n",
    "test_batched = tf.data.Dataset.from_tensor_slices((X_test, y_test)).batch(len(y_test))\n",
    "\n",
    "comms_round = 100\n",
    "    \n",
    "#create optimizer\n",
    "lr = 0.01 \n",
    "loss='sparse_categorical_crossentropy'\n",
    "metrics = ['accuracy']\n",
    "optimizer = tf.keras.optimizers.legacy.SGD(lr=lr, decay=lr / comms_round, momentum=0.9) \n",
    "\n",
    "#initialize global model\n",
    "smlp_global = CNN()\n",
    "global_model = smlp_global.build(22, 2)\n",
    "        \n",
    "#commence global training loop\n",
    "for comm_round in range(comms_round):\n",
    "            \n",
    "    # get the global model's weights - will serve as the initial weights for all local models\n",
    "    global_weights = global_model.get_weights()\n",
    "    \n",
    "    #initial list to collect local model weights after scalling\n",
    "    scaled_local_weight_list = list()\n",
    "\n",
    "    #randomize client data - using keys\n",
    "    client_names= list(clients_batched.keys())\n",
    "    random.shuffle(client_names)\n",
    "    \n",
    "    #loop through each client and create new local model\n",
    "    for client in client_names:\n",
    "        smlp_local = CNN()\n",
    "        local_model = smlp_local.build(22, 2)\n",
    "        local_model.compile(loss=loss, \n",
    "                      optimizer=optimizer, \n",
    "                      metrics=metrics)\n",
    "        \n",
    "        #set local model weight to the weight of the global model\n",
    "        local_model.set_weights(global_weights)\n",
    "        \n",
    "        #fit local model with client's data\n",
    "        local_model.fit(clients_batched[client], epochs=1, verbose=0)\n",
    "        \n",
    "        #scale the model weights and add to list\n",
    "        scaling_factor = weight_scalling_factor(clients_batched, client)\n",
    "        scaled_weights = scale_model_weights(local_model.get_weights(), scaling_factor)\n",
    "        scaled_local_weight_list.append(scaled_weights)\n",
    "        \n",
    "        #clear session to free memory after each communication round\n",
    "        K.clear_session()\n",
    "        \n",
    "    #to get the average over all the local model, we simply take the sum of the scaled weights\n",
    "    average_weights = sum_scaled_weights(scaled_local_weight_list)\n",
    "    \n",
    "    #update global model \n",
    "    global_model.set_weights(average_weights)\n",
    "\n",
    "    #test global model and print out metrics after each communications round\n",
    "    for(X_test, Y_test) in test_batched:\n",
    "        global_acc, global_loss = test_model(X_test, Y_test, global_model, comm_round)\n",
    "        SGD_dataset = tf.data.Dataset.from_tensor_slices((X_train, y_train)).shuffle(len(y_train)).batch(250)\n",
    "        smlp_SGD = CNN()\n",
    "        SGD_model = smlp_SGD.build(22, 2) \n",
    "\n",
    "        SGD_model.compile(loss=loss, optimizer=optimizer, metrics=metrics)\n",
    "\n",
    "# fit the SGD training data to model\n",
    "_ = SGD_model.fit(SGD_dataset, epochs=100, verbose=0)\n",
    "\n",
    "#test the SGD global model and print out metrics\n",
    "for(X_test, Y_test) in test_batched:\n",
    "        SGD_acc, SGD_loss = test_model(X_test, Y_test, SGD_model, 1)"
   ]
  },
  {
   "cell_type": "code",
   "execution_count": 7,
   "id": "9b13ff1f",
   "metadata": {},
   "outputs": [
    {
     "name": "stdout",
     "output_type": "stream",
     "text": [
      "9/9 [==============================] - 0s 2ms/step\n"
     ]
    }
   ],
   "source": [
    "Y_predictions = np.argmax(SGD_model.predict(X_test),axis = 1)"
   ]
  },
  {
   "cell_type": "code",
   "execution_count": 8,
   "id": "9bc551a0",
   "metadata": {
    "scrolled": true
   },
   "outputs": [
    {
     "data": {
      "text/plain": [
       "array([[ 93,  12],\n",
       "       [ 30, 142]], dtype=int64)"
      ]
     },
     "execution_count": 8,
     "metadata": {},
     "output_type": "execute_result"
    }
   ],
   "source": [
    "cm = confusion_matrix(Y_predictions, Y_test)\n",
    "cm"
   ]
  },
  {
   "cell_type": "code",
   "execution_count": 9,
   "id": "8a83e0bb",
   "metadata": {},
   "outputs": [
    {
     "name": "stdout",
     "output_type": "stream",
     "text": [
      "              precision    recall  f1-score   support\n",
      "\n",
      "           0     0.8857    0.7561    0.8158       123\n",
      "           1     0.8256    0.9221    0.8712       154\n",
      "\n",
      "    accuracy                         0.8484       277\n",
      "   macro avg     0.8556    0.8391    0.8435       277\n",
      "weighted avg     0.8523    0.8484    0.8466       277\n",
      "\n"
     ]
    }
   ],
   "source": [
    "print(classification_report(Y_test, Y_predictions, digits=4))"
   ]
  },
  {
   "cell_type": "markdown",
   "id": "56495b0e",
   "metadata": {},
   "source": [
    "# Testing on each dataset"
   ]
  },
  {
   "cell_type": "code",
   "execution_count": 10,
   "id": "ec02651a",
   "metadata": {
    "scrolled": true
   },
   "outputs": [
    {
     "name": "stdout",
     "output_type": "stream",
     "text": [
      "3/3 [==============================] - 0s 2ms/step\n",
      "[[38  3]\n",
      " [13 37]]\n",
      "              precision    recall  f1-score   support\n",
      "\n",
      "           0     0.7451    0.9268    0.8261        41\n",
      "           1     0.9250    0.7400    0.8222        50\n",
      "\n",
      "    accuracy                         0.8242        91\n",
      "   macro avg     0.8350    0.8334    0.8242        91\n",
      "weighted avg     0.8439    0.8242    0.8240        91\n",
      "\n"
     ]
    }
   ],
   "source": [
    "Y_cle = np.argmax(SGD_model.predict(cle_X_test),axis = 1)\n",
    "cm_cle = confusion_matrix(Y_cle, cle_Y_test_binary)\n",
    "print(cm_cle)\n",
    "print(classification_report(Y_cle, cle_Y_test_binary, digits=4))"
   ]
  },
  {
   "cell_type": "code",
   "execution_count": 11,
   "id": "87b7cedd",
   "metadata": {},
   "outputs": [
    {
     "name": "stdout",
     "output_type": "stream",
     "text": [
      "[0, 10, 19, 22, 28, 32, 38, 43, 46, 53, 67, 68, 69, 70, 77, 90]\n"
     ]
    }
   ],
   "source": [
    "mismatch = [i for i, (a,b) in enumerate(zip(Y_cle, cle_Y_test_binary)) if a != b]\n",
    "print(mismatch)"
   ]
  },
  {
   "cell_type": "code",
   "execution_count": 12,
   "id": "b2d4cc1c",
   "metadata": {
    "scrolled": true
   },
   "outputs": [
    {
     "name": "stdout",
     "output_type": "stream",
     "text": [
      "2/2 [==============================] - 0s 2ms/step\n",
      "[[ 4  3]\n",
      " [ 9 44]]\n",
      "              precision    recall  f1-score   support\n",
      "\n",
      "           0     0.3077    0.5714    0.4000         7\n",
      "           1     0.9362    0.8302    0.8800        53\n",
      "\n",
      "    accuracy                         0.8000        60\n",
      "   macro avg     0.6219    0.7008    0.6400        60\n",
      "weighted avg     0.8628    0.8000    0.8240        60\n",
      "\n"
     ]
    }
   ],
   "source": [
    "Y_vir = np.argmax(SGD_model.predict(vir_X_test),axis = 1)\n",
    "cm_vir = confusion_matrix(Y_vir, vir_Y_test_binary)\n",
    "print(cm_vir)\n",
    "print(classification_report(Y_vir, vir_Y_test_binary, digits=4))"
   ]
  },
  {
   "cell_type": "code",
   "execution_count": 13,
   "id": "625cfaa5",
   "metadata": {},
   "outputs": [
    {
     "name": "stdout",
     "output_type": "stream",
     "text": [
      "[3, 6, 11, 14, 22, 32, 34, 40, 48, 49, 56, 58]\n"
     ]
    }
   ],
   "source": [
    "mismatch = [i for i, (a,b) in enumerate(zip(Y_vir, vir_Y_test_binary)) if a != b]\n",
    "print(mismatch)"
   ]
  },
  {
   "cell_type": "code",
   "execution_count": 14,
   "id": "9c031520",
   "metadata": {
    "scrolled": true
   },
   "outputs": [
    {
     "name": "stdout",
     "output_type": "stream",
     "text": [
      "3/3 [==============================] - 0s 2ms/step\n",
      "[[50  3]\n",
      " [ 7 29]]\n",
      "              precision    recall  f1-score   support\n",
      "\n",
      "           0     0.8772    0.9434    0.9091        53\n",
      "           1     0.9062    0.8056    0.8529        36\n",
      "\n",
      "    accuracy                         0.8876        89\n",
      "   macro avg     0.8917    0.8745    0.8810        89\n",
      "weighted avg     0.8889    0.8876    0.8864        89\n",
      "\n"
     ]
    }
   ],
   "source": [
    "Y_hun = np.argmax(SGD_model.predict(hun_X_test),axis = 1)\n",
    "cm_hun = confusion_matrix(Y_hun, hun_Y_test_binary)\n",
    "print(cm_hun)\n",
    "print(classification_report(Y_hun, hun_Y_test_binary, digits=4))"
   ]
  },
  {
   "cell_type": "code",
   "execution_count": 15,
   "id": "ec7ffbc9",
   "metadata": {},
   "outputs": [
    {
     "name": "stdout",
     "output_type": "stream",
     "text": [
      "[12, 13, 14, 23, 29, 36, 42, 45, 46, 54]\n"
     ]
    }
   ],
   "source": [
    "mismatch = [i for i, (a,b) in enumerate(zip(Y_hun, hun_Y_test_binary)) if a != b]\n",
    "print(mismatch)"
   ]
  },
  {
   "cell_type": "code",
   "execution_count": 16,
   "id": "2e837211",
   "metadata": {
    "scrolled": true
   },
   "outputs": [
    {
     "name": "stdout",
     "output_type": "stream",
     "text": [
      "2/2 [==============================] - 0s 2ms/step\n",
      "[[ 1  3]\n",
      " [ 1 32]]\n",
      "              precision    recall  f1-score   support\n",
      "\n",
      "           0     0.5000    0.2500    0.3333         4\n",
      "           1     0.9143    0.9697    0.9412        33\n",
      "\n",
      "    accuracy                         0.8919        37\n",
      "   macro avg     0.7071    0.6098    0.6373        37\n",
      "weighted avg     0.8695    0.8919    0.8755        37\n",
      "\n"
     ]
    }
   ],
   "source": [
    "Y_swi = np.argmax(SGD_model.predict(swi_X_test),axis = 1)\n",
    "cm_swi = confusion_matrix(Y_swi, swi_Y_test_binary)\n",
    "print(cm_swi)\n",
    "print(classification_report(Y_swi, swi_Y_test_binary, digits=4))"
   ]
  },
  {
   "cell_type": "code",
   "execution_count": 17,
   "id": "805b6caf",
   "metadata": {},
   "outputs": [
    {
     "name": "stdout",
     "output_type": "stream",
     "text": [
      "[1, 6, 20, 27]\n"
     ]
    }
   ],
   "source": [
    "mismatch = [i for i, (a,b) in enumerate(zip(Y_swi, swi_Y_test_binary)) if a != b]\n",
    "print(mismatch)"
   ]
  },
  {
   "cell_type": "code",
   "execution_count": null,
   "id": "a4bd924b",
   "metadata": {},
   "outputs": [],
   "source": []
  }
 ],
 "metadata": {
  "kernelspec": {
   "display_name": "Python 3 (ipykernel)",
   "language": "python",
   "name": "python3"
  },
  "language_info": {
   "codemirror_mode": {
    "name": "ipython",
    "version": 3
   },
   "file_extension": ".py",
   "mimetype": "text/x-python",
   "name": "python",
   "nbconvert_exporter": "python",
   "pygments_lexer": "ipython3",
   "version": "3.8.3"
  }
 },
 "nbformat": 4,
 "nbformat_minor": 5
}
