{
 "cells": [
  {
   "cell_type": "code",
   "execution_count": 1,
   "id": "b9f37971",
   "metadata": {},
   "outputs": [],
   "source": [
    "import numpy as np\n",
    "import random\n",
    "import cv2\n",
    "import os\n",
    "from imutils import paths\n",
    "from sklearn.preprocessing import LabelBinarizer\n",
    "from sklearn.model_selection import train_test_split\n",
    "from sklearn.utils import shuffle\n",
    "from sklearn.metrics import accuracy_score\n",
    "import pandas as pd\n",
    "\n",
    "import tensorflow as tf\n",
    "from tensorflow.keras.models import Sequential\n",
    "from tensorflow.keras.layers import Conv2D\n",
    "from tensorflow.keras.layers import MaxPooling2D\n",
    "from tensorflow.keras.layers import Activation\n",
    "from tensorflow.keras.layers import Flatten\n",
    "from tensorflow.keras.layers import Dense\n",
    "from tensorflow.keras.optimizers import SGD\n",
    "from tensorflow.keras import backend as K\n",
    "from sklearn.metrics import confusion_matrix, classification_report"
   ]
  },
  {
   "cell_type": "code",
   "execution_count": 2,
   "id": "05fdffd3",
   "metadata": {},
   "outputs": [],
   "source": [
    "#binarize the labels\n",
    "lb = LabelBinarizer()\n",
    "\n",
    "import pandas as pd\n",
    "\n",
    "data_files = ['cle_train.csv','cle_test.csv','hun_train.csv','hun_test.csv','swi_train.csv','swi_test.csv','vir_train.csv','vir_test.csv']\n",
    "\n",
    "datasets = {}\n",
    "\n",
    "for file in data_files:\n",
    "    data = pd.read_csv('../TrainTestData/' + file)\n",
    "    \n",
    "    X = data.iloc[:, :-1]\n",
    "    Y = data.iloc[:, -1]\n",
    "    \n",
    "    Y_binary = Y.apply(lambda x: 1 if x > 0 else 0)\n",
    "    \n",
    "    # Extract the name from the file path\n",
    "    name = file.split('.')[0]\n",
    "    \n",
    "    # Store the dataset components in a dictionary\n",
    "    datasets[name] = {'X': X, 'Y': Y, 'Y_binary': Y_binary}\n",
    "\n",
    "# Unpack the dictionary values in a loop\n",
    "variables = ['cle', 'hun', 'swi', 'vir']\n",
    "train_test = ['train', 'test']\n",
    "\n",
    "for var in variables:\n",
    "    for tt in train_test:\n",
    "        X, Y, Y_binary = datasets[f'{var}_{tt}'].values()\n",
    "        globals()[f'{var}_X_{tt}'] = X\n",
    "        globals()[f'{var}_Y_{tt}'] = Y\n",
    "        globals()[f'{var}_Y_{tt}_binary'] = Y_binary"
   ]
  },
  {
   "cell_type": "code",
   "execution_count": 3,
   "id": "8171119e",
   "metadata": {},
   "outputs": [],
   "source": [
    "X_test = pd.concat([cle_X_test,hun_X_test,swi_X_test,vir_X_test])\n",
    "y_test = pd.concat([cle_Y_test_binary,hun_Y_test_binary,swi_Y_test_binary,vir_Y_test_binary])\n",
    "\n",
    "X_train = pd.concat([cle_X_train,hun_X_train,swi_X_train,vir_X_train])\n",
    "y_train = pd.concat([cle_Y_train_binary,hun_Y_train_binary,swi_Y_train_binary,vir_Y_train_binary])"
   ]
  },
  {
   "cell_type": "code",
   "execution_count": 4,
   "id": "3fc05e42",
   "metadata": {},
   "outputs": [],
   "source": [
    "def create_clients():\n",
    "    cle_zip = list(zip(cle_X_train.values,cle_Y_train_binary))\n",
    "    hun_zip = list(zip(hun_X_train.values,hun_Y_train_binary))\n",
    "    vir_zip = list(zip(vir_X_train.values,vir_Y_train_binary))\n",
    "    swi_zip = list(zip(swi_X_train.values,swi_Y_train_binary))\n",
    "    \n",
    "    shards = [cle_zip, hun_zip, vir_zip,swi_zip]\n",
    "    client_names = [\"client_1\",\"client_2\",\"client_3\",\"client_4\"]\n",
    "    dic = {client_names[i] : shards[i] for i in range(len(client_names))}\n",
    "    return dic\n",
    "\n",
    "\n",
    "def batch_data(data_shard, bs=32):\n",
    "    '''Takes in a clients data shard and create a tfds object off it\n",
    "    args:\n",
    "        shard: a data, label constituting a client's data shard\n",
    "        bs:batch size\n",
    "    return:\n",
    "        tfds object'''\n",
    "    #seperate shard into data and labels lists\n",
    "    data, label = zip(*data_shard)\n",
    "    dataset = tf.data.Dataset.from_tensor_slices((list(data), list(label)))\n",
    "    return dataset.shuffle(len(label)).batch(bs)\n",
    "\n",
    "\n",
    "class SimpleMLP:\n",
    "    @staticmethod\n",
    "    def build(shape, classes):\n",
    "        model = Sequential()\n",
    "        model.add(Dense(200, input_shape=(shape,)))\n",
    "        model.add(Activation(\"relu\"))\n",
    "        model.add(Dense(200))\n",
    "        model.add(Activation(\"relu\"))\n",
    "        model.add(Dense(classes))\n",
    "        model.add(Activation(\"sigmoid\"))\n",
    "        return model\n",
    "    \n",
    "\n",
    "def weight_scalling_factor(clients_trn_data, client_name):\n",
    "    client_names = list(clients_trn_data.keys())\n",
    "    #get the bs\n",
    "    bs = list(clients_trn_data[client_name])[0][0].shape[0]\n",
    "    #first calculate the total training data points across clinets\n",
    "    global_count = sum([tf.data.experimental.cardinality(clients_trn_data[client_name]).numpy() for client_name in client_names])*bs\n",
    "    # get the total number of data points held by a client\n",
    "    local_count = tf.data.experimental.cardinality(clients_trn_data[client_name]).numpy()*bs\n",
    "    return local_count/global_count\n",
    "\n",
    "\n",
    "def scale_model_weights(weight, scalar):\n",
    "    '''function for scaling a models weights'''\n",
    "    weight_final = []\n",
    "    steps = len(weight)\n",
    "    for i in range(steps):\n",
    "        weight_final.append(scalar * weight[i])\n",
    "    return weight_final\n",
    "\n",
    "\n",
    "def sum_scaled_weights(scaled_weight_list):\n",
    "    '''Return the sum of the listed scaled weights. The is equivalent to scaled avg of the weights'''\n",
    "    avg_grad = list()\n",
    "    #get the average grad accross all client gradients\n",
    "    for grad_list_tuple in zip(*scaled_weight_list):\n",
    "        layer_mean = tf.math.reduce_sum(grad_list_tuple, axis=0)\n",
    "        avg_grad.append(layer_mean)\n",
    "        \n",
    "    return avg_grad\n",
    "\n",
    "\n",
    "def test_model(X_test, Y_test,  model, comm_round):\n",
    "    cce = tf.keras.losses.SparseCategoricalCrossentropy(from_logits=True)\n",
    "    #logits = model.predict(X_test, batch_size=100)\n",
    "    logits = model.predict(X_test)\n",
    "    length = len(y_test)\n",
    "    Y_test = tf.reshape(Y_test,(length,1))\n",
    "    loss = cce(Y_test, logits)\n",
    "    acc = accuracy_score(tf.argmax(logits, axis=1), Y_test)\n",
    "    print('comm_round: {} | global_acc: {:.3%} | global_loss: {}'.format(comm_round, acc, loss))\n",
    "    return acc, loss"
   ]
  },
  {
   "cell_type": "code",
   "execution_count": 5,
   "id": "c94fcc46",
   "metadata": {
    "scrolled": true
   },
   "outputs": [
    {
     "name": "stderr",
     "output_type": "stream",
     "text": [
      "c:\\users\\votri\\appdata\\local\\programs\\python\\python38\\lib\\site-packages\\keras\\optimizer_v2\\gradient_descent.py:102: UserWarning: The `lr` argument is deprecated, use `learning_rate` instead.\n",
      "  super(SGD, self).__init__(name, **kwargs)\n"
     ]
    },
    {
     "name": "stdout",
     "output_type": "stream",
     "text": [
      "comm_round: 0 | global_acc: 61.011% | global_loss: 0.6850936412811279\n",
      "comm_round: 1 | global_acc: 77.617% | global_loss: 0.6796603798866272\n",
      "comm_round: 2 | global_acc: 79.061% | global_loss: 0.6738066077232361\n",
      "comm_round: 3 | global_acc: 80.505% | global_loss: 0.6678868532180786\n",
      "comm_round: 4 | global_acc: 81.949% | global_loss: 0.6617158651351929\n",
      "comm_round: 5 | global_acc: 82.310% | global_loss: 0.6556459069252014\n",
      "comm_round: 6 | global_acc: 83.032% | global_loss: 0.6490607857704163\n",
      "comm_round: 7 | global_acc: 83.394% | global_loss: 0.6428636908531189\n",
      "comm_round: 8 | global_acc: 83.394% | global_loss: 0.6367559432983398\n",
      "comm_round: 9 | global_acc: 83.394% | global_loss: 0.6311677098274231\n",
      "comm_round: 10 | global_acc: 83.394% | global_loss: 0.625063955783844\n",
      "comm_round: 11 | global_acc: 83.755% | global_loss: 0.6195170283317566\n",
      "comm_round: 12 | global_acc: 83.755% | global_loss: 0.6145675182342529\n",
      "comm_round: 13 | global_acc: 83.755% | global_loss: 0.6093841791152954\n",
      "comm_round: 14 | global_acc: 84.116% | global_loss: 0.6045789122581482\n",
      "comm_round: 15 | global_acc: 84.838% | global_loss: 0.600100576877594\n",
      "comm_round: 16 | global_acc: 84.838% | global_loss: 0.5960198044776917\n",
      "comm_round: 17 | global_acc: 84.838% | global_loss: 0.5918213129043579\n",
      "comm_round: 18 | global_acc: 84.838% | global_loss: 0.588097870349884\n",
      "comm_round: 19 | global_acc: 84.477% | global_loss: 0.5847554206848145\n",
      "comm_round: 20 | global_acc: 84.838% | global_loss: 0.5817579627037048\n",
      "comm_round: 21 | global_acc: 84.838% | global_loss: 0.5789444446563721\n",
      "comm_round: 22 | global_acc: 84.838% | global_loss: 0.5764873623847961\n",
      "comm_round: 23 | global_acc: 84.838% | global_loss: 0.5741733312606812\n",
      "comm_round: 24 | global_acc: 84.838% | global_loss: 0.5719740390777588\n",
      "comm_round: 25 | global_acc: 84.477% | global_loss: 0.569966197013855\n",
      "comm_round: 26 | global_acc: 84.477% | global_loss: 0.5678713917732239\n",
      "comm_round: 27 | global_acc: 84.477% | global_loss: 0.5658774971961975\n",
      "comm_round: 28 | global_acc: 84.477% | global_loss: 0.5646201968193054\n",
      "comm_round: 29 | global_acc: 84.838% | global_loss: 0.5631320476531982\n",
      "comm_round: 30 | global_acc: 85.199% | global_loss: 0.561506450176239\n",
      "comm_round: 31 | global_acc: 84.838% | global_loss: 0.5604708194732666\n",
      "comm_round: 32 | global_acc: 84.838% | global_loss: 0.5597675442695618\n",
      "comm_round: 33 | global_acc: 84.838% | global_loss: 0.5582556128501892\n",
      "comm_round: 34 | global_acc: 84.838% | global_loss: 0.5571891665458679\n",
      "comm_round: 35 | global_acc: 84.838% | global_loss: 0.555954098701477\n",
      "comm_round: 36 | global_acc: 85.199% | global_loss: 0.5546050071716309\n",
      "comm_round: 37 | global_acc: 85.199% | global_loss: 0.5536383986473083\n",
      "comm_round: 38 | global_acc: 85.199% | global_loss: 0.5529426336288452\n",
      "comm_round: 39 | global_acc: 85.199% | global_loss: 0.552211582660675\n",
      "comm_round: 40 | global_acc: 85.199% | global_loss: 0.5512288808822632\n",
      "comm_round: 41 | global_acc: 85.199% | global_loss: 0.550158679485321\n",
      "comm_round: 42 | global_acc: 85.199% | global_loss: 0.5495250821113586\n",
      "comm_round: 43 | global_acc: 85.560% | global_loss: 0.5490039587020874\n",
      "comm_round: 44 | global_acc: 85.199% | global_loss: 0.5478320121765137\n",
      "comm_round: 45 | global_acc: 85.560% | global_loss: 0.5477905869483948\n",
      "comm_round: 46 | global_acc: 85.560% | global_loss: 0.5471857190132141\n",
      "comm_round: 47 | global_acc: 85.560% | global_loss: 0.5467942953109741\n",
      "comm_round: 48 | global_acc: 85.560% | global_loss: 0.5462648868560791\n",
      "comm_round: 49 | global_acc: 85.560% | global_loss: 0.545398473739624\n",
      "comm_round: 50 | global_acc: 85.560% | global_loss: 0.5450689196586609\n",
      "comm_round: 51 | global_acc: 85.560% | global_loss: 0.544605553150177\n",
      "comm_round: 52 | global_acc: 85.560% | global_loss: 0.5441957712173462\n",
      "comm_round: 53 | global_acc: 85.560% | global_loss: 0.5435330867767334\n",
      "comm_round: 54 | global_acc: 85.560% | global_loss: 0.5428797602653503\n",
      "comm_round: 55 | global_acc: 85.560% | global_loss: 0.5428838133811951\n",
      "comm_round: 56 | global_acc: 85.560% | global_loss: 0.5426457524299622\n",
      "comm_round: 57 | global_acc: 85.560% | global_loss: 0.5421624779701233\n",
      "comm_round: 58 | global_acc: 85.560% | global_loss: 0.5412070751190186\n",
      "comm_round: 59 | global_acc: 85.560% | global_loss: 0.5411475300788879\n",
      "comm_round: 60 | global_acc: 85.199% | global_loss: 0.5407885313034058\n",
      "comm_round: 61 | global_acc: 85.199% | global_loss: 0.5406620502471924\n",
      "comm_round: 62 | global_acc: 85.199% | global_loss: 0.5402977466583252\n",
      "comm_round: 63 | global_acc: 85.199% | global_loss: 0.5396391153335571\n",
      "comm_round: 64 | global_acc: 85.199% | global_loss: 0.5390831232070923\n",
      "comm_round: 65 | global_acc: 85.199% | global_loss: 0.5389821529388428\n",
      "comm_round: 66 | global_acc: 85.199% | global_loss: 0.5384103059768677\n",
      "comm_round: 67 | global_acc: 85.560% | global_loss: 0.5377867221832275\n",
      "comm_round: 68 | global_acc: 85.199% | global_loss: 0.5378311276435852\n",
      "comm_round: 69 | global_acc: 85.199% | global_loss: 0.5373498797416687\n",
      "comm_round: 70 | global_acc: 85.199% | global_loss: 0.5366973280906677\n",
      "comm_round: 71 | global_acc: 85.199% | global_loss: 0.5366436839103699\n",
      "comm_round: 72 | global_acc: 85.199% | global_loss: 0.5366256833076477\n",
      "comm_round: 73 | global_acc: 85.199% | global_loss: 0.5361495614051819\n",
      "comm_round: 74 | global_acc: 85.199% | global_loss: 0.5357347130775452\n",
      "comm_round: 75 | global_acc: 85.560% | global_loss: 0.5350891351699829\n",
      "comm_round: 76 | global_acc: 85.199% | global_loss: 0.5350198149681091\n",
      "comm_round: 77 | global_acc: 85.560% | global_loss: 0.5344088077545166\n",
      "comm_round: 78 | global_acc: 85.560% | global_loss: 0.5341607928276062\n",
      "comm_round: 79 | global_acc: 85.199% | global_loss: 0.534201443195343\n",
      "comm_round: 80 | global_acc: 85.199% | global_loss: 0.5337545871734619\n",
      "comm_round: 81 | global_acc: 85.199% | global_loss: 0.5333250761032104\n",
      "comm_round: 82 | global_acc: 85.199% | global_loss: 0.5330438017845154\n",
      "comm_round: 83 | global_acc: 85.199% | global_loss: 0.5327646732330322\n",
      "comm_round: 84 | global_acc: 85.199% | global_loss: 0.5325741171836853\n",
      "comm_round: 85 | global_acc: 85.199% | global_loss: 0.532167911529541\n",
      "comm_round: 86 | global_acc: 85.921% | global_loss: 0.5315937399864197\n",
      "comm_round: 87 | global_acc: 85.921% | global_loss: 0.5315300822257996\n",
      "comm_round: 88 | global_acc: 85.560% | global_loss: 0.5309489369392395\n",
      "comm_round: 89 | global_acc: 85.921% | global_loss: 0.5305985808372498\n",
      "comm_round: 90 | global_acc: 85.560% | global_loss: 0.5303147435188293\n",
      "comm_round: 91 | global_acc: 85.199% | global_loss: 0.5303646326065063\n",
      "comm_round: 92 | global_acc: 85.560% | global_loss: 0.5297823548316956\n",
      "comm_round: 93 | global_acc: 85.560% | global_loss: 0.5298022031784058\n",
      "comm_round: 94 | global_acc: 85.560% | global_loss: 0.5298085808753967\n",
      "comm_round: 95 | global_acc: 85.921% | global_loss: 0.5293850898742676\n",
      "comm_round: 96 | global_acc: 85.560% | global_loss: 0.5290701389312744\n",
      "comm_round: 97 | global_acc: 85.921% | global_loss: 0.5285691618919373\n",
      "comm_round: 98 | global_acc: 86.282% | global_loss: 0.5283927917480469\n",
      "comm_round: 99 | global_acc: 86.282% | global_loss: 0.5280601382255554\n",
      "comm_round: 1 | global_acc: 84.116% | global_loss: 0.5430504679679871\n"
     ]
    }
   ],
   "source": [
    "#create clients\n",
    "clients = create_clients()\n",
    "\n",
    "#process and batch the training data for each client\n",
    "clients_batched = dict()\n",
    "for (client_name, data) in clients.items():\n",
    "    clients_batched[client_name] = batch_data(data)\n",
    "    \n",
    "#process and batch the test set  \n",
    "test_batched = tf.data.Dataset.from_tensor_slices((X_test, y_test)).batch(len(y_test))\n",
    "\n",
    "comms_round = 100\n",
    "    \n",
    "#create optimizer\n",
    "lr = 0.01 \n",
    "loss='sparse_categorical_crossentropy'\n",
    "metrics = ['accuracy']\n",
    "optimizer = tf.keras.optimizers.SGD(lr=lr, decay=lr / comms_round, momentum=0.9) \n",
    "\n",
    "#initialize global model\n",
    "smlp_global = SimpleMLP()\n",
    "global_model = smlp_global.build(22, 2)\n",
    "        \n",
    "#commence global training loop\n",
    "for comm_round in range(comms_round):\n",
    "            \n",
    "    # get the global model's weights - will serve as the initial weights for all local models\n",
    "    global_weights = global_model.get_weights()\n",
    "    \n",
    "    #initial list to collect local model weights after scalling\n",
    "    scaled_local_weight_list = list()\n",
    "\n",
    "    #randomize client data - using keys\n",
    "    client_names= list(clients_batched.keys())\n",
    "    random.shuffle(client_names)\n",
    "    \n",
    "    #loop through each client and create new local model\n",
    "    for client in client_names:\n",
    "        smlp_local = SimpleMLP()\n",
    "        local_model = smlp_local.build(22, 2)\n",
    "        local_model.compile(loss=loss, \n",
    "                      optimizer=optimizer, \n",
    "                      metrics=metrics)\n",
    "        \n",
    "        #set local model weight to the weight of the global model\n",
    "        local_model.set_weights(global_weights)\n",
    "        \n",
    "        #fit local model with client's data\n",
    "        local_model.fit(clients_batched[client], epochs=1, verbose=0)\n",
    "        \n",
    "        #scale the model weights and add to list\n",
    "        scaling_factor = weight_scalling_factor(clients_batched, client)\n",
    "        scaled_weights = scale_model_weights(local_model.get_weights(), scaling_factor)\n",
    "        scaled_local_weight_list.append(scaled_weights)\n",
    "        \n",
    "        #clear session to free memory after each communication round\n",
    "        K.clear_session()\n",
    "        \n",
    "    #to get the average over all the local model, we simply take the sum of the scaled weights\n",
    "    average_weights = sum_scaled_weights(scaled_local_weight_list)\n",
    "    \n",
    "    #update global model \n",
    "    global_model.set_weights(average_weights)\n",
    "\n",
    "    #test global model and print out metrics after each communications round\n",
    "    for(X_test, Y_test) in test_batched:\n",
    "        global_acc, global_loss = test_model(X_test, Y_test, global_model, comm_round)\n",
    "        SGD_dataset = tf.data.Dataset.from_tensor_slices((X_train, y_train)).shuffle(len(y_train)).batch(320)\n",
    "        smlp_SGD = SimpleMLP()\n",
    "        SGD_model = smlp_SGD.build(22, 2) \n",
    "\n",
    "        SGD_model.compile(loss=loss, optimizer=optimizer, metrics=metrics)\n",
    "\n",
    "# fit the SGD training data to model\n",
    "_ = SGD_model.fit(SGD_dataset, epochs=100, verbose=0)\n",
    "\n",
    "#test the SGD global model and print out metrics\n",
    "for(X_test, Y_test) in test_batched:\n",
    "        SGD_acc, SGD_loss = test_model(X_test, Y_test, SGD_model, 1)"
   ]
  },
  {
   "cell_type": "code",
   "execution_count": 6,
   "id": "9b13ff1f",
   "metadata": {},
   "outputs": [],
   "source": [
    "Y_predictions = np.argmax(SGD_model.predict(X_test),axis = 1)"
   ]
  },
  {
   "cell_type": "code",
   "execution_count": 7,
   "id": "9bc551a0",
   "metadata": {
    "scrolled": true
   },
   "outputs": [
    {
     "data": {
      "text/plain": [
       "array([[100,  21],\n",
       "       [ 23, 133]], dtype=int64)"
      ]
     },
     "execution_count": 7,
     "metadata": {},
     "output_type": "execute_result"
    }
   ],
   "source": [
    "cm = confusion_matrix(Y_predictions, Y_test)\n",
    "cm"
   ]
  },
  {
   "cell_type": "code",
   "execution_count": 8,
   "id": "8a83e0bb",
   "metadata": {
    "scrolled": true
   },
   "outputs": [
    {
     "name": "stdout",
     "output_type": "stream",
     "text": [
      "              precision    recall  f1-score   support\n",
      "\n",
      "           0       0.83      0.81      0.82       123\n",
      "           1       0.85      0.86      0.86       154\n",
      "\n",
      "    accuracy                           0.84       277\n",
      "   macro avg       0.84      0.84      0.84       277\n",
      "weighted avg       0.84      0.84      0.84       277\n",
      "\n"
     ]
    }
   ],
   "source": [
    "print(classification_report(Y_test, Y_predictions))"
   ]
  },
  {
   "cell_type": "code",
   "execution_count": 9,
   "id": "163a424b",
   "metadata": {},
   "outputs": [],
   "source": [
    "#SGD_model.save('FL_HD_ANN_85%.h5')"
   ]
  },
  {
   "cell_type": "markdown",
   "id": "3ffc1ea7",
   "metadata": {},
   "source": [
    "# Test on each dataset"
   ]
  },
  {
   "cell_type": "code",
   "execution_count": 12,
   "id": "fa3434e4",
   "metadata": {
    "scrolled": true
   },
   "outputs": [
    {
     "name": "stdout",
     "output_type": "stream",
     "text": [
      "[[40  5]\n",
      " [11 35]]\n",
      "              precision    recall  f1-score   support\n",
      "\n",
      "           0       0.78      0.89      0.83        45\n",
      "           1       0.88      0.76      0.81        46\n",
      "\n",
      "    accuracy                           0.82        91\n",
      "   macro avg       0.83      0.82      0.82        91\n",
      "weighted avg       0.83      0.82      0.82        91\n",
      "\n"
     ]
    }
   ],
   "source": [
    "Y_cle = np.argmax(SGD_model.predict(cle_X_test),axis = 1)\n",
    "cm_cle = confusion_matrix(Y_cle, cle_Y_test_binary)\n",
    "print(cm_cle)\n",
    "print(classification_report(Y_cle, cle_Y_test_binary))"
   ]
  },
  {
   "cell_type": "code",
   "execution_count": 14,
   "id": "0c16ea3b",
   "metadata": {},
   "outputs": [
    {
     "name": "stdout",
     "output_type": "stream",
     "text": [
      "[[ 6  5]\n",
      " [ 7 42]]\n",
      "              precision    recall  f1-score   support\n",
      "\n",
      "           0       0.46      0.55      0.50        11\n",
      "           1       0.89      0.86      0.88        49\n",
      "\n",
      "    accuracy                           0.80        60\n",
      "   macro avg       0.68      0.70      0.69        60\n",
      "weighted avg       0.81      0.80      0.81        60\n",
      "\n"
     ]
    }
   ],
   "source": [
    "Y_vir = np.argmax(SGD_model.predict(vir_X_test),axis = 1)\n",
    "cm_vir = confusion_matrix(Y_vir, vir_Y_test_binary)\n",
    "print(cm_vir)\n",
    "print(classification_report(Y_vir, vir_Y_test_binary))"
   ]
  },
  {
   "cell_type": "code",
   "execution_count": 13,
   "id": "11328f58",
   "metadata": {},
   "outputs": [
    {
     "name": "stdout",
     "output_type": "stream",
     "text": [
      "[[53  9]\n",
      " [ 4 23]]\n",
      "              precision    recall  f1-score   support\n",
      "\n",
      "           0       0.93      0.85      0.89        62\n",
      "           1       0.72      0.85      0.78        27\n",
      "\n",
      "    accuracy                           0.85        89\n",
      "   macro avg       0.82      0.85      0.84        89\n",
      "weighted avg       0.87      0.85      0.86        89\n",
      "\n"
     ]
    }
   ],
   "source": [
    "Y_hun = np.argmax(SGD_model.predict(hun_X_test),axis = 1)\n",
    "cm_hun = confusion_matrix(Y_hun, hun_Y_test_binary)\n",
    "print(cm_hun)\n",
    "print(classification_report(Y_hun, hun_Y_test_binary))"
   ]
  },
  {
   "cell_type": "code",
   "execution_count": 15,
   "id": "6ff277dc",
   "metadata": {},
   "outputs": [
    {
     "name": "stdout",
     "output_type": "stream",
     "text": [
      "[[ 1  2]\n",
      " [ 1 33]]\n",
      "              precision    recall  f1-score   support\n",
      "\n",
      "           0       0.50      0.33      0.40         3\n",
      "           1       0.94      0.97      0.96        34\n",
      "\n",
      "    accuracy                           0.92        37\n",
      "   macro avg       0.72      0.65      0.68        37\n",
      "weighted avg       0.91      0.92      0.91        37\n",
      "\n"
     ]
    }
   ],
   "source": [
    "Y_swi = np.argmax(SGD_model.predict(swi_X_test),axis = 1)\n",
    "cm_swi = confusion_matrix(Y_swi, swi_Y_test_binary)\n",
    "print(cm_swi)\n",
    "print(classification_report(Y_swi, swi_Y_test_binary))"
   ]
  }
 ],
 "metadata": {
  "kernelspec": {
   "display_name": "Python 3 (ipykernel)",
   "language": "python",
   "name": "python3"
  },
  "language_info": {
   "codemirror_mode": {
    "name": "ipython",
    "version": 3
   },
   "file_extension": ".py",
   "mimetype": "text/x-python",
   "name": "python",
   "nbconvert_exporter": "python",
   "pygments_lexer": "ipython3",
   "version": "3.9.16"
  }
 },
 "nbformat": 4,
 "nbformat_minor": 5
}
