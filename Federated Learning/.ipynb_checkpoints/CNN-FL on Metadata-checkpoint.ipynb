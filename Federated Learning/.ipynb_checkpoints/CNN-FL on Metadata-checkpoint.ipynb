{
 "cells": [
  {
   "cell_type": "code",
   "execution_count": 1,
   "id": "b9f37971",
   "metadata": {},
   "outputs": [],
   "source": [
    "import numpy as np\n",
    "import random\n",
    "import cv2\n",
    "import os\n",
    "from imutils import paths\n",
    "from sklearn.preprocessing import LabelBinarizer\n",
    "from sklearn.model_selection import train_test_split\n",
    "from sklearn.utils import shuffle\n",
    "from sklearn.metrics import accuracy_score\n",
    "import pandas as pd\n",
    "\n",
    "import tensorflow as tf\n",
    "from tensorflow.keras.models import Sequential\n",
    "from tensorflow.keras.layers import Conv1D, MaxPooling1D, Activation, Flatten, Dense, Dropout\n",
    "from tensorflow.keras.optimizers import SGD\n",
    "from tensorflow.keras import backend as K\n",
    "from sklearn.metrics import confusion_matrix, classification_report"
   ]
  },
  {
   "cell_type": "code",
   "execution_count": 2,
   "id": "05fdffd3",
   "metadata": {},
   "outputs": [],
   "source": [
    "#binarize the labels\n",
    "lb = LabelBinarizer()\n",
    "\n",
    "import pandas as pd\n",
    "\n",
    "data_files = ['cle_train.csv','cle_test.csv','hun_train.csv','hun_test.csv','swi_train.csv','swi_test.csv','vir_train.csv','vir_test.csv']\n",
    "\n",
    "datasets = {}\n",
    "\n",
    "for file in data_files:\n",
    "    data = pd.read_csv('../TrainTestData/' + file)\n",
    "    \n",
    "    X = data.iloc[:, :-1]\n",
    "    Y = data.iloc[:, -1]\n",
    "    \n",
    "    Y_binary = Y.apply(lambda x: 1 if x > 0 else 0)\n",
    "    \n",
    "    # Extract the name from the file path\n",
    "    name = file.split('.')[0]\n",
    "    \n",
    "    # Store the dataset components in a dictionary\n",
    "    datasets[name] = {'X': X, 'Y': Y, 'Y_binary': Y_binary}\n",
    "\n",
    "# Unpack the dictionary values in a loop\n",
    "variables = ['cle', 'hun', 'swi', 'vir']\n",
    "train_test = ['train', 'test']\n",
    "\n",
    "for var in variables:\n",
    "    for tt in train_test:\n",
    "        X, Y, Y_binary = datasets[f'{var}_{tt}'].values()\n",
    "        globals()[f'{var}_X_{tt}'] = X\n",
    "        globals()[f'{var}_Y_{tt}'] = Y\n",
    "        globals()[f'{var}_Y_{tt}_binary'] = Y_binary"
   ]
  },
  {
   "cell_type": "code",
   "execution_count": 3,
   "id": "8171119e",
   "metadata": {},
   "outputs": [],
   "source": [
    "X_test = pd.concat([cle_X_test,hun_X_test,swi_X_test,vir_X_test])\n",
    "y_test = pd.concat([cle_Y_test_binary,hun_Y_test_binary,swi_Y_test_binary,vir_Y_test_binary])\n",
    "\n",
    "X_train = pd.concat([cle_X_train,hun_X_train,swi_X_train,vir_X_train])\n",
    "y_train = pd.concat([cle_Y_train_binary,hun_Y_train_binary,swi_Y_train_binary,vir_Y_train_binary])"
   ]
  },
  {
   "cell_type": "code",
   "execution_count": 4,
   "id": "3fc05e42",
   "metadata": {},
   "outputs": [],
   "source": [
    "def create_clients():\n",
    "    cle_zip = list(zip(cle_X_train.values,cle_Y_train_binary))\n",
    "    hun_zip = list(zip(hun_X_train.values,hun_Y_train_binary))\n",
    "    vir_zip = list(zip(vir_X_train.values,vir_Y_train_binary))\n",
    "    swi_zip = list(zip(swi_X_train.values,swi_Y_train_binary))\n",
    "    \n",
    "    shards = [cle_zip, hun_zip, vir_zip,swi_zip]\n",
    "    client_names = [\"client_1\",\"client_2\",\"client_3\",\"client_4\"]\n",
    "    dic = {client_names[i] : shards[i] for i in range(len(client_names))}\n",
    "    return dic\n",
    "\n",
    "\n",
    "def batch_data(data_shard, bs=32):\n",
    "    '''Takes in a clients data shard and create a tfds object off it\n",
    "    args:\n",
    "        shard: a data, label constituting a client's data shard\n",
    "        bs:batch size\n",
    "    return:\n",
    "        tfds object'''\n",
    "    #seperate shard into data and labels lists\n",
    "    data, label = zip(*data_shard)\n",
    "    dataset = tf.data.Dataset.from_tensor_slices((list(data), list(label)))\n",
    "    return dataset.shuffle(len(label)).batch(bs)\n",
    "\n",
    "\n",
    "class CNN:\n",
    "    @staticmethod\n",
    "    def build(shape, classes):\n",
    "        model = Sequential()\n",
    "        model.add(Conv1D(filters=64, kernel_size=3, activation='relu', input_shape=(22,1)))\n",
    "        model.add(Conv1D(filters=64, kernel_size=3, activation='relu'))\n",
    "        model.add(MaxPooling1D(pool_size=2))\n",
    "\n",
    "        model.add(Conv1D(filters=128, kernel_size=3, activation='relu'))\n",
    "        model.add(MaxPooling1D(pool_size=2))\n",
    "\n",
    "        model.add(Flatten())\n",
    "        model.add(Dense(256, activation='relu'))\n",
    "        model.add(Dense(2, activation='sigmoid'))\n",
    "\n",
    "        model.compile(loss='sparse_categorical_crossentropy', optimizer='adam', metrics=['accuracy'])\n",
    "        return model\n",
    "    \n",
    "\n",
    "def weight_scalling_factor(clients_trn_data, client_name):\n",
    "    client_names = list(clients_trn_data.keys())\n",
    "    #get the bs\n",
    "    bs = list(clients_trn_data[client_name])[0][0].shape[0]\n",
    "    #first calculate the total training data points across clinets\n",
    "    global_count = sum([tf.data.experimental.cardinality(clients_trn_data[client_name]).numpy() for client_name in client_names])*bs\n",
    "    # get the total number of data points held by a client\n",
    "    local_count = tf.data.experimental.cardinality(clients_trn_data[client_name]).numpy()*bs\n",
    "    return local_count/global_count\n",
    "\n",
    "\n",
    "def scale_model_weights(weight, scalar):\n",
    "    '''function for scaling a models weights'''\n",
    "    weight_final = []\n",
    "    steps = len(weight)\n",
    "    for i in range(steps):\n",
    "        weight_final.append(scalar * weight[i])\n",
    "    return weight_final\n",
    "\n",
    "\n",
    "def sum_scaled_weights(scaled_weight_list):\n",
    "    '''Return the sum of the listed scaled weights. The is equivalent to scaled avg of the weights'''\n",
    "    avg_grad = list()\n",
    "    #get the average grad accross all client gradients\n",
    "    for grad_list_tuple in zip(*scaled_weight_list):\n",
    "        layer_mean = tf.math.reduce_sum(grad_list_tuple, axis=0)\n",
    "        avg_grad.append(layer_mean)\n",
    "        \n",
    "    return avg_grad\n",
    "\n",
    "\n",
    "def test_model(X_test, Y_test,  model, comm_round):\n",
    "    cce = tf.keras.losses.SparseCategoricalCrossentropy(from_logits=True)\n",
    "    #logits = model.predict(X_test, batch_size=100)\n",
    "    logits = model.predict(X_test)\n",
    "    length = len(y_test)\n",
    "    Y_test = tf.reshape(Y_test,(length,1))\n",
    "    loss = cce(Y_test, logits)\n",
    "    acc = accuracy_score(tf.argmax(logits, axis=1), Y_test)\n",
    "    print('comm_round: {} | global_acc: {:.3%} | global_loss: {}'.format(comm_round, acc, loss))\n",
    "    return acc, loss"
   ]
  },
  {
   "cell_type": "code",
   "execution_count": 5,
   "id": "c94fcc46",
   "metadata": {
    "scrolled": true
   },
   "outputs": [
    {
     "name": "stderr",
     "output_type": "stream",
     "text": [
      "c:\\users\\votri\\appdata\\local\\programs\\python\\python38\\lib\\site-packages\\keras\\optimizer_v2\\gradient_descent.py:102: UserWarning: The `lr` argument is deprecated, use `learning_rate` instead.\n",
      "  super(SGD, self).__init__(name, **kwargs)\n"
     ]
    },
    {
     "name": "stdout",
     "output_type": "stream",
     "text": [
      "comm_round: 0 | global_acc: 53.069% | global_loss: 0.6927513480186462\n",
      "comm_round: 1 | global_acc: 75.451% | global_loss: 0.6915414929389954\n",
      "comm_round: 2 | global_acc: 74.729% | global_loss: 0.6909446716308594\n",
      "comm_round: 3 | global_acc: 76.895% | global_loss: 0.6904296875\n",
      "comm_round: 4 | global_acc: 75.812% | global_loss: 0.6897746324539185\n",
      "comm_round: 5 | global_acc: 75.090% | global_loss: 0.6891632676124573\n",
      "comm_round: 6 | global_acc: 75.812% | global_loss: 0.6886612772941589\n",
      "comm_round: 7 | global_acc: 70.758% | global_loss: 0.6879494786262512\n",
      "comm_round: 8 | global_acc: 73.646% | global_loss: 0.6874895095825195\n",
      "comm_round: 9 | global_acc: 75.812% | global_loss: 0.6870743036270142\n",
      "comm_round: 10 | global_acc: 77.617% | global_loss: 0.6865680813789368\n",
      "comm_round: 11 | global_acc: 75.451% | global_loss: 0.685886561870575\n",
      "comm_round: 12 | global_acc: 71.119% | global_loss: 0.6850365400314331\n",
      "comm_round: 13 | global_acc: 72.924% | global_loss: 0.6845443248748779\n",
      "comm_round: 14 | global_acc: 75.090% | global_loss: 0.6839452981948853\n",
      "comm_round: 15 | global_acc: 75.451% | global_loss: 0.6832544207572937\n",
      "comm_round: 16 | global_acc: 73.646% | global_loss: 0.682370126247406\n",
      "comm_round: 17 | global_acc: 71.119% | global_loss: 0.6813669800758362\n",
      "comm_round: 18 | global_acc: 71.119% | global_loss: 0.6805738806724548\n",
      "comm_round: 19 | global_acc: 72.563% | global_loss: 0.679824948310852\n",
      "comm_round: 20 | global_acc: 74.729% | global_loss: 0.6792358756065369\n",
      "comm_round: 21 | global_acc: 72.924% | global_loss: 0.6780277490615845\n",
      "comm_round: 22 | global_acc: 74.007% | global_loss: 0.6772061586380005\n",
      "comm_round: 23 | global_acc: 73.285% | global_loss: 0.676113486289978\n",
      "comm_round: 24 | global_acc: 74.368% | global_loss: 0.6751725673675537\n",
      "comm_round: 25 | global_acc: 74.007% | global_loss: 0.6739697456359863\n",
      "comm_round: 26 | global_acc: 74.007% | global_loss: 0.6725471019744873\n",
      "comm_round: 27 | global_acc: 74.368% | global_loss: 0.6714974641799927\n",
      "comm_round: 28 | global_acc: 74.007% | global_loss: 0.6703266501426697\n",
      "comm_round: 29 | global_acc: 75.451% | global_loss: 0.6692457795143127\n",
      "comm_round: 30 | global_acc: 74.368% | global_loss: 0.6675280332565308\n",
      "comm_round: 31 | global_acc: 74.368% | global_loss: 0.6658989787101746\n",
      "comm_round: 32 | global_acc: 75.090% | global_loss: 0.6643287539482117\n",
      "comm_round: 33 | global_acc: 75.451% | global_loss: 0.6625398397445679\n",
      "comm_round: 34 | global_acc: 75.451% | global_loss: 0.6610960364341736\n",
      "comm_round: 35 | global_acc: 75.812% | global_loss: 0.6594877243041992\n",
      "comm_round: 36 | global_acc: 76.173% | global_loss: 0.6573879718780518\n",
      "comm_round: 37 | global_acc: 77.256% | global_loss: 0.6558335423469543\n",
      "comm_round: 38 | global_acc: 77.256% | global_loss: 0.6535741686820984\n",
      "comm_round: 39 | global_acc: 77.617% | global_loss: 0.6513926982879639\n",
      "comm_round: 40 | global_acc: 77.256% | global_loss: 0.6489611864089966\n",
      "comm_round: 41 | global_acc: 79.061% | global_loss: 0.6472668647766113\n",
      "comm_round: 42 | global_acc: 77.617% | global_loss: 0.6440832018852234\n",
      "comm_round: 43 | global_acc: 79.061% | global_loss: 0.6420636177062988\n",
      "comm_round: 44 | global_acc: 79.783% | global_loss: 0.6395056843757629\n",
      "comm_round: 45 | global_acc: 79.783% | global_loss: 0.6374479532241821\n",
      "comm_round: 46 | global_acc: 80.505% | global_loss: 0.634397566318512\n",
      "comm_round: 47 | global_acc: 79.422% | global_loss: 0.6324546337127686\n",
      "comm_round: 48 | global_acc: 80.866% | global_loss: 0.6286699771881104\n",
      "comm_round: 49 | global_acc: 79.783% | global_loss: 0.6271824240684509\n",
      "comm_round: 50 | global_acc: 80.866% | global_loss: 0.6236913204193115\n",
      "comm_round: 51 | global_acc: 80.505% | global_loss: 0.62078857421875\n",
      "comm_round: 52 | global_acc: 80.144% | global_loss: 0.6182388663291931\n",
      "comm_round: 53 | global_acc: 81.227% | global_loss: 0.6152269840240479\n",
      "comm_round: 54 | global_acc: 80.144% | global_loss: 0.6140761971473694\n",
      "comm_round: 55 | global_acc: 80.505% | global_loss: 0.6109869480133057\n",
      "comm_round: 56 | global_acc: 81.227% | global_loss: 0.6080541610717773\n",
      "comm_round: 57 | global_acc: 80.505% | global_loss: 0.6061981320381165\n",
      "comm_round: 58 | global_acc: 81.227% | global_loss: 0.6037414073944092\n",
      "comm_round: 59 | global_acc: 81.588% | global_loss: 0.6021050214767456\n",
      "comm_round: 60 | global_acc: 83.032% | global_loss: 0.5997893214225769\n",
      "comm_round: 61 | global_acc: 80.866% | global_loss: 0.5980402231216431\n",
      "comm_round: 62 | global_acc: 80.866% | global_loss: 0.5962216258049011\n",
      "comm_round: 63 | global_acc: 83.032% | global_loss: 0.5937391519546509\n",
      "comm_round: 64 | global_acc: 81.588% | global_loss: 0.5939142107963562\n",
      "comm_round: 65 | global_acc: 81.227% | global_loss: 0.5913912057876587\n",
      "comm_round: 66 | global_acc: 83.032% | global_loss: 0.5885112285614014\n",
      "comm_round: 67 | global_acc: 81.227% | global_loss: 0.5892415046691895\n",
      "comm_round: 68 | global_acc: 82.671% | global_loss: 0.5860610008239746\n",
      "comm_round: 69 | global_acc: 83.032% | global_loss: 0.5845346450805664\n",
      "comm_round: 70 | global_acc: 83.755% | global_loss: 0.5821675062179565\n",
      "comm_round: 71 | global_acc: 82.671% | global_loss: 0.5819123983383179\n",
      "comm_round: 72 | global_acc: 82.671% | global_loss: 0.5807344317436218\n",
      "comm_round: 73 | global_acc: 84.477% | global_loss: 0.578355610370636\n",
      "comm_round: 74 | global_acc: 83.032% | global_loss: 0.5790396332740784\n",
      "comm_round: 75 | global_acc: 83.755% | global_loss: 0.5767673254013062\n",
      "comm_round: 76 | global_acc: 82.671% | global_loss: 0.5780054926872253\n",
      "comm_round: 77 | global_acc: 83.032% | global_loss: 0.5759533047676086\n",
      "comm_round: 78 | global_acc: 84.116% | global_loss: 0.5748586654663086\n",
      "comm_round: 79 | global_acc: 83.394% | global_loss: 0.574770987033844\n",
      "comm_round: 80 | global_acc: 84.116% | global_loss: 0.5737577080726624\n",
      "comm_round: 81 | global_acc: 82.671% | global_loss: 0.5744785666465759\n",
      "comm_round: 82 | global_acc: 84.477% | global_loss: 0.5720321536064148\n",
      "comm_round: 83 | global_acc: 84.838% | global_loss: 0.5707923769950867\n",
      "comm_round: 84 | global_acc: 84.838% | global_loss: 0.5700185894966125\n",
      "comm_round: 85 | global_acc: 82.310% | global_loss: 0.5711434483528137\n",
      "comm_round: 86 | global_acc: 84.116% | global_loss: 0.5695238709449768\n",
      "comm_round: 87 | global_acc: 85.199% | global_loss: 0.5682331919670105\n",
      "comm_round: 88 | global_acc: 83.032% | global_loss: 0.5705105066299438\n",
      "comm_round: 89 | global_acc: 83.394% | global_loss: 0.5683456659317017\n",
      "comm_round: 90 | global_acc: 84.477% | global_loss: 0.5674294829368591\n",
      "comm_round: 91 | global_acc: 84.838% | global_loss: 0.5656528472900391\n",
      "comm_round: 92 | global_acc: 82.671% | global_loss: 0.5678756237030029\n",
      "comm_round: 93 | global_acc: 84.838% | global_loss: 0.5644275546073914\n",
      "comm_round: 94 | global_acc: 84.477% | global_loss: 0.5650355219841003\n",
      "comm_round: 95 | global_acc: 82.671% | global_loss: 0.5662728548049927\n",
      "comm_round: 96 | global_acc: 84.477% | global_loss: 0.5638352036476135\n",
      "comm_round: 97 | global_acc: 84.838% | global_loss: 0.5629014372825623\n",
      "comm_round: 98 | global_acc: 84.116% | global_loss: 0.5625056028366089\n",
      "comm_round: 99 | global_acc: 84.838% | global_loss: 0.5619723796844482\n",
      "comm_round: 1 | global_acc: 85.199% | global_loss: 0.5604353547096252\n"
     ]
    }
   ],
   "source": [
    "#create clients\n",
    "clients = create_clients()\n",
    "\n",
    "#process and batch the training data for each client\n",
    "clients_batched = dict()\n",
    "for (client_name, data) in clients.items():\n",
    "    clients_batched[client_name] = batch_data(data)\n",
    "    \n",
    "#process and batch the test set  \n",
    "test_batched = tf.data.Dataset.from_tensor_slices((X_test, y_test)).batch(len(y_test))\n",
    "\n",
    "comms_round = 100\n",
    "    \n",
    "#create optimizer\n",
    "lr = 0.01 \n",
    "loss='sparse_categorical_crossentropy'\n",
    "metrics = ['accuracy']\n",
    "optimizer = tf.keras.optimizers.SGD(lr=lr, decay=lr / comms_round, momentum=0.9) \n",
    "\n",
    "#initialize global model\n",
    "smlp_global = CNN()\n",
    "global_model = smlp_global.build(22, 2)\n",
    "        \n",
    "#commence global training loop\n",
    "for comm_round in range(comms_round):\n",
    "            \n",
    "    # get the global model's weights - will serve as the initial weights for all local models\n",
    "    global_weights = global_model.get_weights()\n",
    "    \n",
    "    #initial list to collect local model weights after scalling\n",
    "    scaled_local_weight_list = list()\n",
    "\n",
    "    #randomize client data - using keys\n",
    "    client_names= list(clients_batched.keys())\n",
    "    random.shuffle(client_names)\n",
    "    \n",
    "    #loop through each client and create new local model\n",
    "    for client in client_names:\n",
    "        smlp_local = CNN()\n",
    "        local_model = smlp_local.build(22, 2)\n",
    "        local_model.compile(loss=loss, \n",
    "                      optimizer=optimizer, \n",
    "                      metrics=metrics)\n",
    "        \n",
    "        #set local model weight to the weight of the global model\n",
    "        local_model.set_weights(global_weights)\n",
    "        \n",
    "        #fit local model with client's data\n",
    "        local_model.fit(clients_batched[client], epochs=1, verbose=0)\n",
    "        \n",
    "        #scale the model weights and add to list\n",
    "        scaling_factor = weight_scalling_factor(clients_batched, client)\n",
    "        scaled_weights = scale_model_weights(local_model.get_weights(), scaling_factor)\n",
    "        scaled_local_weight_list.append(scaled_weights)\n",
    "        \n",
    "        #clear session to free memory after each communication round\n",
    "        K.clear_session()\n",
    "        \n",
    "    #to get the average over all the local model, we simply take the sum of the scaled weights\n",
    "    average_weights = sum_scaled_weights(scaled_local_weight_list)\n",
    "    \n",
    "    #update global model \n",
    "    global_model.set_weights(average_weights)\n",
    "\n",
    "    #test global model and print out metrics after each communications round\n",
    "    for(X_test, Y_test) in test_batched:\n",
    "        global_acc, global_loss = test_model(X_test, Y_test, global_model, comm_round)\n",
    "        SGD_dataset = tf.data.Dataset.from_tensor_slices((X_train, y_train)).shuffle(len(y_train)).batch(250)\n",
    "        smlp_SGD = CNN()\n",
    "        SGD_model = smlp_SGD.build(22, 2) \n",
    "\n",
    "        SGD_model.compile(loss=loss, optimizer=optimizer, metrics=metrics)\n",
    "\n",
    "# fit the SGD training data to model\n",
    "_ = SGD_model.fit(SGD_dataset, epochs=100, verbose=0)\n",
    "\n",
    "#test the SGD global model and print out metrics\n",
    "for(X_test, Y_test) in test_batched:\n",
    "        SGD_acc, SGD_loss = test_model(X_test, Y_test, SGD_model, 1)"
   ]
  },
  {
   "cell_type": "code",
   "execution_count": 6,
   "id": "9b13ff1f",
   "metadata": {},
   "outputs": [],
   "source": [
    "Y_predictions = np.argmax(SGD_model.predict(X_test),axis = 1)"
   ]
  },
  {
   "cell_type": "code",
   "execution_count": 7,
   "id": "9bc551a0",
   "metadata": {
    "scrolled": true
   },
   "outputs": [
    {
     "data": {
      "text/plain": [
       "array([[ 97,  15],\n",
       "       [ 26, 139]], dtype=int64)"
      ]
     },
     "execution_count": 7,
     "metadata": {},
     "output_type": "execute_result"
    }
   ],
   "source": [
    "cm = confusion_matrix(Y_predictions, Y_test)\n",
    "cm"
   ]
  },
  {
   "cell_type": "code",
   "execution_count": 8,
   "id": "8a83e0bb",
   "metadata": {},
   "outputs": [
    {
     "name": "stdout",
     "output_type": "stream",
     "text": [
      "              precision    recall  f1-score   support\n",
      "\n",
      "           0       0.87      0.79      0.83       123\n",
      "           1       0.84      0.90      0.87       154\n",
      "\n",
      "    accuracy                           0.85       277\n",
      "   macro avg       0.85      0.85      0.85       277\n",
      "weighted avg       0.85      0.85      0.85       277\n",
      "\n"
     ]
    }
   ],
   "source": [
    "print(classification_report(Y_test, Y_predictions))"
   ]
  },
  {
   "cell_type": "markdown",
   "id": "56495b0e",
   "metadata": {},
   "source": [
    "# Testing on each dataset"
   ]
  },
  {
   "cell_type": "code",
   "execution_count": 10,
   "id": "ec02651a",
   "metadata": {},
   "outputs": [
    {
     "name": "stdout",
     "output_type": "stream",
     "text": [
      "[[42  3]\n",
      " [ 9 37]]\n",
      "              precision    recall  f1-score   support\n",
      "\n",
      "           0       0.82      0.93      0.87        45\n",
      "           1       0.93      0.80      0.86        46\n",
      "\n",
      "    accuracy                           0.87        91\n",
      "   macro avg       0.87      0.87      0.87        91\n",
      "weighted avg       0.87      0.87      0.87        91\n",
      "\n"
     ]
    }
   ],
   "source": [
    "Y_cle = np.argmax(SGD_model.predict(cle_X_test),axis = 1)\n",
    "cm_cle = confusion_matrix(Y_cle, cle_Y_test_binary)\n",
    "print(cm_cle)\n",
    "print(classification_report(Y_cle, cle_Y_test_binary))"
   ]
  },
  {
   "cell_type": "code",
   "execution_count": 11,
   "id": "b2d4cc1c",
   "metadata": {},
   "outputs": [
    {
     "name": "stdout",
     "output_type": "stream",
     "text": [
      "[[ 5  5]\n",
      " [ 8 42]]\n",
      "              precision    recall  f1-score   support\n",
      "\n",
      "           0       0.38      0.50      0.43        10\n",
      "           1       0.89      0.84      0.87        50\n",
      "\n",
      "    accuracy                           0.78        60\n",
      "   macro avg       0.64      0.67      0.65        60\n",
      "weighted avg       0.81      0.78      0.79        60\n",
      "\n"
     ]
    }
   ],
   "source": [
    "Y_vir = np.argmax(SGD_model.predict(vir_X_test),axis = 1)\n",
    "cm_vir = confusion_matrix(Y_vir, vir_Y_test_binary)\n",
    "print(cm_vir)\n",
    "print(classification_report(Y_vir, vir_Y_test_binary))"
   ]
  },
  {
   "cell_type": "code",
   "execution_count": 12,
   "id": "9c031520",
   "metadata": {},
   "outputs": [
    {
     "name": "stdout",
     "output_type": "stream",
     "text": [
      "[[49  4]\n",
      " [ 8 28]]\n",
      "              precision    recall  f1-score   support\n",
      "\n",
      "           0       0.86      0.92      0.89        53\n",
      "           1       0.88      0.78      0.82        36\n",
      "\n",
      "    accuracy                           0.87        89\n",
      "   macro avg       0.87      0.85      0.86        89\n",
      "weighted avg       0.87      0.87      0.86        89\n",
      "\n"
     ]
    }
   ],
   "source": [
    "Y_hun = np.argmax(SGD_model.predict(hun_X_test),axis = 1)\n",
    "cm_hun = confusion_matrix(Y_hun, hun_Y_test_binary)\n",
    "print(cm_hun)\n",
    "print(classification_report(Y_hun, hun_Y_test_binary))"
   ]
  },
  {
   "cell_type": "code",
   "execution_count": 13,
   "id": "2e837211",
   "metadata": {
    "scrolled": true
   },
   "outputs": [
    {
     "name": "stdout",
     "output_type": "stream",
     "text": [
      "[[ 1  3]\n",
      " [ 1 32]]\n",
      "              precision    recall  f1-score   support\n",
      "\n",
      "           0       0.50      0.25      0.33         4\n",
      "           1       0.91      0.97      0.94        33\n",
      "\n",
      "    accuracy                           0.89        37\n",
      "   macro avg       0.71      0.61      0.64        37\n",
      "weighted avg       0.87      0.89      0.88        37\n",
      "\n"
     ]
    }
   ],
   "source": [
    "Y_swi = np.argmax(SGD_model.predict(swi_X_test),axis = 1)\n",
    "cm_swi = confusion_matrix(Y_swi, swi_Y_test_binary)\n",
    "print(cm_swi)\n",
    "print(classification_report(Y_swi, swi_Y_test_binary))"
   ]
  },
  {
   "cell_type": "code",
   "execution_count": 15,
   "id": "2adbc301",
   "metadata": {},
   "outputs": [
    {
     "ename": "ValueError",
     "evalue": "Unable to create dataset (name already exists)",
     "output_type": "error",
     "traceback": [
      "\u001b[1;31m---------------------------------------------------------------------------\u001b[0m",
      "\u001b[1;31mValueError\u001b[0m                                Traceback (most recent call last)",
      "Input \u001b[1;32mIn [15]\u001b[0m, in \u001b[0;36m<module>\u001b[1;34m\u001b[0m\n\u001b[1;32m----> 1\u001b[0m \u001b[43mSGD_model\u001b[49m\u001b[38;5;241;43m.\u001b[39;49m\u001b[43msave\u001b[49m\u001b[43m(\u001b[49m\u001b[38;5;124;43m'\u001b[39;49m\u001b[38;5;124;43mCNN-FL_85\u001b[39;49m\u001b[38;5;124;43m%\u001b[39;49m\u001b[38;5;124;43m.h5\u001b[39;49m\u001b[38;5;124;43m'\u001b[39;49m\u001b[43m)\u001b[49m\n",
      "File \u001b[1;32mc:\\users\\votri\\appdata\\local\\programs\\python\\python38\\lib\\site-packages\\keras\\utils\\traceback_utils.py:67\u001b[0m, in \u001b[0;36mfilter_traceback.<locals>.error_handler\u001b[1;34m(*args, **kwargs)\u001b[0m\n\u001b[0;32m     65\u001b[0m \u001b[38;5;28;01mexcept\u001b[39;00m \u001b[38;5;167;01mException\u001b[39;00m \u001b[38;5;28;01mas\u001b[39;00m e:  \u001b[38;5;66;03m# pylint: disable=broad-except\u001b[39;00m\n\u001b[0;32m     66\u001b[0m   filtered_tb \u001b[38;5;241m=\u001b[39m _process_traceback_frames(e\u001b[38;5;241m.\u001b[39m__traceback__)\n\u001b[1;32m---> 67\u001b[0m   \u001b[38;5;28;01mraise\u001b[39;00m e\u001b[38;5;241m.\u001b[39mwith_traceback(filtered_tb) \u001b[38;5;28;01mfrom\u001b[39;00m \u001b[38;5;28mNone\u001b[39m\n\u001b[0;32m     68\u001b[0m \u001b[38;5;28;01mfinally\u001b[39;00m:\n\u001b[0;32m     69\u001b[0m   \u001b[38;5;28;01mdel\u001b[39;00m filtered_tb\n",
      "File \u001b[1;32mc:\\users\\votri\\appdata\\local\\programs\\python\\python38\\lib\\site-packages\\h5py\\_hl\\group.py:149\u001b[0m, in \u001b[0;36mGroup.create_dataset\u001b[1;34m(self, name, shape, dtype, data, **kwds)\u001b[0m\n\u001b[0;32m    146\u001b[0m         parent_path, name \u001b[38;5;241m=\u001b[39m name\u001b[38;5;241m.\u001b[39mrsplit(\u001b[38;5;124mb\u001b[39m\u001b[38;5;124m'\u001b[39m\u001b[38;5;124m/\u001b[39m\u001b[38;5;124m'\u001b[39m, \u001b[38;5;241m1\u001b[39m)\n\u001b[0;32m    147\u001b[0m         group \u001b[38;5;241m=\u001b[39m \u001b[38;5;28mself\u001b[39m\u001b[38;5;241m.\u001b[39mrequire_group(parent_path)\n\u001b[1;32m--> 149\u001b[0m dsid \u001b[38;5;241m=\u001b[39m dataset\u001b[38;5;241m.\u001b[39mmake_new_dset(group, shape, dtype, data, name, \u001b[38;5;241m*\u001b[39m\u001b[38;5;241m*\u001b[39mkwds)\n\u001b[0;32m    150\u001b[0m dset \u001b[38;5;241m=\u001b[39m dataset\u001b[38;5;241m.\u001b[39mDataset(dsid)\n\u001b[0;32m    151\u001b[0m \u001b[38;5;28;01mreturn\u001b[39;00m dset\n",
      "File \u001b[1;32mc:\\users\\votri\\appdata\\local\\programs\\python\\python38\\lib\\site-packages\\h5py\\_hl\\dataset.py:142\u001b[0m, in \u001b[0;36mmake_new_dset\u001b[1;34m(parent, shape, dtype, data, name, chunks, compression, shuffle, fletcher32, maxshape, compression_opts, fillvalue, scaleoffset, track_times, external, track_order, dcpl, allow_unknown_filter)\u001b[0m\n\u001b[0;32m    138\u001b[0m \u001b[38;5;28;01melse\u001b[39;00m:\n\u001b[0;32m    139\u001b[0m     sid \u001b[38;5;241m=\u001b[39m h5s\u001b[38;5;241m.\u001b[39mcreate_simple(shape, maxshape)\n\u001b[1;32m--> 142\u001b[0m dset_id \u001b[38;5;241m=\u001b[39m \u001b[43mh5d\u001b[49m\u001b[38;5;241;43m.\u001b[39;49m\u001b[43mcreate\u001b[49m\u001b[43m(\u001b[49m\u001b[43mparent\u001b[49m\u001b[38;5;241;43m.\u001b[39;49m\u001b[43mid\u001b[49m\u001b[43m,\u001b[49m\u001b[43m \u001b[49m\u001b[43mname\u001b[49m\u001b[43m,\u001b[49m\u001b[43m \u001b[49m\u001b[43mtid\u001b[49m\u001b[43m,\u001b[49m\u001b[43m \u001b[49m\u001b[43msid\u001b[49m\u001b[43m,\u001b[49m\u001b[43m \u001b[49m\u001b[43mdcpl\u001b[49m\u001b[38;5;241;43m=\u001b[39;49m\u001b[43mdcpl\u001b[49m\u001b[43m)\u001b[49m\n\u001b[0;32m    144\u001b[0m \u001b[38;5;28;01mif\u001b[39;00m (data \u001b[38;5;129;01mis\u001b[39;00m \u001b[38;5;129;01mnot\u001b[39;00m \u001b[38;5;28;01mNone\u001b[39;00m) \u001b[38;5;129;01mand\u001b[39;00m (\u001b[38;5;129;01mnot\u001b[39;00m \u001b[38;5;28misinstance\u001b[39m(data, Empty)):\n\u001b[0;32m    145\u001b[0m     dset_id\u001b[38;5;241m.\u001b[39mwrite(h5s\u001b[38;5;241m.\u001b[39mALL, h5s\u001b[38;5;241m.\u001b[39mALL, data)\n",
      "File \u001b[1;32mh5py\\_objects.pyx:54\u001b[0m, in \u001b[0;36mh5py._objects.with_phil.wrapper\u001b[1;34m()\u001b[0m\n",
      "File \u001b[1;32mh5py\\_objects.pyx:55\u001b[0m, in \u001b[0;36mh5py._objects.with_phil.wrapper\u001b[1;34m()\u001b[0m\n",
      "File \u001b[1;32mh5py\\h5d.pyx:87\u001b[0m, in \u001b[0;36mh5py.h5d.create\u001b[1;34m()\u001b[0m\n",
      "\u001b[1;31mValueError\u001b[0m: Unable to create dataset (name already exists)"
     ]
    }
   ],
   "source": [
    "SGD_model.save('CNN-FL_85%.h5')"
   ]
  },
  {
   "cell_type": "code",
   "execution_count": null,
   "id": "805b6caf",
   "metadata": {},
   "outputs": [],
   "source": []
  }
 ],
 "metadata": {
  "kernelspec": {
   "display_name": "Python 3 (ipykernel)",
   "language": "python",
   "name": "python3"
  },
  "language_info": {
   "codemirror_mode": {
    "name": "ipython",
    "version": 3
   },
   "file_extension": ".py",
   "mimetype": "text/x-python",
   "name": "python",
   "nbconvert_exporter": "python",
   "pygments_lexer": "ipython3",
   "version": "3.8.3"
  }
 },
 "nbformat": 4,
 "nbformat_minor": 5
}
