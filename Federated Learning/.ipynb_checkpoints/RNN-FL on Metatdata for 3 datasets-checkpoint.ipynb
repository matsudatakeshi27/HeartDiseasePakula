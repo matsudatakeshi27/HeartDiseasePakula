{
 "cells": [
  {
   "cell_type": "code",
   "execution_count": 1,
   "id": "b9f37971",
   "metadata": {},
   "outputs": [],
   "source": [
    "import numpy as np\n",
    "import random\n",
    "import cv2\n",
    "import os\n",
    "from imutils import paths\n",
    "from sklearn.preprocessing import LabelBinarizer\n",
    "from sklearn.model_selection import train_test_split\n",
    "from sklearn.utils import shuffle\n",
    "from sklearn.metrics import accuracy_score\n",
    "import pandas as pd\n",
    "\n",
    "import tensorflow as tf\n",
    "from tensorflow.keras.models import Sequential\n",
    "from tensorflow.keras.layers import Conv2D\n",
    "from tensorflow.keras.layers import MaxPooling2D\n",
    "from tensorflow.keras.layers import Activation\n",
    "from tensorflow.keras.layers import Flatten\n",
    "from tensorflow.keras.layers import Dense, SimpleRNN\n",
    "from tensorflow.keras.optimizers import SGD\n",
    "from tensorflow.keras import backend as K\n",
    "from sklearn.metrics import confusion_matrix, classification_report"
   ]
  },
  {
   "cell_type": "code",
   "execution_count": 2,
   "id": "05fdffd3",
   "metadata": {},
   "outputs": [],
   "source": [
    "#binarize the labels\n",
    "lb = LabelBinarizer()\n",
    "\n",
    "import pandas as pd\n",
    "\n",
    "data_files = ['cle_train.csv','cle_test.csv','hun_train.csv','hun_test.csv','swi_train.csv','swi_test.csv','vir_train.csv','vir_test.csv']\n",
    "\n",
    "datasets = {}\n",
    "\n",
    "for file in data_files:\n",
    "    data = pd.read_csv('../TrainTestData/' + file)\n",
    "    \n",
    "    X = data.iloc[:, :-1]\n",
    "    Y = data.iloc[:, -1]\n",
    "    \n",
    "    Y_binary = Y.apply(lambda x: 1 if x > 0 else 0)\n",
    "    \n",
    "    # Extract the name from the file path\n",
    "    name = file.split('.')[0]\n",
    "    \n",
    "    # Store the dataset components in a dictionary\n",
    "    datasets[name] = {'X': X, 'Y': Y, 'Y_binary': Y_binary}\n",
    "\n",
    "# Unpack the dictionary values in a loop\n",
    "variables = ['cle', 'hun', 'swi', 'vir']\n",
    "train_test = ['train', 'test']\n",
    "\n",
    "for var in variables:\n",
    "    for tt in train_test:\n",
    "        X, Y, Y_binary = datasets[f'{var}_{tt}'].values()\n",
    "        globals()[f'{var}_X_{tt}'] = X\n",
    "        globals()[f'{var}_Y_{tt}'] = Y\n",
    "        globals()[f'{var}_Y_{tt}_binary'] = Y_binary"
   ]
  },
  {
   "cell_type": "code",
   "execution_count": 3,
   "id": "8171119e",
   "metadata": {},
   "outputs": [],
   "source": [
    "X_test = pd.concat([cle_X_test,hun_X_test,swi_X_test,vir_X_test])\n",
    "y_test = pd.concat([cle_Y_test_binary,hun_Y_test_binary,swi_Y_test_binary,vir_Y_test_binary])\n",
    "\n",
    "X_train = pd.concat([cle_X_train,hun_X_train,swi_X_train,vir_X_train])\n",
    "y_train = pd.concat([cle_Y_train_binary,hun_Y_train_binary,swi_Y_train_binary,vir_Y_train_binary])"
   ]
  },
  {
   "cell_type": "code",
   "execution_count": 4,
   "id": "3fc05e42",
   "metadata": {},
   "outputs": [],
   "source": [
    "def create_clients():\n",
    "    cle_zip = list(zip(cle_X_train.values,cle_Y_train_binary))\n",
    "    hun_zip = list(zip(hun_X_train.values,hun_Y_train_binary))\n",
    "    vir_zip = list(zip(vir_X_train.values,vir_Y_train_binary))\n",
    "    swi_zip = list(zip(swi_X_train.values,swi_Y_train_binary))\n",
    "    \n",
    "    shards = [cle_zip, hun_zip, vir_zip,swi_zip]\n",
    "    client_names = [\"client_1\",\"client_2\",\"client_3\",\"client_4\"]\n",
    "    dic = {client_names[i] : shards[i] for i in range(len(client_names))}\n",
    "    return dic\n",
    "\n",
    "\n",
    "def batch_data(data_shard, bs=32):\n",
    "    '''Takes in a clients data shard and create a tfds object off it\n",
    "    args:\n",
    "        shard: a data, label constituting a client's data shard\n",
    "        bs:batch size\n",
    "    return:\n",
    "        tfds object'''\n",
    "    #seperate shard into data and labels lists\n",
    "    data, label = zip(*data_shard)\n",
    "    dataset = tf.data.Dataset.from_tensor_slices((list(data), list(label)))\n",
    "    return dataset.shuffle(len(label)).batch(bs)\n",
    "\n",
    "\n",
    "class RNN:\n",
    "    @staticmethod\n",
    "    def build(shape, classes):\n",
    "        model = Sequential()\n",
    "        model.add(SimpleRNN(units=64, return_sequences=True, input_shape=(22, 1)))\n",
    "        model.add(SimpleRNN(units=32, return_sequences=True))\n",
    "        model.add(SimpleRNN(units=16))\n",
    "        model.add(Dense(units=2, activation='sigmoid'))\n",
    "        model.compile(optimizer='adam', loss='sparse_categorical_crossentropy', metrics=['accuracy'])\n",
    "        return model\n",
    "    \n",
    "\n",
    "def weight_scalling_factor(clients_trn_data, client_name):\n",
    "    client_names = list(clients_trn_data.keys())\n",
    "    #get the bs\n",
    "    bs = list(clients_trn_data[client_name])[0][0].shape[0]\n",
    "    #first calculate the total training data points across clinets\n",
    "    global_count = sum([tf.data.experimental.cardinality(clients_trn_data[client_name]).numpy() for client_name in client_names])*bs\n",
    "    # get the total number of data points held by a client\n",
    "    local_count = tf.data.experimental.cardinality(clients_trn_data[client_name]).numpy()*bs\n",
    "    return local_count/global_count\n",
    "\n",
    "\n",
    "def scale_model_weights(weight, scalar):\n",
    "    '''function for scaling a models weights'''\n",
    "    weight_final = []\n",
    "    steps = len(weight)\n",
    "    for i in range(steps):\n",
    "        weight_final.append(scalar * weight[i])\n",
    "    return weight_final\n",
    "\n",
    "\n",
    "def sum_scaled_weights(scaled_weight_list):\n",
    "    '''Return the sum of the listed scaled weights. The is equivalent to scaled avg of the weights'''\n",
    "    avg_grad = list()\n",
    "    #get the average grad accross all client gradients\n",
    "    for grad_list_tuple in zip(*scaled_weight_list):\n",
    "        layer_mean = tf.math.reduce_sum(grad_list_tuple, axis=0)\n",
    "        avg_grad.append(layer_mean)\n",
    "        \n",
    "    return avg_grad\n",
    "\n",
    "\n",
    "def test_model(X_test, Y_test,  model, comm_round):\n",
    "    cce = tf.keras.losses.SparseCategoricalCrossentropy(from_logits=True)\n",
    "    #logits = model.predict(X_test, batch_size=100)\n",
    "    logits = model.predict(X_test)\n",
    "    length = len(y_test)\n",
    "    Y_test = tf.reshape(Y_test,(length,1))\n",
    "    loss = cce(Y_test, logits)\n",
    "    acc = accuracy_score(tf.argmax(logits, axis=1), Y_test)\n",
    "    print('comm_round: {} | global_acc: {:.3%} | global_loss: {}'.format(comm_round, acc, loss))\n",
    "    return acc, loss"
   ]
  },
  {
   "cell_type": "code",
   "execution_count": 5,
   "id": "c94fcc46",
   "metadata": {
    "scrolled": true
   },
   "outputs": [
    {
     "name": "stderr",
     "output_type": "stream",
     "text": [
      "c:\\users\\votri\\appdata\\local\\programs\\python\\python38\\lib\\site-packages\\keras\\optimizer_v2\\gradient_descent.py:102: UserWarning: The `lr` argument is deprecated, use `learning_rate` instead.\n",
      "  super(SGD, self).__init__(name, **kwargs)\n"
     ]
    },
    {
     "name": "stdout",
     "output_type": "stream",
     "text": [
      "comm_round: 0 | global_acc: 83.032% | global_loss: 0.5917830467224121\n",
      "comm_round: 1 | global_acc: 82.671% | global_loss: 0.5887399911880493\n",
      "comm_round: 2 | global_acc: 82.671% | global_loss: 0.5728214383125305\n",
      "comm_round: 3 | global_acc: 84.116% | global_loss: 0.5798775553703308\n",
      "comm_round: 4 | global_acc: 84.477% | global_loss: 0.5653844475746155\n",
      "comm_round: 5 | global_acc: 84.477% | global_loss: 0.5750462412834167\n",
      "comm_round: 6 | global_acc: 84.477% | global_loss: 0.564456582069397\n",
      "comm_round: 7 | global_acc: 84.116% | global_loss: 0.5646396279335022\n",
      "comm_round: 8 | global_acc: 84.116% | global_loss: 0.567058801651001\n",
      "comm_round: 9 | global_acc: 84.838% | global_loss: 0.5619961023330688\n",
      "comm_round: 10 | global_acc: 84.116% | global_loss: 0.5586549639701843\n",
      "comm_round: 11 | global_acc: 84.477% | global_loss: 0.5569886565208435\n",
      "comm_round: 12 | global_acc: 84.477% | global_loss: 0.554633378982544\n",
      "comm_round: 13 | global_acc: 85.199% | global_loss: 0.560144305229187\n",
      "comm_round: 14 | global_acc: 83.755% | global_loss: 0.5508344173431396\n",
      "comm_round: 15 | global_acc: 84.116% | global_loss: 0.5550585389137268\n",
      "comm_round: 16 | global_acc: 85.199% | global_loss: 0.557996392250061\n",
      "comm_round: 17 | global_acc: 84.477% | global_loss: 0.5525144934654236\n",
      "comm_round: 18 | global_acc: 84.477% | global_loss: 0.552346408367157\n",
      "comm_round: 19 | global_acc: 84.477% | global_loss: 0.5527479648590088\n",
      "comm_round: 20 | global_acc: 84.477% | global_loss: 0.5533472895622253\n",
      "comm_round: 21 | global_acc: 84.838% | global_loss: 0.5533116459846497\n",
      "comm_round: 22 | global_acc: 84.838% | global_loss: 0.5489999651908875\n",
      "comm_round: 23 | global_acc: 85.199% | global_loss: 0.5526475310325623\n",
      "comm_round: 24 | global_acc: 84.838% | global_loss: 0.5484041571617126\n",
      "comm_round: 25 | global_acc: 85.199% | global_loss: 0.5490596890449524\n",
      "comm_round: 26 | global_acc: 86.282% | global_loss: 0.5470075011253357\n",
      "comm_round: 27 | global_acc: 84.477% | global_loss: 0.5471282601356506\n",
      "comm_round: 28 | global_acc: 85.921% | global_loss: 0.5459631681442261\n",
      "comm_round: 29 | global_acc: 84.477% | global_loss: 0.5442993640899658\n",
      "comm_round: 30 | global_acc: 85.921% | global_loss: 0.5459962487220764\n",
      "comm_round: 31 | global_acc: 85.199% | global_loss: 0.5447006225585938\n",
      "comm_round: 32 | global_acc: 85.921% | global_loss: 0.5449261665344238\n",
      "comm_round: 33 | global_acc: 85.921% | global_loss: 0.5424067378044128\n",
      "comm_round: 34 | global_acc: 85.921% | global_loss: 0.5432634949684143\n",
      "comm_round: 35 | global_acc: 84.838% | global_loss: 0.5440266728401184\n",
      "comm_round: 36 | global_acc: 85.560% | global_loss: 0.5416592955589294\n",
      "comm_round: 37 | global_acc: 84.838% | global_loss: 0.5406526923179626\n",
      "comm_round: 38 | global_acc: 84.477% | global_loss: 0.5478962063789368\n",
      "comm_round: 39 | global_acc: 85.199% | global_loss: 0.5394977331161499\n",
      "comm_round: 40 | global_acc: 85.921% | global_loss: 0.5423275232315063\n",
      "comm_round: 41 | global_acc: 85.199% | global_loss: 0.5397580862045288\n",
      "comm_round: 42 | global_acc: 84.838% | global_loss: 0.542888879776001\n",
      "comm_round: 43 | global_acc: 86.643% | global_loss: 0.5406020879745483\n",
      "comm_round: 44 | global_acc: 85.199% | global_loss: 0.5424368381500244\n",
      "comm_round: 45 | global_acc: 85.199% | global_loss: 0.5378044247627258\n",
      "comm_round: 46 | global_acc: 85.199% | global_loss: 0.5379025936126709\n",
      "comm_round: 47 | global_acc: 84.838% | global_loss: 0.5404454469680786\n",
      "comm_round: 48 | global_acc: 85.199% | global_loss: 0.537477970123291\n",
      "comm_round: 49 | global_acc: 85.921% | global_loss: 0.5382238030433655\n",
      "comm_round: 50 | global_acc: 85.199% | global_loss: 0.5354127287864685\n",
      "comm_round: 51 | global_acc: 85.199% | global_loss: 0.5402054786682129\n",
      "comm_round: 52 | global_acc: 84.838% | global_loss: 0.5367814898490906\n",
      "comm_round: 53 | global_acc: 84.116% | global_loss: 0.5385665893554688\n",
      "comm_round: 54 | global_acc: 85.199% | global_loss: 0.5345405340194702\n",
      "comm_round: 55 | global_acc: 84.477% | global_loss: 0.5363998413085938\n",
      "comm_round: 56 | global_acc: 84.838% | global_loss: 0.5344376564025879\n",
      "comm_round: 57 | global_acc: 83.755% | global_loss: 0.5355731844902039\n",
      "comm_round: 58 | global_acc: 84.477% | global_loss: 0.5342045426368713\n",
      "comm_round: 59 | global_acc: 85.560% | global_loss: 0.5367841124534607\n",
      "comm_round: 60 | global_acc: 85.199% | global_loss: 0.5337245464324951\n",
      "comm_round: 61 | global_acc: 84.477% | global_loss: 0.5347657203674316\n",
      "comm_round: 62 | global_acc: 84.838% | global_loss: 0.5324859023094177\n",
      "comm_round: 63 | global_acc: 84.116% | global_loss: 0.5355401039123535\n",
      "comm_round: 64 | global_acc: 84.116% | global_loss: 0.5319817066192627\n",
      "comm_round: 65 | global_acc: 85.560% | global_loss: 0.5338701009750366\n",
      "comm_round: 66 | global_acc: 84.477% | global_loss: 0.5341653823852539\n",
      "comm_round: 67 | global_acc: 84.477% | global_loss: 0.5337663292884827\n",
      "comm_round: 68 | global_acc: 84.477% | global_loss: 0.5314235091209412\n",
      "comm_round: 69 | global_acc: 84.838% | global_loss: 0.529287576675415\n",
      "comm_round: 70 | global_acc: 85.921% | global_loss: 0.5317110419273376\n",
      "comm_round: 71 | global_acc: 84.116% | global_loss: 0.5312906503677368\n",
      "comm_round: 72 | global_acc: 85.199% | global_loss: 0.5330016613006592\n",
      "comm_round: 73 | global_acc: 85.921% | global_loss: 0.5302406549453735\n",
      "comm_round: 74 | global_acc: 86.643% | global_loss: 0.5292453169822693\n",
      "comm_round: 75 | global_acc: 84.116% | global_loss: 0.5293854475021362\n",
      "comm_round: 76 | global_acc: 84.838% | global_loss: 0.5272554755210876\n",
      "comm_round: 77 | global_acc: 84.116% | global_loss: 0.5311414003372192\n",
      "comm_round: 78 | global_acc: 85.560% | global_loss: 0.5253444314002991\n",
      "comm_round: 79 | global_acc: 84.838% | global_loss: 0.5264939665794373\n",
      "comm_round: 80 | global_acc: 85.199% | global_loss: 0.5313462018966675\n",
      "comm_round: 81 | global_acc: 84.116% | global_loss: 0.5269879102706909\n",
      "comm_round: 82 | global_acc: 85.921% | global_loss: 0.5279780030250549\n",
      "comm_round: 83 | global_acc: 84.838% | global_loss: 0.5294091105461121\n",
      "comm_round: 84 | global_acc: 84.838% | global_loss: 0.5253894329071045\n",
      "comm_round: 85 | global_acc: 84.116% | global_loss: 0.5297540426254272\n",
      "comm_round: 86 | global_acc: 85.199% | global_loss: 0.5256543159484863\n",
      "comm_round: 87 | global_acc: 84.838% | global_loss: 0.5265108942985535\n",
      "comm_round: 88 | global_acc: 84.838% | global_loss: 0.5241501331329346\n",
      "comm_round: 89 | global_acc: 84.477% | global_loss: 0.5253092050552368\n",
      "comm_round: 90 | global_acc: 84.838% | global_loss: 0.5235450267791748\n",
      "comm_round: 91 | global_acc: 83.755% | global_loss: 0.5273331999778748\n",
      "comm_round: 92 | global_acc: 84.838% | global_loss: 0.5226301550865173\n",
      "comm_round: 93 | global_acc: 84.116% | global_loss: 0.5245570540428162\n",
      "comm_round: 94 | global_acc: 85.921% | global_loss: 0.5283137559890747\n",
      "comm_round: 95 | global_acc: 85.560% | global_loss: 0.5240549445152283\n",
      "comm_round: 96 | global_acc: 84.116% | global_loss: 0.5213242173194885\n",
      "comm_round: 97 | global_acc: 85.560% | global_loss: 0.5246975421905518\n",
      "comm_round: 98 | global_acc: 84.477% | global_loss: 0.5204238891601562\n",
      "comm_round: 99 | global_acc: 85.921% | global_loss: 0.5232546329498291\n",
      "comm_round: 1 | global_acc: 83.394% | global_loss: 0.5846313238143921\n"
     ]
    }
   ],
   "source": [
    "#create clients\n",
    "clients = create_clients()\n",
    "\n",
    "#process and batch the training data for each client\n",
    "clients_batched = dict()\n",
    "for (client_name, data) in clients.items():\n",
    "    clients_batched[client_name] = batch_data(data)\n",
    "    \n",
    "#process and batch the test set  \n",
    "test_batched = tf.data.Dataset.from_tensor_slices((X_test, y_test)).batch(len(y_test))\n",
    "\n",
    "comms_round = 100\n",
    "    \n",
    "#create optimizer\n",
    "lr = 0.01 \n",
    "loss='sparse_categorical_crossentropy'\n",
    "metrics = ['accuracy']\n",
    "optimizer = tf.keras.optimizers.SGD(lr=lr, decay=lr / comms_round, momentum=0.9) \n",
    "\n",
    "#initialize global model\n",
    "smlp_global = RNN()\n",
    "global_model = smlp_global.build(22, 2)\n",
    "        \n",
    "#commence global training loop\n",
    "for comm_round in range(comms_round):\n",
    "            \n",
    "    # get the global model's weights - will serve as the initial weights for all local models\n",
    "    global_weights = global_model.get_weights()\n",
    "    \n",
    "    #initial list to collect local model weights after scalling\n",
    "    scaled_local_weight_list = list()\n",
    "\n",
    "    #randomize client data - using keys\n",
    "    client_names= list(clients_batched.keys())\n",
    "    random.shuffle(client_names)\n",
    "    \n",
    "    #loop through each client and create new local model\n",
    "    for client in client_names:\n",
    "        smlp_local = RNN()\n",
    "        local_model = smlp_local.build(22, 2)\n",
    "        local_model.compile(loss=loss, \n",
    "                      optimizer=optimizer, \n",
    "                      metrics=metrics)\n",
    "        \n",
    "        #set local model weight to the weight of the global model\n",
    "        local_model.set_weights(global_weights)\n",
    "        \n",
    "        #fit local model with client's data\n",
    "        local_model.fit(clients_batched[client], epochs=1, verbose=0)\n",
    "        \n",
    "        #scale the model weights and add to list\n",
    "        scaling_factor = weight_scalling_factor(clients_batched, client)\n",
    "        scaled_weights = scale_model_weights(local_model.get_weights(), scaling_factor)\n",
    "        scaled_local_weight_list.append(scaled_weights)\n",
    "        \n",
    "        #clear session to free memory after each communication round\n",
    "        K.clear_session()\n",
    "        \n",
    "    #to get the average over all the local model, we simply take the sum of the scaled weights\n",
    "    average_weights = sum_scaled_weights(scaled_local_weight_list)\n",
    "    \n",
    "    #update global model \n",
    "    global_model.set_weights(average_weights)\n",
    "\n",
    "    #test global model and print out metrics after each communications round\n",
    "    for(X_test, Y_test) in test_batched:\n",
    "        global_acc, global_loss = test_model(X_test, Y_test, global_model, comm_round)\n",
    "        SGD_dataset = tf.data.Dataset.from_tensor_slices((X_train, y_train)).shuffle(len(y_train)).batch(320)\n",
    "        smlp_SGD = RNN()\n",
    "        SGD_model = smlp_SGD.build(22, 2) \n",
    "\n",
    "        SGD_model.compile(loss=loss, optimizer=optimizer, metrics=metrics)\n",
    "\n",
    "# fit the SGD training data to model\n",
    "_ = SGD_model.fit(SGD_dataset, epochs=100, verbose=0)\n",
    "\n",
    "#test the SGD global model and print out metrics\n",
    "for(X_test, Y_test) in test_batched:\n",
    "        SGD_acc, SGD_loss = test_model(X_test, Y_test, SGD_model, 1)"
   ]
  },
  {
   "cell_type": "code",
   "execution_count": 6,
   "id": "9b13ff1f",
   "metadata": {},
   "outputs": [],
   "source": [
    "Y_predictions = np.argmax(SGD_model.predict(X_test),axis = 1)"
   ]
  },
  {
   "cell_type": "code",
   "execution_count": 7,
   "id": "9bc551a0",
   "metadata": {
    "scrolled": true
   },
   "outputs": [
    {
     "data": {
      "text/plain": [
       "array([[ 94,  17],\n",
       "       [ 29, 137]], dtype=int64)"
      ]
     },
     "execution_count": 7,
     "metadata": {},
     "output_type": "execute_result"
    }
   ],
   "source": [
    "cm = confusion_matrix(Y_predictions, Y_test)\n",
    "cm"
   ]
  },
  {
   "cell_type": "code",
   "execution_count": 8,
   "id": "8a83e0bb",
   "metadata": {
    "scrolled": true
   },
   "outputs": [
    {
     "name": "stdout",
     "output_type": "stream",
     "text": [
      "              precision    recall  f1-score   support\n",
      "\n",
      "           0       0.85      0.76      0.80       123\n",
      "           1       0.83      0.89      0.86       154\n",
      "\n",
      "    accuracy                           0.83       277\n",
      "   macro avg       0.84      0.83      0.83       277\n",
      "weighted avg       0.83      0.83      0.83       277\n",
      "\n"
     ]
    }
   ],
   "source": [
    "print(classification_report(Y_test, Y_predictions))"
   ]
  },
  {
   "cell_type": "code",
   "execution_count": 9,
   "id": "163a424b",
   "metadata": {},
   "outputs": [],
   "source": [
    "#SGD_model.save('FL_HD_ANN_85%.h5')"
   ]
  },
  {
   "cell_type": "markdown",
   "id": "f2f54fa3",
   "metadata": {},
   "source": [
    "# Test on each dataset"
   ]
  },
  {
   "cell_type": "code",
   "execution_count": 11,
   "id": "cc6e3982",
   "metadata": {},
   "outputs": [
    {
     "name": "stdout",
     "output_type": "stream",
     "text": [
      "[[36  4]\n",
      " [15 36]]\n",
      "              precision    recall  f1-score   support\n",
      "\n",
      "           0       0.71      0.90      0.79        40\n",
      "           1       0.90      0.71      0.79        51\n",
      "\n",
      "    accuracy                           0.79        91\n",
      "   macro avg       0.80      0.80      0.79        91\n",
      "weighted avg       0.81      0.79      0.79        91\n",
      "\n"
     ]
    }
   ],
   "source": [
    "Y_cle = np.argmax(SGD_model.predict(cle_X_test),axis = 1)\n",
    "cm_cle = confusion_matrix(Y_cle, cle_Y_test_binary)\n",
    "print(cm_cle)\n",
    "print(classification_report(Y_cle, cle_Y_test_binary))"
   ]
  },
  {
   "cell_type": "code",
   "execution_count": 12,
   "id": "517661db",
   "metadata": {},
   "outputs": [
    {
     "name": "stdout",
     "output_type": "stream",
     "text": [
      "[[ 8  7]\n",
      " [ 5 40]]\n",
      "              precision    recall  f1-score   support\n",
      "\n",
      "           0       0.62      0.53      0.57        15\n",
      "           1       0.85      0.89      0.87        45\n",
      "\n",
      "    accuracy                           0.80        60\n",
      "   macro avg       0.73      0.71      0.72        60\n",
      "weighted avg       0.79      0.80      0.80        60\n",
      "\n"
     ]
    }
   ],
   "source": [
    "Y_vir = np.argmax(SGD_model.predict(vir_X_test),axis = 1)\n",
    "cm_vir = confusion_matrix(Y_vir, vir_Y_test_binary)\n",
    "print(cm_vir)\n",
    "print(classification_report(Y_vir, vir_Y_test_binary))"
   ]
  },
  {
   "cell_type": "code",
   "execution_count": 13,
   "id": "1b259589",
   "metadata": {},
   "outputs": [
    {
     "name": "stdout",
     "output_type": "stream",
     "text": [
      "[[50  6]\n",
      " [ 7 26]]\n",
      "              precision    recall  f1-score   support\n",
      "\n",
      "           0       0.88      0.89      0.88        56\n",
      "           1       0.81      0.79      0.80        33\n",
      "\n",
      "    accuracy                           0.85        89\n",
      "   macro avg       0.84      0.84      0.84        89\n",
      "weighted avg       0.85      0.85      0.85        89\n",
      "\n"
     ]
    }
   ],
   "source": [
    "Y_hun = np.argmax(SGD_model.predict(hun_X_test),axis = 1)\n",
    "cm_hun = confusion_matrix(Y_hun, hun_Y_test_binary)\n",
    "print(cm_hun)\n",
    "print(classification_report(Y_hun, hun_Y_test_binary))"
   ]
  },
  {
   "cell_type": "code",
   "execution_count": 14,
   "id": "e21777c5",
   "metadata": {},
   "outputs": [
    {
     "name": "stdout",
     "output_type": "stream",
     "text": [
      "[[ 0  0]\n",
      " [ 2 35]]\n",
      "              precision    recall  f1-score   support\n",
      "\n",
      "           0       0.00      0.00      0.00         0\n",
      "           1       1.00      0.95      0.97        37\n",
      "\n",
      "    accuracy                           0.95        37\n",
      "   macro avg       0.50      0.47      0.49        37\n",
      "weighted avg       1.00      0.95      0.97        37\n",
      "\n"
     ]
    },
    {
     "name": "stderr",
     "output_type": "stream",
     "text": [
      "c:\\users\\votri\\appdata\\local\\programs\\python\\python38\\lib\\site-packages\\sklearn\\metrics\\_classification.py:1318: UndefinedMetricWarning: Recall and F-score are ill-defined and being set to 0.0 in labels with no true samples. Use `zero_division` parameter to control this behavior.\n",
      "  _warn_prf(average, modifier, msg_start, len(result))\n",
      "c:\\users\\votri\\appdata\\local\\programs\\python\\python38\\lib\\site-packages\\sklearn\\metrics\\_classification.py:1318: UndefinedMetricWarning: Recall and F-score are ill-defined and being set to 0.0 in labels with no true samples. Use `zero_division` parameter to control this behavior.\n",
      "  _warn_prf(average, modifier, msg_start, len(result))\n",
      "c:\\users\\votri\\appdata\\local\\programs\\python\\python38\\lib\\site-packages\\sklearn\\metrics\\_classification.py:1318: UndefinedMetricWarning: Recall and F-score are ill-defined and being set to 0.0 in labels with no true samples. Use `zero_division` parameter to control this behavior.\n",
      "  _warn_prf(average, modifier, msg_start, len(result))\n"
     ]
    }
   ],
   "source": [
    "Y_swi = np.argmax(SGD_model.predict(swi_X_test),axis = 1)\n",
    "cm_swi = confusion_matrix(Y_swi, swi_Y_test_binary)\n",
    "print(cm_swi)\n",
    "print(classification_report(Y_swi, swi_Y_test_binary))"
   ]
  }
 ],
 "metadata": {
  "kernelspec": {
   "display_name": "Python 3 (ipykernel)",
   "language": "python",
   "name": "python3"
  },
  "language_info": {
   "codemirror_mode": {
    "name": "ipython",
    "version": 3
   },
   "file_extension": ".py",
   "mimetype": "text/x-python",
   "name": "python",
   "nbconvert_exporter": "python",
   "pygments_lexer": "ipython3",
   "version": "3.8.3"
  }
 },
 "nbformat": 4,
 "nbformat_minor": 5
}
