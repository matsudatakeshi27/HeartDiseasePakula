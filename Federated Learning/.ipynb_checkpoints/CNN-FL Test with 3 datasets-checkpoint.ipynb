{
 "cells": [
  {
   "cell_type": "code",
   "execution_count": 1,
   "id": "b9f37971",
   "metadata": {},
   "outputs": [],
   "source": [
    "import numpy as np\n",
    "import random\n",
    "import cv2\n",
    "import os\n",
    "from imutils import paths\n",
    "from sklearn.preprocessing import LabelBinarizer\n",
    "from sklearn.model_selection import train_test_split\n",
    "from sklearn.utils import shuffle\n",
    "from sklearn.metrics import accuracy_score\n",
    "import pandas as pd\n",
    "\n",
    "import tensorflow as tf\n",
    "from tensorflow.keras.models import Sequenti\n",
    "from tensorflow.keras.layers import Conv1D, MaxPooling1D, Activation, Flatten, Dense, Dropout\n",
    "from tensorflow.keras.optimizers import SGD\n",
    "from tensorflow.keras import backend as K\n",
    "from sklearn.metrics import confusion_matrix, classification_report"
   ]
  },
  {
   "cell_type": "code",
   "execution_count": 2,
   "id": "05fdffd3",
   "metadata": {},
   "outputs": [],
   "source": [
    "#binarize the labels\n",
    "lb = LabelBinarizer()\n",
    "\n",
    "import pandas as pd\n",
    "\n",
    "data_files = ['cle_train.csv','cle_test.csv','hun_train.csv','hun_test.csv','swi_train.csv','swi_test.csv','vir_train.csv','vir_test.csv']\n",
    "\n",
    "datasets = {}\n",
    "\n",
    "for file in data_files:\n",
    "    data = pd.read_csv('../TrainTestData/' + file)\n",
    "    \n",
    "    X = data.iloc[:, :-1]\n",
    "    Y = data.iloc[:, -1]\n",
    "    \n",
    "    Y_binary = Y.apply(lambda x: 1 if x > 0 else 0)\n",
    "    \n",
    "    # Extract the name from the file path\n",
    "    name = file.split('.')[0]\n",
    "    \n",
    "    # Store the dataset components in a dictionary\n",
    "    datasets[name] = {'X': X, 'Y': Y, 'Y_binary': Y_binary}\n",
    "\n",
    "# Unpack the dictionary values in a loop\n",
    "variables = ['cle', 'hun', 'vir', 'swi']\n",
    "train_test = ['train', 'test']\n",
    "\n",
    "for var in variables:\n",
    "    for tt in train_test:\n",
    "        X, Y, Y_binary = datasets[f'{var}_{tt}'].values()\n",
    "        globals()[f'{var}_X_{tt}'] = X\n",
    "        globals()[f'{var}_Y_{tt}'] = Y\n",
    "        globals()[f'{var}_Y_{tt}_binary'] = Y_binary"
   ]
  },
  {
   "cell_type": "code",
   "execution_count": 3,
   "id": "8171119e",
   "metadata": {},
   "outputs": [],
   "source": [
    "X_test = pd.concat([cle_X_test,hun_X_test,vir_X_test, swi_X_test, swi_X_train])\n",
    "y_test = pd.concat([cle_Y_test_binary,hun_Y_test_binary,vir_Y_test_binary,swi_Y_test_binary,swi_Y_train_binary])\n",
    "\n",
    "X_train = pd.concat([cle_X_train,hun_X_train,vir_X_train])\n",
    "y_train = pd.concat([cle_Y_train_binary,hun_Y_train_binary,vir_Y_train_binary])"
   ]
  },
  {
   "cell_type": "code",
   "execution_count": 4,
   "id": "3fc05e42",
   "metadata": {},
   "outputs": [],
   "source": [
    "def create_clients():\n",
    "    cle_zip = list(zip(cle_X_train.values,cle_Y_train_binary))\n",
    "    hun_zip = list(zip(hun_X_train.values,hun_Y_train_binary))\n",
    "    vir_zip = list(zip(vir_X_train.values,vir_Y_train_binary))\n",
    "    #swi_zip = list(zip(swi_X_train.values,swi_Y_train_binary))\n",
    "    \n",
    "    shards = [cle_zip, hun_zip, vir_zip]\n",
    "    client_names = [\"client_1\",\"client_2\",\"client_3\"]\n",
    "    dic = {client_names[i] : shards[i] for i in range(len(client_names))}\n",
    "    return dic\n",
    "\n",
    "\n",
    "def batch_data(data_shard, bs=32):\n",
    "    '''Takes in a clients data shard and create a tfds object off it\n",
    "    args:\n",
    "        shard: a data, label constituting a client's data shard\n",
    "        bs:batch size\n",
    "    return:\n",
    "        tfds object'''\n",
    "    #seperate shard into data and labels lists\n",
    "    data, label = zip(*data_shard)\n",
    "    dataset = tf.data.Dataset.from_tensor_slices((list(data), list(label)))\n",
    "    return dataset.shuffle(len(label)).batch(bs)\n",
    "\n",
    "\n",
    "class CNN:\n",
    "    @staticmethod\n",
    "    def build(shape, classes):\n",
    "        model = Sequential()\n",
    "        model.add(Conv1D(filters=64, kernel_size=3, activation='relu', input_shape=(22,1)))\n",
    "        model.add(Conv1D(filters=64, kernel_size=3, activation='relu'))\n",
    "        model.add(MaxPooling1D(pool_size=2))\n",
    "\n",
    "        model.add(Conv1D(filters=128, kernel_size=3, activation='relu'))\n",
    "        model.add(MaxPooling1D(pool_size=2))\n",
    "\n",
    "        model.add(Flatten())\n",
    "        model.add(Dense(256, activation='relu'))\n",
    "        model.add(Dense(2, activation='sigmoid'))\n",
    "\n",
    "        model.compile(loss='sparse_categorical_crossentropy', optimizer='adam', metrics=['accuracy'])\n",
    "        return model\n",
    "    \n",
    "\n",
    "def weight_scalling_factor(clients_trn_data, client_name):\n",
    "    client_names = list(clients_trn_data.keys())\n",
    "    #get the bs\n",
    "    bs = list(clients_trn_data[client_name])[0][0].shape[0]\n",
    "    #first calculate the total training data points across clinets\n",
    "    global_count = sum([tf.data.experimental.cardinality(clients_trn_data[client_name]).numpy() for client_name in client_names])*bs\n",
    "    # get the total number of data points held by a client\n",
    "    local_count = tf.data.experimental.cardinality(clients_trn_data[client_name]).numpy()*bs\n",
    "    return local_count/global_count\n",
    "\n",
    "\n",
    "def scale_model_weights(weight, scalar):\n",
    "    '''function for scaling a models weights'''\n",
    "    weight_final = []\n",
    "    steps = len(weight)\n",
    "    for i in range(steps):\n",
    "        weight_final.append(scalar * weight[i])\n",
    "    return weight_final\n",
    "\n",
    "\n",
    "def sum_scaled_weights(scaled_weight_list):\n",
    "    '''Return the sum of the listed scaled weights. The is equivalent to scaled avg of the weights'''\n",
    "    avg_grad = list()\n",
    "    #get the average grad accross all client gradients\n",
    "    for grad_list_tuple in zip(*scaled_weight_list):\n",
    "        layer_mean = tf.math.reduce_sum(grad_list_tuple, axis=0)\n",
    "        avg_grad.append(layer_mean)\n",
    "        \n",
    "    return avg_grad\n",
    "\n",
    "\n",
    "def test_model(X_test, Y_test,  model, comm_round):\n",
    "    cce = tf.keras.losses.SparseCategoricalCrossentropy(from_logits=True)\n",
    "    #logits = model.predict(X_test, batch_size=100)\n",
    "    logits = model.predict(X_test)\n",
    "    length = len(y_test)\n",
    "    Y_test = tf.reshape(Y_test,(length,1))\n",
    "    loss = cce(Y_test, logits)\n",
    "    acc = accuracy_score(tf.argmax(logits, axis=1), Y_test)\n",
    "    print('comm_round: {} | global_acc: {:.3%} | global_loss: {}'.format(comm_round, acc, loss))\n",
    "    return acc, loss"
   ]
  },
  {
   "cell_type": "code",
   "execution_count": 5,
   "id": "c94fcc46",
   "metadata": {
    "scrolled": true
   },
   "outputs": [
    {
     "name": "stderr",
     "output_type": "stream",
     "text": [
      "c:\\users\\votri\\appdata\\local\\programs\\python\\python38\\lib\\site-packages\\keras\\optimizer_v2\\gradient_descent.py:102: UserWarning: The `lr` argument is deprecated, use `learning_rate` instead.\n",
      "  super(SGD, self).__init__(name, **kwargs)\n"
     ]
    },
    {
     "name": "stdout",
     "output_type": "stream",
     "text": [
      "comm_round: 0 | global_acc: 70.417% | global_loss: 0.6914292573928833\n",
      "comm_round: 1 | global_acc: 74.167% | global_loss: 0.6906634569168091\n",
      "comm_round: 2 | global_acc: 76.250% | global_loss: 0.6899266839027405\n",
      "comm_round: 3 | global_acc: 74.167% | global_loss: 0.6893628239631653\n",
      "comm_round: 4 | global_acc: 73.333% | global_loss: 0.6887772679328918\n",
      "comm_round: 5 | global_acc: 73.750% | global_loss: 0.6881236433982849\n",
      "comm_round: 6 | global_acc: 74.167% | global_loss: 0.6874836087226868\n",
      "comm_round: 7 | global_acc: 77.083% | global_loss: 0.6868082880973816\n",
      "comm_round: 8 | global_acc: 76.250% | global_loss: 0.6861668825149536\n",
      "comm_round: 9 | global_acc: 76.667% | global_loss: 0.6854021549224854\n",
      "comm_round: 10 | global_acc: 76.250% | global_loss: 0.6845592260360718\n",
      "comm_round: 11 | global_acc: 76.250% | global_loss: 0.6837543249130249\n",
      "comm_round: 12 | global_acc: 76.250% | global_loss: 0.6829574704170227\n",
      "comm_round: 13 | global_acc: 75.833% | global_loss: 0.6820806860923767\n",
      "comm_round: 14 | global_acc: 76.667% | global_loss: 0.6811535954475403\n",
      "comm_round: 15 | global_acc: 75.833% | global_loss: 0.6802257895469666\n",
      "comm_round: 16 | global_acc: 76.667% | global_loss: 0.6791989803314209\n",
      "comm_round: 17 | global_acc: 75.417% | global_loss: 0.678054928779602\n",
      "comm_round: 18 | global_acc: 76.667% | global_loss: 0.6769503355026245\n",
      "comm_round: 19 | global_acc: 76.667% | global_loss: 0.6757805943489075\n",
      "comm_round: 20 | global_acc: 76.250% | global_loss: 0.6744307279586792\n",
      "comm_round: 21 | global_acc: 75.833% | global_loss: 0.6730526089668274\n",
      "comm_round: 22 | global_acc: 75.833% | global_loss: 0.6716712713241577\n",
      "comm_round: 23 | global_acc: 75.833% | global_loss: 0.6700478792190552\n",
      "comm_round: 24 | global_acc: 75.833% | global_loss: 0.6683909296989441\n",
      "comm_round: 25 | global_acc: 76.250% | global_loss: 0.6666863560676575\n",
      "comm_round: 26 | global_acc: 76.250% | global_loss: 0.6649062037467957\n",
      "comm_round: 27 | global_acc: 75.833% | global_loss: 0.6630925536155701\n",
      "comm_round: 28 | global_acc: 76.667% | global_loss: 0.6612480282783508\n",
      "comm_round: 29 | global_acc: 77.083% | global_loss: 0.6592397093772888\n",
      "comm_round: 30 | global_acc: 75.833% | global_loss: 0.6569411158561707\n",
      "comm_round: 31 | global_acc: 77.083% | global_loss: 0.6547787189483643\n",
      "comm_round: 32 | global_acc: 77.083% | global_loss: 0.6524035334587097\n",
      "comm_round: 33 | global_acc: 75.833% | global_loss: 0.6496951580047607\n",
      "comm_round: 34 | global_acc: 77.083% | global_loss: 0.6472914218902588\n",
      "comm_round: 35 | global_acc: 76.250% | global_loss: 0.6444700956344604\n",
      "comm_round: 36 | global_acc: 77.083% | global_loss: 0.641470730304718\n",
      "comm_round: 37 | global_acc: 76.667% | global_loss: 0.6387882232666016\n",
      "comm_round: 38 | global_acc: 77.500% | global_loss: 0.6357178092002869\n",
      "comm_round: 39 | global_acc: 77.500% | global_loss: 0.6329094171524048\n",
      "comm_round: 40 | global_acc: 77.083% | global_loss: 0.6298202872276306\n",
      "comm_round: 41 | global_acc: 77.500% | global_loss: 0.6271119713783264\n",
      "comm_round: 42 | global_acc: 78.333% | global_loss: 0.6243399381637573\n",
      "comm_round: 43 | global_acc: 78.333% | global_loss: 0.621383547782898\n",
      "comm_round: 44 | global_acc: 78.750% | global_loss: 0.6186316013336182\n",
      "comm_round: 45 | global_acc: 79.167% | global_loss: 0.6157916188240051\n",
      "comm_round: 46 | global_acc: 80.000% | global_loss: 0.6134217977523804\n",
      "comm_round: 47 | global_acc: 78.750% | global_loss: 0.6114259362220764\n",
      "comm_round: 48 | global_acc: 78.750% | global_loss: 0.6090062260627747\n",
      "comm_round: 49 | global_acc: 78.333% | global_loss: 0.6069665551185608\n",
      "comm_round: 50 | global_acc: 81.250% | global_loss: 0.603524923324585\n",
      "comm_round: 51 | global_acc: 79.583% | global_loss: 0.6017053127288818\n",
      "comm_round: 52 | global_acc: 81.250% | global_loss: 0.599574089050293\n",
      "comm_round: 53 | global_acc: 80.417% | global_loss: 0.5972318649291992\n",
      "comm_round: 54 | global_acc: 81.250% | global_loss: 0.5952171087265015\n",
      "comm_round: 55 | global_acc: 80.000% | global_loss: 0.5933026671409607\n",
      "comm_round: 56 | global_acc: 80.000% | global_loss: 0.591955840587616\n",
      "comm_round: 57 | global_acc: 83.333% | global_loss: 0.5902442932128906\n",
      "comm_round: 58 | global_acc: 81.250% | global_loss: 0.5883053541183472\n",
      "comm_round: 59 | global_acc: 80.000% | global_loss: 0.5872747898101807\n",
      "comm_round: 60 | global_acc: 80.833% | global_loss: 0.5857788324356079\n",
      "comm_round: 61 | global_acc: 81.667% | global_loss: 0.5836165547370911\n",
      "comm_round: 62 | global_acc: 83.333% | global_loss: 0.5833719968795776\n",
      "comm_round: 63 | global_acc: 82.083% | global_loss: 0.5820608139038086\n",
      "comm_round: 64 | global_acc: 81.250% | global_loss: 0.5811282396316528\n",
      "comm_round: 65 | global_acc: 81.667% | global_loss: 0.5799111723899841\n",
      "comm_round: 66 | global_acc: 81.667% | global_loss: 0.5790704488754272\n",
      "comm_round: 67 | global_acc: 81.667% | global_loss: 0.5775892734527588\n",
      "comm_round: 68 | global_acc: 83.750% | global_loss: 0.5769404768943787\n",
      "comm_round: 69 | global_acc: 80.417% | global_loss: 0.577168881893158\n",
      "comm_round: 70 | global_acc: 83.750% | global_loss: 0.5753096342086792\n",
      "comm_round: 71 | global_acc: 81.667% | global_loss: 0.5744210481643677\n",
      "comm_round: 72 | global_acc: 83.750% | global_loss: 0.5735680460929871\n",
      "comm_round: 73 | global_acc: 82.083% | global_loss: 0.573047399520874\n",
      "comm_round: 74 | global_acc: 83.750% | global_loss: 0.5721240639686584\n",
      "comm_round: 75 | global_acc: 83.750% | global_loss: 0.5705521106719971\n",
      "comm_round: 76 | global_acc: 82.500% | global_loss: 0.5698146224021912\n",
      "comm_round: 77 | global_acc: 84.167% | global_loss: 0.569579005241394\n",
      "comm_round: 78 | global_acc: 84.167% | global_loss: 0.5688623189926147\n",
      "comm_round: 79 | global_acc: 84.583% | global_loss: 0.5687571167945862\n",
      "comm_round: 80 | global_acc: 82.917% | global_loss: 0.569037139415741\n",
      "comm_round: 81 | global_acc: 84.167% | global_loss: 0.5676423907279968\n",
      "comm_round: 82 | global_acc: 83.333% | global_loss: 0.5673938393592834\n",
      "comm_round: 83 | global_acc: 85.000% | global_loss: 0.5667763948440552\n",
      "comm_round: 84 | global_acc: 85.417% | global_loss: 0.5662333369255066\n",
      "comm_round: 85 | global_acc: 84.167% | global_loss: 0.5661007165908813\n",
      "comm_round: 86 | global_acc: 84.167% | global_loss: 0.5652310252189636\n",
      "comm_round: 87 | global_acc: 83.333% | global_loss: 0.5657535791397095\n",
      "comm_round: 88 | global_acc: 84.583% | global_loss: 0.5641568899154663\n",
      "comm_round: 89 | global_acc: 85.417% | global_loss: 0.5641923546791077\n",
      "comm_round: 90 | global_acc: 85.000% | global_loss: 0.5640036463737488\n",
      "comm_round: 91 | global_acc: 84.583% | global_loss: 0.5631478428840637\n",
      "comm_round: 92 | global_acc: 85.000% | global_loss: 0.5631177425384521\n",
      "comm_round: 93 | global_acc: 85.000% | global_loss: 0.562872588634491\n",
      "comm_round: 94 | global_acc: 84.167% | global_loss: 0.5635977387428284\n",
      "comm_round: 95 | global_acc: 85.417% | global_loss: 0.5623681545257568\n",
      "comm_round: 96 | global_acc: 85.000% | global_loss: 0.5619982481002808\n",
      "comm_round: 97 | global_acc: 85.000% | global_loss: 0.562045156955719\n",
      "comm_round: 98 | global_acc: 85.417% | global_loss: 0.5626024603843689\n",
      "comm_round: 99 | global_acc: 84.167% | global_loss: 0.562916100025177\n",
      "comm_round: 1 | global_acc: 82.917% | global_loss: 0.5571937561035156\n"
     ]
    }
   ],
   "source": [
    "#create clients\n",
    "clients = create_clients()\n",
    "\n",
    "#process and batch the training data for each client\n",
    "clients_batched = dict()\n",
    "for (client_name, data) in clients.items():\n",
    "    clients_batched[client_name] = batch_data(data)\n",
    "    \n",
    "#process and batch the test set  \n",
    "test_batched = tf.data.Dataset.from_tensor_slices((X_test, y_test)).batch(len(y_test))\n",
    "\n",
    "comms_round = 100\n",
    "    \n",
    "#create optimizer\n",
    "lr = 0.01 \n",
    "loss='sparse_categorical_crossentropy'\n",
    "metrics = ['accuracy']\n",
    "optimizer = tf.keras.optimizers.SGD(lr=lr, decay=lr / comms_round, momentum=0.9) \n",
    "\n",
    "#initialize global model\n",
    "smlp_global = CNN()\n",
    "global_model = smlp_global.build(22, 2)\n",
    "        \n",
    "#commence global training loop\n",
    "for comm_round in range(comms_round):\n",
    "            \n",
    "    # get the global model's weights - will serve as the initial weights for all local models\n",
    "    global_weights = global_model.get_weights()\n",
    "    \n",
    "    #initial list to collect local model weights after scalling\n",
    "    scaled_local_weight_list = list()\n",
    "\n",
    "    #randomize client data - using keys\n",
    "    client_names= list(clients_batched.keys())\n",
    "    random.shuffle(client_names)\n",
    "    \n",
    "    #loop through each client and create new local model\n",
    "    for client in client_names:\n",
    "        smlp_local = CNN()\n",
    "        local_model = smlp_local.build(22, 2)\n",
    "        local_model.compile(loss=loss, \n",
    "                      optimizer=optimizer, \n",
    "                      metrics=metrics)\n",
    "        \n",
    "        #set local model weight to the weight of the global model\n",
    "        local_model.set_weights(global_weights)\n",
    "        \n",
    "        #fit local model with client's data\n",
    "        local_model.fit(clients_batched[client], epochs=1, verbose=0)\n",
    "        \n",
    "        #scale the model weights and add to list\n",
    "        scaling_factor = weight_scalling_factor(clients_batched, client)\n",
    "        scaled_weights = scale_model_weights(local_model.get_weights(), scaling_factor)\n",
    "        scaled_local_weight_list.append(scaled_weights)\n",
    "        \n",
    "        #clear session to free memory after each communication round\n",
    "        K.clear_session()\n",
    "        \n",
    "    #to get the average over all the local model, we simply take the sum of the scaled weights\n",
    "    average_weights = sum_scaled_weights(scaled_local_weight_list)\n",
    "    \n",
    "    #update global model \n",
    "    global_model.set_weights(average_weights)\n",
    "\n",
    "    #test global model and print out metrics after each communications round\n",
    "    for(X_test, Y_test) in test_batched:\n",
    "        global_acc, global_loss = test_model(X_test, Y_test, global_model, comm_round)\n",
    "        SGD_dataset = tf.data.Dataset.from_tensor_slices((X_train, y_train)).shuffle(len(y_train)).batch(250)\n",
    "        smlp_SGD = CNN()\n",
    "        SGD_model = smlp_SGD.build(22, 2) \n",
    "\n",
    "        SGD_model.compile(loss=loss, optimizer=optimizer, metrics=metrics)\n",
    "\n",
    "# fit the SGD training data to model\n",
    "_ = SGD_model.fit(SGD_dataset, epochs=100, verbose=0)\n",
    "\n",
    "#test the SGD global model and print out metrics\n",
    "for(X_test, Y_test) in test_batched:\n",
    "        SGD_acc, SGD_loss = test_model(X_test, Y_test, SGD_model, 1)"
   ]
  },
  {
   "cell_type": "code",
   "execution_count": 6,
   "id": "9b13ff1f",
   "metadata": {},
   "outputs": [],
   "source": [
    "Y_predictions = np.argmax(SGD_model.predict(X_test),axis = 1)"
   ]
  },
  {
   "cell_type": "code",
   "execution_count": 7,
   "id": "9bc551a0",
   "metadata": {
    "scrolled": true
   },
   "outputs": [
    {
     "data": {
      "text/plain": [
       "array([[ 93,  13],\n",
       "       [ 28, 106]], dtype=int64)"
      ]
     },
     "execution_count": 7,
     "metadata": {},
     "output_type": "execute_result"
    }
   ],
   "source": [
    "cm = confusion_matrix(Y_predictions, Y_test)\n",
    "cm"
   ]
  },
  {
   "cell_type": "code",
   "execution_count": 8,
   "id": "8a83e0bb",
   "metadata": {},
   "outputs": [
    {
     "name": "stdout",
     "output_type": "stream",
     "text": [
      "              precision    recall  f1-score   support\n",
      "\n",
      "           0       0.88      0.77      0.82       121\n",
      "           1       0.79      0.89      0.84       119\n",
      "\n",
      "    accuracy                           0.83       240\n",
      "   macro avg       0.83      0.83      0.83       240\n",
      "weighted avg       0.83      0.83      0.83       240\n",
      "\n"
     ]
    }
   ],
   "source": [
    "print(classification_report(Y_test, Y_predictions))"
   ]
  },
  {
   "cell_type": "markdown",
   "id": "56495b0e",
   "metadata": {},
   "source": [
    "# Testing on each dataset"
   ]
  },
  {
   "cell_type": "code",
   "execution_count": 9,
   "id": "ec02651a",
   "metadata": {
    "scrolled": true
   },
   "outputs": [
    {
     "name": "stdout",
     "output_type": "stream",
     "text": [
      "[[40  4]\n",
      " [11 36]]\n",
      "              precision    recall  f1-score   support\n",
      "\n",
      "           0       0.78      0.91      0.84        44\n",
      "           1       0.90      0.77      0.83        47\n",
      "\n",
      "    accuracy                           0.84        91\n",
      "   macro avg       0.84      0.84      0.83        91\n",
      "weighted avg       0.84      0.84      0.83        91\n",
      "\n"
     ]
    }
   ],
   "source": [
    "Y_cle = np.argmax(SGD_model.predict(cle_X_test),axis = 1)\n",
    "cm_cle = confusion_matrix(Y_cle, cle_Y_test_binary)\n",
    "print(cm_cle)\n",
    "print(classification_report(Y_cle, cle_Y_test_binary))"
   ]
  },
  {
   "cell_type": "code",
   "execution_count": 10,
   "id": "87b7cedd",
   "metadata": {},
   "outputs": [
    {
     "name": "stdout",
     "output_type": "stream",
     "text": [
      "[0, 9, 10, 19, 28, 32, 38, 43, 46, 53, 67, 68, 69, 70, 77]\n"
     ]
    }
   ],
   "source": [
    "mismatch = [i for i, (a,b) in enumerate(zip(Y_cle, cle_Y_test_binary)) if a != b]\n",
    "print(mismatch)"
   ]
  },
  {
   "cell_type": "code",
   "execution_count": 11,
   "id": "b2d4cc1c",
   "metadata": {
    "scrolled": true
   },
   "outputs": [
    {
     "name": "stdout",
     "output_type": "stream",
     "text": [
      "[[ 3  4]\n",
      " [10 43]]\n",
      "              precision    recall  f1-score   support\n",
      "\n",
      "           0       0.23      0.43      0.30         7\n",
      "           1       0.91      0.81      0.86        53\n",
      "\n",
      "    accuracy                           0.77        60\n",
      "   macro avg       0.57      0.62      0.58        60\n",
      "weighted avg       0.84      0.77      0.79        60\n",
      "\n"
     ]
    }
   ],
   "source": [
    "Y_vir = np.argmax(SGD_model.predict(vir_X_test),axis = 1)\n",
    "cm_vir = confusion_matrix(Y_vir, vir_Y_test_binary)\n",
    "print(cm_vir)\n",
    "print(classification_report(Y_vir, vir_Y_test_binary))"
   ]
  },
  {
   "cell_type": "code",
   "execution_count": 12,
   "id": "625cfaa5",
   "metadata": {},
   "outputs": [
    {
     "name": "stdout",
     "output_type": "stream",
     "text": [
      "[3, 6, 11, 14, 22, 32, 34, 40, 48, 49, 52, 56, 57, 58]\n"
     ]
    }
   ],
   "source": [
    "mismatch = [i for i, (a,b) in enumerate(zip(Y_vir, vir_Y_test_binary)) if a != b]\n",
    "print(mismatch)"
   ]
  },
  {
   "cell_type": "code",
   "execution_count": 13,
   "id": "9c031520",
   "metadata": {
    "scrolled": true
   },
   "outputs": [
    {
     "name": "stdout",
     "output_type": "stream",
     "text": [
      "[[50  5]\n",
      " [ 7 27]]\n",
      "              precision    recall  f1-score   support\n",
      "\n",
      "           0       0.88      0.91      0.89        55\n",
      "           1       0.84      0.79      0.82        34\n",
      "\n",
      "    accuracy                           0.87        89\n",
      "   macro avg       0.86      0.85      0.86        89\n",
      "weighted avg       0.86      0.87      0.86        89\n",
      "\n"
     ]
    }
   ],
   "source": [
    "Y_hun = np.argmax(SGD_model.predict(hun_X_test),axis = 1)\n",
    "cm_hun = confusion_matrix(Y_hun, hun_Y_test_binary)\n",
    "print(cm_hun)\n",
    "print(classification_report(Y_hun, hun_Y_test_binary))"
   ]
  },
  {
   "cell_type": "code",
   "execution_count": 14,
   "id": "ec7ffbc9",
   "metadata": {},
   "outputs": [
    {
     "name": "stdout",
     "output_type": "stream",
     "text": [
      "[12, 13, 14, 23, 29, 36, 42, 45, 46, 54, 73, 85]\n"
     ]
    }
   ],
   "source": [
    "mismatch = [i for i, (a,b) in enumerate(zip(Y_hun, hun_Y_test_binary)) if a != b]\n",
    "print(mismatch)"
   ]
  },
  {
   "cell_type": "code",
   "execution_count": 15,
   "id": "2e837211",
   "metadata": {
    "scrolled": true
   },
   "outputs": [],
   "source": [
    "#Y_swi = np.argmax(SGD_model.predict(swi_X_test),axis = 1)\n",
    "#cm_swi = confusion_matrix(Y_swi, swi_Y_test_binary)\n",
    "#print(cm_swi)\n",
    "#print(classification_report(Y_swi, swi_Y_test_binary))"
   ]
  },
  {
   "cell_type": "code",
   "execution_count": 16,
   "id": "805b6caf",
   "metadata": {},
   "outputs": [],
   "source": [
    "#mismatch = [i for i, (a,b) in enumerate(zip(Y_swi, swi_Y_test_binary)) if a != b]\n",
    "#print(mismatch)"
   ]
  }
 ],
 "metadata": {
  "kernelspec": {
   "display_name": "Python 3 (ipykernel)",
   "language": "python",
   "name": "python3"
  },
  "language_info": {
   "codemirror_mode": {
    "name": "ipython",
    "version": 3
   },
   "file_extension": ".py",
   "mimetype": "text/x-python",
   "name": "python",
   "nbconvert_exporter": "python",
   "pygments_lexer": "ipython3",
   "version": "3.8.3"
  }
 },
 "nbformat": 4,
 "nbformat_minor": 5
}
