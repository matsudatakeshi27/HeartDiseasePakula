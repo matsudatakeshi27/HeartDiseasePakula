{
 "cells": [
  {
   "cell_type": "code",
   "execution_count": 1,
   "id": "b9f37971",
   "metadata": {},
   "outputs": [],
   "source": [
    "import numpy as np\n",
    "import random\n",
    "import cv2\n",
    "import os\n",
    "from imutils import paths\n",
    "from sklearn.preprocessing import LabelBinarizer\n",
    "from sklearn.model_selection import train_test_split\n",
    "from sklearn.utils import shuffle\n",
    "from sklearn.metrics import accuracy_score\n",
    "import pandas as pd\n",
    "\n",
    "import tensorflow as tf\n",
    "from tensorflow.keras.models import Sequential\n",
    "from tensorflow.keras.layers import Conv1D, MaxPooling1D, Activation, Flatten, Dense, Dropout\n",
    "from tensorflow.keras.optimizers import SGD\n",
    "from tensorflow.keras import backend as K\n",
    "from sklearn.metrics import confusion_matrix, classification_report"
   ]
  },
  {
   "cell_type": "code",
   "execution_count": 2,
   "id": "05fdffd3",
   "metadata": {},
   "outputs": [],
   "source": [
    "#binarize the labels\n",
    "lb = LabelBinarizer()\n",
    "\n",
    "import pandas as pd\n",
    "\n",
    "data_files = ['cle_train.csv','cle_test.csv','hun_train.csv','hun_test.csv','swi_train.csv','swi_test.csv','vir_train.csv','vir_test.csv']\n",
    "\n",
    "datasets = {}\n",
    "\n",
    "for file in data_files:\n",
    "    data = pd.read_csv('../TrainTestData/' + file)\n",
    "    \n",
    "    X = data.iloc[:, :-1]\n",
    "    Y = data.iloc[:, -1]\n",
    "    \n",
    "    Y_binary = Y.apply(lambda x: 1 if x > 0 else 0)\n",
    "    \n",
    "    # Extract the name from the file path\n",
    "    name = file.split('.')[0]\n",
    "    \n",
    "    # Store the dataset components in a dictionary\n",
    "    datasets[name] = {'X': X, 'Y': Y, 'Y_binary': Y_binary}\n",
    "\n",
    "# Unpack the dictionary values in a loop\n",
    "variables = ['cle', 'hun', 'swi', 'vir']\n",
    "train_test = ['train', 'test']\n",
    "\n",
    "for var in variables:\n",
    "    for tt in train_test:\n",
    "        X, Y, Y_binary = datasets[f'{var}_{tt}'].values()\n",
    "        globals()[f'{var}_X_{tt}'] = X\n",
    "        globals()[f'{var}_Y_{tt}'] = Y\n",
    "        globals()[f'{var}_Y_{tt}_binary'] = Y_binary"
   ]
  },
  {
   "cell_type": "code",
   "execution_count": 3,
   "id": "8171119e",
   "metadata": {},
   "outputs": [],
   "source": [
    "X_test = pd.concat([cle_X_test,hun_X_test,swi_X_test,vir_X_test])\n",
    "y_test = pd.concat([cle_Y_test_binary,hun_Y_test_binary,swi_Y_test_binary,vir_Y_test_binary])\n",
    "\n",
    "X_train = pd.concat([cle_X_train,hun_X_train,swi_X_train,vir_X_train])\n",
    "y_train = pd.concat([cle_Y_train_binary,hun_Y_train_binary,swi_Y_train_binary,vir_Y_train_binary])"
   ]
  },
  {
   "cell_type": "code",
   "execution_count": 4,
   "id": "3fc05e42",
   "metadata": {},
   "outputs": [],
   "source": [
    "def create_clients():\n",
    "    cle_zip = list(zip(cle_X_train.values,cle_Y_train_binary))\n",
    "    hun_zip = list(zip(hun_X_train.values,hun_Y_train_binary))\n",
    "    vir_zip = list(zip(vir_X_train.values,vir_Y_train_binary))\n",
    "    swi_zip = list(zip(swi_X_train.values,swi_Y_train_binary))\n",
    "    \n",
    "    shards = [cle_zip, hun_zip, vir_zip,swi_zip]\n",
    "    client_names = [\"client_1\",\"client_2\",\"client_3\",\"client_4\"]\n",
    "    dic = {client_names[i] : shards[i] for i in range(len(client_names))}\n",
    "    return dic\n",
    "\n",
    "\n",
    "def batch_data(data_shard, bs=32):\n",
    "    '''Takes in a clients data shard and create a tfds object off it\n",
    "    args:\n",
    "        shard: a data, label constituting a client's data shard\n",
    "        bs:batch size\n",
    "    return:\n",
    "        tfds object'''\n",
    "    #seperate shard into data and labels lists\n",
    "    data, label = zip(*data_shard)\n",
    "    dataset = tf.data.Dataset.from_tensor_slices((list(data), list(label)))\n",
    "    return dataset.shuffle(len(label)).batch(bs)\n",
    "\n",
    "\n",
    "class DNN:\n",
    "    @staticmethod\n",
    "    def build(shape, classes):\n",
    "\n",
    "        model = Sequential()\n",
    "        model.add(Dense(64, input_shape=(22,), activation='relu'))\n",
    "        model.add(Dense(128, activation='relu'))\n",
    "        model.add(Dense(256, activation='relu'))\n",
    "        model.add(Dense(2, activation='sigmoid'))\n",
    "\n",
    "        model.compile(loss='sparse_categorical_crossentropy', optimizer='adam', metrics=['accuracy'])\n",
    "        return model\n",
    "    \n",
    "\n",
    "def weight_scalling_factor(clients_trn_data, client_name):\n",
    "    client_names = list(clients_trn_data.keys())\n",
    "    #get the bs\n",
    "    bs = list(clients_trn_data[client_name])[0][0].shape[0]\n",
    "    #first calculate the total training data points across clinets\n",
    "    global_count = sum([tf.data.experimental.cardinality(clients_trn_data[client_name]).numpy() for client_name in client_names])*bs\n",
    "    # get the total number of data points held by a client\n",
    "    local_count = tf.data.experimental.cardinality(clients_trn_data[client_name]).numpy()*bs\n",
    "    return local_count/global_count\n",
    "\n",
    "\n",
    "def scale_model_weights(weight, scalar):\n",
    "    '''function for scaling a models weights'''\n",
    "    weight_final = []\n",
    "    steps = len(weight)\n",
    "    for i in range(steps):\n",
    "        weight_final.append(scalar * weight[i])\n",
    "    return weight_final\n",
    "\n",
    "\n",
    "def sum_scaled_weights(scaled_weight_list):\n",
    "    '''Return the sum of the listed scaled weights. The is equivalent to scaled avg of the weights'''\n",
    "    avg_grad = list()\n",
    "    #get the average grad accross all client gradients\n",
    "    for grad_list_tuple in zip(*scaled_weight_list):\n",
    "        layer_mean = tf.math.reduce_sum(grad_list_tuple, axis=0)\n",
    "        avg_grad.append(layer_mean)\n",
    "        \n",
    "    return avg_grad\n",
    "\n",
    "\n",
    "def test_model(X_test, Y_test,  model, comm_round):\n",
    "    cce = tf.keras.losses.SparseCategoricalCrossentropy(from_logits=True)\n",
    "    #logits = model.predict(X_test, batch_size=100)\n",
    "    logits = model.predict(X_test)\n",
    "    length = len(y_test)\n",
    "    Y_test = tf.reshape(Y_test,(length,1))\n",
    "    loss = cce(Y_test, logits)\n",
    "    acc = accuracy_score(tf.argmax(logits, axis=1), Y_test)\n",
    "    print('comm_round: {} | global_acc: {:.3%} | global_loss: {}'.format(comm_round, acc, loss))\n",
    "    return acc, loss"
   ]
  },
  {
   "cell_type": "code",
   "execution_count": 5,
   "id": "c94fcc46",
   "metadata": {
    "scrolled": true
   },
   "outputs": [
    {
     "name": "stderr",
     "output_type": "stream",
     "text": [
      "D:\\Anaconda\\envs\\GPU\\lib\\site-packages\\keras\\optimizers\\legacy\\gradient_descent.py:114: UserWarning: The `lr` argument is deprecated, use `learning_rate` instead.\n",
      "  super().__init__(name, **kwargs)\n"
     ]
    },
    {
     "name": "stdout",
     "output_type": "stream",
     "text": [
      "9/9 [==============================] - 0s 750us/step\n",
      "comm_round: 0 | global_acc: 70.758% | global_loss: 0.6854538917541504\n",
      "9/9 [==============================] - 0s 625us/step\n",
      "comm_round: 1 | global_acc: 79.061% | global_loss: 0.6804894804954529\n",
      "9/9 [==============================] - 0s 750us/step\n",
      "comm_round: 2 | global_acc: 79.061% | global_loss: 0.6756334900856018\n",
      "9/9 [==============================] - 0s 752us/step\n",
      "comm_round: 3 | global_acc: 79.422% | global_loss: 0.6705135703086853\n",
      "9/9 [==============================] - 0s 625us/step\n",
      "comm_round: 4 | global_acc: 81.227% | global_loss: 0.6654118299484253\n",
      "9/9 [==============================] - 0s 750us/step\n",
      "comm_round: 5 | global_acc: 83.032% | global_loss: 0.6599116921424866\n",
      "9/9 [==============================] - 0s 625us/step\n",
      "comm_round: 6 | global_acc: 83.032% | global_loss: 0.6538342237472534\n",
      "9/9 [==============================] - 0s 875us/step\n",
      "comm_round: 7 | global_acc: 82.310% | global_loss: 0.6479371190071106\n",
      "9/9 [==============================] - 0s 750us/step\n",
      "comm_round: 8 | global_acc: 83.755% | global_loss: 0.6407933831214905\n",
      "9/9 [==============================] - 0s 750us/step\n",
      "comm_round: 9 | global_acc: 83.755% | global_loss: 0.6340617537498474\n",
      "9/9 [==============================] - 0s 750us/step\n",
      "comm_round: 10 | global_acc: 83.755% | global_loss: 0.62733393907547\n",
      "9/9 [==============================] - 0s 625us/step\n",
      "comm_round: 11 | global_acc: 83.755% | global_loss: 0.6205766797065735\n",
      "9/9 [==============================] - 0s 750us/step\n",
      "comm_round: 12 | global_acc: 84.116% | global_loss: 0.614094614982605\n",
      "9/9 [==============================] - 0s 750us/step\n",
      "comm_round: 13 | global_acc: 84.838% | global_loss: 0.6076794862747192\n",
      "9/9 [==============================] - 0s 625us/step\n",
      "comm_round: 14 | global_acc: 85.199% | global_loss: 0.6019018888473511\n",
      "9/9 [==============================] - 0s 625us/step\n",
      "comm_round: 15 | global_acc: 85.199% | global_loss: 0.5962982773780823\n",
      "9/9 [==============================] - 0s 625us/step\n",
      "comm_round: 16 | global_acc: 85.199% | global_loss: 0.5911483764648438\n",
      "9/9 [==============================] - 0s 625us/step\n",
      "comm_round: 17 | global_acc: 85.199% | global_loss: 0.5865620970726013\n",
      "9/9 [==============================] - 0s 631us/step\n",
      "comm_round: 18 | global_acc: 85.199% | global_loss: 0.5824388861656189\n",
      "9/9 [==============================] - 0s 625us/step\n",
      "comm_round: 19 | global_acc: 85.199% | global_loss: 0.5786796808242798\n",
      "9/9 [==============================] - 0s 750us/step\n",
      "comm_round: 20 | global_acc: 85.199% | global_loss: 0.5749713778495789\n",
      "9/9 [==============================] - 0s 625us/step\n",
      "comm_round: 21 | global_acc: 85.199% | global_loss: 0.5711818933486938\n",
      "9/9 [==============================] - 0s 750us/step\n",
      "comm_round: 22 | global_acc: 85.921% | global_loss: 0.5687610507011414\n",
      "9/9 [==============================] - 0s 625us/step\n",
      "comm_round: 23 | global_acc: 85.921% | global_loss: 0.5662544369697571\n",
      "9/9 [==============================] - 0s 625us/step\n",
      "comm_round: 24 | global_acc: 86.282% | global_loss: 0.5648128986358643\n",
      "9/9 [==============================] - 0s 625us/step\n",
      "comm_round: 25 | global_acc: 86.282% | global_loss: 0.5628341436386108\n",
      "9/9 [==============================] - 0s 625us/step\n",
      "comm_round: 26 | global_acc: 85.921% | global_loss: 0.5604763031005859\n",
      "9/9 [==============================] - 0s 750us/step\n",
      "comm_round: 27 | global_acc: 85.921% | global_loss: 0.5590811967849731\n",
      "9/9 [==============================] - 0s 625us/step\n",
      "comm_round: 28 | global_acc: 85.560% | global_loss: 0.5572543740272522\n",
      "9/9 [==============================] - 0s 625us/step\n",
      "comm_round: 29 | global_acc: 85.560% | global_loss: 0.5559518933296204\n",
      "9/9 [==============================] - 0s 750us/step\n",
      "comm_round: 30 | global_acc: 85.560% | global_loss: 0.5550671815872192\n",
      "9/9 [==============================] - 0s 625us/step\n",
      "comm_round: 31 | global_acc: 85.560% | global_loss: 0.5532821416854858\n",
      "9/9 [==============================] - 0s 625us/step\n",
      "comm_round: 32 | global_acc: 85.560% | global_loss: 0.5520455837249756\n",
      "9/9 [==============================] - 0s 625us/step\n",
      "comm_round: 33 | global_acc: 85.560% | global_loss: 0.5510002970695496\n",
      "9/9 [==============================] - 0s 625us/step\n",
      "comm_round: 34 | global_acc: 85.560% | global_loss: 0.5497850179672241\n",
      "9/9 [==============================] - 0s 625us/step\n",
      "comm_round: 35 | global_acc: 85.560% | global_loss: 0.5493634939193726\n",
      "9/9 [==============================] - 0s 625us/step\n",
      "comm_round: 36 | global_acc: 85.560% | global_loss: 0.5485884547233582\n",
      "9/9 [==============================] - 0s 750us/step\n",
      "comm_round: 37 | global_acc: 85.199% | global_loss: 0.5478177666664124\n",
      "9/9 [==============================] - 0s 625us/step\n",
      "comm_round: 38 | global_acc: 85.199% | global_loss: 0.5477660894393921\n",
      "9/9 [==============================] - 0s 750us/step\n",
      "comm_round: 39 | global_acc: 85.560% | global_loss: 0.5466042160987854\n",
      "9/9 [==============================] - 0s 625us/step\n",
      "comm_round: 40 | global_acc: 85.199% | global_loss: 0.546192467212677\n",
      "9/9 [==============================] - 0s 625us/step\n",
      "comm_round: 41 | global_acc: 85.199% | global_loss: 0.5452610850334167\n",
      "9/9 [==============================] - 0s 625us/step\n",
      "comm_round: 42 | global_acc: 85.199% | global_loss: 0.5441085696220398\n",
      "9/9 [==============================] - 0s 625us/step\n",
      "comm_round: 43 | global_acc: 85.199% | global_loss: 0.5439130067825317\n",
      "9/9 [==============================] - 0s 625us/step\n",
      "comm_round: 44 | global_acc: 85.199% | global_loss: 0.5433434844017029\n",
      "9/9 [==============================] - 0s 750us/step\n",
      "comm_round: 45 | global_acc: 85.199% | global_loss: 0.5430192351341248\n",
      "9/9 [==============================] - 0s 625us/step\n",
      "comm_round: 46 | global_acc: 85.199% | global_loss: 0.5426541566848755\n",
      "9/9 [==============================] - 0s 625us/step\n",
      "comm_round: 47 | global_acc: 85.199% | global_loss: 0.5417846441268921\n",
      "9/9 [==============================] - 0s 625us/step\n",
      "comm_round: 48 | global_acc: 85.199% | global_loss: 0.5413867235183716\n",
      "9/9 [==============================] - 0s 625us/step\n",
      "comm_round: 49 | global_acc: 85.560% | global_loss: 0.540869951248169\n",
      "9/9 [==============================] - 0s 625us/step\n",
      "comm_round: 50 | global_acc: 85.199% | global_loss: 0.5397540330886841\n",
      "9/9 [==============================] - 0s 625us/step\n",
      "comm_round: 51 | global_acc: 85.560% | global_loss: 0.5389804840087891\n",
      "9/9 [==============================] - 0s 625us/step\n",
      "comm_round: 52 | global_acc: 85.560% | global_loss: 0.5392850637435913\n",
      "9/9 [==============================] - 0s 625us/step\n",
      "comm_round: 53 | global_acc: 85.560% | global_loss: 0.5387694239616394\n",
      "9/9 [==============================] - 0s 625us/step\n",
      "comm_round: 54 | global_acc: 85.921% | global_loss: 0.5381366014480591\n",
      "9/9 [==============================] - 0s 625us/step\n",
      "comm_round: 55 | global_acc: 85.921% | global_loss: 0.5377414226531982\n",
      "9/9 [==============================] - 0s 625us/step\n",
      "comm_round: 56 | global_acc: 86.282% | global_loss: 0.5373544096946716\n",
      "9/9 [==============================] - 0s 625us/step\n",
      "comm_round: 57 | global_acc: 86.282% | global_loss: 0.5362732410430908\n",
      "9/9 [==============================] - 0s 750us/step\n",
      "comm_round: 58 | global_acc: 86.282% | global_loss: 0.5360281467437744\n",
      "9/9 [==============================] - 0s 625us/step\n",
      "comm_round: 59 | global_acc: 86.282% | global_loss: 0.5356664061546326\n",
      "9/9 [==============================] - 0s 625us/step\n",
      "comm_round: 60 | global_acc: 86.282% | global_loss: 0.5356420278549194\n",
      "9/9 [==============================] - 0s 750us/step\n",
      "comm_round: 61 | global_acc: 86.282% | global_loss: 0.535374641418457\n",
      "9/9 [==============================] - 0s 625us/step\n",
      "comm_round: 62 | global_acc: 86.282% | global_loss: 0.5350467562675476\n",
      "9/9 [==============================] - 0s 750us/step\n",
      "comm_round: 63 | global_acc: 85.921% | global_loss: 0.5345208048820496\n",
      "9/9 [==============================] - 0s 750us/step\n",
      "comm_round: 64 | global_acc: 85.921% | global_loss: 0.5346265435218811\n",
      "9/9 [==============================] - 0s 625us/step\n",
      "comm_round: 65 | global_acc: 86.643% | global_loss: 0.5347250699996948\n"
     ]
    },
    {
     "name": "stdout",
     "output_type": "stream",
     "text": [
      "9/9 [==============================] - 0s 625us/step\n",
      "comm_round: 66 | global_acc: 86.643% | global_loss: 0.533951997756958\n",
      "9/9 [==============================] - 0s 625us/step\n",
      "comm_round: 67 | global_acc: 86.643% | global_loss: 0.5333611369132996\n",
      "9/9 [==============================] - 0s 750us/step\n",
      "comm_round: 68 | global_acc: 85.921% | global_loss: 0.5329806208610535\n",
      "9/9 [==============================] - 0s 625us/step\n",
      "comm_round: 69 | global_acc: 86.282% | global_loss: 0.53282231092453\n",
      "9/9 [==============================] - 0s 625us/step\n",
      "comm_round: 70 | global_acc: 85.560% | global_loss: 0.5322763323783875\n",
      "9/9 [==============================] - 0s 625us/step\n",
      "comm_round: 71 | global_acc: 85.921% | global_loss: 0.5319004654884338\n",
      "9/9 [==============================] - 0s 625us/step\n",
      "comm_round: 72 | global_acc: 85.560% | global_loss: 0.5312533378601074\n",
      "9/9 [==============================] - 0s 750us/step\n",
      "comm_round: 73 | global_acc: 85.921% | global_loss: 0.5310496091842651\n",
      "9/9 [==============================] - 0s 750us/step\n",
      "comm_round: 74 | global_acc: 86.643% | global_loss: 0.5307931900024414\n",
      "9/9 [==============================] - 0s 625us/step\n",
      "comm_round: 75 | global_acc: 86.282% | global_loss: 0.5299159288406372\n",
      "9/9 [==============================] - 0s 648us/step\n",
      "comm_round: 76 | global_acc: 87.004% | global_loss: 0.5300045609474182\n",
      "9/9 [==============================] - 0s 750us/step\n",
      "comm_round: 77 | global_acc: 86.282% | global_loss: 0.5293955206871033\n",
      "9/9 [==============================] - 0s 622us/step\n",
      "comm_round: 78 | global_acc: 87.004% | global_loss: 0.5296638011932373\n",
      "9/9 [==============================] - 0s 750us/step\n",
      "comm_round: 79 | global_acc: 86.282% | global_loss: 0.5281550288200378\n",
      "9/9 [==============================] - 0s 625us/step\n",
      "comm_round: 80 | global_acc: 86.282% | global_loss: 0.528014600276947\n",
      "9/9 [==============================] - 0s 626us/step\n",
      "comm_round: 81 | global_acc: 86.282% | global_loss: 0.5275837182998657\n",
      "9/9 [==============================] - 0s 625us/step\n",
      "comm_round: 82 | global_acc: 86.282% | global_loss: 0.5276582837104797\n",
      "9/9 [==============================] - 0s 624us/step\n",
      "comm_round: 83 | global_acc: 86.282% | global_loss: 0.5276924967765808\n",
      "9/9 [==============================] - 0s 625us/step\n",
      "comm_round: 84 | global_acc: 86.282% | global_loss: 0.5272361636161804\n",
      "9/9 [==============================] - 0s 625us/step\n",
      "comm_round: 85 | global_acc: 86.282% | global_loss: 0.5272356867790222\n",
      "9/9 [==============================] - 0s 750us/step\n",
      "comm_round: 86 | global_acc: 86.282% | global_loss: 0.5269837379455566\n",
      "9/9 [==============================] - 0s 625us/step\n",
      "comm_round: 87 | global_acc: 86.282% | global_loss: 0.5268909335136414\n",
      "9/9 [==============================] - 0s 750us/step\n",
      "comm_round: 88 | global_acc: 86.282% | global_loss: 0.5261898636817932\n",
      "9/9 [==============================] - 0s 625us/step\n",
      "comm_round: 89 | global_acc: 86.282% | global_loss: 0.5255603194236755\n",
      "9/9 [==============================] - 0s 750us/step\n",
      "comm_round: 90 | global_acc: 86.643% | global_loss: 0.5262762308120728\n",
      "9/9 [==============================] - 0s 750us/step\n",
      "comm_round: 91 | global_acc: 86.643% | global_loss: 0.5251665115356445\n",
      "9/9 [==============================] - 0s 750us/step\n",
      "comm_round: 92 | global_acc: 86.643% | global_loss: 0.5257256627082825\n",
      "9/9 [==============================] - 0s 750us/step\n",
      "comm_round: 93 | global_acc: 86.282% | global_loss: 0.5242395401000977\n",
      "9/9 [==============================] - 0s 625us/step\n",
      "comm_round: 94 | global_acc: 86.282% | global_loss: 0.5242063403129578\n",
      "9/9 [==============================] - 0s 625us/step\n",
      "comm_round: 95 | global_acc: 86.643% | global_loss: 0.5245214104652405\n",
      "9/9 [==============================] - 0s 625us/step\n",
      "comm_round: 96 | global_acc: 86.643% | global_loss: 0.5238915681838989\n",
      "9/9 [==============================] - 0s 625us/step\n",
      "comm_round: 97 | global_acc: 86.643% | global_loss: 0.5238461494445801\n",
      "9/9 [==============================] - 0s 750us/step\n",
      "comm_round: 98 | global_acc: 86.643% | global_loss: 0.5238103866577148\n",
      "9/9 [==============================] - 0s 750us/step\n",
      "comm_round: 99 | global_acc: 86.282% | global_loss: 0.5232902765274048\n",
      "9/9 [==============================] - 0s 625us/step\n",
      "comm_round: 1 | global_acc: 88.087% | global_loss: 0.5147607326507568\n"
     ]
    }
   ],
   "source": [
    "#create clients\n",
    "clients = create_clients()\n",
    "\n",
    "#process and batch the training data for each client\n",
    "clients_batched = dict()\n",
    "for (client_name, data) in clients.items():\n",
    "    clients_batched[client_name] = batch_data(data)\n",
    "    \n",
    "#process and batch the test set  \n",
    "test_batched = tf.data.Dataset.from_tensor_slices((X_test, y_test)).batch(len(y_test))\n",
    "\n",
    "comms_round = 100\n",
    "    \n",
    "#create optimizer\n",
    "lr = 0.01 \n",
    "loss='sparse_categorical_crossentropy'\n",
    "metrics = ['accuracy']\n",
    "optimizer = tf.keras.optimizers.legacy.SGD(lr=lr, decay=lr / comms_round, momentum=0.9) \n",
    "\n",
    "#initialize global model\n",
    "smlp_global = DNN()\n",
    "global_model = smlp_global.build(22, 2)\n",
    "        \n",
    "#commence global training loop\n",
    "for comm_round in range(comms_round):\n",
    "            \n",
    "    # get the global model's weights - will serve as the initial weights for all local models\n",
    "    global_weights = global_model.get_weights()\n",
    "    \n",
    "    #initial list to collect local model weights after scalling\n",
    "    scaled_local_weight_list = list()\n",
    "\n",
    "    #randomize client data - using keys\n",
    "    client_names= list(clients_batched.keys())\n",
    "    random.shuffle(client_names)\n",
    "    \n",
    "    #loop through each client and create new local model\n",
    "    for client in client_names:\n",
    "        smlp_local = DNN()\n",
    "        local_model = smlp_local.build(22, 2)\n",
    "        local_model.compile(loss=loss, \n",
    "                      optimizer=optimizer, \n",
    "                      metrics=metrics)\n",
    "        \n",
    "        #set local model weight to the weight of the global model\n",
    "        local_model.set_weights(global_weights)\n",
    "        \n",
    "        #fit local model with client's data\n",
    "        local_model.fit(clients_batched[client], epochs=1, verbose=0)\n",
    "        \n",
    "        #scale the model weights and add to list\n",
    "        scaling_factor = weight_scalling_factor(clients_batched, client)\n",
    "        scaled_weights = scale_model_weights(local_model.get_weights(), scaling_factor)\n",
    "        scaled_local_weight_list.append(scaled_weights)\n",
    "        \n",
    "        #clear session to free memory after each communication round\n",
    "        K.clear_session()\n",
    "        \n",
    "    #to get the average over all the local model, we simply take the sum of the scaled weights\n",
    "    average_weights = sum_scaled_weights(scaled_local_weight_list)\n",
    "    \n",
    "    #update global model \n",
    "    global_model.set_weights(average_weights)\n",
    "\n",
    "    #test global model and print out metrics after each communications round\n",
    "    for(X_test, Y_test) in test_batched:\n",
    "        global_acc, global_loss = test_model(X_test, Y_test, global_model, comm_round)\n",
    "        SGD_dataset = tf.data.Dataset.from_tensor_slices((X_train, y_train)).shuffle(len(y_train)).batch(250)\n",
    "        smlp_SGD = DNN()\n",
    "        SGD_model = smlp_SGD.build(22, 2) \n",
    "\n",
    "        SGD_model.compile(loss=loss, optimizer=optimizer, metrics=metrics)\n",
    "\n",
    "# fit the SGD training data to model\n",
    "_ = SGD_model.fit(SGD_dataset, epochs=100, verbose=0)\n",
    "\n",
    "#test the SGD global model and print out metrics\n",
    "for(X_test, Y_test) in test_batched:\n",
    "        SGD_acc, SGD_loss = test_model(X_test, Y_test, SGD_model, 1)"
   ]
  },
  {
   "cell_type": "code",
   "execution_count": 6,
   "id": "9b13ff1f",
   "metadata": {},
   "outputs": [
    {
     "name": "stdout",
     "output_type": "stream",
     "text": [
      "9/9 [==============================] - 0s 625us/step\n"
     ]
    }
   ],
   "source": [
    "Y_predictions = np.argmax(SGD_model.predict(X_test),axis = 1)"
   ]
  },
  {
   "cell_type": "code",
   "execution_count": 7,
   "id": "9bc551a0",
   "metadata": {
    "scrolled": true
   },
   "outputs": [
    {
     "data": {
      "text/plain": [
       "array([[102,  12],\n",
       "       [ 21, 142]], dtype=int64)"
      ]
     },
     "execution_count": 7,
     "metadata": {},
     "output_type": "execute_result"
    }
   ],
   "source": [
    "cm = confusion_matrix(Y_predictions, Y_test)\n",
    "cm"
   ]
  },
  {
   "cell_type": "code",
   "execution_count": 9,
   "id": "8a83e0bb",
   "metadata": {
    "scrolled": false
   },
   "outputs": [
    {
     "name": "stdout",
     "output_type": "stream",
     "text": [
      "              precision    recall  f1-score   support\n",
      "\n",
      "           0     0.8947    0.8293    0.8608       123\n",
      "           1     0.8712    0.9221    0.8959       154\n",
      "\n",
      "    accuracy                         0.8809       277\n",
      "   macro avg     0.8830    0.8757    0.8783       277\n",
      "weighted avg     0.8816    0.8809    0.8803       277\n",
      "\n"
     ]
    }
   ],
   "source": [
    "print(classification_report(Y_test, Y_predictions, digits=4))"
   ]
  },
  {
   "cell_type": "markdown",
   "id": "56495b0e",
   "metadata": {},
   "source": [
    "# Testing on each dataset"
   ]
  },
  {
   "cell_type": "code",
   "execution_count": 10,
   "id": "ec02651a",
   "metadata": {
    "scrolled": true
   },
   "outputs": [
    {
     "name": "stdout",
     "output_type": "stream",
     "text": [
      "3/3 [==============================] - 0s 1ms/step\n",
      "[[42  4]\n",
      " [ 9 36]]\n",
      "              precision    recall  f1-score   support\n",
      "\n",
      "           0     0.8235    0.9130    0.8660        46\n",
      "           1     0.9000    0.8000    0.8471        45\n",
      "\n",
      "    accuracy                         0.8571        91\n",
      "   macro avg     0.8618    0.8565    0.8565        91\n",
      "weighted avg     0.8613    0.8571    0.8566        91\n",
      "\n"
     ]
    }
   ],
   "source": [
    "Y_cle = np.argmax(SGD_model.predict(cle_X_test),axis = 1)\n",
    "cm_cle = confusion_matrix(Y_cle, cle_Y_test_binary)\n",
    "print(cm_cle)\n",
    "print(classification_report(Y_cle, cle_Y_test_binary, digits=4))"
   ]
  },
  {
   "cell_type": "code",
   "execution_count": 11,
   "id": "87b7cedd",
   "metadata": {},
   "outputs": [
    {
     "name": "stdout",
     "output_type": "stream",
     "text": [
      "[19, 28, 30, 32, 38, 51, 53, 60, 64, 67, 69, 70, 77]\n"
     ]
    }
   ],
   "source": [
    "mismatch = [i for i, (a,b) in enumerate(zip(Y_cle, cle_Y_test_binary)) if a != b]\n",
    "print(mismatch)"
   ]
  },
  {
   "cell_type": "code",
   "execution_count": 12,
   "id": "b2d4cc1c",
   "metadata": {
    "scrolled": true
   },
   "outputs": [
    {
     "name": "stdout",
     "output_type": "stream",
     "text": [
      "2/2 [==============================] - 0s 1ms/step\n",
      "[[ 6  3]\n",
      " [ 7 44]]\n",
      "              precision    recall  f1-score   support\n",
      "\n",
      "           0     0.4615    0.6667    0.5455         9\n",
      "           1     0.9362    0.8627    0.8980        51\n",
      "\n",
      "    accuracy                         0.8333        60\n",
      "   macro avg     0.6989    0.7647    0.7217        60\n",
      "weighted avg     0.8650    0.8333    0.8451        60\n",
      "\n"
     ]
    }
   ],
   "source": [
    "Y_vir = np.argmax(SGD_model.predict(vir_X_test),axis = 1)\n",
    "cm_vir = confusion_matrix(Y_vir, vir_Y_test_binary)\n",
    "print(cm_vir)\n",
    "print(classification_report(Y_vir, vir_Y_test_binary, digits=4))"
   ]
  },
  {
   "cell_type": "code",
   "execution_count": 13,
   "id": "625cfaa5",
   "metadata": {},
   "outputs": [
    {
     "name": "stdout",
     "output_type": "stream",
     "text": [
      "[6, 14, 32, 34, 40, 43, 48, 49, 52, 58]\n"
     ]
    }
   ],
   "source": [
    "mismatch = [i for i, (a,b) in enumerate(zip(Y_vir, vir_Y_test_binary)) if a != b]\n",
    "print(mismatch)"
   ]
  },
  {
   "cell_type": "code",
   "execution_count": 14,
   "id": "9c031520",
   "metadata": {
    "scrolled": true
   },
   "outputs": [
    {
     "name": "stdout",
     "output_type": "stream",
     "text": [
      "3/3 [==============================] - 0s 999us/step\n",
      "[[53  5]\n",
      " [ 4 27]]\n",
      "              precision    recall  f1-score   support\n",
      "\n",
      "           0     0.9298    0.9138    0.9217        58\n",
      "           1     0.8438    0.8710    0.8571        31\n",
      "\n",
      "    accuracy                         0.8989        89\n",
      "   macro avg     0.8868    0.8924    0.8894        89\n",
      "weighted avg     0.8998    0.8989    0.8992        89\n",
      "\n"
     ]
    }
   ],
   "source": [
    "Y_hun = np.argmax(SGD_model.predict(hun_X_test),axis = 1)\n",
    "cm_hun = confusion_matrix(Y_hun, hun_Y_test_binary)\n",
    "print(cm_hun)\n",
    "print(classification_report(Y_hun, hun_Y_test_binary,digits=4))"
   ]
  },
  {
   "cell_type": "code",
   "execution_count": 15,
   "id": "ec7ffbc9",
   "metadata": {},
   "outputs": [
    {
     "name": "stdout",
     "output_type": "stream",
     "text": [
      "[12, 14, 22, 23, 29, 42, 46, 54, 73]\n"
     ]
    }
   ],
   "source": [
    "mismatch = [i for i, (a,b) in enumerate(zip(Y_hun, hun_Y_test_binary)) if a != b]\n",
    "print(mismatch)"
   ]
  },
  {
   "cell_type": "code",
   "execution_count": 16,
   "id": "2e837211",
   "metadata": {
    "scrolled": true
   },
   "outputs": [
    {
     "name": "stdout",
     "output_type": "stream",
     "text": [
      "2/2 [==============================] - 0s 2ms/step\n",
      "[[ 1  0]\n",
      " [ 1 35]]\n",
      "              precision    recall  f1-score   support\n",
      "\n",
      "           0     0.5000    1.0000    0.6667         1\n",
      "           1     1.0000    0.9722    0.9859        36\n",
      "\n",
      "    accuracy                         0.9730        37\n",
      "   macro avg     0.7500    0.9861    0.8263        37\n",
      "weighted avg     0.9865    0.9730    0.9773        37\n",
      "\n"
     ]
    }
   ],
   "source": [
    "Y_swi = np.argmax(SGD_model.predict(swi_X_test),axis = 1)\n",
    "cm_swi = confusion_matrix(Y_swi, swi_Y_test_binary)\n",
    "print(cm_swi)\n",
    "print(classification_report(Y_swi, swi_Y_test_binary, digits=4))"
   ]
  },
  {
   "cell_type": "code",
   "execution_count": 17,
   "id": "805b6caf",
   "metadata": {},
   "outputs": [
    {
     "name": "stdout",
     "output_type": "stream",
     "text": [
      "[20]\n"
     ]
    }
   ],
   "source": [
    "mismatch = [i for i, (a,b) in enumerate(zip(Y_swi, swi_Y_test_binary)) if a != b]\n",
    "print(mismatch)"
   ]
  },
  {
   "cell_type": "code",
   "execution_count": null,
   "id": "9426cb71",
   "metadata": {},
   "outputs": [],
   "source": []
  },
  {
   "cell_type": "code",
   "execution_count": null,
   "id": "d5eca374",
   "metadata": {},
   "outputs": [],
   "source": []
  }
 ],
 "metadata": {
  "kernelspec": {
   "display_name": "Python 3 (ipykernel)",
   "language": "python",
   "name": "python3"
  },
  "language_info": {
   "codemirror_mode": {
    "name": "ipython",
    "version": 3
   },
   "file_extension": ".py",
   "mimetype": "text/x-python",
   "name": "python",
   "nbconvert_exporter": "python",
   "pygments_lexer": "ipython3",
   "version": "3.9.16"
  }
 },
 "nbformat": 4,
 "nbformat_minor": 5
}
