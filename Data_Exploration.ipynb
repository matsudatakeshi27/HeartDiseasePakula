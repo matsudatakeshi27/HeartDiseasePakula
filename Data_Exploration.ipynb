{
 "cells": [
  {
   "cell_type": "code",
   "execution_count": 1,
   "id": "dc146a97",
   "metadata": {},
   "outputs": [],
   "source": [
    "import pandas as pd\n",
    "import numpy as np\n",
    "import matplotlib.pyplot as plt"
   ]
  },
  {
   "cell_type": "code",
   "execution_count": 2,
   "id": "cd120465",
   "metadata": {},
   "outputs": [],
   "source": [
    "mapping = {0: 0, 0.25: 1, 0.5: 2, 0.75: 3, 1: 4}"
   ]
  },
  {
   "cell_type": "code",
   "execution_count": 3,
   "id": "685298db",
   "metadata": {},
   "outputs": [
    {
     "data": {
      "text/plain": [
       "num\n",
       "0    164\n",
       "1     55\n",
       "2     36\n",
       "3     35\n",
       "4     13\n",
       "Name: num, dtype: int64"
      ]
     },
     "execution_count": 3,
     "metadata": {},
     "output_type": "execute_result"
    },
    {
     "data": {
      "image/png": "[encoded data removed]",
      "text/plain": [
       "<Figure size 432x288 with 1 Axes>"
      ]
     },
     "metadata": {
      "needs_background": "light"
     },
     "output_type": "display_data"
    }
   ],
   "source": [
    "df_cle = pd.read_csv('data/Cleveland Imputed Data.csv')\n",
    "df_cle['num'] = df_cle['num'].map(mapping)\n",
    "df_cle['num'].groupby([df_cle['num']]).count().plot(kind='bar')\n",
    "df_cle['num'].groupby([df_cle['num']]).count()"
   ]
  },
  {
   "cell_type": "code",
   "execution_count": 4,
   "id": "94ac3ec4",
   "metadata": {},
   "outputs": [
    {
     "data": {
      "text/plain": [
       "num\n",
       "0    188\n",
       "4    106\n",
       "Name: num, dtype: int64"
      ]
     },
     "execution_count": 4,
     "metadata": {},
     "output_type": "execute_result"
    },
    {
     "data": {
      "image/png": "[encoded data removed]",
      "text/plain": [
       "<Figure size 432x288 with 1 Axes>"
      ]
     },
     "metadata": {
      "needs_background": "light"
     },
     "output_type": "display_data"
    }
   ],
   "source": [
    "df_hun = pd.read_csv('data/Hungarian Imputed Data.csv')\n",
    "df_hun['num'] = df_hun['num'].map(mapping)\n",
    "df_hun['num'].groupby([df_hun['num']]).count().plot(kind='bar')\n",
    "df_hun['num'].groupby([df_hun['num']]).count()"
   ]
  },
  {
   "cell_type": "code",
   "execution_count": 5,
   "id": "bdafbb5c",
   "metadata": {},
   "outputs": [
    {
     "data": {
      "text/plain": [
       "num\n",
       "0     8\n",
       "1    48\n",
       "2    32\n",
       "3    30\n",
       "4     5\n",
       "Name: num, dtype: int64"
      ]
     },
     "execution_count": 5,
     "metadata": {},
     "output_type": "execute_result"
    },
    {
     "data": {
      "image/png": "[encoded data removed]",
      "text/plain": [
       "<Figure size 432x288 with 1 Axes>"
      ]
     },
     "metadata": {
      "needs_background": "light"
     },
     "output_type": "display_data"
    }
   ],
   "source": [
    "df_swi = pd.read_csv('data/Switzerland Imputed Data.csv')\n",
    "df_swi['num'] = df_swi['num'].map(mapping)\n",
    "df_swi['num'].groupby([df_swi['num']]).count().plot(kind='bar')\n",
    "df_swi['num'].groupby([df_swi['num']]).count()"
   ]
  },
  {
   "cell_type": "code",
   "execution_count": 6,
   "id": "ffe28428",
   "metadata": {},
   "outputs": [
    {
     "data": {
      "text/plain": [
       "num\n",
       "0    51\n",
       "1    56\n",
       "2    41\n",
       "3    42\n",
       "4    10\n",
       "Name: num, dtype: int64"
      ]
     },
     "execution_count": 6,
     "metadata": {},
     "output_type": "execute_result"
    },
    {
     "data": {
      "image/png": "[encoded data removed]",
      "text/plain": [
       "<Figure size 432x288 with 1 Axes>"
      ]
     },
     "metadata": {
      "needs_background": "light"
     },
     "output_type": "display_data"
    }
   ],
   "source": [
    "df_va = pd.read_csv('data/Virginia Imputed Data.csv')\n",
    "df_va['num'] = df_va['num'].map(mapping)\n",
    "df_va['num'].groupby([df_va['num']]).count().plot(kind='bar')\n",
    "df_va['num'].groupby([df_va['num']]).count()"
   ]
  },
  {
   "cell_type": "markdown",
   "id": "e928ef21",
   "metadata": {},
   "source": [
    "## Combine european data"
   ]
  },
  {
   "cell_type": "code",
   "execution_count": 7,
   "id": "801cb603",
   "metadata": {},
   "outputs": [],
   "source": [
    "hungarian_train = pd.read_csv('traintestdata/hun_train.csv')\n",
    "hungarian_test = pd.read_csv('traintestdata/hun_test.csv')\n",
    "\n",
    "switzerland_train = pd.read_csv('traintestdata/swi_train.csv')\n",
    "switzerland_test = pd.read_csv('traintestdata/swi_test.csv')"
   ]
  },
  {
   "cell_type": "code",
   "execution_count": 8,
   "id": "70f79fa4",
   "metadata": {},
   "outputs": [
    {
     "data": {
      "text/plain": [
       "num\n",
       "0.00     2\n",
       "0.25    14\n",
       "0.50     9\n",
       "0.75     9\n",
       "1.00     3\n",
       "Name: num, dtype: int64"
      ]
     },
     "execution_count": 8,
     "metadata": {},
     "output_type": "execute_result"
    },
    {
     "data": {
      "image/png": "[encoded data removed]",
      "text/plain": [
       "<Figure size 432x288 with 1 Axes>"
      ]
     },
     "metadata": {
      "needs_background": "light"
     },
     "output_type": "display_data"
    }
   ],
   "source": [
    "switzerland_test['num'].groupby([switzerland_test['num']]).count().plot(kind='bar')\n",
    "switzerland_test['num'].groupby([switzerland_test['num']]).count()"
   ]
  },
  {
   "cell_type": "code",
   "execution_count": 9,
   "id": "6ef9f102",
   "metadata": {},
   "outputs": [
    {
     "data": {
      "text/plain": [
       "num\n",
       "0.00     6\n",
       "0.25    34\n",
       "0.50    23\n",
       "0.75    21\n",
       "1.00     2\n",
       "Name: num, dtype: int64"
      ]
     },
     "execution_count": 9,
     "metadata": {},
     "output_type": "execute_result"
    },
    {
     "data": {
      "image/png": "[encoded data removed]",
      "text/plain": [
       "<Figure size 432x288 with 1 Axes>"
      ]
     },
     "metadata": {
      "needs_background": "light"
     },
     "output_type": "display_data"
    }
   ],
   "source": [
    "switzerland_train['num'].groupby([switzerland_train['num']]).count().plot(kind='bar')\n",
    "switzerland_train['num'].groupby([switzerland_train['num']]).count()"
   ]
  },
  {
   "cell_type": "code",
   "execution_count": 10,
   "id": "916a6b7f",
   "metadata": {},
   "outputs": [
    {
     "data": {
      "image/png": "[encoded data removed]",
      "text/plain": [
       "<Figure size 432x288 with 1 Axes>"
      ]
     },
     "metadata": {
      "needs_background": "light"
     },
     "output_type": "display_data"
    }
   ],
   "source": [
    "euro_train = pd.concat([hungarian_train,switzerland_train])\n",
    "euro_train['num'].groupby([euro_train['num']]).count().plot(kind='bar')\n",
    "euro_train['num'].groupby([euro_train['num']]).count()\n",
    "euro_train.to_csv('euro_train.csv',index = False)"
   ]
  },
  {
   "cell_type": "code",
   "execution_count": 11,
   "id": "08f08847",
   "metadata": {},
   "outputs": [
    {
     "data": {
      "image/png": "[encoded data removed]",
      "text/plain": [
       "<Figure size 432x288 with 1 Axes>"
      ]
     },
     "metadata": {
      "needs_background": "light"
     },
     "output_type": "display_data"
    }
   ],
   "source": [
    "euro_test = pd.concat([hungarian_test,switzerland_test])\n",
    "euro_test['num'].groupby([euro_test['num']]).count().plot(kind='bar')\n",
    "euro_test['num'].groupby([euro_test['num']]).count()\n",
    "euro_test.to_csv('euro_test.csv',index = False)"
   ]
  },
  {
   "cell_type": "code",
   "execution_count": 12,
   "id": "3a4e7711",
   "metadata": {},
   "outputs": [
    {
     "data": {
      "image/png": "[encoded data removed]",
      "text/plain": [
       "<Figure size 720x576 with 4 Axes>"
      ]
     },
     "metadata": {
      "needs_background": "light"
     },
     "output_type": "display_data"
    }
   ],
   "source": [
    "fig = plt.figure(figsize=(10,8))\n",
    "\n",
    "ax1 = fig.add_subplot(2, 2, 1)\n",
    "df_cle['num'].groupby([df_cle['num']]).count().plot(kind='bar', ax=ax1)\n",
    "ax1.set_xlabel('Num')\n",
    "ax1.set_ylabel('Count')\n",
    "ax1.set_title('Cleveland, OH')\n",
    "\n",
    "ax2 = fig.add_subplot(2, 2, 2)\n",
    "df_va['num'].groupby([df_va['num']]).count().plot(kind='bar', ax=ax2)\n",
    "ax2.set_xlabel('Num')\n",
    "ax2.set_ylabel('Count')\n",
    "ax2.set_title('Long Beach, VA')\n",
    "\n",
    "ax3 = fig.add_subplot(2, 2, 3)\n",
    "df_hun['num'].groupby([df_hun['num']]).count().plot(kind='bar', ax=ax3)\n",
    "ax3.set_xlabel('Num')\n",
    "ax3.set_ylabel('Count')\n",
    "ax3.set_title('Hungary')\n",
    "\n",
    "ax4 = fig.add_subplot(2, 2, 4)\n",
    "df_swi['num'].groupby([df_swi['num']]).count().plot(kind='bar', ax=ax4)\n",
    "ax4.set_xlabel('Num')\n",
    "ax4.set_ylabel('Count')\n",
    "ax4.set_title('Switzerland')\n",
    "\n",
    "fig.tight_layout()\n",
    "plt.show()"
   ]
  },
  {
   "cell_type": "code",
   "execution_count": null,
   "id": "b2db631e",
   "metadata": {},
   "outputs": [],
   "source": []
  }
 ],
 "metadata": {
  "kernelspec": {
   "display_name": "Python 3 (ipykernel)",
   "language": "python",
   "name": "python3"
  },
  "language_info": {
   "codemirror_mode": {
    "name": "ipython",
    "version": 3
   },
   "file_extension": ".py",
   "mimetype": "text/x-python",
   "name": "python",
   "nbconvert_exporter": "python",
   "pygments_lexer": "ipython3",
   "version": "3.9.16"
  }
 },
 "nbformat": 4,
 "nbformat_minor": 5
}
