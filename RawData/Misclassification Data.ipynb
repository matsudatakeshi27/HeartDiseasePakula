{
 "cells": [
  {
   "cell_type": "code",
   "execution_count": 1,
   "id": "226f3e2f",
   "metadata": {},
   "outputs": [],
   "source": [
    "import pandas as pd\n",
    "import numpy as np"
   ]
  },
  {
   "cell_type": "code",
   "execution_count": 2,
   "id": "41c37ffc",
   "metadata": {},
   "outputs": [],
   "source": [
    "columns_names = ['age','sex','cp','trestbps','chol','fbs','restecg','thalach','exang','oldpeak','slope','ca','thal','num']\n",
    "misclassification = pd.DataFrame(columns=columns_names)"
   ]
  },
  {
   "cell_type": "markdown",
   "id": "8dbded19",
   "metadata": {},
   "source": [
    "## Cleveland"
   ]
  },
  {
   "cell_type": "code",
   "execution_count": 12,
   "id": "2c923ef2",
   "metadata": {},
   "outputs": [
    {
     "name": "stdout",
     "output_type": "stream",
     "text": [
      "[9, 28, 77, 22]\n"
     ]
    }
   ],
   "source": [
    "cnn_fl = [9, 22, 28, 46, 62, 63, 73, 74, 77, 81, 86]\n",
    "cnn = [0, 7, 9, 10, 19, 21, 22, 28, 30, 32, 38, 52, 53, 60, 61, 67, 69, 70, 77]\n",
    "common_numbers = list(set(cnn_fl) & set(cnn))\n",
    "print(common_numbers)"
   ]
  },
  {
   "cell_type": "code",
   "execution_count": 13,
   "id": "8f04e016",
   "metadata": {},
   "outputs": [
    {
     "name": "stdout",
     "output_type": "stream",
     "text": [
      "      age  sex   cp  trestbps   chol  fbs  restecg  thalach  exang  oldpeak  \\\n",
      "0    63.0  1.0  1.0     145.0  233.0  1.0      2.0    150.0    0.0      2.3   \n",
      "1    67.0  1.0  4.0     160.0  286.0  0.0      2.0    108.0    1.0      1.5   \n",
      "2    67.0  1.0  4.0     120.0  229.0  0.0      2.0    129.0    1.0      2.6   \n",
      "3    37.0  1.0  3.0     130.0  250.0  0.0      0.0    187.0    0.0      3.5   \n",
      "4    41.0  0.0  2.0     130.0  204.0  0.0      2.0    172.0    0.0      1.4   \n",
      "..    ...  ...  ...       ...    ...  ...      ...      ...    ...      ...   \n",
      "298  45.0  1.0  1.0     110.0  264.0  0.0      0.0    132.0    0.0      1.2   \n",
      "299  68.0  1.0  4.0     144.0  193.0  1.0      0.0    141.0    0.0      3.4   \n",
      "300  57.0  1.0  4.0     130.0  131.0  0.0      0.0    115.0    1.0      1.2   \n",
      "301  57.0  0.0  2.0     130.0  236.0  0.0      2.0    174.0    0.0      0.0   \n",
      "302  38.0  1.0  3.0     138.0  175.0  0.0      0.0    173.0    0.0      0.0   \n",
      "\n",
      "     slope   ca thal  num  \n",
      "0      3.0  0.0  6.0    0  \n",
      "1      2.0  3.0  3.0    2  \n",
      "2      2.0  2.0  7.0    1  \n",
      "3      3.0  0.0  3.0    0  \n",
      "4      1.0  0.0  3.0    0  \n",
      "..     ...  ...  ...  ...  \n",
      "298    2.0  0.0  7.0    1  \n",
      "299    2.0  2.0  7.0    2  \n",
      "300    2.0  1.0  7.0    3  \n",
      "301    2.0  1.0  3.0    1  \n",
      "302    1.0    ?  3.0    0  \n",
      "\n",
      "[303 rows x 14 columns]\n"
     ]
    }
   ],
   "source": [
    "cleveland = '../RawData/processed.cleveland.data'\n",
    "\n",
    "df_cleveland = pd.read_csv(cleveland, header=None)\n",
    "\n",
    "df_cleveland.columns = columns_names\n",
    "print(df_cleveland)"
   ]
  },
  {
   "cell_type": "code",
   "execution_count": 14,
   "id": "9afd1aca",
   "metadata": {
    "scrolled": true
   },
   "outputs": [
    {
     "name": "stderr",
     "output_type": "stream",
     "text": [
      "C:\\Users\\votri\\AppData\\Local\\Temp\\ipykernel_2360\\4044950508.py:2: FutureWarning: The frame.append method is deprecated and will be removed from pandas in a future version. Use pandas.concat instead.\n",
      "  misclassification = misclassification.append(df_cleveland.iloc[i], ignore_index=True)\n",
      "C:\\Users\\votri\\AppData\\Local\\Temp\\ipykernel_2360\\4044950508.py:2: FutureWarning: The frame.append method is deprecated and will be removed from pandas in a future version. Use pandas.concat instead.\n",
      "  misclassification = misclassification.append(df_cleveland.iloc[i], ignore_index=True)\n",
      "C:\\Users\\votri\\AppData\\Local\\Temp\\ipykernel_2360\\4044950508.py:2: FutureWarning: The frame.append method is deprecated and will be removed from pandas in a future version. Use pandas.concat instead.\n",
      "  misclassification = misclassification.append(df_cleveland.iloc[i], ignore_index=True)\n",
      "C:\\Users\\votri\\AppData\\Local\\Temp\\ipykernel_2360\\4044950508.py:2: FutureWarning: The frame.append method is deprecated and will be removed from pandas in a future version. Use pandas.concat instead.\n",
      "  misclassification = misclassification.append(df_cleveland.iloc[i], ignore_index=True)\n"
     ]
    }
   ],
   "source": [
    "for i in common_numbers:\n",
    "    misclassification = misclassification.append(df_cleveland.iloc[i], ignore_index=True)"
   ]
  },
  {
   "cell_type": "markdown",
   "id": "aa21b6a8",
   "metadata": {},
   "source": [
    "## Long Beach, VA"
   ]
  },
  {
   "cell_type": "code",
   "execution_count": 15,
   "id": "0b39628f",
   "metadata": {},
   "outputs": [
    {
     "name": "stdout",
     "output_type": "stream",
     "text": [
      "[28, 22]\n"
     ]
    }
   ],
   "source": [
    "cnn_fl = [9, 22, 28, 46, 62, 63, 73, 74, 77, 81, 86]\n",
    "cnn = [3, 6, 14, 22, 28, 32, 34, 42, 48, 49, 56, 57, 58]\n",
    "common_numbers = list(set(cnn_fl) & set(cnn))\n",
    "print(common_numbers)"
   ]
  },
  {
   "cell_type": "code",
   "execution_count": 16,
   "id": "a6c28aaa",
   "metadata": {},
   "outputs": [],
   "source": [
    "va = '../RawData/processed.va.data'\n",
    "\n",
    "df_va = pd.read_csv(va, header=None)\n",
    "\n",
    "df_va.columns = columns_names"
   ]
  },
  {
   "cell_type": "code",
   "execution_count": 17,
   "id": "4ba42e4a",
   "metadata": {},
   "outputs": [
    {
     "name": "stderr",
     "output_type": "stream",
     "text": [
      "C:\\Users\\votri\\AppData\\Local\\Temp\\ipykernel_2360\\2124865232.py:2: FutureWarning: The frame.append method is deprecated and will be removed from pandas in a future version. Use pandas.concat instead.\n",
      "  misclassification = misclassification.append(df_va.iloc[i], ignore_index=True)\n",
      "C:\\Users\\votri\\AppData\\Local\\Temp\\ipykernel_2360\\2124865232.py:2: FutureWarning: The frame.append method is deprecated and will be removed from pandas in a future version. Use pandas.concat instead.\n",
      "  misclassification = misclassification.append(df_va.iloc[i], ignore_index=True)\n"
     ]
    }
   ],
   "source": [
    "for i in common_numbers:\n",
    "    misclassification = misclassification.append(df_va.iloc[i], ignore_index=True)"
   ]
  },
  {
   "cell_type": "markdown",
   "id": "3f704383",
   "metadata": {},
   "source": [
    "## Hungary"
   ]
  },
  {
   "cell_type": "code",
   "execution_count": 18,
   "id": "4c05539b",
   "metadata": {},
   "outputs": [
    {
     "name": "stdout",
     "output_type": "stream",
     "text": [
      "[86]\n"
     ]
    }
   ],
   "source": [
    "cnn_fl = [9, 22, 28, 46, 62, 63, 73, 74, 77, 81, 86]\n",
    "cnn = [1, 8, 12, 14, 23, 29, 42, 53, 54, 61, 64, 86]\n",
    "common_numbers = list(set(cnn_fl) & set(cnn))\n",
    "print(common_numbers)"
   ]
  },
  {
   "cell_type": "code",
   "execution_count": 19,
   "id": "24144528",
   "metadata": {},
   "outputs": [],
   "source": [
    "hung = '../RawData/processed.hungarian.data'\n",
    "\n",
    "df_hung = pd.read_csv(hung, header=None)\n",
    "\n",
    "df_hung.columns = columns_names"
   ]
  },
  {
   "cell_type": "code",
   "execution_count": 20,
   "id": "09098c6e",
   "metadata": {},
   "outputs": [
    {
     "name": "stderr",
     "output_type": "stream",
     "text": [
      "C:\\Users\\votri\\AppData\\Local\\Temp\\ipykernel_2360\\4102614136.py:2: FutureWarning: The frame.append method is deprecated and will be removed from pandas in a future version. Use pandas.concat instead.\n",
      "  misclassification = misclassification.append(df_hung.iloc[i], ignore_index=True)\n"
     ]
    }
   ],
   "source": [
    "for i in common_numbers:\n",
    "    misclassification = misclassification.append(df_hung.iloc[i], ignore_index=True)"
   ]
  },
  {
   "cell_type": "markdown",
   "id": "d3661897",
   "metadata": {},
   "source": [
    "## Switzerland"
   ]
  },
  {
   "cell_type": "code",
   "execution_count": 21,
   "id": "2be5e14c",
   "metadata": {},
   "outputs": [
    {
     "name": "stdout",
     "output_type": "stream",
     "text": [
      "[]\n"
     ]
    }
   ],
   "source": [
    "cnn_fl = [9, 22, 28, 46, 62, 63, 73, 74, 77, 81, 86]\n",
    "cnn = [20, 25]\n",
    "common_numbers = list(set(cnn_fl) & set(cnn))\n",
    "print(common_numbers)"
   ]
  },
  {
   "cell_type": "code",
   "execution_count": 22,
   "id": "be7a06bd",
   "metadata": {},
   "outputs": [],
   "source": [
    "swi = '../RawData/processed.switzerland.data'\n",
    "\n",
    "df_swi = pd.read_csv(swi, header=None)\n",
    "\n",
    "df_swi.columns = columns_names"
   ]
  },
  {
   "cell_type": "code",
   "execution_count": 23,
   "id": "7669dfcc",
   "metadata": {},
   "outputs": [],
   "source": [
    "for i in common_numbers:\n",
    "    misclassification = misclassification.append(df_swi.iloc[i], ignore_index=True)"
   ]
  },
  {
   "cell_type": "code",
   "execution_count": 24,
   "id": "a0251273",
   "metadata": {},
   "outputs": [
    {
     "name": "stdout",
     "output_type": "stream",
     "text": [
      "     age  sex   cp trestbps   chol  fbs restecg thalach exang oldpeak slope  \\\n",
      "0   53.0  1.0  4.0    140.0  203.0  1.0     2.0   155.0   1.0     3.1   3.0   \n",
      "1   51.0  1.0  3.0    110.0  175.0  0.0     0.0   123.0   0.0     0.6   1.0   \n",
      "2   58.0  1.0  2.0    120.0  284.0  0.0     2.0   160.0   0.0     1.8   2.0   \n",
      "3   43.0  1.0  4.0    150.0  247.0  0.0     0.0   171.0   0.0     1.5   1.0   \n",
      "4   58.0  1.0  4.0    128.0  216.0  0.0     2.0   131.0   1.0     2.2   2.0   \n",
      "5   53.0  1.0  4.0    140.0  203.0  1.0     2.0   155.0   1.0     3.1   3.0   \n",
      "6   43.0  1.0  4.0    150.0  247.0  0.0     0.0   171.0   0.0     1.5   1.0   \n",
      "7   51.0  0.0  3.0    140.0  308.0  0.0     2.0   142.0   0.0     1.5   1.0   \n",
      "8   58.0  1.0  2.0    120.0  284.0  0.0     2.0   160.0   0.0     1.8   2.0   \n",
      "9     56    1    4      120    100    0       0     120     1     1.5     2   \n",
      "10    63    1    3      130      0    0       1     111     1       0     ?   \n",
      "11    47    0    3      130      ?    0       0     145     0     2.0     2   \n",
      "\n",
      "     ca thal num  \n",
      "0   0.0  7.0   1  \n",
      "1   0.0  3.0   0  \n",
      "2   0.0  3.0   1  \n",
      "3   0.0  3.0   0  \n",
      "4   3.0  7.0   1  \n",
      "5   0.0  7.0   1  \n",
      "6   0.0  3.0   0  \n",
      "7   1.0  3.0   0  \n",
      "8   0.0  3.0   1  \n",
      "9     0    7   1  \n",
      "10    ?    ?   3  \n",
      "11    ?    ?   0  \n"
     ]
    }
   ],
   "source": [
    "print(misclassification)"
   ]
  },
  {
   "cell_type": "code",
   "execution_count": null,
   "id": "458635f2",
   "metadata": {},
   "outputs": [],
   "source": []
  }
 ],
 "metadata": {
  "kernelspec": {
   "display_name": "Python 3 (ipykernel)",
   "language": "python",
   "name": "python3"
  },
  "language_info": {
   "codemirror_mode": {
    "name": "ipython",
    "version": 3
   },
   "file_extension": ".py",
   "mimetype": "text/x-python",
   "name": "python",
   "nbconvert_exporter": "python",
   "pygments_lexer": "ipython3",
   "version": "3.8.3"
  }
 },
 "nbformat": 4,
 "nbformat_minor": 5
}
