{
 "cells": [
  {
   "cell_type": "code",
   "execution_count": 2,
   "id": "a6b95d76",
   "metadata": {},
   "outputs": [
    {
     "name": "stdout",
     "output_type": "stream",
     "text": [
      "Using TensorFlow backend\n"
     ]
    },
    {
     "name": "stderr",
     "output_type": "stream",
     "text": [
      "C:\\Users\\Ethan\\AppData\\Local\\Temp\\ipykernel_10188\\3283149789.py:12: DeprecationWarning: `import kerastuner` is deprecated, please use `import keras_tuner`.\n",
      "  from kerastuner.tuners import RandomSearch\n"
     ]
    }
   ],
   "source": [
    "import numpy as np\n",
    "import pandas as pd\n",
    "from keras.models import Sequential\n",
    "from keras.layers import Conv1D, MaxPooling1D, Flatten, Dense, Dropout\n",
    "from sklearn.metrics import confusion_matrix, classification_report\n",
    "from sklearn.model_selection import train_test_split\n",
    "import tensorflow as tf\n",
    "\n",
    "import tensorflow as tf\n",
    "from tensorflow import keras\n",
    "from tensorflow.keras import layers\n",
    "from kerastuner.tuners import RandomSearch"
   ]
  },
  {
   "cell_type": "code",
   "execution_count": 3,
   "id": "e85500b2",
   "metadata": {},
   "outputs": [],
   "source": [
    "cle = pd.read_csv('cle_metadata_dnn.csv')\n",
    "vir = pd.read_csv('vir_metadata_dnn.csv')\n",
    "hun = pd.read_csv('hun_metadata_dnn.csv')\n",
    "swi = pd.read_csv('swi_metadata_dnn.csv')"
   ]
  },
  {
   "cell_type": "code",
   "execution_count": 4,
   "id": "f5e570ed",
   "metadata": {},
   "outputs": [],
   "source": [
    "cle_train,cle_test = train_test_split(cle,test_size=0.33, random_state=42)\n",
    "vir_train,vir_test = train_test_split(vir,test_size=0.33, random_state=42)\n",
    "hun_train,hun_test = train_test_split(hun,test_size=0.33, random_state=42)\n",
    "swi_train,swi_test = train_test_split(swi,test_size=0.33, random_state=42)"
   ]
  },
  {
   "cell_type": "code",
   "execution_count": 5,
   "id": "a4e16fb9",
   "metadata": {},
   "outputs": [],
   "source": [
    "Train = pd.concat([cle_train,vir_train,hun_train])\n",
    "Test = pd.concat([cle_test,vir_test,hun_test,swi_test,swi_train])"
   ]
  },
  {
   "cell_type": "code",
   "execution_count": 6,
   "id": "63a819bc",
   "metadata": {},
   "outputs": [],
   "source": [
    "X_train = Train.iloc[:,:-1]\n",
    "X_test = Test.iloc[:,:-1]\n",
    "\n",
    "y_train = Train.iloc[:,-1]\n",
    "y_test = Test.iloc[:,-1]\n",
    "\n",
    "Y_train_binary = y_train.apply(lambda x: 1 if x > 0 else 0)\n",
    "Y_test_binary = y_test.apply(lambda x: 1 if x > 0 else 0)"
   ]
  },
  {
   "cell_type": "markdown",
   "id": "294e623e",
   "metadata": {},
   "source": [
    "# CNN"
   ]
  },
  {
   "cell_type": "code",
   "execution_count": 12,
   "id": "96b2428a",
   "metadata": {},
   "outputs": [
    {
     "name": "stdout",
     "output_type": "stream",
     "text": [
      "Epoch 1/1000\n",
      "17/17 [==============================] - 0s 4ms/step - loss: 0.6929 - accuracy: 0.5178\n",
      "Epoch 2/1000\n",
      "17/17 [==============================] - 0s 4ms/step - loss: 0.6910 - accuracy: 0.5328\n",
      "Epoch 3/1000\n",
      "17/17 [==============================] - 0s 3ms/step - loss: 0.6905 - accuracy: 0.5366\n",
      "Epoch 4/1000\n",
      "17/17 [==============================] - 0s 3ms/step - loss: 0.6935 - accuracy: 0.5291\n",
      "Epoch 5/1000\n",
      "17/17 [==============================] - 0s 3ms/step - loss: 0.6916 - accuracy: 0.5385\n",
      "Epoch 6/1000\n",
      "17/17 [==============================] - 0s 4ms/step - loss: 0.6918 - accuracy: 0.5103\n",
      "Epoch 7/1000\n",
      "17/17 [==============================] - 0s 4ms/step - loss: 0.6935 - accuracy: 0.5141\n",
      "Epoch 8/1000\n",
      "17/17 [==============================] - 0s 4ms/step - loss: 0.6924 - accuracy: 0.5291\n",
      "13/13 [==============================] - 0s 1ms/step\n",
      "[[135 252]\n",
      " [  0   0]]\n",
      "              precision    recall  f1-score   support\n",
      "\n",
      "           0     0.3488    1.0000    0.5172       135\n",
      "           1     0.0000    0.0000    0.0000       252\n",
      "\n",
      "    accuracy                         0.3488       387\n",
      "   macro avg     0.1744    0.5000    0.2586       387\n",
      "weighted avg     0.1217    0.3488    0.1804       387\n",
      "\n"
     ]
    },
    {
     "name": "stderr",
     "output_type": "stream",
     "text": [
      "D:\\Anaconda\\envs\\GPU\\lib\\site-packages\\sklearn\\metrics\\_classification.py:1344: UndefinedMetricWarning: Precision and F-score are ill-defined and being set to 0.0 in labels with no predicted samples. Use `zero_division` parameter to control this behavior.\n",
      "  _warn_prf(average, modifier, msg_start, len(result))\n",
      "D:\\Anaconda\\envs\\GPU\\lib\\site-packages\\sklearn\\metrics\\_classification.py:1344: UndefinedMetricWarning: Precision and F-score are ill-defined and being set to 0.0 in labels with no predicted samples. Use `zero_division` parameter to control this behavior.\n",
      "  _warn_prf(average, modifier, msg_start, len(result))\n",
      "D:\\Anaconda\\envs\\GPU\\lib\\site-packages\\sklearn\\metrics\\_classification.py:1344: UndefinedMetricWarning: Precision and F-score are ill-defined and being set to 0.0 in labels with no predicted samples. Use `zero_division` parameter to control this behavior.\n",
      "  _warn_prf(average, modifier, msg_start, len(result))\n"
     ]
    }
   ],
   "source": [
    "callback = tf.keras.callbacks.EarlyStopping(monitor='loss', patience=5)\n",
    "\n",
    "model = Sequential()\n",
    "\n",
    "model.add(Conv1D(filters=256, kernel_size=4, activation='relu', input_shape=(64,1)))\n",
    "model.add(Conv1D(filters=64, kernel_size=4, activation='relu'))\n",
    "model.add(MaxPooling1D(pool_size=2))\n",
    "\n",
    "model.add(Conv1D(filters=48, kernel_size=4, activation='relu'))\n",
    "model.add(MaxPooling1D(pool_size=2))\n",
    "\n",
    "model.add(Flatten())\n",
    "model.add(Dense(128, activation='relu'))\n",
    "model.add(Dense(2, activation='sigmoid'))\n",
    "\n",
    "model.compile(loss='sparse_categorical_crossentropy', optimizer='adam', metrics=['accuracy'])\n",
    "\n",
    "best_model.fit(X_train, Y_train_binary, epochs=1000, batch_size=32,callbacks=[callback])\n",
    "\n",
    "Y_pred = best_model.predict(X_test).argmax(axis=1)\n",
    "    \n",
    "cm = confusion_matrix(Y_pred, Y_test_binary)\n",
    "print(cm)\n",
    "print(classification_report(Y_test_binary, Y_pred, digits=4))"
   ]
  },
  {
   "cell_type": "code",
   "execution_count": null,
   "id": "054c967d",
   "metadata": {},
   "outputs": [],
   "source": []
  },
  {
   "cell_type": "code",
   "execution_count": null,
   "id": "44ce84e5",
   "metadata": {},
   "outputs": [],
   "source": []
  },
  {
   "cell_type": "code",
   "execution_count": null,
   "id": "41f2eba7",
   "metadata": {},
   "outputs": [],
   "source": []
  },
  {
   "cell_type": "code",
   "execution_count": null,
   "id": "05298ad9",
   "metadata": {},
   "outputs": [],
   "source": []
  },
  {
   "cell_type": "markdown",
   "id": "d72630fb",
   "metadata": {},
   "source": [
    "# Hyperparameter Tuning"
   ]
  },
  {
   "cell_type": "code",
   "execution_count": 15,
   "id": "75dce5a7",
   "metadata": {
    "scrolled": true
   },
   "outputs": [
    {
     "name": "stdout",
     "output_type": "stream",
     "text": [
      "Trial 50 Complete [00h 00m 04s]\n",
      "val_accuracy: 0.663551390171051\n",
      "\n",
      "Best val_accuracy So Far: 0.84112149477005\n",
      "Total elapsed time: 00h 04m 15s\n",
      "Best Hyperparameters:\n",
      "Number of Filters: 192\n",
      "Kernel Size: 5\n",
      "Number of Units: 64\n",
      "Dropout Rate: 0.2\n"
     ]
    }
   ],
   "source": [
    "# Define your CNN model function\n",
    "def build_model(hp):\n",
    "    model = keras.Sequential()\n",
    "    \n",
    "    # Define the hyperparameter search space\n",
    "    hp_filters_1 = hp.Int('num_filters', min_value=32, max_value=256, step=32)\n",
    "    hp_filters_2 = hp.Int('num_filters', min_value=32, max_value=256, step=32)\n",
    "    hp_filters_3 = hp.Int('num_filters', min_value=32, max_value=256, step=32)\n",
    "    hp_kernel_size = hp.Int('kernel_size', min_value=3, max_value=5)\n",
    "    hp_units = hp.Int('units', min_value=32, max_value=128, step=32)\n",
    "    hp_dropout = hp.Float('dropout', min_value=0.2, max_value=0.5, step=0.1)\n",
    "    \n",
    "    # Add convolutional layers\n",
    "    model.add(layers.Conv1D(hp_filters_1, hp_kernel_size, activation='relu', input_shape=(64,1)))\n",
    "    model.add(layers.Conv1D(hp_filters_2, hp_kernel_size, activation='relu'))\n",
    "    model.add(layers.MaxPooling1D(pool_size=2))\n",
    "    model.add(Dropout(hp_dropout))\n",
    "              \n",
    "    model.add(layers.Conv1D(hp_filters_3, hp_kernel_size, activation='relu'))\n",
    "    model.add(layers.MaxPooling1D(pool_size=2))\n",
    "    model.add(Dropout(hp_dropout))\n",
    "    \n",
    "    # Add fully connected layers\n",
    "    model.add(layers.Flatten())\n",
    "    model.add(layers.Dense(hp_units, activation='relu'))\n",
    "    model.add(layers.Dense(2, activation='sigmoid'))\n",
    "    \n",
    "    # Compile the model\n",
    "    model.compile(loss='sparse_categorical_crossentropy', optimizer='adam', metrics=['accuracy'])\n",
    "    \n",
    "    return model\n",
    "\n",
    "# Create a RandomSearch tuner\n",
    "tuner = RandomSearch(\n",
    "    build_model,\n",
    "    objective='val_accuracy',  # Hyperparameter optimization goal\n",
    "    max_trials=50,             # Number of trials (random combinations of hyperparameters)\n",
    "    directory='random_search', # Directory to save results\n",
    "    project_name='cnn_tuning'  # Name of the tuning project\n",
    ")\n",
    "\n",
    "\n",
    "# Perform the hyperparameter search\n",
    "tuner.search(X_train, Y_train_binary, epochs=20, validation_split=0.2)\n",
    "\n",
    "# Get the best hyperparameters\n",
    "best_hps = tuner.get_best_hyperparameters(num_trials=1)[0]\n",
    "\n",
    "# Build the final model with the best hyperparameters\n",
    "best_model = tuner.hypermodel.build(best_hps)\n",
    "\n",
    "#display the best model\n",
    "best_hps = tuner.get_best_hyperparameters(num_trials=1)[0]\n",
    "\n",
    "# Print the best hyperparameters\n",
    "print(\"Best Hyperparameters:\")\n",
    "print(f\"Number of Filters: {best_hps.get('num_filters')}\")\n",
    "print(f\"Kernel Size: {best_hps.get('kernel_size')}\")\n",
    "print(f\"Number of Units: {best_hps.get('units')}\")\n",
    "print(f\"Dropout Rate: {best_hps.get('dropout')}\")"
   ]
  },
  {
   "cell_type": "code",
   "execution_count": 8,
   "id": "0c86ca29",
   "metadata": {
    "scrolled": true
   },
   "outputs": [
    {
     "name": "stdout",
     "output_type": "stream",
     "text": [
      "Epoch 1/1000\n",
      "17/17 [==============================] - 1s 4ms/step - loss: 0.7007 - accuracy: 0.4634\n",
      "Epoch 2/1000\n",
      "17/17 [==============================] - 0s 3ms/step - loss: 0.6952 - accuracy: 0.5009\n",
      "Epoch 3/1000\n",
      "17/17 [==============================] - 0s 4ms/step - loss: 0.6966 - accuracy: 0.4634\n",
      "Epoch 4/1000\n",
      "17/17 [==============================] - 0s 4ms/step - loss: 0.6930 - accuracy: 0.4972\n",
      "Epoch 5/1000\n",
      "17/17 [==============================] - 0s 4ms/step - loss: 0.6958 - accuracy: 0.4878\n",
      "Epoch 6/1000\n",
      "17/17 [==============================] - 0s 4ms/step - loss: 0.6946 - accuracy: 0.4897\n",
      "Epoch 7/1000\n",
      "17/17 [==============================] - 0s 3ms/step - loss: 0.6926 - accuracy: 0.5328\n",
      "Epoch 8/1000\n",
      "17/17 [==============================] - 0s 4ms/step - loss: 0.6964 - accuracy: 0.5066\n",
      "Epoch 9/1000\n",
      "17/17 [==============================] - 0s 4ms/step - loss: 0.6927 - accuracy: 0.5235\n",
      "Epoch 10/1000\n",
      "17/17 [==============================] - 0s 3ms/step - loss: 0.6930 - accuracy: 0.5141\n",
      "Epoch 11/1000\n",
      "17/17 [==============================] - 0s 4ms/step - loss: 0.6917 - accuracy: 0.5272\n",
      "Epoch 12/1000\n",
      "17/17 [==============================] - 0s 4ms/step - loss: 0.6919 - accuracy: 0.5122\n",
      "Epoch 13/1000\n",
      "17/17 [==============================] - 0s 4ms/step - loss: 0.6932 - accuracy: 0.5141\n",
      "Epoch 14/1000\n",
      "17/17 [==============================] - 0s 4ms/step - loss: 0.6909 - accuracy: 0.5441\n",
      "Epoch 15/1000\n",
      "17/17 [==============================] - 0s 4ms/step - loss: 0.6928 - accuracy: 0.5328\n",
      "Epoch 16/1000\n",
      "17/17 [==============================] - 0s 3ms/step - loss: 0.6960 - accuracy: 0.4916\n",
      "Epoch 17/1000\n",
      "17/17 [==============================] - 0s 4ms/step - loss: 0.6922 - accuracy: 0.5066\n",
      "Epoch 18/1000\n",
      "17/17 [==============================] - 0s 4ms/step - loss: 0.6931 - accuracy: 0.5216\n",
      "Epoch 19/1000\n",
      "17/17 [==============================] - 0s 3ms/step - loss: 0.6934 - accuracy: 0.5178\n",
      "13/13 [==============================] - 0s 1ms/step\n",
      "[[135 252]\n",
      " [  0   0]]\n",
      "              precision    recall  f1-score   support\n",
      "\n",
      "           0     0.3488    1.0000    0.5172       135\n",
      "           1     0.0000    0.0000    0.0000       252\n",
      "\n",
      "    accuracy                         0.3488       387\n",
      "   macro avg     0.1744    0.5000    0.2586       387\n",
      "weighted avg     0.1217    0.3488    0.1804       387\n",
      "\n"
     ]
    },
    {
     "name": "stderr",
     "output_type": "stream",
     "text": [
      "D:\\Anaconda\\envs\\GPU\\lib\\site-packages\\sklearn\\metrics\\_classification.py:1344: UndefinedMetricWarning: Precision and F-score are ill-defined and being set to 0.0 in labels with no predicted samples. Use `zero_division` parameter to control this behavior.\n",
      "  _warn_prf(average, modifier, msg_start, len(result))\n",
      "D:\\Anaconda\\envs\\GPU\\lib\\site-packages\\sklearn\\metrics\\_classification.py:1344: UndefinedMetricWarning: Precision and F-score are ill-defined and being set to 0.0 in labels with no predicted samples. Use `zero_division` parameter to control this behavior.\n",
      "  _warn_prf(average, modifier, msg_start, len(result))\n",
      "D:\\Anaconda\\envs\\GPU\\lib\\site-packages\\sklearn\\metrics\\_classification.py:1344: UndefinedMetricWarning: Precision and F-score are ill-defined and being set to 0.0 in labels with no predicted samples. Use `zero_division` parameter to control this behavior.\n",
      "  _warn_prf(average, modifier, msg_start, len(result))\n"
     ]
    }
   ],
   "source": [
    "callback = tf.keras.callbacks.EarlyStopping(monitor='loss', patience=5)\n",
    "\n",
    "best_model.fit(X_train, Y_train_binary, epochs=1000, batch_size=32,callbacks=[callback])\n",
    "Y_pred = best_model.predict(X_test).argmax(axis=1)\n",
    "    \n",
    "cm = confusion_matrix(Y_pred, Y_test_binary)\n",
    "print(cm)\n",
    "print(classification_report(Y_test_binary, Y_pred, digits=4))"
   ]
  },
  {
   "cell_type": "code",
   "execution_count": null,
   "id": "0f6c7460",
   "metadata": {},
   "outputs": [],
   "source": []
  }
 ],
 "metadata": {
  "kernelspec": {
   "display_name": "Python 3 (ipykernel)",
   "language": "python",
   "name": "python3"
  },
  "language_info": {
   "codemirror_mode": {
    "name": "ipython",
    "version": 3
   },
   "file_extension": ".py",
   "mimetype": "text/x-python",
   "name": "python",
   "nbconvert_exporter": "python",
   "pygments_lexer": "ipython3",
   "version": "3.9.16"
  }
 },
 "nbformat": 4,
 "nbformat_minor": 5
}
