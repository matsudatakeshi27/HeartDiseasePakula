{
 "cells": [
  {
   "cell_type": "code",
   "execution_count": 4,
   "id": "b9f37971",
   "metadata": {},
   "outputs": [],
   "source": [
    "import numpy as np\n",
    "import random\n",
    "import cv2\n",
    "import os\n",
    "from imutils import paths\n",
    "from sklearn.preprocessing import LabelBinarizer\n",
    "from sklearn.model_selection import train_test_split\n",
    "from sklearn.utils import shuffle\n",
    "from sklearn.metrics import accuracy_score\n",
    "import pandas as pd\n",
    "import matplotlib.pyplot as plt\n",
    "from sklearn import metrics\n",
    "from sklearn.neural_network import MLPClassifier\n",
    "\n",
    "import tensorflow as tf\n",
    "from tensorflow.keras.models import Sequential\n",
    "from tensorflow.keras.layers import Conv1D, MaxPooling1D, Activation, Flatten, Dense, Dropout,SimpleRNN\n",
    "from tensorflow.keras.optimizers import SGD\n",
    "from tensorflow.keras import backend as K\n",
    "from sklearn.metrics import confusion_matrix, classification_report"
   ]
  },
  {
   "cell_type": "code",
   "execution_count": 14,
   "id": "05fdffd3",
   "metadata": {},
   "outputs": [],
   "source": [
    "#binarize the labels\n",
    "lb = LabelBinarizer()\n",
    "\n",
    "import pandas as pd\n",
    "\n",
    "data_files = ['cle_metadata_train.csv','cle_metadata_test.csv','hun_metadata_train.csv','hun_metadata_test.csv','swi_metadata_train.csv','swi_metadata_test.csv','vir_metadata_train.csv','vir_metadata_test.csv']\n",
    "\n",
    "datasets = {}\n",
    "\n",
    "for file in data_files:\n",
    "    data = pd.read_csv('../TrainTestData/' + file)\n",
    "    \n",
    "    X = data.iloc[:, :-1]\n",
    "    Y = data.iloc[:, -1]\n",
    "    \n",
    "    Y_binary = Y.apply(lambda x: 1 if x > 0 else 0)\n",
    "    \n",
    "    # Extract the name from the file path\n",
    "    name = file.split('.')[0]\n",
    "    \n",
    "    # Store the dataset components in a dictionary\n",
    "    datasets[name] = {'X': X, 'Y': Y, 'Y_binary': Y_binary}\n",
    "\n",
    "# Unpack the dictionary values in a loop\n",
    "variables = ['cle', 'hun', 'swi', 'vir']\n",
    "train_test = ['train', 'test']\n",
    "\n",
    "for var in variables:\n",
    "    for tt in train_test:\n",
    "        X, Y, Y_binary = datasets[f'{var}_metadata_{tt}'].values()\n",
    "        globals()[f'{var}_X_{tt}'] = X\n",
    "        globals()[f'{var}_Y_{tt}'] = Y\n",
    "        globals()[f'{var}_Y_{tt}_binary'] = Y_binary"
   ]
  },
  {
   "cell_type": "code",
   "execution_count": 18,
   "id": "8171119e",
   "metadata": {},
   "outputs": [],
   "source": [
    "X_test = pd.concat([cle_X_test,hun_X_test,swi_X_test,vir_X_test, swi_X_train])\n",
    "Y_test = pd.concat([cle_Y_test_binary,hun_Y_test_binary,swi_Y_test_binary,vir_Y_test_binary,swi_Y_train_binary])\n",
    "\n",
    "X_train = pd.concat([cle_X_train,hun_X_train,vir_X_train])\n",
    "Y_train = pd.concat([cle_Y_train_binary,hun_Y_train_binary,vir_Y_train_binary])"
   ]
  },
  {
   "cell_type": "code",
   "execution_count": null,
   "id": "eb1f95c8",
   "metadata": {},
   "outputs": [],
   "source": []
  },
  {
   "cell_type": "markdown",
   "id": "9e7299a8",
   "metadata": {},
   "source": [
    "# CNN"
   ]
  },
  {
   "cell_type": "code",
   "execution_count": 7,
   "id": "b3d85d63",
   "metadata": {},
   "outputs": [],
   "source": [
    "model = tf.keras.models.load_model('../Models/Meta_Only/Meta_CNN.h5')"
   ]
  },
  {
   "cell_type": "code",
   "execution_count": 16,
   "id": "9b13ff1f",
   "metadata": {
    "scrolled": true
   },
   "outputs": [
    {
     "name": "stdout",
     "output_type": "stream",
     "text": [
      "12/12 [==============================] - 0s 12ms/step\n"
     ]
    }
   ],
   "source": [
    "Y_predictions = np.argmax(model.predict(X_test),axis = 1)"
   ]
  },
  {
   "cell_type": "code",
   "execution_count": 19,
   "id": "5a50853d",
   "metadata": {},
   "outputs": [],
   "source": [
    "CNN_FL_pred = Y_predictions.copy()\n",
    "CNN_FL_label = Y_test"
   ]
  },
  {
   "cell_type": "code",
   "execution_count": 20,
   "id": "2eba4fe1",
   "metadata": {},
   "outputs": [],
   "source": [
    "import sklearn\n",
    "from sklearn import metrics"
   ]
  },
  {
   "cell_type": "code",
   "execution_count": 22,
   "id": "bbd3721f",
   "metadata": {},
   "outputs": [
    {
     "data": {
      "image/png": "[encoded data removed]",
      "text/plain": [
       "<Figure size 432x288 with 1 Axes>"
      ]
     },
     "metadata": {
      "needs_background": "light"
     },
     "output_type": "display_data"
    }
   ],
   "source": [
    "plt.figure(0).clf()\n",
    "plt.xlabel(\"False Positive Rate\")\n",
    "plt.ylabel(\"True Positive Rate\")\n",
    "    \n",
    "#fit logistic regression model and plot ROC curve\n",
    "fpr, tpr, _ = metrics.roc_curve(CNN_FL_label, CNN_FL_pred)\n",
    "auc = round(metrics.roc_auc_score(CNN_FL_label, CNN_FL_pred), 4)\n",
    "plt.plot([0, 1], [0, 1], 'k--')  # Random guessing line\n",
    "plt.plot(fpr,tpr,label=\"Metadata Federated Learning CNN, AUC=\"+str(auc))\n",
    "\n",
    "#add legend\n",
    "plt.legend()\n",
    "plt.show()"
   ]
  },
  {
   "cell_type": "markdown",
   "id": "ab90eaef",
   "metadata": {},
   "source": [
    "# CNN"
   ]
  },
  {
   "cell_type": "code",
   "execution_count": 23,
   "id": "bb3d549c",
   "metadata": {
    "scrolled": true
   },
   "outputs": [
    {
     "name": "stdout",
     "output_type": "stream",
     "text": [
      "Epoch 1/20\n",
      "21/21 [==============================] - 1s 23ms/step - loss: 0.6269 - accuracy: 0.6568\n",
      "Epoch 2/20\n",
      "21/21 [==============================] - 1s 24ms/step - loss: 0.4936 - accuracy: 0.7671\n",
      "Epoch 3/20\n",
      "21/21 [==============================] - 1s 24ms/step - loss: 0.4643 - accuracy: 0.7904\n",
      "Epoch 4/20\n",
      "21/21 [==============================] - 1s 24ms/step - loss: 0.4605 - accuracy: 0.7919\n",
      "Epoch 5/20\n",
      "21/21 [==============================] - 1s 24ms/step - loss: 0.4268 - accuracy: 0.7966\n",
      "Epoch 6/20\n",
      "21/21 [==============================] - 0s 24ms/step - loss: 0.4082 - accuracy: 0.8199\n",
      "Epoch 7/20\n",
      "21/21 [==============================] - 0s 23ms/step - loss: 0.4352 - accuracy: 0.7966\n",
      "Epoch 8/20\n",
      "21/21 [==============================] - 0s 23ms/step - loss: 0.4014 - accuracy: 0.8261\n",
      "Epoch 9/20\n",
      "21/21 [==============================] - 0s 23ms/step - loss: 0.3960 - accuracy: 0.8075\n",
      "Epoch 10/20\n",
      "21/21 [==============================] - 0s 23ms/step - loss: 0.4055 - accuracy: 0.8292\n",
      "Epoch 11/20\n",
      "21/21 [==============================] - 0s 23ms/step - loss: 0.4025 - accuracy: 0.8323\n",
      "Epoch 12/20\n",
      "21/21 [==============================] - 1s 24ms/step - loss: 0.3728 - accuracy: 0.8339\n",
      "Epoch 13/20\n",
      "21/21 [==============================] - 0s 23ms/step - loss: 0.3548 - accuracy: 0.8540\n",
      "Epoch 14/20\n",
      "21/21 [==============================] - 1s 24ms/step - loss: 0.3478 - accuracy: 0.8494\n",
      "Epoch 15/20\n",
      "21/21 [==============================] - 0s 23ms/step - loss: 0.3646 - accuracy: 0.8556\n",
      "Epoch 16/20\n",
      "21/21 [==============================] - 1s 24ms/step - loss: 0.3443 - accuracy: 0.8478\n",
      "Epoch 17/20\n",
      "21/21 [==============================] - 1s 25ms/step - loss: 0.3392 - accuracy: 0.8587\n",
      "Epoch 18/20\n",
      "21/21 [==============================] - 1s 24ms/step - loss: 0.3397 - accuracy: 0.8634\n",
      "Epoch 19/20\n",
      "21/21 [==============================] - 0s 23ms/step - loss: 0.3486 - accuracy: 0.8509\n",
      "Epoch 20/20\n",
      "21/21 [==============================] - 1s 24ms/step - loss: 0.3294 - accuracy: 0.8602\n",
      "21/21 [==============================] - 0s 5ms/step\n"
     ]
    }
   ],
   "source": [
    "Train = pd.read_csv('../TrainTestData/com_train.csv')\n",
    "Test = pd.read_csv('../TrainTestData/com_train.csv')\n",
    "    \n",
    "X_train = Train.iloc[:,:-1]\n",
    "Y_train = Train.iloc[:,-1]\n",
    "\n",
    "X_test = Test.iloc[:,:-1]\n",
    "Y_test = Test.iloc[:,-1]\n",
    "\n",
    "#binarize the target\n",
    "Y_train_binary = Y_train.apply(lambda x: 1 if x > 0 else 0)\n",
    "Y_test_binary = Y_test.apply(lambda x: 1 if x > 0 else 0)\n",
    "\n",
    "# CNN\n",
    "model = Sequential()\n",
    "model.add(Conv1D(filters=256, kernel_size=3, activation='relu', input_shape=(22,1)))\n",
    "model.add(Conv1D(filters=256, kernel_size=3, activation='relu'))\n",
    "model.add(MaxPooling1D(pool_size=2))\n",
    "\n",
    "model.add(Conv1D(filters=512, kernel_size=3, activation='relu'))\n",
    "model.add(MaxPooling1D(pool_size=2))\n",
    "\n",
    "model.add(Flatten())\n",
    "model.add(Dense(512, activation='relu'))\n",
    "model.add(Dense(2, activation='sigmoid'))\n",
    "\n",
    "model.compile(loss='sparse_categorical_crossentropy', optimizer='adam', metrics=['accuracy'])\n",
    "    \n",
    "model.fit(X_train, Y_train_binary, epochs=20, batch_size=32)\n",
    "Y_pred = model.predict(X_test).argmax(axis=1)\n",
    "\n",
    "CNN_pred = Y_pred\n",
    "CNN_label = Y_test_binary"
   ]
  },
  {
   "cell_type": "code",
   "execution_count": 24,
   "id": "d3799ecf",
   "metadata": {},
   "outputs": [
    {
     "data": {
      "image/png": "[encoded data removed]",
      "text/plain": [
       "<Figure size 432x288 with 1 Axes>"
      ]
     },
     "metadata": {
      "needs_background": "light"
     },
     "output_type": "display_data"
    }
   ],
   "source": [
    "plt.figure(0).clf()\n",
    "plt.xlabel(\"False Positive Rate\")\n",
    "plt.ylabel(\"True Positive Rate\")\n",
    "    \n",
    "#FL CNN\n",
    "fpr, tpr, _ = metrics.roc_curve(CNN_FL_label, CNN_FL_pred)\n",
    "auc = round(metrics.roc_auc_score(CNN_FL_label, CNN_FL_pred), 4)\n",
    "plt.plot([0, 1], [0, 1], 'k--')  # Random guessing line\n",
    "plt.plot(fpr,tpr,label=\"Metadata Federated Learning CNN, AUC=\"+str(auc))\n",
    "\n",
    "#CNN\n",
    "fpr, tpr, _ = metrics.roc_curve(CNN_label, CNN_pred)\n",
    "auc = round(metrics.roc_auc_score(CNN_label, CNN_pred), 4)\n",
    "plt.plot(fpr,tpr,label=\"Traditional CNN, AUC=\"+str(auc))\n",
    "\n",
    "#add legend\n",
    "plt.legend()\n",
    "plt.show()"
   ]
  },
  {
   "cell_type": "markdown",
   "id": "1c0be347",
   "metadata": {},
   "source": [
    "# RNN FL"
   ]
  },
  {
   "cell_type": "code",
   "execution_count": 26,
   "id": "ec308898",
   "metadata": {},
   "outputs": [
    {
     "name": "stdout",
     "output_type": "stream",
     "text": [
      "12/12 [==============================] - 0s 9ms/step\n"
     ]
    }
   ],
   "source": [
    "#binarize the labels\n",
    "lb = LabelBinarizer()\n",
    "\n",
    "import pandas as pd\n",
    "\n",
    "data_files = ['cle_metadata_train.csv','cle_metadata_test.csv','hun_metadata_train.csv','hun_metadata_test.csv','swi_metadata_train.csv','swi_metadata_test.csv','vir_metadata_train.csv','vir_metadata_test.csv']\n",
    "\n",
    "datasets = {}\n",
    "\n",
    "for file in data_files:\n",
    "    data = pd.read_csv('../TrainTestData/' + file)\n",
    "    \n",
    "    X = data.iloc[:, :-1]\n",
    "    Y = data.iloc[:, -1]\n",
    "    \n",
    "    Y_binary = Y.apply(lambda x: 1 if x > 0 else 0)\n",
    "    \n",
    "    # Extract the name from the file path\n",
    "    name = file.split('.')[0]\n",
    "    \n",
    "    # Store the dataset components in a dictionary\n",
    "    datasets[name] = {'X': X, 'Y': Y, 'Y_binary': Y_binary}\n",
    "\n",
    "# Unpack the dictionary values in a loop\n",
    "variables = ['cle', 'hun', 'swi', 'vir']\n",
    "train_test = ['train', 'test']\n",
    "\n",
    "for var in variables:\n",
    "    for tt in train_test:\n",
    "        X, Y, Y_binary = datasets[f'{var}_metadata_{tt}'].values()\n",
    "        globals()[f'{var}_X_{tt}'] = X\n",
    "        globals()[f'{var}_Y_{tt}'] = Y\n",
    "        globals()[f'{var}_Y_{tt}_binary'] = Y_binary\n",
    "        \n",
    "X_test = pd.concat([cle_X_test,hun_X_test,swi_X_test,vir_X_test, swi_X_train])\n",
    "y_test = pd.concat([cle_Y_test_binary,hun_Y_test_binary,swi_Y_test_binary,vir_Y_test_binary,swi_Y_train_binary])\n",
    "\n",
    "X_train = pd.concat([cle_X_train,hun_X_train,vir_X_train])\n",
    "y_train = pd.concat([cle_Y_train_binary,hun_Y_train_binary,vir_Y_train_binary])\n",
    "\n",
    "model = tf.keras.models.load_model('../Models/Meta_Only/Meta_RNN.h5')\n",
    "        \n",
    "Y_predictions = np.argmax(model.predict(X_test),axis = 1)\n",
    "\n",
    "RNN_FL_pred = Y_predictions.copy()\n",
    "RNN_FL_label = Y_test"
   ]
  },
  {
   "cell_type": "code",
   "execution_count": 27,
   "id": "d0d4c410",
   "metadata": {},
   "outputs": [],
   "source": [
    "from sklearn import metrics"
   ]
  },
  {
   "cell_type": "code",
   "execution_count": 31,
   "id": "ed0ad66d",
   "metadata": {},
   "outputs": [
    {
     "ename": "ValueError",
     "evalue": "continuous format is not supported",
     "output_type": "error",
     "traceback": [
      "\u001b[1;31m---------------------------------------------------------------------------\u001b[0m",
      "\u001b[1;31mValueError\u001b[0m                                Traceback (most recent call last)",
      "Input \u001b[1;32mIn [31]\u001b[0m, in \u001b[0;36m<cell line: 17>\u001b[1;34m()\u001b[0m\n\u001b[0;32m     14\u001b[0m plt\u001b[38;5;241m.\u001b[39mplot(fpr,tpr,label\u001b[38;5;241m=\u001b[39m\u001b[38;5;124m\"\u001b[39m\u001b[38;5;124mTraditional CNN, AUC=\u001b[39m\u001b[38;5;124m\"\u001b[39m\u001b[38;5;241m+\u001b[39m\u001b[38;5;28mstr\u001b[39m(auc))\n\u001b[0;32m     16\u001b[0m \u001b[38;5;66;03m#FL RNN\u001b[39;00m\n\u001b[1;32m---> 17\u001b[0m fpr, tpr, _ \u001b[38;5;241m=\u001b[39m \u001b[43mmetrics\u001b[49m\u001b[38;5;241;43m.\u001b[39;49m\u001b[43mroc_curve\u001b[49m\u001b[43m(\u001b[49m\u001b[43mRNN_FL_label\u001b[49m\u001b[43m,\u001b[49m\u001b[43m \u001b[49m\u001b[43mRNN_FL_pred\u001b[49m\u001b[43m)\u001b[49m\n\u001b[0;32m     18\u001b[0m auc \u001b[38;5;241m=\u001b[39m \u001b[38;5;28mround\u001b[39m(metrics\u001b[38;5;241m.\u001b[39mroc_auc_score(RNN_FL_label, RNN_FL_pred), \u001b[38;5;241m4\u001b[39m)\n\u001b[0;32m     19\u001b[0m plt\u001b[38;5;241m.\u001b[39mplot(fpr,tpr,label\u001b[38;5;241m=\u001b[39m\u001b[38;5;124m\"\u001b[39m\u001b[38;5;124mFederated Learning RNN, AUC=\u001b[39m\u001b[38;5;124m\"\u001b[39m\u001b[38;5;241m+\u001b[39m\u001b[38;5;28mstr\u001b[39m(auc))\n",
      "File \u001b[1;32mD:\\Anaconda\\lib\\site-packages\\sklearn\\utils\\_param_validation.py:211\u001b[0m, in \u001b[0;36mvalidate_params.<locals>.decorator.<locals>.wrapper\u001b[1;34m(*args, **kwargs)\u001b[0m\n\u001b[0;32m    205\u001b[0m \u001b[38;5;28;01mtry\u001b[39;00m:\n\u001b[0;32m    206\u001b[0m     \u001b[38;5;28;01mwith\u001b[39;00m config_context(\n\u001b[0;32m    207\u001b[0m         skip_parameter_validation\u001b[38;5;241m=\u001b[39m(\n\u001b[0;32m    208\u001b[0m             prefer_skip_nested_validation \u001b[38;5;129;01mor\u001b[39;00m global_skip_validation\n\u001b[0;32m    209\u001b[0m         )\n\u001b[0;32m    210\u001b[0m     ):\n\u001b[1;32m--> 211\u001b[0m         \u001b[38;5;28;01mreturn\u001b[39;00m func(\u001b[38;5;241m*\u001b[39margs, \u001b[38;5;241m*\u001b[39m\u001b[38;5;241m*\u001b[39mkwargs)\n\u001b[0;32m    212\u001b[0m \u001b[38;5;28;01mexcept\u001b[39;00m InvalidParameterError \u001b[38;5;28;01mas\u001b[39;00m e:\n\u001b[0;32m    213\u001b[0m     \u001b[38;5;66;03m# When the function is just a wrapper around an estimator, we allow\u001b[39;00m\n\u001b[0;32m    214\u001b[0m     \u001b[38;5;66;03m# the function to delegate validation to the estimator, but we replace\u001b[39;00m\n\u001b[0;32m    215\u001b[0m     \u001b[38;5;66;03m# the name of the estimator by the name of the function in the error\u001b[39;00m\n\u001b[0;32m    216\u001b[0m     \u001b[38;5;66;03m# message to avoid confusion.\u001b[39;00m\n\u001b[0;32m    217\u001b[0m     msg \u001b[38;5;241m=\u001b[39m re\u001b[38;5;241m.\u001b[39msub(\n\u001b[0;32m    218\u001b[0m         \u001b[38;5;124mr\u001b[39m\u001b[38;5;124m\"\u001b[39m\u001b[38;5;124mparameter of \u001b[39m\u001b[38;5;124m\\\u001b[39m\u001b[38;5;124mw+ must be\u001b[39m\u001b[38;5;124m\"\u001b[39m,\n\u001b[0;32m    219\u001b[0m         \u001b[38;5;124mf\u001b[39m\u001b[38;5;124m\"\u001b[39m\u001b[38;5;124mparameter of \u001b[39m\u001b[38;5;132;01m{\u001b[39;00mfunc\u001b[38;5;241m.\u001b[39m\u001b[38;5;18m__qualname__\u001b[39m\u001b[38;5;132;01m}\u001b[39;00m\u001b[38;5;124m must be\u001b[39m\u001b[38;5;124m\"\u001b[39m,\n\u001b[0;32m    220\u001b[0m         \u001b[38;5;28mstr\u001b[39m(e),\n\u001b[0;32m    221\u001b[0m     )\n",
      "File \u001b[1;32mD:\\Anaconda\\lib\\site-packages\\sklearn\\metrics\\_ranking.py:1094\u001b[0m, in \u001b[0;36mroc_curve\u001b[1;34m(y_true, y_score, pos_label, sample_weight, drop_intermediate)\u001b[0m\n\u001b[0;32m    992\u001b[0m \u001b[38;5;129m@validate_params\u001b[39m(\n\u001b[0;32m    993\u001b[0m     {\n\u001b[0;32m    994\u001b[0m         \u001b[38;5;124m\"\u001b[39m\u001b[38;5;124my_true\u001b[39m\u001b[38;5;124m\"\u001b[39m: [\u001b[38;5;124m\"\u001b[39m\u001b[38;5;124marray-like\u001b[39m\u001b[38;5;124m\"\u001b[39m],\n\u001b[1;32m   (...)\u001b[0m\n\u001b[0;32m   1003\u001b[0m     y_true, y_score, \u001b[38;5;241m*\u001b[39m, pos_label\u001b[38;5;241m=\u001b[39m\u001b[38;5;28;01mNone\u001b[39;00m, sample_weight\u001b[38;5;241m=\u001b[39m\u001b[38;5;28;01mNone\u001b[39;00m, drop_intermediate\u001b[38;5;241m=\u001b[39m\u001b[38;5;28;01mTrue\u001b[39;00m\n\u001b[0;32m   1004\u001b[0m ):\n\u001b[0;32m   1005\u001b[0m     \u001b[38;5;124;03m\"\"\"Compute Receiver operating characteristic (ROC).\u001b[39;00m\n\u001b[0;32m   1006\u001b[0m \n\u001b[0;32m   1007\u001b[0m \u001b[38;5;124;03m    Note: this implementation is restricted to the binary classification task.\u001b[39;00m\n\u001b[1;32m   (...)\u001b[0m\n\u001b[0;32m   1092\u001b[0m \u001b[38;5;124;03m    array([ inf, 0.8 , 0.4 , 0.35, 0.1 ])\u001b[39;00m\n\u001b[0;32m   1093\u001b[0m \u001b[38;5;124;03m    \"\"\"\u001b[39;00m\n\u001b[1;32m-> 1094\u001b[0m     fps, tps, thresholds \u001b[38;5;241m=\u001b[39m \u001b[43m_binary_clf_curve\u001b[49m\u001b[43m(\u001b[49m\n\u001b[0;32m   1095\u001b[0m \u001b[43m        \u001b[49m\u001b[43my_true\u001b[49m\u001b[43m,\u001b[49m\u001b[43m \u001b[49m\u001b[43my_score\u001b[49m\u001b[43m,\u001b[49m\u001b[43m \u001b[49m\u001b[43mpos_label\u001b[49m\u001b[38;5;241;43m=\u001b[39;49m\u001b[43mpos_label\u001b[49m\u001b[43m,\u001b[49m\u001b[43m \u001b[49m\u001b[43msample_weight\u001b[49m\u001b[38;5;241;43m=\u001b[39;49m\u001b[43msample_weight\u001b[49m\n\u001b[0;32m   1096\u001b[0m \u001b[43m    \u001b[49m\u001b[43m)\u001b[49m\n\u001b[0;32m   1098\u001b[0m     \u001b[38;5;66;03m# Attempt to drop thresholds corresponding to points in between and\u001b[39;00m\n\u001b[0;32m   1099\u001b[0m     \u001b[38;5;66;03m# collinear with other points. These are always suboptimal and do not\u001b[39;00m\n\u001b[0;32m   1100\u001b[0m     \u001b[38;5;66;03m# appear on a plotted ROC curve (and thus do not affect the AUC).\u001b[39;00m\n\u001b[1;32m   (...)\u001b[0m\n\u001b[0;32m   1105\u001b[0m     \u001b[38;5;66;03m# but does not drop more complicated cases like fps = [1, 3, 7],\u001b[39;00m\n\u001b[0;32m   1106\u001b[0m     \u001b[38;5;66;03m# tps = [1, 2, 4]; there is no harm in keeping too many thresholds.\u001b[39;00m\n\u001b[0;32m   1107\u001b[0m     \u001b[38;5;28;01mif\u001b[39;00m drop_intermediate \u001b[38;5;129;01mand\u001b[39;00m \u001b[38;5;28mlen\u001b[39m(fps) \u001b[38;5;241m>\u001b[39m \u001b[38;5;241m2\u001b[39m:\n",
      "File \u001b[1;32mD:\\Anaconda\\lib\\site-packages\\sklearn\\metrics\\_ranking.py:803\u001b[0m, in \u001b[0;36m_binary_clf_curve\u001b[1;34m(y_true, y_score, pos_label, sample_weight)\u001b[0m\n\u001b[0;32m    801\u001b[0m y_type \u001b[38;5;241m=\u001b[39m type_of_target(y_true, input_name\u001b[38;5;241m=\u001b[39m\u001b[38;5;124m\"\u001b[39m\u001b[38;5;124my_true\u001b[39m\u001b[38;5;124m\"\u001b[39m)\n\u001b[0;32m    802\u001b[0m \u001b[38;5;28;01mif\u001b[39;00m \u001b[38;5;129;01mnot\u001b[39;00m (y_type \u001b[38;5;241m==\u001b[39m \u001b[38;5;124m\"\u001b[39m\u001b[38;5;124mbinary\u001b[39m\u001b[38;5;124m\"\u001b[39m \u001b[38;5;129;01mor\u001b[39;00m (y_type \u001b[38;5;241m==\u001b[39m \u001b[38;5;124m\"\u001b[39m\u001b[38;5;124mmulticlass\u001b[39m\u001b[38;5;124m\"\u001b[39m \u001b[38;5;129;01mand\u001b[39;00m pos_label \u001b[38;5;129;01mis\u001b[39;00m \u001b[38;5;129;01mnot\u001b[39;00m \u001b[38;5;28;01mNone\u001b[39;00m)):\n\u001b[1;32m--> 803\u001b[0m     \u001b[38;5;28;01mraise\u001b[39;00m \u001b[38;5;167;01mValueError\u001b[39;00m(\u001b[38;5;124m\"\u001b[39m\u001b[38;5;132;01m{0}\u001b[39;00m\u001b[38;5;124m format is not supported\u001b[39m\u001b[38;5;124m\"\u001b[39m\u001b[38;5;241m.\u001b[39mformat(y_type))\n\u001b[0;32m    805\u001b[0m check_consistent_length(y_true, y_score, sample_weight)\n\u001b[0;32m    806\u001b[0m y_true \u001b[38;5;241m=\u001b[39m column_or_1d(y_true)\n",
      "\u001b[1;31mValueError\u001b[0m: continuous format is not supported"
     ]
    },
    {
     "data": {
      "image/png": "[encoded data removed]",
      "text/plain": [
       "<Figure size 432x288 with 1 Axes>"
      ]
     },
     "metadata": {
      "needs_background": "light"
     },
     "output_type": "display_data"
    }
   ],
   "source": [
    "plt.figure(0).clf()\n",
    "plt.xlabel(\"False Positive Rate\")\n",
    "plt.ylabel(\"True Positive Rate\")\n",
    "    \n",
    "#FL CNN\n",
    "fpr, tpr, _ = metrics.roc_curve(CNN_FL_label, CNN_FL_pred)\n",
    "auc = round(metrics.roc_auc_score(CNN_FL_label, CNN_FL_pred), 4)\n",
    "plt.plot([0, 1], [0, 1], 'k--')  # Random guessing line\n",
    "plt.plot(fpr,tpr,label=\"Federated Learning CNN, AUC=\"+str(auc))\n",
    "\n",
    "#CNN\n",
    "fpr, tpr, _ = metrics.roc_curve(CNN_label, CNN_pred)\n",
    "auc = round(metrics.roc_auc_score(CNN_label, CNN_pred), 4)\n",
    "plt.plot(fpr,tpr,label=\"Traditional CNN, AUC=\"+str(auc))\n",
    "\n",
    "#FL RNN\n",
    "fpr, tpr, _ = metrics.roc_curve(RNN_FL_label, RNN_FL_pred)\n",
    "auc = round(metrics.roc_auc_score(RNN_FL_label, RNN_FL_pred), 4)\n",
    "plt.plot(fpr,tpr,label=\"Federated Learning RNN, AUC=\"+str(auc))\n",
    "\n",
    "#add legend\n",
    "plt.legend()\n",
    "plt.show()"
   ]
  },
  {
   "cell_type": "markdown",
   "id": "062a418a",
   "metadata": {},
   "source": [
    "# RNN"
   ]
  },
  {
   "cell_type": "code",
   "execution_count": null,
   "id": "211a811e",
   "metadata": {},
   "outputs": [],
   "source": [
    "#Split the data\n",
    "Train = pd.read_csv('../TrainTestData/com_train.csv')\n",
    "Test = pd.read_csv('../TrainTestData/com_test.csv')\n",
    "    \n",
    "X_train = Train.iloc[:,:-1]\n",
    "Y_train = Train.iloc[:,-1]\n",
    "\n",
    "X_test = Test.iloc[:,:-1]\n",
    "Y_test = Test.iloc[:,-1]\n",
    "\n",
    "#binarize the target\n",
    "Y_train_binary = Y_train.apply(lambda x: 1 if x > 0 else 0)\n",
    "Y_test_binary = Y_test.apply(lambda x: 1 if x > 0 else 0)\n",
    "\n",
    "# define the model architecture\n",
    "model = Sequential()\n",
    "model.add(SimpleRNN(units=22, return_sequences=True, input_shape=(22, 1)))\n",
    "model.add(SimpleRNN(units=32, return_sequences=True))\n",
    "model.add(SimpleRNN(units=16))\n",
    "model.add(Dense(units=2, activation='sigmoid'))\n",
    "model.compile(optimizer='adam', loss='sparse_categorical_crossentropy', metrics=['accuracy'])\n",
    "    \n",
    "model.fit(X_train, Y_train_binary, epochs=10, batch_size=32)\n",
    "Y_pred = model.predict(X_test).argmax(axis=1)\n",
    "\n",
    "RNN_pred = Y_pred\n",
    "RNN_label = Y_test_binary"
   ]
  },
  {
   "cell_type": "code",
   "execution_count": null,
   "id": "1e1e1c87",
   "metadata": {},
   "outputs": [],
   "source": [
    "plt.figure(0).clf()\n",
    "plt.xlabel(\"False Positive Rate\")\n",
    "plt.ylabel(\"True Positive Rate\")\n",
    "    \n",
    "#FL CNN\n",
    "fpr, tpr, _ = metrics.roc_curve(CNN_FL_label, CNN_FL_pred)\n",
    "auc = round(metrics.roc_auc_score(CNN_FL_label, CNN_FL_pred), 4)\n",
    "plt.plot([0, 1], [0, 1], 'k--')  # Random guessing line\n",
    "plt.plot(fpr,tpr,label=\"Federated Learning CNN, AUC=\"+str(auc))\n",
    "\n",
    "#CNN\n",
    "fpr, tpr, _ = metrics.roc_curve(CNN_label, CNN_pred)\n",
    "auc = round(metrics.roc_auc_score(CNN_label, CNN_pred), 4)\n",
    "plt.plot(fpr,tpr,label=\"Traditional CNN, AUC=\"+str(auc))\n",
    "\n",
    "#FL RNN\n",
    "fpr, tpr, _ = metrics.roc_curve(RNN_FL_label, RNN_FL_pred)\n",
    "auc = round(metrics.roc_auc_score(RNN_FL_label, RNN_FL_pred), 4)\n",
    "plt.plot(fpr,tpr,label=\"Federated Learning RNN, AUC=\"+str(auc))\n",
    "\n",
    "#RNN\n",
    "fpr, tpr, _ = metrics.roc_curve(RNN_label, RNN_pred)\n",
    "auc = round(metrics.roc_auc_score(RNN_label, RNN_pred), 4)\n",
    "plt.plot(fpr,tpr,label=\"Traditional RNN, AUC=\"+str(auc))\n",
    "\n",
    "#add legend\n",
    "plt.legend()\n",
    "plt.show()"
   ]
  },
  {
   "cell_type": "markdown",
   "id": "4ce681cc",
   "metadata": {},
   "source": [
    "# ANN FL"
   ]
  },
  {
   "cell_type": "code",
   "execution_count": null,
   "id": "f15a9047",
   "metadata": {},
   "outputs": [],
   "source": [
    "#binarize the labels\n",
    "lb = LabelBinarizer()\n",
    "\n",
    "import pandas as pd\n",
    "\n",
    "data_files = ['cle_train.csv','cle_test.csv','hun_train.csv','hun_test.csv','swi_train.csv','swi_test.csv','vir_train.csv','vir_test.csv']\n",
    "\n",
    "datasets = {}\n",
    "\n",
    "for file in data_files:\n",
    "    data = pd.read_csv('../TrainTestData/' + file)\n",
    "    \n",
    "    X = data.iloc[:, :-1]\n",
    "    Y = data.iloc[:, -1]\n",
    "    \n",
    "    Y_binary = Y.apply(lambda x: 1 if x > 0 else 0)\n",
    "    \n",
    "    # Extract the name from the file path\n",
    "    name = file.split('.')[0]\n",
    "    \n",
    "    # Store the dataset components in a dictionary\n",
    "    datasets[name] = {'X': X, 'Y': Y, 'Y_binary': Y_binary}\n",
    "\n",
    "# Unpack the dictionary values in a loop\n",
    "variables = ['cle', 'hun', 'swi', 'vir']\n",
    "train_test = ['train', 'test']\n",
    "\n",
    "for var in variables:\n",
    "    for tt in train_test:\n",
    "        X, Y, Y_binary = datasets[f'{var}_{tt}'].values()\n",
    "        globals()[f'{var}_X_{tt}'] = X\n",
    "        globals()[f'{var}_Y_{tt}'] = Y\n",
    "        globals()[f'{var}_Y_{tt}_binary'] = Y_binary\n",
    "        \n",
    "X_test = pd.concat([cle_X_test,hun_X_test,swi_X_test,vir_X_test, swi_X_train])\n",
    "y_test = pd.concat([cle_Y_test_binary,hun_Y_test_binary,swi_Y_test_binary,vir_Y_test_binary,swi_Y_train_binary])\n",
    "\n",
    "X_train = pd.concat([cle_X_train,hun_X_train,vir_X_train])\n",
    "y_train = pd.concat([cle_Y_train_binary,hun_Y_train_binary,vir_Y_train_binary])\n",
    "\n",
    "class SimpleMLP:\n",
    "    @staticmethod\n",
    "    def build(shape, classes):\n",
    "        model = Sequential()\n",
    "        model.add(Dense(200, input_shape=(shape,)))\n",
    "        model.add(Activation(\"relu\"))\n",
    "        model.add(Dense(200))\n",
    "        model.add(Activation(\"relu\"))\n",
    "        model.add(Dense(classes))\n",
    "        model.add(Activation(\"sigmoid\"))\n",
    "        return model\n",
    "\n",
    "#create clients\n",
    "clients = create_clients()\n",
    "\n",
    "#process and batch the training data for each client\n",
    "clients_batched = dict()\n",
    "for (client_name, data) in clients.items():\n",
    "    clients_batched[client_name] = batch_data(data)\n",
    "    \n",
    "#process and batch the test set  \n",
    "test_batched = tf.data.Dataset.from_tensor_slices((X_test, y_test)).batch(len(y_test))\n",
    "\n",
    "comms_round = 100\n",
    "    \n",
    "#create optimizer\n",
    "lr = 0.01 \n",
    "loss='sparse_categorical_crossentropy'\n",
    "metrics = ['accuracy']\n",
    "optimizer = tf.keras.optimizers.legacy.SGD(lr=lr, decay=lr / comms_round, momentum=0.9) \n",
    "\n",
    "#initialize global model\n",
    "smlp_global = SimpleMLP()\n",
    "global_model = smlp_global.build(22, 2)\n",
    "        \n",
    "#commence global training loop\n",
    "for comm_round in range(comms_round):\n",
    "            \n",
    "    # get the global model's weights - will serve as the initial weights for all local models\n",
    "    global_weights = global_model.get_weights()\n",
    "    \n",
    "    #initial list to collect local model weights after scalling\n",
    "    scaled_local_weight_list = list()\n",
    "\n",
    "    #randomize client data - using keys\n",
    "    client_names= list(clients_batched.keys())\n",
    "    random.shuffle(client_names)\n",
    "    \n",
    "    #loop through each client and create new local model\n",
    "    for client in client_names:\n",
    "        smlp_local = SimpleMLP()\n",
    "        local_model = smlp_local.build(22, 2)\n",
    "        local_model.compile(loss=loss, \n",
    "                      optimizer=optimizer, \n",
    "                      metrics=metrics)\n",
    "        \n",
    "        #set local model weight to the weight of the global model\n",
    "        local_model.set_weights(global_weights)\n",
    "        \n",
    "        #fit local model with client's data\n",
    "        local_model.fit(clients_batched[client], epochs=1, verbose=0)\n",
    "        \n",
    "        #scale the model weights and add to list\n",
    "        scaling_factor = weight_scalling_factor(clients_batched, client)\n",
    "        scaled_weights = scale_model_weights(local_model.get_weights(), scaling_factor)\n",
    "        scaled_local_weight_list.append(scaled_weights)\n",
    "        \n",
    "        #clear session to free memory after each communication round\n",
    "        K.clear_session()\n",
    "        \n",
    "    #to get the average over all the local model, we simply take the sum of the scaled weights\n",
    "    average_weights = sum_scaled_weights(scaled_local_weight_list)\n",
    "    \n",
    "    #update global model \n",
    "    global_model.set_weights(average_weights)\n",
    "\n",
    "    #test global model and print out metrics after each communications round\n",
    "    for(X_test, Y_test) in test_batched:\n",
    "        global_acc, global_loss = test_model(X_test, Y_test, global_model, comm_round)\n",
    "        SGD_dataset = tf.data.Dataset.from_tensor_slices((X_train, y_train)).shuffle(len(y_train)).batch(250)\n",
    "        smlp_SGD = CNN()\n",
    "        SGD_model = smlp_SGD.build(22, 2) \n",
    "\n",
    "        SGD_model.compile(loss=loss, optimizer=optimizer, metrics=metrics)\n",
    "\n",
    "# fit the SGD training data to model\n",
    "_ = SGD_model.fit(SGD_dataset, epochs=100, verbose=0)\n",
    "\n",
    "#test the SGD global model and print out metrics\n",
    "for(X_test, Y_test) in test_batched:\n",
    "        SGD_acc, SGD_loss = test_model(X_test, Y_test, SGD_model, 1)\n",
    "        \n",
    "Y_predictions = np.argmax(SGD_model.predict(X_test),axis = 1)\n",
    "\n",
    "ANN_FL_pred = Y_predictions.copy()\n",
    "ANN_FL_label = Y_test"
   ]
  },
  {
   "cell_type": "code",
   "execution_count": null,
   "id": "b91bdab4",
   "metadata": {},
   "outputs": [],
   "source": [
    "from sklearn import metrics\n",
    "\n",
    "plt.figure(0).clf()\n",
    "plt.xlabel(\"False Positive Rate\")\n",
    "plt.ylabel(\"True Positive Rate\")\n",
    "    \n",
    "#FL CNN\n",
    "fpr, tpr, _ = metrics.roc_curve(CNN_FL_label, CNN_FL_pred)\n",
    "auc = round(metrics.roc_auc_score(CNN_FL_label, CNN_FL_pred), 4)\n",
    "plt.plot([0, 1], [0, 1], 'k--')  # Random guessing line\n",
    "plt.plot(fpr,tpr,label=\"Federated Learning CNN, AUC=\"+str(auc))\n",
    "\n",
    "#CNN\n",
    "fpr, tpr, _ = metrics.roc_curve(CNN_label, CNN_pred)\n",
    "auc = round(metrics.roc_auc_score(CNN_label, CNN_pred), 4)\n",
    "plt.plot(fpr,tpr,label=\"Traditional CNN, AUC=\"+str(auc))\n",
    "\n",
    "#FL RNN\n",
    "fpr, tpr, _ = metrics.roc_curve(RNN_FL_label, RNN_FL_pred)\n",
    "auc = round(metrics.roc_auc_score(RNN_FL_label, RNN_FL_pred), 4)\n",
    "plt.plot(fpr,tpr,label=\"Federated Learning RNN, AUC=\"+str(auc))\n",
    "\n",
    "#RNN\n",
    "fpr, tpr, _ = metrics.roc_curve(RNN_label, RNN_pred)\n",
    "auc = round(metrics.roc_auc_score(RNN_label, RNN_pred), 4)\n",
    "plt.plot(fpr,tpr,label=\"Traditional RNN, AUC=\"+str(auc))\n",
    "\n",
    "#FL ANN\n",
    "fpr, tpr, _ = metrics.roc_curve(ANN_FL_label, ANN_FL_pred)\n",
    "auc = round(metrics.roc_auc_score(ANN_FL_label, ANN_FL_pred), 4)\n",
    "plt.plot(fpr,tpr,label=\"Traditional RNN, AUC=\"+str(auc))\n",
    "\n",
    "#add legend\n",
    "plt.legend()\n",
    "plt.show()"
   ]
  },
  {
   "cell_type": "markdown",
   "id": "8eea166e",
   "metadata": {},
   "source": [
    "# ANN"
   ]
  },
  {
   "cell_type": "code",
   "execution_count": null,
   "id": "5fae9e25",
   "metadata": {},
   "outputs": [],
   "source": [
    "Train = pd.read_csv('../TrainTestData/com_train.csv')\n",
    "Test = pd.read_csv('../TrainTestData/com_test.csv')\n",
    "    \n",
    "X_train = Train.iloc[:,:-1]\n",
    "Y_train = Train.iloc[:,-1]\n",
    "\n",
    "X_test = Test.iloc[:,:-1]\n",
    "Y_test = Test.iloc[:,-1]\n",
    "\n",
    "#binarize the target\n",
    "Y_train_binary = Y_train.apply(lambda x: 1 if x > 0 else 0)\n",
    "Y_test_binary = Y_test.apply(lambda x: 1 if x > 0 else 0)\n",
    "\n",
    "# define the model architecture\n",
    "clf = MLPClassifier(activation = 'logistic', hidden_layer_sizes=(150))\n",
    "    \n",
    "clf.fit(X_train, Y_train_binary)\n",
    "Y_pred = clf.predict(X_test)\n",
    "\n",
    "ANN_pred = Y_pred\n",
    "ANN_label = Y_test_binary"
   ]
  },
  {
   "cell_type": "code",
   "execution_count": null,
   "id": "83d485c7",
   "metadata": {},
   "outputs": [],
   "source": [
    "from sklearn import metrics\n",
    "\n",
    "plt.figure(0).clf()\n",
    "plt.xlabel(\"False Positive Rate\")\n",
    "plt.ylabel(\"True Positive Rate\")\n",
    "    \n",
    "#FL CNN\n",
    "fpr, tpr, _ = metrics.roc_curve(CNN_FL_label, CNN_FL_pred)\n",
    "auc = round(metrics.roc_auc_score(CNN_FL_label, CNN_FL_pred), 4)\n",
    "plt.plot([0, 1], [0, 1], 'k--')  # Random guessing line\n",
    "plt.plot(fpr,tpr,label=\"Federated Learning CNN, AUC=\"+str(auc))\n",
    "\n",
    "#CNN\n",
    "fpr, tpr, _ = metrics.roc_curve(CNN_label, CNN_pred)\n",
    "auc = round(metrics.roc_auc_score(CNN_label, CNN_pred), 4)\n",
    "plt.plot(fpr,tpr,label=\"Traditional CNN, AUC=\"+str(auc))\n",
    "\n",
    "#FL RNN\n",
    "fpr, tpr, _ = metrics.roc_curve(RNN_FL_label, RNN_FL_pred)\n",
    "auc = round(metrics.roc_auc_score(RNN_FL_label, RNN_FL_pred), 4)\n",
    "plt.plot(fpr,tpr,label=\"Federated Learning RNN, AUC=\"+str(auc))\n",
    "\n",
    "#RNN\n",
    "fpr, tpr, _ = metrics.roc_curve(RNN_label, RNN_pred)\n",
    "auc = round(metrics.roc_auc_score(RNN_label, RNN_pred), 4)\n",
    "plt.plot(fpr,tpr,label=\"Traditional RNN, AUC=\"+str(auc))\n",
    "\n",
    "#FL ANN\n",
    "fpr, tpr, _ = metrics.roc_curve(ANN_FL_label, ANN_FL_pred)\n",
    "auc = round(metrics.roc_auc_score(ANN_FL_label, ANN_FL_pred), 4)\n",
    "plt.plot(fpr,tpr,label=\"Federated Learning RNN, AUC=\"+str(auc))\n",
    "\n",
    "#=ANN\n",
    "fpr, tpr, _ = metrics.roc_curve(ANN_label, ANN_pred)\n",
    "auc = round(metrics.roc_auc_score(ANN_label, ANN_pred), 4)\n",
    "plt.plot(fpr,tpr,label=\"Traditional RNN, AUC=\"+str(auc))\n",
    "\n",
    "#add legend\n",
    "plt.legend()\n",
    "plt.show()"
   ]
  },
  {
   "cell_type": "code",
   "execution_count": null,
   "id": "5fc44842",
   "metadata": {},
   "outputs": [],
   "source": []
  },
  {
   "cell_type": "code",
   "execution_count": null,
   "id": "dc75cf3a",
   "metadata": {},
   "outputs": [],
   "source": []
  }
 ],
 "metadata": {
  "kernelspec": {
   "display_name": "Python 3 (ipykernel)",
   "language": "python",
   "name": "python3"
  },
  "language_info": {
   "codemirror_mode": {
    "name": "ipython",
    "version": 3
   },
   "file_extension": ".py",
   "mimetype": "text/x-python",
   "name": "python",
   "nbconvert_exporter": "python",
   "pygments_lexer": "ipython3",
   "version": "3.9.12"
  }
 },
 "nbformat": 4,
 "nbformat_minor": 5
}
