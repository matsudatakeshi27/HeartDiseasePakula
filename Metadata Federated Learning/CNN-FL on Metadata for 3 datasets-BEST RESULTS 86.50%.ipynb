{
 "cells": [
  {
   "cell_type": "code",
   "execution_count": 1,
   "id": "b9f37971",
   "metadata": {},
   "outputs": [],
   "source": [
    "import numpy as np\n",
    "import random\n",
    "import cv2\n",
    "import os\n",
    "from imutils import paths\n",
    "from sklearn.preprocessing import LabelBinarizer\n",
    "from sklearn.model_selection import train_test_split\n",
    "from sklearn.utils import shuffle\n",
    "from sklearn.metrics import accuracy_score\n",
    "import pandas as pd\n",
    "\n",
    "import tensorflow as tf\n",
    "from tensorflow.keras.models import Sequential\n",
    "from tensorflow.keras.layers import Conv1D, MaxPooling1D, Activation, Flatten, Dense, Dropout\n",
    "from tensorflow.keras.optimizers import SGD\n",
    "from tensorflow.keras import backend as K\n",
    "from sklearn.metrics import confusion_matrix, classification_report"
   ]
  },
  {
   "cell_type": "code",
   "execution_count": 2,
   "id": "8f4ebcbf",
   "metadata": {},
   "outputs": [],
   "source": [
    "data_files = ['cle_metadata', 'vir_metadata', 'hun_metadata', 'swi_metadata']\n",
    "\n",
    "for file in data_files:\n",
    "    data = pd.read_csv('../Metadata Learning/' + file + '.csv', index_col = 0)\n",
    "    \n",
    "    X = data.iloc[:, :-1]\n",
    "    Y = data.iloc[:, -1]\n",
    "    \n",
    "    Y_binary = Y.apply(lambda x: 1 if x > 0 else 0)\n",
    "    \n",
    "    X_train, X_test, y_train, y_test = train_test_split(X, Y, test_size = 0.3, random_state = 42)\n",
    "    \n",
    "    train = pd.concat([X_train, y_train], axis=1)\n",
    "    test = pd.concat([X_test, y_test], axis=1)\n",
    "    \n",
    "    train.to_csv('../TrainTestData/'+ file + \"_train.csv\")\n",
    "    test.to_csv('../TrainTestData/' + file + \"_test.csv\")"
   ]
  },
  {
   "cell_type": "code",
   "execution_count": 3,
   "id": "05fdffd3",
   "metadata": {},
   "outputs": [],
   "source": [
    "#binarize the labels\n",
    "lb = LabelBinarizer()\n",
    "\n",
    "import pandas as pd\n",
    "\n",
    "data_files = ['cle_metadata_train.csv','cle_metadata_test.csv','hun_metadata_train.csv','hun_metadata_test.csv','swi_metadata_train.csv','swi_metadata_test.csv','vir_metadata_train.csv','vir_metadata_test.csv']\n",
    "\n",
    "datasets = {}\n",
    "\n",
    "for file in data_files:\n",
    "    data = pd.read_csv('../TrainTestData/' + file)\n",
    "    \n",
    "    X = data.iloc[:, :-1]\n",
    "    Y = data.iloc[:, -1]\n",
    "    \n",
    "    Y_binary = Y.apply(lambda x: 1 if x > 0 else 0)\n",
    "    \n",
    "    # Extract the name from the file path\n",
    "    name = file.split('.')[0]\n",
    "    \n",
    "    # Store the dataset components in a dictionary\n",
    "    datasets[name] = {'X': X, 'Y': Y, 'Y_binary': Y_binary}\n",
    "\n",
    "# Unpack the dictionary values in a loop\n",
    "variables = ['cle', 'hun', 'swi', 'vir']\n",
    "train_test = ['train', 'test']\n",
    "\n",
    "for var in variables:\n",
    "    for tt in train_test:\n",
    "        X, Y, Y_binary = datasets[f'{var}_metadata_{tt}'].values()\n",
    "        globals()[f'{var}_X_{tt}'] = X\n",
    "        globals()[f'{var}_Y_{tt}'] = Y\n",
    "        globals()[f'{var}_Y_{tt}_binary'] = Y_binary"
   ]
  },
  {
   "cell_type": "code",
   "execution_count": 4,
   "id": "8171119e",
   "metadata": {},
   "outputs": [],
   "source": [
    "X_test = pd.concat([cle_X_test,hun_X_test,swi_X_test,vir_X_test, swi_X_train])\n",
    "y_test = pd.concat([cle_Y_test_binary,hun_Y_test_binary,swi_Y_test_binary,vir_Y_test_binary,swi_Y_train_binary])\n",
    "\n",
    "X_train = pd.concat([cle_X_train,hun_X_train,vir_X_train])\n",
    "y_train = pd.concat([cle_Y_train_binary,hun_Y_train_binary,vir_Y_train_binary])"
   ]
  },
  {
   "cell_type": "code",
   "execution_count": 5,
   "id": "3fc05e42",
   "metadata": {},
   "outputs": [],
   "source": [
    "def create_clients():\n",
    "    cle_zip = list(zip(cle_X_train.values,cle_Y_train_binary))\n",
    "    hun_zip = list(zip(hun_X_train.values,hun_Y_train_binary))\n",
    "    vir_zip = list(zip(vir_X_train.values,vir_Y_train_binary))\n",
    "    #swi_zip = list(zip(swi_X_train.values,swi_Y_train_binary))\n",
    "    \n",
    "    shards = [cle_zip, hun_zip, vir_zip]\n",
    "    client_names = [\"client_1\",\"client_2\",\"client_3\"]\n",
    "    dic = {client_names[i] : shards[i] for i in range(len(client_names))}\n",
    "    return dic\n",
    "\n",
    "\n",
    "def batch_data(data_shard, bs=32):\n",
    "    '''Takes in a clients data shard and create a tfds object off it\n",
    "    args:\n",
    "        shard: a data, label constituting a client's data shard\n",
    "        bs:batch size\n",
    "    return:\n",
    "        tfds object'''\n",
    "    #seperate shard into data and labels lists\n",
    "    data, label = zip(*data_shard)\n",
    "    dataset = tf.data.Dataset.from_tensor_slices((list(data), list(label)))\n",
    "    return dataset.shuffle(len(label)).batch(bs)\n",
    "\n",
    "\n",
    "class CNN:\n",
    "    @staticmethod\n",
    "    def build(shape, classes):\n",
    "        model = Sequential()\n",
    "        model.add(Conv1D(filters=64, kernel_size=3, activation='relu', input_shape=(64,1)))\n",
    "        model.add(Conv1D(filters=64, kernel_size=3, activation='relu'))\n",
    "        model.add(MaxPooling1D(pool_size=2))\n",
    "\n",
    "        model.add(Conv1D(filters=128, kernel_size=3, activation='relu'))\n",
    "        model.add(MaxPooling1D(pool_size=2))\n",
    "\n",
    "        model.add(Flatten())\n",
    "        model.add(Dense(256, activation='relu'))\n",
    "        model.add(Dense(2, activation='sigmoid'))\n",
    "\n",
    "        model.compile(loss='sparse_categorical_crossentropy', optimizer='adam', metrics=['accuracy'])\n",
    "        return model\n",
    "    \n",
    "\n",
    "def weight_scalling_factor(clients_trn_data, client_name):\n",
    "    client_names = list(clients_trn_data.keys())\n",
    "    #get the bs\n",
    "    bs = list(clients_trn_data[client_name])[0][0].shape[0]\n",
    "    #first calculate the total training data points across clinets\n",
    "    global_count = sum([tf.data.experimental.cardinality(clients_trn_data[client_name]).numpy() for client_name in client_names])*bs\n",
    "    # get the total number of data points held by a client\n",
    "    local_count = tf.data.experimental.cardinality(clients_trn_data[client_name]).numpy()*bs\n",
    "    return local_count/global_count\n",
    "\n",
    "\n",
    "def scale_model_weights(weight, scalar):\n",
    "    '''function for scaling a models weights'''\n",
    "    weight_final = []\n",
    "    steps = len(weight)\n",
    "    for i in range(steps):\n",
    "        weight_final.append(scalar * weight[i])\n",
    "    return weight_final\n",
    "\n",
    "\n",
    "def sum_scaled_weights(scaled_weight_list):\n",
    "    '''Return the sum of the listed scaled weights. The is equivalent to scaled avg of the weights'''\n",
    "    avg_grad = list()\n",
    "    #get the average grad accross all client gradients\n",
    "    for grad_list_tuple in zip(*scaled_weight_list):\n",
    "        layer_mean = tf.math.reduce_sum(grad_list_tuple, axis=0)\n",
    "        avg_grad.append(layer_mean)\n",
    "        \n",
    "    return avg_grad\n",
    "\n",
    "\n",
    "def test_model(X_test, Y_test,  model, comm_round):\n",
    "    cce = tf.keras.losses.SparseCategoricalCrossentropy(from_logits=True)\n",
    "    #logits = model.predict(X_test, batch_size=100)\n",
    "    logits = model.predict(X_test)\n",
    "    length = len(y_test)\n",
    "    Y_test = tf.reshape(Y_test,(length,1))\n",
    "    loss = cce(Y_test, logits)\n",
    "    acc = accuracy_score(tf.argmax(logits, axis=1), Y_test)\n",
    "    print('comm_round: {} | global_acc: {:.3%} | global_loss: {}'.format(comm_round, acc, loss))\n",
    "    return acc, loss"
   ]
  },
  {
   "cell_type": "code",
   "execution_count": 6,
   "id": "c94fcc46",
   "metadata": {
    "scrolled": true
   },
   "outputs": [
    {
     "name": "stderr",
     "output_type": "stream",
     "text": [
      "c:\\users\\votri\\appdata\\local\\programs\\python\\python38\\lib\\site-packages\\keras\\optimizer_v2\\gradient_descent.py:102: UserWarning: The `lr` argument is deprecated, use `learning_rate` instead.\n",
      "  super(SGD, self).__init__(name, **kwargs)\n"
     ]
    },
    {
     "name": "stdout",
     "output_type": "stream",
     "text": [
      "comm_round: 0 | global_acc: 76.309% | global_loss: 0.6812120079994202\n",
      "comm_round: 1 | global_acc: 79.890% | global_loss: 0.6667526960372925\n",
      "comm_round: 2 | global_acc: 81.267% | global_loss: 0.6484654545783997\n",
      "comm_round: 3 | global_acc: 82.094% | global_loss: 0.6277002692222595\n",
      "comm_round: 4 | global_acc: 82.920% | global_loss: 0.6073499321937561\n",
      "comm_round: 5 | global_acc: 82.094% | global_loss: 0.5921185612678528\n",
      "comm_round: 6 | global_acc: 82.920% | global_loss: 0.5764199495315552\n",
      "comm_round: 7 | global_acc: 83.471% | global_loss: 0.5675665736198425\n",
      "comm_round: 8 | global_acc: 83.747% | global_loss: 0.5603583455085754\n",
      "comm_round: 9 | global_acc: 83.747% | global_loss: 0.5566973090171814\n",
      "comm_round: 10 | global_acc: 83.471% | global_loss: 0.5533279180526733\n",
      "comm_round: 11 | global_acc: 83.747% | global_loss: 0.5520023703575134\n",
      "comm_round: 12 | global_acc: 84.848% | global_loss: 0.5484731197357178\n",
      "comm_round: 13 | global_acc: 85.124% | global_loss: 0.5487943291664124\n",
      "comm_round: 14 | global_acc: 84.848% | global_loss: 0.5476779341697693\n",
      "comm_round: 15 | global_acc: 84.848% | global_loss: 0.545021653175354\n",
      "comm_round: 16 | global_acc: 84.848% | global_loss: 0.5443394184112549\n",
      "comm_round: 17 | global_acc: 84.848% | global_loss: 0.5446214079856873\n",
      "comm_round: 18 | global_acc: 84.848% | global_loss: 0.5439572334289551\n",
      "comm_round: 19 | global_acc: 84.848% | global_loss: 0.5429648756980896\n",
      "comm_round: 20 | global_acc: 84.848% | global_loss: 0.5408549308776855\n",
      "comm_round: 21 | global_acc: 84.573% | global_loss: 0.5466247797012329\n",
      "comm_round: 22 | global_acc: 84.848% | global_loss: 0.5414858460426331\n",
      "comm_round: 23 | global_acc: 84.848% | global_loss: 0.5427510738372803\n",
      "comm_round: 24 | global_acc: 85.124% | global_loss: 0.5417022109031677\n",
      "comm_round: 25 | global_acc: 84.573% | global_loss: 0.5460177063941956\n",
      "comm_round: 26 | global_acc: 84.848% | global_loss: 0.5401802062988281\n",
      "comm_round: 27 | global_acc: 84.848% | global_loss: 0.5400902032852173\n",
      "comm_round: 28 | global_acc: 84.848% | global_loss: 0.5409581065177917\n",
      "comm_round: 29 | global_acc: 84.848% | global_loss: 0.542549729347229\n",
      "comm_round: 30 | global_acc: 84.848% | global_loss: 0.5404249429702759\n",
      "comm_round: 31 | global_acc: 84.573% | global_loss: 0.5426993370056152\n",
      "comm_round: 32 | global_acc: 84.848% | global_loss: 0.5435566902160645\n",
      "comm_round: 33 | global_acc: 84.573% | global_loss: 0.5415840148925781\n",
      "comm_round: 34 | global_acc: 84.848% | global_loss: 0.5471413135528564\n",
      "comm_round: 35 | global_acc: 85.124% | global_loss: 0.5401508212089539\n",
      "comm_round: 36 | global_acc: 85.124% | global_loss: 0.5410205721855164\n",
      "comm_round: 37 | global_acc: 84.848% | global_loss: 0.5392513871192932\n",
      "comm_round: 38 | global_acc: 85.124% | global_loss: 0.541485071182251\n",
      "comm_round: 39 | global_acc: 84.848% | global_loss: 0.5407910346984863\n",
      "comm_round: 40 | global_acc: 84.848% | global_loss: 0.5388021469116211\n",
      "comm_round: 41 | global_acc: 84.848% | global_loss: 0.5418643951416016\n",
      "comm_round: 42 | global_acc: 84.848% | global_loss: 0.5395197868347168\n",
      "comm_round: 43 | global_acc: 85.124% | global_loss: 0.5403648018836975\n",
      "comm_round: 44 | global_acc: 84.848% | global_loss: 0.538513720035553\n",
      "comm_round: 45 | global_acc: 84.848% | global_loss: 0.5414007306098938\n",
      "comm_round: 46 | global_acc: 85.399% | global_loss: 0.5372753143310547\n",
      "comm_round: 47 | global_acc: 84.848% | global_loss: 0.5395551919937134\n",
      "comm_round: 48 | global_acc: 85.399% | global_loss: 0.53824782371521\n",
      "comm_round: 49 | global_acc: 85.124% | global_loss: 0.539229154586792\n",
      "comm_round: 50 | global_acc: 84.848% | global_loss: 0.5366733074188232\n",
      "comm_round: 51 | global_acc: 85.124% | global_loss: 0.5394572019577026\n",
      "comm_round: 52 | global_acc: 85.399% | global_loss: 0.5353007912635803\n",
      "comm_round: 53 | global_acc: 84.848% | global_loss: 0.5387011766433716\n",
      "comm_round: 54 | global_acc: 85.399% | global_loss: 0.5376752614974976\n",
      "comm_round: 55 | global_acc: 85.399% | global_loss: 0.5393010973930359\n",
      "comm_round: 56 | global_acc: 85.399% | global_loss: 0.5405238270759583\n",
      "comm_round: 57 | global_acc: 85.399% | global_loss: 0.5400339961051941\n",
      "comm_round: 58 | global_acc: 85.399% | global_loss: 0.5372015833854675\n",
      "comm_round: 59 | global_acc: 85.124% | global_loss: 0.5388768911361694\n",
      "comm_round: 60 | global_acc: 85.124% | global_loss: 0.54056316614151\n",
      "comm_round: 61 | global_acc: 85.399% | global_loss: 0.5378357172012329\n",
      "comm_round: 62 | global_acc: 84.848% | global_loss: 0.5424560308456421\n",
      "comm_round: 63 | global_acc: 85.399% | global_loss: 0.5376895666122437\n",
      "comm_round: 64 | global_acc: 85.399% | global_loss: 0.5404717922210693\n",
      "comm_round: 65 | global_acc: 85.399% | global_loss: 0.5408703088760376\n",
      "comm_round: 66 | global_acc: 85.399% | global_loss: 0.5363864302635193\n",
      "comm_round: 67 | global_acc: 84.848% | global_loss: 0.5429058074951172\n",
      "comm_round: 68 | global_acc: 85.399% | global_loss: 0.5365867614746094\n",
      "comm_round: 69 | global_acc: 85.124% | global_loss: 0.541534960269928\n",
      "comm_round: 70 | global_acc: 85.399% | global_loss: 0.5381373763084412\n",
      "comm_round: 71 | global_acc: 85.399% | global_loss: 0.5402418971061707\n",
      "comm_round: 72 | global_acc: 85.399% | global_loss: 0.5397528409957886\n",
      "comm_round: 73 | global_acc: 85.124% | global_loss: 0.5410140752792358\n",
      "comm_round: 74 | global_acc: 85.399% | global_loss: 0.541267991065979\n",
      "comm_round: 75 | global_acc: 85.399% | global_loss: 0.5370023846626282\n",
      "comm_round: 76 | global_acc: 85.399% | global_loss: 0.5402320027351379\n",
      "comm_round: 77 | global_acc: 85.399% | global_loss: 0.5418455004692078\n",
      "comm_round: 78 | global_acc: 85.399% | global_loss: 0.5384268760681152\n",
      "comm_round: 79 | global_acc: 85.399% | global_loss: 0.5385197997093201\n",
      "comm_round: 80 | global_acc: 85.399% | global_loss: 0.5421653985977173\n",
      "comm_round: 81 | global_acc: 85.399% | global_loss: 0.5382420420646667\n",
      "comm_round: 82 | global_acc: 85.399% | global_loss: 0.5402687191963196\n",
      "comm_round: 83 | global_acc: 85.399% | global_loss: 0.5408613681793213\n",
      "comm_round: 84 | global_acc: 85.399% | global_loss: 0.5401841402053833\n",
      "comm_round: 85 | global_acc: 85.399% | global_loss: 0.5391631722450256\n",
      "comm_round: 86 | global_acc: 85.399% | global_loss: 0.5398628115653992\n",
      "comm_round: 87 | global_acc: 85.399% | global_loss: 0.5366804003715515\n",
      "comm_round: 88 | global_acc: 85.399% | global_loss: 0.5389959812164307\n",
      "comm_round: 89 | global_acc: 85.399% | global_loss: 0.5371267199516296\n",
      "comm_round: 90 | global_acc: 85.399% | global_loss: 0.5389349460601807\n",
      "comm_round: 91 | global_acc: 85.675% | global_loss: 0.5373710989952087\n",
      "comm_round: 92 | global_acc: 85.399% | global_loss: 0.5377106666564941\n",
      "comm_round: 93 | global_acc: 85.399% | global_loss: 0.536172091960907\n",
      "comm_round: 94 | global_acc: 85.399% | global_loss: 0.5402410626411438\n",
      "comm_round: 95 | global_acc: 85.399% | global_loss: 0.5360486507415771\n",
      "comm_round: 96 | global_acc: 85.399% | global_loss: 0.5395760536193848\n",
      "comm_round: 97 | global_acc: 85.675% | global_loss: 0.536465585231781\n",
      "comm_round: 98 | global_acc: 85.399% | global_loss: 0.5380738377571106\n",
      "comm_round: 99 | global_acc: 85.399% | global_loss: 0.5385516285896301\n",
      "comm_round: 1 | global_acc: 86.501% | global_loss: 0.5427429676055908\n"
     ]
    }
   ],
   "source": [
    "#create clients\n",
    "clients = create_clients()\n",
    "\n",
    "#process and batch the training data for each client\n",
    "clients_batched = dict()\n",
    "for (client_name, data) in clients.items():\n",
    "    clients_batched[client_name] = batch_data(data)\n",
    "    \n",
    "#process and batch the test set  \n",
    "test_batched = tf.data.Dataset.from_tensor_slices((X_test, y_test)).batch(len(y_test))\n",
    "\n",
    "comms_round = 100\n",
    "    \n",
    "#create optimizer\n",
    "lr = 0.01 \n",
    "loss='sparse_categorical_crossentropy'\n",
    "metrics = ['accuracy']\n",
    "optimizer = tf.keras.optimizers.SGD(lr=lr, decay=lr / comms_round, momentum=0.9) \n",
    "\n",
    "#initialize global model\n",
    "smlp_global = CNN()\n",
    "global_model = smlp_global.build(64, 2)\n",
    "        \n",
    "#commence global training loop\n",
    "for comm_round in range(comms_round):\n",
    "            \n",
    "    # get the global model's weights - will serve as the initial weights for all local models\n",
    "    global_weights = global_model.get_weights()\n",
    "    \n",
    "    #initial list to collect local model weights after scalling\n",
    "    scaled_local_weight_list = list()\n",
    "\n",
    "    #randomize client data - using keys\n",
    "    client_names= list(clients_batched.keys())\n",
    "    random.shuffle(client_names)\n",
    "    \n",
    "    #loop through each client and create new local model\n",
    "    for client in client_names:\n",
    "        smlp_local = CNN()\n",
    "        local_model = smlp_local.build(64, 2)\n",
    "        local_model.compile(loss=loss, \n",
    "                      optimizer=optimizer, \n",
    "                      metrics=metrics)\n",
    "        \n",
    "        #set local model weight to the weight of the global model\n",
    "        local_model.set_weights(global_weights)\n",
    "        \n",
    "        #fit local model with client's data\n",
    "        local_model.fit(clients_batched[client], epochs=1, verbose=0)\n",
    "        \n",
    "        #scale the model weights and add to list\n",
    "        scaling_factor = weight_scalling_factor(clients_batched, client)\n",
    "        scaled_weights = scale_model_weights(local_model.get_weights(), scaling_factor)\n",
    "        scaled_local_weight_list.append(scaled_weights)\n",
    "        \n",
    "        #clear session to free memory after each communication round\n",
    "        K.clear_session()\n",
    "        \n",
    "    #to get the average over all the local model, we simply take the sum of the scaled weights\n",
    "    average_weights = sum_scaled_weights(scaled_local_weight_list)\n",
    "    \n",
    "    #update global model \n",
    "    global_model.set_weights(average_weights)\n",
    "\n",
    "    #test global model and print out metrics after each communications round\n",
    "    for(X_test, Y_test) in test_batched:\n",
    "        global_acc, global_loss = test_model(X_test, Y_test, global_model, comm_round)\n",
    "        SGD_dataset = tf.data.Dataset.from_tensor_slices((X_train, y_train)).shuffle(len(y_train)).batch(250)\n",
    "        smlp_SGD = CNN()\n",
    "        SGD_model = smlp_SGD.build(64, 2) \n",
    "\n",
    "        SGD_model.compile(loss=loss, optimizer=optimizer, metrics=metrics)\n",
    "\n",
    "# fit the SGD training data to model\n",
    "_ = SGD_model.fit(SGD_dataset, epochs=100, verbose=0)\n",
    "\n",
    "#test the SGD global model and print out metrics\n",
    "for(X_test, Y_test) in test_batched:\n",
    "        SGD_acc, SGD_loss = test_model(X_test, Y_test, SGD_model, 1)"
   ]
  },
  {
   "cell_type": "code",
   "execution_count": 7,
   "id": "9b13ff1f",
   "metadata": {},
   "outputs": [],
   "source": [
    "Y_predictions = np.argmax(SGD_model.predict(X_test),axis = 1)"
   ]
  },
  {
   "cell_type": "code",
   "execution_count": 8,
   "id": "9bc551a0",
   "metadata": {
    "scrolled": true
   },
   "outputs": [
    {
     "data": {
      "text/plain": [
       "array([[ 97,  20],\n",
       "       [ 29, 217]], dtype=int64)"
      ]
     },
     "execution_count": 8,
     "metadata": {},
     "output_type": "execute_result"
    }
   ],
   "source": [
    "cm = confusion_matrix(Y_predictions, Y_test)\n",
    "cm"
   ]
  },
  {
   "cell_type": "code",
   "execution_count": 9,
   "id": "8a83e0bb",
   "metadata": {},
   "outputs": [
    {
     "name": "stdout",
     "output_type": "stream",
     "text": [
      "              precision    recall  f1-score   support\n",
      "\n",
      "           0       0.83      0.77      0.80       126\n",
      "           1       0.88      0.92      0.90       237\n",
      "\n",
      "    accuracy                           0.87       363\n",
      "   macro avg       0.86      0.84      0.85       363\n",
      "weighted avg       0.86      0.87      0.86       363\n",
      "\n"
     ]
    }
   ],
   "source": [
    "print(classification_report(Y_test, Y_predictions))"
   ]
  },
  {
   "cell_type": "markdown",
   "id": "56495b0e",
   "metadata": {},
   "source": [
    "# Testing on each dataset"
   ]
  },
  {
   "cell_type": "markdown",
   "id": "d8ac91bf",
   "metadata": {},
   "source": [
    "## Cleveland"
   ]
  },
  {
   "cell_type": "code",
   "execution_count": 10,
   "id": "ec02651a",
   "metadata": {
    "scrolled": true
   },
   "outputs": [
    {
     "name": "stdout",
     "output_type": "stream",
     "text": [
      "[[42  5]\n",
      " [ 6 38]]\n",
      "              precision    recall  f1-score   support\n",
      "\n",
      "           0       0.88      0.89      0.88        47\n",
      "           1       0.88      0.86      0.87        44\n",
      "\n",
      "    accuracy                           0.88        91\n",
      "   macro avg       0.88      0.88      0.88        91\n",
      "weighted avg       0.88      0.88      0.88        91\n",
      "\n"
     ]
    }
   ],
   "source": [
    "Y_cle = np.argmax(SGD_model.predict(cle_X_test),axis = 1)\n",
    "cm_cle = confusion_matrix(Y_cle, cle_Y_test_binary)\n",
    "print(cm_cle)\n",
    "print(classification_report(Y_cle, cle_Y_test_binary))"
   ]
  },
  {
   "cell_type": "code",
   "execution_count": 11,
   "id": "bc246b92",
   "metadata": {
    "scrolled": true
   },
   "outputs": [
    {
     "name": "stdout",
     "output_type": "stream",
     "text": [
      "[9, 22, 28, 46, 62, 63, 73, 74, 77, 81, 86]\n"
     ]
    }
   ],
   "source": [
    "mismatch = [i for i, (a,b) in enumerate(zip(Y_cle, cle_Y_test_binary)) if a != b]\n",
    "print(mismatch)"
   ]
  },
  {
   "cell_type": "markdown",
   "id": "7bcbe636",
   "metadata": {},
   "source": [
    "## Long Beach, VA"
   ]
  },
  {
   "cell_type": "code",
   "execution_count": 12,
   "id": "b2d4cc1c",
   "metadata": {
    "scrolled": false
   },
   "outputs": [
    {
     "name": "stdout",
     "output_type": "stream",
     "text": [
      "[[ 4  2]\n",
      " [11 43]]\n",
      "              precision    recall  f1-score   support\n",
      "\n",
      "           0       0.27      0.67      0.38         6\n",
      "           1       0.96      0.80      0.87        54\n",
      "\n",
      "    accuracy                           0.78        60\n",
      "   macro avg       0.61      0.73      0.62        60\n",
      "weighted avg       0.89      0.78      0.82        60\n",
      "\n"
     ]
    }
   ],
   "source": [
    "Y_vir = np.argmax(SGD_model.predict(vir_X_test),axis = 1)\n",
    "cm_vir = confusion_matrix(Y_vir, vir_Y_test_binary)\n",
    "print(cm_vir)\n",
    "print(classification_report(Y_vir, vir_Y_test_binary))"
   ]
  },
  {
   "cell_type": "code",
   "execution_count": 13,
   "id": "d8109d70",
   "metadata": {},
   "outputs": [
    {
     "name": "stdout",
     "output_type": "stream",
     "text": [
      "[4, 6, 7, 8, 10, 19, 23, 26, 35, 41, 48, 53, 58]\n"
     ]
    }
   ],
   "source": [
    "mismatch = [i for i, (a,b) in enumerate(zip(Y_vir, vir_Y_test_binary)) if a != b]\n",
    "print(mismatch)"
   ]
  },
  {
   "cell_type": "markdown",
   "id": "45d84807",
   "metadata": {},
   "source": [
    "## Hungary"
   ]
  },
  {
   "cell_type": "code",
   "execution_count": 14,
   "id": "9c031520",
   "metadata": {},
   "outputs": [
    {
     "name": "stdout",
     "output_type": "stream",
     "text": [
      "[[47  2]\n",
      " [ 8 32]]\n",
      "              precision    recall  f1-score   support\n",
      "\n",
      "           0       0.85      0.96      0.90        49\n",
      "           1       0.94      0.80      0.86        40\n",
      "\n",
      "    accuracy                           0.89        89\n",
      "   macro avg       0.90      0.88      0.88        89\n",
      "weighted avg       0.89      0.89      0.89        89\n",
      "\n"
     ]
    }
   ],
   "source": [
    "Y_hun = np.argmax(SGD_model.predict(hun_X_test),axis = 1)\n",
    "cm_hun = confusion_matrix(Y_hun, hun_Y_test_binary)\n",
    "print(cm_hun)\n",
    "print(classification_report(Y_hun, hun_Y_test_binary))"
   ]
  },
  {
   "cell_type": "code",
   "execution_count": 15,
   "id": "235f1fea",
   "metadata": {
    "scrolled": true
   },
   "outputs": [
    {
     "name": "stdout",
     "output_type": "stream",
     "text": [
      "[7, 12, 22, 35, 55, 61, 68, 70, 71, 88]\n"
     ]
    }
   ],
   "source": [
    "mismatch = [i for i, (a,b) in enumerate(zip(Y_hun, hun_Y_test_binary)) if a != b]\n",
    "print(mismatch)"
   ]
  },
  {
   "cell_type": "markdown",
   "id": "015703aa",
   "metadata": {},
   "source": [
    "## Switzerland"
   ]
  },
  {
   "cell_type": "code",
   "execution_count": 23,
   "id": "2e837211",
   "metadata": {
    "scrolled": false
   },
   "outputs": [
    {
     "name": "stdout",
     "output_type": "stream",
     "text": [
      "[[  4  11]\n",
      " [  4 104]]\n",
      "              precision    recall  f1-score   support\n",
      "\n",
      "           0       0.33      0.17      0.22         6\n",
      "           1       0.85      0.94      0.89        31\n",
      "\n",
      "    accuracy                           0.81        37\n",
      "   macro avg       0.59      0.55      0.56        37\n",
      "weighted avg       0.77      0.81      0.78        37\n",
      "\n"
     ]
    }
   ],
   "source": [
    "Y_swi = np.argmax(SGD_model.predict(swi_X_test),axis = 1)\n",
    "Y_swi2 = np.argmax(SGD_model.predict(swi_X_train),axis = 1)\n",
    "\n",
    "swi_Y_test_binary = swi_Y_test_binary.tolist()\n",
    "swi_Y_train_binary = swi_Y_train_binary.tolist()\n",
    "\n",
    "swi_Y = swi_Y_test_binary + swi_Y_train_binary\n",
    "swi_Y_pred = np.append(Y_swi, Y_swi2)\n",
    "cm_swi = confusion_matrix(swi_Y_pred, swi_Y)\n",
    "print(cm_swi)\n",
    "print(classification_report(Y_swi, swi_Y_test_binary))"
   ]
  },
  {
   "cell_type": "code",
   "execution_count": 17,
   "id": "05678efd",
   "metadata": {},
   "outputs": [],
   "source": [
    "# mismatch = [i for i, (a,b) in enumerate(zip(Y_swi, swi_Y_test_binary)) if a != b]\n",
    "# print(mismatch)"
   ]
  },
  {
   "cell_type": "code",
   "execution_count": 35,
   "id": "89821722",
   "metadata": {},
   "outputs": [
    {
     "data": {
      "image/png": "[encoded data removed]",
      "text/plain": [
       "<Figure size 432x288 with 1 Axes>"
      ]
     },
     "metadata": {
      "needs_background": "light"
     },
     "output_type": "display_data"
    }
   ],
   "source": [
    "from sklearn.metrics import roc_curve, roc_auc_score\n",
    "import matplotlib.pyplot as plt\n",
    "\n",
    "fpr, tpr, thresholds = roc_curve(Y_predictions, Y_test)\n",
    "auc = roc_auc_score(Y_predictions, Y_test)\n",
    "\n",
    "plt.plot(fpr, tpr, label='(AUC = {:.2f})')\n",
    "plt.plot([0, 1], [0, 1], 'k--')  # Random guessing line\n",
    "plt.xlabel('False Positive Rate')\n",
    "plt.ylabel('True Positive Rate')\n",
    "plt.title('Receiver Operating Characteristic (ROC) Curve')\n",
    "plt.legend(loc='lower right')\n",
    "plt.show()"
   ]
  }
 ],
 "metadata": {
  "kernelspec": {
   "display_name": "Python 3 (ipykernel)",
   "language": "python",
   "name": "python3"
  },
  "language_info": {
   "codemirror_mode": {
    "name": "ipython",
    "version": 3
   },
   "file_extension": ".py",
   "mimetype": "text/x-python",
   "name": "python",
   "nbconvert_exporter": "python",
   "pygments_lexer": "ipython3",
   "version": "3.9.12"
  }
 },
 "nbformat": 4,
 "nbformat_minor": 5
}
