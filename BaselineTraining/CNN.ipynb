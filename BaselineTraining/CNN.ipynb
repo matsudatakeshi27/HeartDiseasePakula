{
 "cells": [
  {
   "cell_type": "code",
   "execution_count": 1,
   "id": "c773be18",
   "metadata": {},
   "outputs": [],
   "source": [
    "import numpy as np\n",
    "import pandas as pd\n",
    "from keras.models import Sequential\n",
    "from keras.layers import Conv1D, MaxPooling1D, Flatten, Dense, Dropout\n",
    "from sklearn.metrics import confusion_matrix, classification_report"
   ]
  },
  {
   "cell_type": "code",
   "execution_count": 2,
   "id": "9a9d0451",
   "metadata": {},
   "outputs": [],
   "source": [
    "def CNN(path_train,path_test,name,epoch_num):\n",
    "    #Split the data\n",
    "    Train = pd.read_csv(path_train)\n",
    "    Test = pd.read_csv(path_test)\n",
    "    \n",
    "    X_train = Train.iloc[:,:-1]\n",
    "    Y_train = Train.iloc[:,-1]\n",
    "\n",
    "    X_test = Test.iloc[:,:-1]\n",
    "    Y_test = Test.iloc[:,-1]\n",
    "\n",
    "    #binarize the target\n",
    "    Y_train_binary = Y_train.apply(lambda x: 1 if x > 0 else 0)\n",
    "    Y_test_binary = Y_test.apply(lambda x: 1 if x > 0 else 0)\n",
    "\n",
    "    # define the model architecture\n",
    "    model = Sequential()\n",
    "    model.add(Conv1D(filters=256, kernel_size=3, activation='relu', input_shape=(22,1)))\n",
    "    model.add(MaxPooling1D(pool_size=2))\n",
    "\n",
    "    model.add(Conv1D(filters=512, kernel_size=3, activation='relu'))\n",
    "    model.add(MaxPooling1D(pool_size=2))\n",
    "\n",
    "    model.add(Flatten())\n",
    "    model.add(Dense(16, activation='relu'))\n",
    "    model.add(Dense(2, activation='sigmoid'))\n",
    "\n",
    "    model.compile(loss='sparse_categorical_crossentropy', optimizer='adam', metrics=['accuracy'])\n",
    "    \n",
    "    model.fit(X_train, Y_train_binary, epochs=epoch_num, batch_size=32)\n",
    "    Y_pred = model.predict(X_test).argmax(axis=1)\n",
    "    \n",
    "    cm = confusion_matrix(Y_pred, Y_test_binary)\n",
    "    print(cm)\n",
    "    print(classification_report(Y_test_binary, Y_pred))\n",
    "\n",
    "    model_name = f'{name}_cnn.h5'\n",
    "    model.save('../Models/CNN_only/' + model_name)\n",
    "    \n",
    "    mismatch = [i for i, (a,b) in enumerate(zip(Y_pred, Y_test_binary)) if a != b]\n",
    "    print(mismatch)\n",
    "            \n",
    "    return model"
   ]
  },
  {
   "cell_type": "markdown",
   "id": "011932f6",
   "metadata": {},
   "source": [
    "# Cleveland"
   ]
  },
  {
   "cell_type": "code",
   "execution_count": 3,
   "id": "87e10642",
   "metadata": {
    "scrolled": true
   },
   "outputs": [
    {
     "name": "stdout",
     "output_type": "stream",
     "text": [
      "Epoch 1/20\n",
      "7/7 [==============================] - 2s 21ms/step - loss: 0.6398 - accuracy: 0.6321\n",
      "Epoch 2/20\n",
      "7/7 [==============================] - 0s 24ms/step - loss: 0.5208 - accuracy: 0.7642\n",
      "Epoch 3/20\n",
      "7/7 [==============================] - 0s 18ms/step - loss: 0.4605 - accuracy: 0.8019\n",
      "Epoch 4/20\n",
      "7/7 [==============================] - 0s 15ms/step - loss: 0.4261 - accuracy: 0.7972\n",
      "Epoch 5/20\n",
      "7/7 [==============================] - 0s 17ms/step - loss: 0.4314 - accuracy: 0.8019\n",
      "Epoch 6/20\n",
      "7/7 [==============================] - 0s 17ms/step - loss: 0.3726 - accuracy: 0.8302\n",
      "Epoch 7/20\n",
      "7/7 [==============================] - 0s 18ms/step - loss: 0.3524 - accuracy: 0.8538\n",
      "Epoch 8/20\n",
      "7/7 [==============================] - 0s 20ms/step - loss: 0.3456 - accuracy: 0.8443\n",
      "Epoch 9/20\n",
      "7/7 [==============================] - 0s 18ms/step - loss: 0.3297 - accuracy: 0.8632\n",
      "Epoch 10/20\n",
      "7/7 [==============================] - 0s 15ms/step - loss: 0.3148 - accuracy: 0.8679\n",
      "Epoch 11/20\n",
      "7/7 [==============================] - 0s 16ms/step - loss: 0.3056 - accuracy: 0.8679\n",
      "Epoch 12/20\n",
      "7/7 [==============================] - 0s 17ms/step - loss: 0.2975 - accuracy: 0.8726\n",
      "Epoch 13/20\n",
      "7/7 [==============================] - 0s 16ms/step - loss: 0.2936 - accuracy: 0.8774\n",
      "Epoch 14/20\n",
      "7/7 [==============================] - 0s 19ms/step - loss: 0.2910 - accuracy: 0.8868\n",
      "Epoch 15/20\n",
      "7/7 [==============================] - 0s 17ms/step - loss: 0.2821 - accuracy: 0.8962\n",
      "Epoch 16/20\n",
      "7/7 [==============================] - 0s 18ms/step - loss: 0.3169 - accuracy: 0.8726\n",
      "Epoch 17/20\n",
      "7/7 [==============================] - 0s 17ms/step - loss: 0.2814 - accuracy: 0.8821\n",
      "Epoch 18/20\n",
      "7/7 [==============================] - 0s 18ms/step - loss: 0.2564 - accuracy: 0.9057\n",
      "Epoch 19/20\n",
      "7/7 [==============================] - 0s 19ms/step - loss: 0.2654 - accuracy: 0.8821\n",
      "Epoch 20/20\n",
      "7/7 [==============================] - 0s 18ms/step - loss: 0.2594 - accuracy: 0.8774\n",
      "[[40  7]\n",
      " [11 33]]\n",
      "              precision    recall  f1-score   support\n",
      "\n",
      "           0       0.85      0.78      0.82        51\n",
      "           1       0.75      0.82      0.79        40\n",
      "\n",
      "    accuracy                           0.80        91\n",
      "   macro avg       0.80      0.80      0.80        91\n",
      "weighted avg       0.81      0.80      0.80        91\n",
      "\n",
      "[0, 19, 21, 24, 28, 30, 32, 38, 53, 60, 64, 67, 69, 70, 73, 77, 78, 89]\n"
     ]
    }
   ],
   "source": [
    "path_train = '../TrainTestData/cle_train.csv'\n",
    "path_test = '../TrainTestData/cle_test.csv'\n",
    "model = CNN(path_train,path_test,'cle',20)"
   ]
  },
  {
   "cell_type": "markdown",
   "id": "a6188e68",
   "metadata": {},
   "source": [
    "# Virginia"
   ]
  },
  {
   "cell_type": "code",
   "execution_count": 4,
   "id": "8b19b95f",
   "metadata": {
    "scrolled": true
   },
   "outputs": [
    {
     "name": "stdout",
     "output_type": "stream",
     "text": [
      "Epoch 1/10\n",
      "5/5 [==============================] - 1s 19ms/step - loss: 0.6118 - accuracy: 0.7286\n",
      "Epoch 2/10\n",
      "5/5 [==============================] - 0s 17ms/step - loss: 0.5852 - accuracy: 0.7286\n",
      "Epoch 3/10\n",
      "5/5 [==============================] - 0s 14ms/step - loss: 0.5530 - accuracy: 0.7286\n",
      "Epoch 4/10\n",
      "5/5 [==============================] - 0s 17ms/step - loss: 0.5520 - accuracy: 0.7286\n",
      "Epoch 5/10\n",
      "5/5 [==============================] - 0s 20ms/step - loss: 0.5338 - accuracy: 0.7286\n",
      "Epoch 6/10\n",
      "5/5 [==============================] - 0s 13ms/step - loss: 0.5258 - accuracy: 0.7286\n",
      "Epoch 7/10\n",
      "5/5 [==============================] - 0s 17ms/step - loss: 0.5171 - accuracy: 0.7286\n",
      "Epoch 8/10\n",
      "5/5 [==============================] - 0s 18ms/step - loss: 0.5071 - accuracy: 0.7286\n",
      "Epoch 9/10\n",
      "5/5 [==============================] - 0s 17ms/step - loss: 0.4976 - accuracy: 0.7286\n",
      "Epoch 10/10\n",
      "5/5 [==============================] - 0s 14ms/step - loss: 0.4882 - accuracy: 0.7357\n",
      "[[ 2  0]\n",
      " [11 47]]\n",
      "              precision    recall  f1-score   support\n",
      "\n",
      "           0       1.00      0.15      0.27        13\n",
      "           1       0.81      1.00      0.90        47\n",
      "\n",
      "    accuracy                           0.82        60\n",
      "   macro avg       0.91      0.58      0.58        60\n",
      "weighted avg       0.85      0.82      0.76        60\n",
      "\n",
      "[3, 6, 14, 22, 30, 32, 34, 48, 49, 57, 58]\n"
     ]
    },
    {
     "data": {
      "text/plain": [
       "<keras.engine.sequential.Sequential at 0x1ff7933a370>"
      ]
     },
     "execution_count": 4,
     "metadata": {},
     "output_type": "execute_result"
    }
   ],
   "source": [
    "path_train = '../traintestdata/vir_train.csv'\n",
    "path_test = '../traintestdata/vir_test.csv'\n",
    "CNN(path_train,path_test,'vir',10)"
   ]
  },
  {
   "cell_type": "markdown",
   "id": "6641dfd8",
   "metadata": {},
   "source": [
    "# Hungary"
   ]
  },
  {
   "cell_type": "code",
   "execution_count": 5,
   "id": "bb3836df",
   "metadata": {
    "scrolled": true
   },
   "outputs": [
    {
     "name": "stdout",
     "output_type": "stream",
     "text": [
      "Epoch 1/20\n",
      "7/7 [==============================] - 1s 16ms/step - loss: 0.6337 - accuracy: 0.5756\n",
      "Epoch 2/20\n",
      "7/7 [==============================] - 0s 18ms/step - loss: 0.5046 - accuracy: 0.8195\n",
      "Epoch 3/20\n",
      "7/7 [==============================] - 0s 17ms/step - loss: 0.4615 - accuracy: 0.7854\n",
      "Epoch 4/20\n",
      "7/7 [==============================] - 0s 17ms/step - loss: 0.4047 - accuracy: 0.8244\n",
      "Epoch 5/20\n",
      "7/7 [==============================] - 0s 17ms/step - loss: 0.3560 - accuracy: 0.8488\n",
      "Epoch 6/20\n",
      "7/7 [==============================] - 0s 16ms/step - loss: 0.3337 - accuracy: 0.8634\n",
      "Epoch 7/20\n",
      "7/7 [==============================] - 0s 17ms/step - loss: 0.3118 - accuracy: 0.8683\n",
      "Epoch 8/20\n",
      "7/7 [==============================] - 0s 19ms/step - loss: 0.3202 - accuracy: 0.8390\n",
      "Epoch 9/20\n",
      "7/7 [==============================] - 0s 18ms/step - loss: 0.2754 - accuracy: 0.8878\n",
      "Epoch 10/20\n",
      "7/7 [==============================] - 0s 17ms/step - loss: 0.2887 - accuracy: 0.8976\n",
      "Epoch 11/20\n",
      "7/7 [==============================] - 0s 16ms/step - loss: 0.2940 - accuracy: 0.8829\n",
      "Epoch 12/20\n",
      "7/7 [==============================] - 0s 16ms/step - loss: 0.2781 - accuracy: 0.8829\n",
      "Epoch 13/20\n",
      "7/7 [==============================] - 0s 15ms/step - loss: 0.2575 - accuracy: 0.9073\n",
      "Epoch 14/20\n",
      "7/7 [==============================] - 0s 15ms/step - loss: 0.2690 - accuracy: 0.8878\n",
      "Epoch 15/20\n",
      "7/7 [==============================] - 0s 18ms/step - loss: 0.2798 - accuracy: 0.8780\n",
      "Epoch 16/20\n",
      "7/7 [==============================] - 0s 16ms/step - loss: 0.2790 - accuracy: 0.8732\n",
      "Epoch 17/20\n",
      "7/7 [==============================] - 0s 16ms/step - loss: 0.2316 - accuracy: 0.9073\n",
      "Epoch 18/20\n",
      "7/7 [==============================] - 0s 15ms/step - loss: 0.2238 - accuracy: 0.9024\n",
      "Epoch 19/20\n",
      "7/7 [==============================] - 0s 15ms/step - loss: 0.2180 - accuracy: 0.9024\n",
      "Epoch 20/20\n",
      "7/7 [==============================] - 0s 17ms/step - loss: 0.2018 - accuracy: 0.9268\n",
      "[[53  6]\n",
      " [ 4 26]]\n",
      "              precision    recall  f1-score   support\n",
      "\n",
      "           0       0.90      0.93      0.91        57\n",
      "           1       0.87      0.81      0.84        32\n",
      "\n",
      "    accuracy                           0.89        89\n",
      "   macro avg       0.88      0.87      0.88        89\n",
      "weighted avg       0.89      0.89      0.89        89\n",
      "\n",
      "[8, 12, 14, 23, 29, 42, 46, 54, 64, 86]\n"
     ]
    },
    {
     "data": {
      "text/plain": [
       "<keras.engine.sequential.Sequential at 0x1ff793239a0>"
      ]
     },
     "execution_count": 5,
     "metadata": {},
     "output_type": "execute_result"
    }
   ],
   "source": [
    "path_train = '../traintestdata/hun_train.csv'\n",
    "path_test = '../traintestdata/hun_test.csv'\n",
    "CNN(path_train,path_test,'hun',20)"
   ]
  },
  {
   "cell_type": "markdown",
   "id": "99efa3e1",
   "metadata": {},
   "source": [
    "# Switzerland"
   ]
  },
  {
   "cell_type": "code",
   "execution_count": 6,
   "id": "ad89e6db",
   "metadata": {
    "scrolled": true
   },
   "outputs": [
    {
     "name": "stdout",
     "output_type": "stream",
     "text": [
      "Epoch 1/10\n",
      "3/3 [==============================] - 1s 20ms/step - loss: 0.6549 - accuracy: 0.6279\n",
      "Epoch 2/10\n",
      "3/3 [==============================] - 0s 19ms/step - loss: 0.4188 - accuracy: 0.9302\n",
      "Epoch 3/10\n",
      "3/3 [==============================] - 0s 18ms/step - loss: 0.2758 - accuracy: 0.9302\n",
      "Epoch 4/10\n",
      "3/3 [==============================] - 0s 14ms/step - loss: 0.2637 - accuracy: 0.9302\n",
      "Epoch 5/10\n",
      "3/3 [==============================] - 0s 14ms/step - loss: 0.2919 - accuracy: 0.9302\n",
      "Epoch 6/10\n",
      "3/3 [==============================] - 0s 14ms/step - loss: 0.2764 - accuracy: 0.9302\n",
      "Epoch 7/10\n",
      "3/3 [==============================] - 0s 15ms/step - loss: 0.2511 - accuracy: 0.9302\n",
      "Epoch 8/10\n",
      "3/3 [==============================] - 0s 23ms/step - loss: 0.2483 - accuracy: 0.9302\n",
      "Epoch 9/10\n",
      "3/3 [==============================] - 0s 16ms/step - loss: 0.2424 - accuracy: 0.9302\n",
      "Epoch 10/10\n",
      "3/3 [==============================] - 0s 22ms/step - loss: 0.2425 - accuracy: 0.9302\n",
      "[[ 0  0]\n",
      " [ 2 35]]\n",
      "              precision    recall  f1-score   support\n",
      "\n",
      "           0       0.00      0.00      0.00         2\n",
      "           1       0.95      1.00      0.97        35\n",
      "\n",
      "    accuracy                           0.95        37\n",
      "   macro avg       0.47      0.50      0.49        37\n",
      "weighted avg       0.89      0.95      0.92        37\n",
      "\n",
      "[20, 25]\n"
     ]
    },
    {
     "name": "stderr",
     "output_type": "stream",
     "text": [
      "c:\\users\\votri\\appdata\\local\\programs\\python\\python38\\lib\\site-packages\\sklearn\\metrics\\_classification.py:1318: UndefinedMetricWarning: Precision and F-score are ill-defined and being set to 0.0 in labels with no predicted samples. Use `zero_division` parameter to control this behavior.\n",
      "  _warn_prf(average, modifier, msg_start, len(result))\n",
      "c:\\users\\votri\\appdata\\local\\programs\\python\\python38\\lib\\site-packages\\sklearn\\metrics\\_classification.py:1318: UndefinedMetricWarning: Precision and F-score are ill-defined and being set to 0.0 in labels with no predicted samples. Use `zero_division` parameter to control this behavior.\n",
      "  _warn_prf(average, modifier, msg_start, len(result))\n",
      "c:\\users\\votri\\appdata\\local\\programs\\python\\python38\\lib\\site-packages\\sklearn\\metrics\\_classification.py:1318: UndefinedMetricWarning: Precision and F-score are ill-defined and being set to 0.0 in labels with no predicted samples. Use `zero_division` parameter to control this behavior.\n",
      "  _warn_prf(average, modifier, msg_start, len(result))\n"
     ]
    },
    {
     "data": {
      "text/plain": [
       "<keras.engine.sequential.Sequential at 0x1ff51cab610>"
      ]
     },
     "execution_count": 6,
     "metadata": {},
     "output_type": "execute_result"
    }
   ],
   "source": [
    "path_train = '../traintestdata/swi_train.csv'\n",
    "path_test = '../traintestdata/swi_test.csv'\n",
    "CNN(path_train,path_test,'swi',10)"
   ]
  },
  {
   "cell_type": "markdown",
   "id": "d3164806",
   "metadata": {},
   "source": [
    "# Europe"
   ]
  },
  {
   "cell_type": "code",
   "execution_count": 7,
   "id": "709e58d6",
   "metadata": {
    "scrolled": true
   },
   "outputs": [
    {
     "name": "stdout",
     "output_type": "stream",
     "text": [
      "Epoch 1/20\n",
      "10/10 [==============================] - 2s 18ms/step - loss: 0.6239 - accuracy: 0.6254\n",
      "Epoch 2/20\n",
      "10/10 [==============================] - 0s 17ms/step - loss: 0.4859 - accuracy: 0.8144\n",
      "Epoch 3/20\n",
      "10/10 [==============================] - 0s 16ms/step - loss: 0.3893 - accuracy: 0.8316\n",
      "Epoch 4/20\n",
      "10/10 [==============================] - 0s 16ms/step - loss: 0.3554 - accuracy: 0.8454\n",
      "Epoch 5/20\n",
      "10/10 [==============================] - 0s 16ms/step - loss: 0.3657 - accuracy: 0.8213\n",
      "Epoch 6/20\n",
      "10/10 [==============================] - 0s 15ms/step - loss: 0.3272 - accuracy: 0.8522\n",
      "Epoch 7/20\n",
      "10/10 [==============================] - 0s 16ms/step - loss: 0.3549 - accuracy: 0.8625\n",
      "Epoch 8/20\n",
      "10/10 [==============================] - 0s 14ms/step - loss: 0.3060 - accuracy: 0.8729\n",
      "Epoch 9/20\n",
      "10/10 [==============================] - 0s 15ms/step - loss: 0.3344 - accuracy: 0.8660\n",
      "Epoch 10/20\n",
      "10/10 [==============================] - 0s 14ms/step - loss: 0.2813 - accuracy: 0.8969\n",
      "Epoch 11/20\n",
      "10/10 [==============================] - 0s 14ms/step - loss: 0.2681 - accuracy: 0.8935\n",
      "Epoch 12/20\n",
      "10/10 [==============================] - 0s 15ms/step - loss: 0.2897 - accuracy: 0.8866\n",
      "Epoch 13/20\n",
      "10/10 [==============================] - 0s 15ms/step - loss: 0.2610 - accuracy: 0.8969\n",
      "Epoch 14/20\n",
      "10/10 [==============================] - 0s 15ms/step - loss: 0.2721 - accuracy: 0.8969\n",
      "Epoch 15/20\n",
      "10/10 [==============================] - 0s 14ms/step - loss: 0.2390 - accuracy: 0.8969\n",
      "Epoch 16/20\n",
      "10/10 [==============================] - 0s 15ms/step - loss: 0.2436 - accuracy: 0.9210\n",
      "Epoch 17/20\n",
      "10/10 [==============================] - 0s 15ms/step - loss: 0.2273 - accuracy: 0.9072\n",
      "Epoch 18/20\n",
      "10/10 [==============================] - 0s 14ms/step - loss: 0.2181 - accuracy: 0.9072\n",
      "Epoch 19/20\n",
      "10/10 [==============================] - 0s 14ms/step - loss: 0.2297 - accuracy: 0.9003\n",
      "Epoch 20/20\n",
      "10/10 [==============================] - 0s 15ms/step - loss: 0.2419 - accuracy: 0.9107\n",
      "WARNING:tensorflow:5 out of the last 11 calls to <function Model.make_predict_function.<locals>.predict_function at 0x000001FF7EA080D0> triggered tf.function retracing. Tracing is expensive and the excessive number of tracings could be due to (1) creating @tf.function repeatedly in a loop, (2) passing tensors with different shapes, (3) passing Python objects instead of tensors. For (1), please define your @tf.function outside of the loop. For (2), @tf.function has experimental_relax_shapes=True option that relaxes argument shapes that can avoid unnecessary retracing. For (3), please refer to https://www.tensorflow.org/guide/function#controlling_retracing and https://www.tensorflow.org/api_docs/python/tf/function for  more details.\n",
      "[[52  6]\n",
      " [ 7 61]]\n",
      "              precision    recall  f1-score   support\n",
      "\n",
      "           0       0.90      0.88      0.89        59\n",
      "           1       0.90      0.91      0.90        67\n",
      "\n",
      "    accuracy                           0.90       126\n",
      "   macro avg       0.90      0.90      0.90       126\n",
      "weighted avg       0.90      0.90      0.90       126\n",
      "\n",
      "[12, 14, 22, 23, 29, 33, 42, 46, 54, 64, 104, 109, 114]\n"
     ]
    },
    {
     "data": {
      "text/plain": [
       "<keras.engine.sequential.Sequential at 0x1ff7946f310>"
      ]
     },
     "execution_count": 7,
     "metadata": {},
     "output_type": "execute_result"
    }
   ],
   "source": [
    "path_train = '../traintestdata/euro_train.csv'\n",
    "path_test = '../traintestdata/euro_test.csv'\n",
    "CNN(path_train,path_test,'eur',20)"
   ]
  },
  {
   "cell_type": "markdown",
   "id": "a7bf0136",
   "metadata": {},
   "source": [
    "# Combined"
   ]
  },
  {
   "cell_type": "code",
   "execution_count": 8,
   "id": "fc9f6787",
   "metadata": {
    "scrolled": true
   },
   "outputs": [
    {
     "name": "stdout",
     "output_type": "stream",
     "text": [
      "Epoch 1/20\n",
      "21/21 [==============================] - 1s 15ms/step - loss: 0.6809 - accuracy: 0.5435\n",
      "Epoch 2/20\n",
      "21/21 [==============================] - 0s 15ms/step - loss: 0.6367 - accuracy: 0.6413\n",
      "Epoch 3/20\n",
      "21/21 [==============================] - 0s 15ms/step - loss: 0.5201 - accuracy: 0.7826\n",
      "Epoch 4/20\n",
      "21/21 [==============================] - 0s 15ms/step - loss: 0.4496 - accuracy: 0.8059\n",
      "Epoch 5/20\n",
      "21/21 [==============================] - 0s 16ms/step - loss: 0.4502 - accuracy: 0.7981\n",
      "Epoch 6/20\n",
      "21/21 [==============================] - 0s 16ms/step - loss: 0.4250 - accuracy: 0.8168\n",
      "Epoch 7/20\n",
      "21/21 [==============================] - 0s 15ms/step - loss: 0.4196 - accuracy: 0.8261\n",
      "Epoch 8/20\n",
      "21/21 [==============================] - 0s 15ms/step - loss: 0.4191 - accuracy: 0.8292\n",
      "Epoch 9/20\n",
      "21/21 [==============================] - 0s 15ms/step - loss: 0.4092 - accuracy: 0.8354\n",
      "Epoch 10/20\n",
      "21/21 [==============================] - 0s 17ms/step - loss: 0.4018 - accuracy: 0.8292\n",
      "Epoch 11/20\n",
      "21/21 [==============================] - 0s 16ms/step - loss: 0.3935 - accuracy: 0.8276\n",
      "Epoch 12/20\n",
      "21/21 [==============================] - 0s 16ms/step - loss: 0.3852 - accuracy: 0.8432\n",
      "Epoch 13/20\n",
      "21/21 [==============================] - 0s 16ms/step - loss: 0.3863 - accuracy: 0.8447\n",
      "Epoch 14/20\n",
      "21/21 [==============================] - 0s 15ms/step - loss: 0.3867 - accuracy: 0.8447\n",
      "Epoch 15/20\n",
      "21/21 [==============================] - 0s 16ms/step - loss: 0.3850 - accuracy: 0.8370\n",
      "Epoch 16/20\n",
      "21/21 [==============================] - 0s 16ms/step - loss: 0.3758 - accuracy: 0.8401\n",
      "Epoch 17/20\n",
      "21/21 [==============================] - 0s 16ms/step - loss: 0.3920 - accuracy: 0.8199\n",
      "Epoch 18/20\n",
      "21/21 [==============================] - 0s 16ms/step - loss: 0.3718 - accuracy: 0.8463\n",
      "Epoch 19/20\n",
      "21/21 [==============================] - 0s 15ms/step - loss: 0.3691 - accuracy: 0.8478\n",
      "Epoch 20/20\n",
      "21/21 [==============================] - 0s 15ms/step - loss: 0.3583 - accuracy: 0.8571\n",
      "WARNING:tensorflow:5 out of the last 12 calls to <function Model.make_predict_function.<locals>.predict_function at 0x000001FF7ECC4160> triggered tf.function retracing. Tracing is expensive and the excessive number of tracings could be due to (1) creating @tf.function repeatedly in a loop, (2) passing tensors with different shapes, (3) passing Python objects instead of tensors. For (1), please define your @tf.function outside of the loop. For (2), @tf.function has experimental_relax_shapes=True option that relaxes argument shapes that can avoid unnecessary retracing. For (3), please refer to https://www.tensorflow.org/guide/function#controlling_retracing and https://www.tensorflow.org/api_docs/python/tf/function for  more details.\n",
      "[[102  20]\n",
      " [ 20 134]]\n",
      "              precision    recall  f1-score   support\n",
      "\n",
      "           0       0.84      0.84      0.84       122\n",
      "           1       0.87      0.87      0.87       154\n",
      "\n",
      "    accuracy                           0.86       276\n",
      "   macro avg       0.85      0.85      0.85       276\n",
      "weighted avg       0.86      0.86      0.86       276\n",
      "\n",
      "[8, 11, 28, 42, 52, 59, 76, 79, 83, 88, 91, 94, 104, 121, 125, 127, 130, 135, 146, 148, 155, 158, 164, 169, 172, 182, 184, 190, 195, 198, 201, 213, 214, 217, 234, 242, 256, 259, 264, 274]\n"
     ]
    },
    {
     "data": {
      "text/plain": [
       "<keras.engine.sequential.Sequential at 0x1ff7c11c610>"
      ]
     },
     "execution_count": 8,
     "metadata": {},
     "output_type": "execute_result"
    }
   ],
   "source": [
    "path_train = '../traintestdata/com_train.csv'\n",
    "path_test = '../traintestdata/com_test.csv'\n",
    "CNN(path_train,path_test,'com',20)"
   ]
  },
  {
   "cell_type": "code",
   "execution_count": 9,
   "id": "444dae5e",
   "metadata": {},
   "outputs": [],
   "source": [
    "path_train = '../traintestdata/euro_train.csv'\n",
    "path_test = '../traintestdata/euro_test.csv'"
   ]
  },
  {
   "cell_type": "code",
   "execution_count": 10,
   "id": "b5a6c03e",
   "metadata": {},
   "outputs": [
    {
     "data": {
      "text/plain": [
       "0      0\n",
       "1      1\n",
       "2      0\n",
       "3      0\n",
       "4      0\n",
       "      ..\n",
       "412    1\n",
       "413    1\n",
       "414    1\n",
       "415    1\n",
       "416    1\n",
       "Name: num, Length: 417, dtype: int64"
      ]
     },
     "execution_count": 10,
     "metadata": {},
     "output_type": "execute_result"
    }
   ],
   "source": [
    "Train = pd.read_csv(path_train)\n",
    "Test = pd.read_csv(path_test)\n",
    "    \n",
    "X_train = Train.iloc[:,:-1]\n",
    "Y_train = Train.iloc[:,-1]\n",
    "\n",
    "X_test = Test.iloc[:,:-1]\n",
    "Y_test = Test.iloc[:,-1]\n",
    "\n",
    "#binarize the target\n",
    "Y_train_binary = Y_train.apply(lambda x: 1 if x > 0 else 0)\n",
    "Y_test_binary = Y_test.apply(lambda x: 1 if x > 0 else 0)\n",
    "\n",
    "data = pd.concat([X_train,X_test])\n",
    "labels = pd.concat([Y_train_binary,Y_test_binary])\n",
    "\n",
    "data = data.reset_index()\n",
    "data = data.drop(['index'],axis = 1)\n",
    "\n",
    "labels = labels.reset_index()\n",
    "labels = labels.iloc[:,-1]\n",
    "\n",
    "labels"
   ]
  },
  {
   "cell_type": "code",
   "execution_count": 11,
   "id": "f7106e18",
   "metadata": {},
   "outputs": [
    {
     "name": "stdout",
     "output_type": "stream",
     "text": [
      "[[118  18]\n",
      " [ 78 203]]\n",
      "              precision    recall  f1-score   support\n",
      "\n",
      "           0       0.87      0.60      0.71       196\n",
      "           1       0.72      0.92      0.81       221\n",
      "\n",
      "    accuracy                           0.77       417\n",
      "   macro avg       0.80      0.76      0.76       417\n",
      "weighted avg       0.79      0.77      0.76       417\n",
      "\n"
     ]
    }
   ],
   "source": [
    "Y_pred = model.predict(data).argmax(axis=1)\n",
    "    \n",
    "cm = confusion_matrix(Y_pred, labels)\n",
    "print(cm)\n",
    "print(classification_report(labels, Y_pred))"
   ]
  }
 ],
 "metadata": {
  "kernelspec": {
   "display_name": "Python 3 (ipykernel)",
   "language": "python",
   "name": "python3"
  },
  "language_info": {
   "codemirror_mode": {
    "name": "ipython",
    "version": 3
   },
   "file_extension": ".py",
   "mimetype": "text/x-python",
   "name": "python",
   "nbconvert_exporter": "python",
   "pygments_lexer": "ipython3",
   "version": "3.8.3"
  }
 },
 "nbformat": 4,
 "nbformat_minor": 5
}
