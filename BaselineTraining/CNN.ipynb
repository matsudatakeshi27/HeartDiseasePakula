{
 "cells": [
  {
   "cell_type": "code",
   "execution_count": 1,
   "id": "c773be18",
   "metadata": {},
   "outputs": [],
   "source": [
    "import numpy as np\n",
    "import pandas as pd\n",
    "from keras.models import Sequential\n",
    "from keras.layers import Conv1D, MaxPooling1D, Flatten, Dense, Dropout\n",
    "from sklearn.metrics import confusion_matrix, classification_report"
   ]
  },
  {
   "cell_type": "code",
   "execution_count": 2,
   "id": "9a9d0451",
   "metadata": {},
   "outputs": [],
   "source": [
    "def CNN(path_train,path_test,name,epoch_num):\n",
    "    #Split the data\n",
    "    Train = pd.read_csv(path_train)\n",
    "    Test = pd.read_csv(path_test)\n",
    "    \n",
    "    X_train = Train.iloc[:,:-1]\n",
    "    Y_train = Train.iloc[:,-1]\n",
    "\n",
    "    X_test = Test.iloc[:,:-1]\n",
    "    Y_test = Test.iloc[:,-1]\n",
    "\n",
    "    #binarize the target\n",
    "    Y_train_binary = Y_train.apply(lambda x: 1 if x > 0 else 0)\n",
    "    Y_test_binary = Y_test.apply(lambda x: 1 if x > 0 else 0)\n",
    "\n",
    "    # define the model architecture\n",
    "    model = Sequential()\n",
    "    model.add(Conv1D(filters=256, kernel_size=3, activation='relu', input_shape=(22,1)))\n",
    "    model.add(Conv1D(filters=256, kernel_size=3, activation='relu'))\n",
    "    model.add(MaxPooling1D(pool_size=2))\n",
    "\n",
    "    model.add(Conv1D(filters=512, kernel_size=3, activation='relu'))\n",
    "    model.add(MaxPooling1D(pool_size=2))\n",
    "\n",
    "    model.add(Flatten())\n",
    "    model.add(Dense(512, activation='relu'))\n",
    "    model.add(Dense(2, activation='sigmoid'))\n",
    "\n",
    "    model.compile(loss='sparse_categorical_crossentropy', optimizer='adam', metrics=['accuracy'])\n",
    "    \n",
    "    model.fit(X_train, Y_train_binary, epochs=epoch_num, batch_size=32)\n",
    "    Y_pred = model.predict(X_test).argmax(axis=1)\n",
    "    \n",
    "    cm = confusion_matrix(Y_pred, Y_test_binary)\n",
    "    print(cm)\n",
    "    print(classification_report(Y_test_binary, Y_pred))\n",
    "\n",
    "    model_name = f'{name}_cnn.h5'\n",
    "    model.save(model_name)\n",
    "\n",
    "            \n",
    "    return model"
   ]
  },
  {
   "cell_type": "markdown",
   "id": "011932f6",
   "metadata": {},
   "source": [
    "# Cleveland"
   ]
  },
  {
   "cell_type": "code",
   "execution_count": 3,
   "id": "87e10642",
   "metadata": {
    "scrolled": true
   },
   "outputs": [
    {
     "name": "stdout",
     "output_type": "stream",
     "text": [
      "Epoch 1/20\n",
      "7/7 [==============================] - 1s 16ms/step - loss: 0.6301 - accuracy: 0.6557\n",
      "Epoch 2/20\n",
      "7/7 [==============================] - 0s 15ms/step - loss: 0.4797 - accuracy: 0.7689\n",
      "Epoch 3/20\n",
      "7/7 [==============================] - 0s 16ms/step - loss: 0.4777 - accuracy: 0.7736\n",
      "Epoch 4/20\n",
      "7/7 [==============================] - 0s 17ms/step - loss: 0.4550 - accuracy: 0.7925\n",
      "Epoch 5/20\n",
      "7/7 [==============================] - 0s 18ms/step - loss: 0.4168 - accuracy: 0.8113\n",
      "Epoch 6/20\n",
      "7/7 [==============================] - 0s 17ms/step - loss: 0.4132 - accuracy: 0.8066\n",
      "Epoch 7/20\n",
      "7/7 [==============================] - 0s 16ms/step - loss: 0.3916 - accuracy: 0.8349\n",
      "Epoch 8/20\n",
      "7/7 [==============================] - 0s 16ms/step - loss: 0.3838 - accuracy: 0.8208\n",
      "Epoch 9/20\n",
      "7/7 [==============================] - 0s 15ms/step - loss: 0.3705 - accuracy: 0.8538\n",
      "Epoch 10/20\n",
      "7/7 [==============================] - 0s 16ms/step - loss: 0.3674 - accuracy: 0.8302\n",
      "Epoch 11/20\n",
      "7/7 [==============================] - 0s 16ms/step - loss: 0.3637 - accuracy: 0.8302\n",
      "Epoch 12/20\n",
      "7/7 [==============================] - 0s 16ms/step - loss: 0.3397 - accuracy: 0.8443\n",
      "Epoch 13/20\n",
      "7/7 [==============================] - 0s 18ms/step - loss: 0.3362 - accuracy: 0.8632\n",
      "Epoch 14/20\n",
      "7/7 [==============================] - 0s 17ms/step - loss: 0.3157 - accuracy: 0.8726\n",
      "Epoch 15/20\n",
      "7/7 [==============================] - 0s 17ms/step - loss: 0.3348 - accuracy: 0.8679\n",
      "Epoch 16/20\n",
      "7/7 [==============================] - 0s 17ms/step - loss: 0.3282 - accuracy: 0.8632\n",
      "Epoch 17/20\n",
      "7/7 [==============================] - 0s 16ms/step - loss: 0.3210 - accuracy: 0.8585\n",
      "Epoch 18/20\n",
      "7/7 [==============================] - 0s 15ms/step - loss: 0.2975 - accuracy: 0.8774\n",
      "Epoch 19/20\n",
      "7/7 [==============================] - 0s 16ms/step - loss: 0.2925 - accuracy: 0.8821\n",
      "Epoch 20/20\n",
      "7/7 [==============================] - 0s 16ms/step - loss: 0.2716 - accuracy: 0.8774\n",
      "3/3 [==============================] - 0s 7ms/step\n",
      "[[40  9]\n",
      " [11 31]]\n",
      "              precision    recall  f1-score   support\n",
      "\n",
      "           0       0.82      0.78      0.80        51\n",
      "           1       0.74      0.78      0.76        40\n",
      "\n",
      "    accuracy                           0.78        91\n",
      "   macro avg       0.78      0.78      0.78        91\n",
      "weighted avg       0.78      0.78      0.78        91\n",
      "\n"
     ]
    }
   ],
   "source": [
    "path_train = '../TrainTestData/cle_train.csv'\n",
    "path_test = '../TrainTestData/cle_test.csv'\n",
    "model = CNN(path_train,path_test,'cle',20)"
   ]
  },
  {
   "cell_type": "markdown",
   "id": "a6188e68",
   "metadata": {},
   "source": [
    "# Virginia"
   ]
  },
  {
   "cell_type": "code",
   "execution_count": 4,
   "id": "8b19b95f",
   "metadata": {
    "scrolled": true
   },
   "outputs": [
    {
     "name": "stdout",
     "output_type": "stream",
     "text": [
      "Epoch 1/10\n",
      "5/5 [==============================] - 1s 15ms/step - loss: 0.6272 - accuracy: 0.6500\n",
      "Epoch 2/10\n",
      "5/5 [==============================] - 0s 15ms/step - loss: 0.5752 - accuracy: 0.7286\n",
      "Epoch 3/10\n",
      "5/5 [==============================] - 0s 15ms/step - loss: 0.5564 - accuracy: 0.7286\n",
      "Epoch 4/10\n",
      "5/5 [==============================] - 0s 15ms/step - loss: 0.5493 - accuracy: 0.7286\n",
      "Epoch 5/10\n",
      "5/5 [==============================] - 0s 17ms/step - loss: 0.5391 - accuracy: 0.7286\n",
      "Epoch 6/10\n",
      "5/5 [==============================] - 0s 17ms/step - loss: 0.5480 - accuracy: 0.7286\n",
      "Epoch 7/10\n",
      "5/5 [==============================] - 0s 16ms/step - loss: 0.5385 - accuracy: 0.7786\n",
      "Epoch 8/10\n",
      "5/5 [==============================] - 0s 15ms/step - loss: 0.5113 - accuracy: 0.7429\n",
      "Epoch 9/10\n",
      "5/5 [==============================] - 0s 15ms/step - loss: 0.4891 - accuracy: 0.7429\n",
      "Epoch 10/10\n",
      "5/5 [==============================] - 0s 15ms/step - loss: 0.4942 - accuracy: 0.7857\n",
      "2/2 [==============================] - 0s 5ms/step\n",
      "[[ 2  1]\n",
      " [11 46]]\n",
      "              precision    recall  f1-score   support\n",
      "\n",
      "           0       0.67      0.15      0.25        13\n",
      "           1       0.81      0.98      0.88        47\n",
      "\n",
      "    accuracy                           0.80        60\n",
      "   macro avg       0.74      0.57      0.57        60\n",
      "weighted avg       0.78      0.80      0.75        60\n",
      "\n"
     ]
    },
    {
     "data": {
      "text/plain": [
       "<keras.engine.sequential.Sequential at 0x1a037c31f10>"
      ]
     },
     "execution_count": 4,
     "metadata": {},
     "output_type": "execute_result"
    }
   ],
   "source": [
    "path_train = '../traintestdata/vir_train.csv'\n",
    "path_test = '../traintestdata/vir_test.csv'\n",
    "CNN(path_train,path_test,'vir',10)"
   ]
  },
  {
   "cell_type": "markdown",
   "id": "6641dfd8",
   "metadata": {},
   "source": [
    "# Hungary"
   ]
  },
  {
   "cell_type": "code",
   "execution_count": 5,
   "id": "bb3836df",
   "metadata": {
    "scrolled": true
   },
   "outputs": [
    {
     "name": "stdout",
     "output_type": "stream",
     "text": [
      "Epoch 1/20\n",
      "7/7 [==============================] - 1s 16ms/step - loss: 0.6042 - accuracy: 0.6634\n",
      "Epoch 2/20\n",
      "7/7 [==============================] - 0s 16ms/step - loss: 0.4022 - accuracy: 0.8293\n",
      "Epoch 3/20\n",
      "7/7 [==============================] - 0s 16ms/step - loss: 0.3643 - accuracy: 0.8390\n",
      "Epoch 4/20\n",
      "7/7 [==============================] - 0s 15ms/step - loss: 0.3518 - accuracy: 0.8439\n",
      "Epoch 5/20\n",
      "7/7 [==============================] - 0s 16ms/step - loss: 0.3452 - accuracy: 0.8585\n",
      "Epoch 6/20\n",
      "7/7 [==============================] - 0s 16ms/step - loss: 0.3243 - accuracy: 0.8634\n",
      "Epoch 7/20\n",
      "7/7 [==============================] - 0s 17ms/step - loss: 0.2842 - accuracy: 0.8439\n",
      "Epoch 8/20\n",
      "7/7 [==============================] - 0s 17ms/step - loss: 0.3743 - accuracy: 0.8341\n",
      "Epoch 9/20\n",
      "7/7 [==============================] - 0s 17ms/step - loss: 0.3541 - accuracy: 0.8293\n",
      "Epoch 10/20\n",
      "7/7 [==============================] - 0s 16ms/step - loss: 0.3155 - accuracy: 0.8829\n",
      "Epoch 11/20\n",
      "7/7 [==============================] - 0s 15ms/step - loss: 0.2776 - accuracy: 0.8732\n",
      "Epoch 12/20\n",
      "7/7 [==============================] - 0s 16ms/step - loss: 0.2848 - accuracy: 0.8780\n",
      "Epoch 13/20\n",
      "7/7 [==============================] - 0s 16ms/step - loss: 0.2596 - accuracy: 0.8829\n",
      "Epoch 14/20\n",
      "7/7 [==============================] - 0s 16ms/step - loss: 0.2419 - accuracy: 0.8976\n",
      "Epoch 15/20\n",
      "7/7 [==============================] - 0s 15ms/step - loss: 0.2236 - accuracy: 0.9171\n",
      "Epoch 16/20\n",
      "7/7 [==============================] - 0s 18ms/step - loss: 0.2108 - accuracy: 0.9122\n",
      "Epoch 17/20\n",
      "7/7 [==============================] - 0s 16ms/step - loss: 0.2215 - accuracy: 0.9024\n",
      "Epoch 18/20\n",
      "7/7 [==============================] - 0s 17ms/step - loss: 0.2581 - accuracy: 0.8927\n",
      "Epoch 19/20\n",
      "7/7 [==============================] - 0s 16ms/step - loss: 0.2521 - accuracy: 0.8927\n",
      "Epoch 20/20\n",
      "7/7 [==============================] - 0s 15ms/step - loss: 0.2338 - accuracy: 0.9122\n",
      "3/3 [==============================] - 0s 4ms/step\n",
      "[[52  8]\n",
      " [ 5 24]]\n",
      "              precision    recall  f1-score   support\n",
      "\n",
      "           0       0.87      0.91      0.89        57\n",
      "           1       0.83      0.75      0.79        32\n",
      "\n",
      "    accuracy                           0.85        89\n",
      "   macro avg       0.85      0.83      0.84        89\n",
      "weighted avg       0.85      0.85      0.85        89\n",
      "\n"
     ]
    },
    {
     "data": {
      "text/plain": [
       "<keras.engine.sequential.Sequential at 0x1a021fc31c0>"
      ]
     },
     "execution_count": 5,
     "metadata": {},
     "output_type": "execute_result"
    }
   ],
   "source": [
    "path_train = '../traintestdata/hun_train.csv'\n",
    "path_test = '../traintestdata/hun_test.csv'\n",
    "CNN(path_train,path_test,'hun',20)"
   ]
  },
  {
   "cell_type": "markdown",
   "id": "99efa3e1",
   "metadata": {},
   "source": [
    "# Switzerland"
   ]
  },
  {
   "cell_type": "code",
   "execution_count": 6,
   "id": "ad89e6db",
   "metadata": {
    "scrolled": true
   },
   "outputs": [
    {
     "name": "stdout",
     "output_type": "stream",
     "text": [
      "Epoch 1/10\n",
      "3/3 [==============================] - 1s 16ms/step - loss: 0.4778 - accuracy: 0.9302\n",
      "Epoch 2/10\n",
      "3/3 [==============================] - 0s 17ms/step - loss: 0.3617 - accuracy: 0.9302\n",
      "Epoch 3/10\n",
      "3/3 [==============================] - 0s 16ms/step - loss: 0.2909 - accuracy: 0.9302\n",
      "Epoch 4/10\n",
      "3/3 [==============================] - 0s 16ms/step - loss: 0.3054 - accuracy: 0.9302\n",
      "Epoch 5/10\n",
      "3/3 [==============================] - 0s 16ms/step - loss: 0.2612 - accuracy: 0.9302\n",
      "Epoch 6/10\n",
      "3/3 [==============================] - 0s 17ms/step - loss: 0.2444 - accuracy: 0.9302\n",
      "Epoch 7/10\n",
      "3/3 [==============================] - 0s 16ms/step - loss: 0.2604 - accuracy: 0.9302\n",
      "Epoch 8/10\n",
      "3/3 [==============================] - 0s 15ms/step - loss: 0.2270 - accuracy: 0.9302\n",
      "Epoch 9/10\n",
      "3/3 [==============================] - 0s 16ms/step - loss: 0.2295 - accuracy: 0.9302\n",
      "Epoch 10/10\n",
      "3/3 [==============================] - 0s 17ms/step - loss: 0.2314 - accuracy: 0.9302\n",
      "2/2 [==============================] - 0s 3ms/step\n",
      "[[ 0  0]\n",
      " [ 2 35]]\n",
      "              precision    recall  f1-score   support\n",
      "\n",
      "           0       0.00      0.00      0.00         2\n",
      "           1       0.95      1.00      0.97        35\n",
      "\n",
      "    accuracy                           0.95        37\n",
      "   macro avg       0.47      0.50      0.49        37\n",
      "weighted avg       0.89      0.95      0.92        37\n",
      "\n"
     ]
    },
    {
     "name": "stderr",
     "output_type": "stream",
     "text": [
      "D:\\Anaconda\\envs\\GPU\\lib\\site-packages\\sklearn\\metrics\\_classification.py:1344: UndefinedMetricWarning: Precision and F-score are ill-defined and being set to 0.0 in labels with no predicted samples. Use `zero_division` parameter to control this behavior.\n",
      "  _warn_prf(average, modifier, msg_start, len(result))\n",
      "D:\\Anaconda\\envs\\GPU\\lib\\site-packages\\sklearn\\metrics\\_classification.py:1344: UndefinedMetricWarning: Precision and F-score are ill-defined and being set to 0.0 in labels with no predicted samples. Use `zero_division` parameter to control this behavior.\n",
      "  _warn_prf(average, modifier, msg_start, len(result))\n",
      "D:\\Anaconda\\envs\\GPU\\lib\\site-packages\\sklearn\\metrics\\_classification.py:1344: UndefinedMetricWarning: Precision and F-score are ill-defined and being set to 0.0 in labels with no predicted samples. Use `zero_division` parameter to control this behavior.\n",
      "  _warn_prf(average, modifier, msg_start, len(result))\n"
     ]
    },
    {
     "data": {
      "text/plain": [
       "<keras.engine.sequential.Sequential at 0x1a0250f4e50>"
      ]
     },
     "execution_count": 6,
     "metadata": {},
     "output_type": "execute_result"
    }
   ],
   "source": [
    "path_train = '../traintestdata/swi_train.csv'\n",
    "path_test = '../traintestdata/swi_test.csv'\n",
    "CNN(path_train,path_test,'swi',10)"
   ]
  },
  {
   "cell_type": "markdown",
   "id": "d3164806",
   "metadata": {},
   "source": [
    "# Europe"
   ]
  },
  {
   "cell_type": "code",
   "execution_count": 7,
   "id": "709e58d6",
   "metadata": {
    "scrolled": true
   },
   "outputs": [
    {
     "name": "stdout",
     "output_type": "stream",
     "text": [
      "Epoch 1/20\n",
      "10/10 [==============================] - 1s 16ms/step - loss: 0.6293 - accuracy: 0.6632\n",
      "Epoch 2/20\n",
      "10/10 [==============================] - 0s 15ms/step - loss: 0.4334 - accuracy: 0.8110\n",
      "Epoch 3/20\n",
      "10/10 [==============================] - 0s 16ms/step - loss: 0.3992 - accuracy: 0.8247\n",
      "Epoch 4/20\n",
      "10/10 [==============================] - 0s 17ms/step - loss: 0.3959 - accuracy: 0.8282\n",
      "Epoch 5/20\n",
      "10/10 [==============================] - 0s 16ms/step - loss: 0.3657 - accuracy: 0.8351\n",
      "Epoch 6/20\n",
      "10/10 [==============================] - 0s 16ms/step - loss: 0.3500 - accuracy: 0.8316\n",
      "Epoch 7/20\n",
      "10/10 [==============================] - 0s 15ms/step - loss: 0.3228 - accuracy: 0.8625\n",
      "Epoch 8/20\n",
      "10/10 [==============================] - 0s 16ms/step - loss: 0.3141 - accuracy: 0.8694\n",
      "Epoch 9/20\n",
      "10/10 [==============================] - 0s 16ms/step - loss: 0.3094 - accuracy: 0.8729\n",
      "Epoch 10/20\n",
      "10/10 [==============================] - 0s 17ms/step - loss: 0.3159 - accuracy: 0.8832\n",
      "Epoch 11/20\n",
      "10/10 [==============================] - 0s 17ms/step - loss: 0.3362 - accuracy: 0.8694\n",
      "Epoch 12/20\n",
      "10/10 [==============================] - 0s 16ms/step - loss: 0.2754 - accuracy: 0.8832\n",
      "Epoch 13/20\n",
      "10/10 [==============================] - 0s 16ms/step - loss: 0.2816 - accuracy: 0.8763\n",
      "Epoch 14/20\n",
      "10/10 [==============================] - 0s 16ms/step - loss: 0.2680 - accuracy: 0.8797\n",
      "Epoch 15/20\n",
      "10/10 [==============================] - 0s 16ms/step - loss: 0.3215 - accuracy: 0.8454\n",
      "Epoch 16/20\n",
      "10/10 [==============================] - 0s 17ms/step - loss: 0.3235 - accuracy: 0.8522\n",
      "Epoch 17/20\n",
      "10/10 [==============================] - 0s 17ms/step - loss: 0.3304 - accuracy: 0.8557\n",
      "Epoch 18/20\n",
      "10/10 [==============================] - 0s 16ms/step - loss: 0.2817 - accuracy: 0.8866\n",
      "Epoch 19/20\n",
      "10/10 [==============================] - 0s 15ms/step - loss: 0.2972 - accuracy: 0.8660\n",
      "Epoch 20/20\n",
      "10/10 [==============================] - 0s 16ms/step - loss: 0.2916 - accuracy: 0.8591\n",
      "WARNING:tensorflow:5 out of the last 11 calls to <function Model.make_predict_function.<locals>.predict_function at 0x000001A02A0E7AF0> triggered tf.function retracing. Tracing is expensive and the excessive number of tracings could be due to (1) creating @tf.function repeatedly in a loop, (2) passing tensors with different shapes, (3) passing Python objects instead of tensors. For (1), please define your @tf.function outside of the loop. For (2), @tf.function has reduce_retracing=True option that can avoid unnecessary retracing. For (3), please refer to https://www.tensorflow.org/guide/function#controlling_retracing and https://www.tensorflow.org/api_docs/python/tf/function for  more details.\n",
      "4/4 [==============================] - 0s 5ms/step\n",
      "[[54 13]\n",
      " [ 5 54]]\n",
      "              precision    recall  f1-score   support\n",
      "\n",
      "           0       0.81      0.92      0.86        59\n",
      "           1       0.92      0.81      0.86        67\n",
      "\n",
      "    accuracy                           0.86       126\n",
      "   macro avg       0.86      0.86      0.86       126\n",
      "weighted avg       0.86      0.86      0.86       126\n",
      "\n"
     ]
    },
    {
     "data": {
      "text/plain": [
       "<keras.engine.sequential.Sequential at 0x1a025774dc0>"
      ]
     },
     "execution_count": 7,
     "metadata": {},
     "output_type": "execute_result"
    }
   ],
   "source": [
    "path_train = '../traintestdata/euro_train.csv'\n",
    "path_test = '../traintestdata/euro_test.csv'\n",
    "CNN(path_train,path_test,'eur',20)"
   ]
  },
  {
   "cell_type": "markdown",
   "id": "a7bf0136",
   "metadata": {},
   "source": [
    "# Combined"
   ]
  },
  {
   "cell_type": "code",
   "execution_count": 8,
   "id": "fc9f6787",
   "metadata": {
    "scrolled": true
   },
   "outputs": [
    {
     "name": "stdout",
     "output_type": "stream",
     "text": [
      "Epoch 1/20\n",
      "21/21 [==============================] - 1s 16ms/step - loss: 0.5668 - accuracy: 0.7034\n",
      "Epoch 2/20\n",
      "21/21 [==============================] - 0s 17ms/step - loss: 0.5365 - accuracy: 0.7547\n",
      "Epoch 3/20\n",
      "21/21 [==============================] - 0s 16ms/step - loss: 0.4522 - accuracy: 0.8043\n",
      "Epoch 4/20\n",
      "21/21 [==============================] - 0s 16ms/step - loss: 0.4421 - accuracy: 0.7981\n",
      "Epoch 5/20\n",
      "21/21 [==============================] - 0s 17ms/step - loss: 0.4257 - accuracy: 0.8075\n",
      "Epoch 6/20\n",
      "21/21 [==============================] - 0s 16ms/step - loss: 0.4279 - accuracy: 0.8012\n",
      "Epoch 7/20\n",
      "21/21 [==============================] - 0s 16ms/step - loss: 0.4367 - accuracy: 0.8012\n",
      "Epoch 8/20\n",
      "21/21 [==============================] - 0s 17ms/step - loss: 0.4340 - accuracy: 0.8230\n",
      "Epoch 9/20\n",
      "21/21 [==============================] - 0s 16ms/step - loss: 0.4030 - accuracy: 0.8292\n",
      "Epoch 10/20\n",
      "21/21 [==============================] - 0s 16ms/step - loss: 0.3986 - accuracy: 0.8214\n",
      "Epoch 11/20\n",
      "21/21 [==============================] - 0s 18ms/step - loss: 0.3883 - accuracy: 0.8323\n",
      "Epoch 12/20\n",
      "21/21 [==============================] - 0s 16ms/step - loss: 0.3808 - accuracy: 0.8307\n",
      "Epoch 13/20\n",
      "21/21 [==============================] - 0s 16ms/step - loss: 0.3800 - accuracy: 0.8494\n",
      "Epoch 14/20\n",
      "21/21 [==============================] - 0s 18ms/step - loss: 0.3670 - accuracy: 0.8339\n",
      "Epoch 15/20\n",
      "21/21 [==============================] - 0s 16ms/step - loss: 0.3572 - accuracy: 0.8478\n",
      "Epoch 16/20\n",
      "21/21 [==============================] - 0s 17ms/step - loss: 0.3612 - accuracy: 0.8478\n",
      "Epoch 17/20\n",
      "21/21 [==============================] - 0s 17ms/step - loss: 0.3656 - accuracy: 0.8494\n",
      "Epoch 18/20\n",
      "21/21 [==============================] - 0s 16ms/step - loss: 0.3479 - accuracy: 0.8463\n",
      "Epoch 19/20\n",
      "21/21 [==============================] - 0s 17ms/step - loss: 0.3353 - accuracy: 0.8509\n",
      "Epoch 20/20\n",
      "21/21 [==============================] - 0s 17ms/step - loss: 0.3337 - accuracy: 0.8509\n",
      "WARNING:tensorflow:5 out of the last 12 calls to <function Model.make_predict_function.<locals>.predict_function at 0x000001A02C9A4160> triggered tf.function retracing. Tracing is expensive and the excessive number of tracings could be due to (1) creating @tf.function repeatedly in a loop, (2) passing tensors with different shapes, (3) passing Python objects instead of tensors. For (1), please define your @tf.function outside of the loop. For (2), @tf.function has reduce_retracing=True option that can avoid unnecessary retracing. For (3), please refer to https://www.tensorflow.org/guide/function#controlling_retracing and https://www.tensorflow.org/api_docs/python/tf/function for  more details.\n",
      "9/9 [==============================] - 0s 4ms/step\n",
      "[[ 92  15]\n",
      " [ 30 139]]\n",
      "              precision    recall  f1-score   support\n",
      "\n",
      "           0       0.86      0.75      0.80       122\n",
      "           1       0.82      0.90      0.86       154\n",
      "\n",
      "    accuracy                           0.84       276\n",
      "   macro avg       0.84      0.83      0.83       276\n",
      "weighted avg       0.84      0.84      0.84       276\n",
      "\n"
     ]
    },
    {
     "data": {
      "text/plain": [
       "<keras.engine.sequential.Sequential at 0x1a037c31670>"
      ]
     },
     "execution_count": 8,
     "metadata": {},
     "output_type": "execute_result"
    }
   ],
   "source": [
    "path_train = '../traintestdata/com_train.csv'\n",
    "path_test = '../traintestdata/com_test.csv'\n",
    "CNN(path_train,path_test,'com',20)"
   ]
  },
  {
   "cell_type": "code",
   "execution_count": 9,
   "id": "444dae5e",
   "metadata": {},
   "outputs": [],
   "source": [
    "path_train = '../traintestdata/euro_train.csv'\n",
    "path_test = '../traintestdata/euro_test.csv'"
   ]
  },
  {
   "cell_type": "code",
   "execution_count": 10,
   "id": "b5a6c03e",
   "metadata": {},
   "outputs": [
    {
     "data": {
      "text/plain": [
       "0      0\n",
       "1      1\n",
       "2      0\n",
       "3      0\n",
       "4      0\n",
       "      ..\n",
       "412    1\n",
       "413    1\n",
       "414    1\n",
       "415    1\n",
       "416    1\n",
       "Name: num, Length: 417, dtype: int64"
      ]
     },
     "execution_count": 10,
     "metadata": {},
     "output_type": "execute_result"
    }
   ],
   "source": [
    "Train = pd.read_csv(path_train)\n",
    "Test = pd.read_csv(path_test)\n",
    "    \n",
    "X_train = Train.iloc[:,:-1]\n",
    "Y_train = Train.iloc[:,-1]\n",
    "\n",
    "X_test = Test.iloc[:,:-1]\n",
    "Y_test = Test.iloc[:,-1]\n",
    "\n",
    "#binarize the target\n",
    "Y_train_binary = Y_train.apply(lambda x: 1 if x > 0 else 0)\n",
    "Y_test_binary = Y_test.apply(lambda x: 1 if x > 0 else 0)\n",
    "\n",
    "data = pd.concat([X_train,X_test])\n",
    "labels = pd.concat([Y_train_binary,Y_test_binary])\n",
    "\n",
    "data = data.reset_index()\n",
    "data = data.drop(['index'],axis = 1)\n",
    "\n",
    "labels = labels.reset_index()\n",
    "labels = labels.iloc[:,-1]\n",
    "\n",
    "labels"
   ]
  },
  {
   "cell_type": "code",
   "execution_count": 11,
   "id": "f7106e18",
   "metadata": {},
   "outputs": [
    {
     "name": "stdout",
     "output_type": "stream",
     "text": [
      "14/14 [==============================] - 0s 4ms/step\n",
      "[[ 85  29]\n",
      " [111 192]]\n",
      "              precision    recall  f1-score   support\n",
      "\n",
      "           0       0.75      0.43      0.55       196\n",
      "           1       0.63      0.87      0.73       221\n",
      "\n",
      "    accuracy                           0.66       417\n",
      "   macro avg       0.69      0.65      0.64       417\n",
      "weighted avg       0.69      0.66      0.65       417\n",
      "\n"
     ]
    }
   ],
   "source": [
    "Y_pred = model.predict(data).argmax(axis=1)\n",
    "    \n",
    "cm = confusion_matrix(Y_pred, labels)\n",
    "print(cm)\n",
    "print(classification_report(labels, Y_pred))"
   ]
  },
  {
   "cell_type": "code",
   "execution_count": null,
   "id": "a16d8a0a",
   "metadata": {},
   "outputs": [],
   "source": []
  }
 ],
 "metadata": {
  "kernelspec": {
   "display_name": "Python 3 (ipykernel)",
   "language": "python",
   "name": "python3"
  },
  "language_info": {
   "codemirror_mode": {
    "name": "ipython",
    "version": 3
   },
   "file_extension": ".py",
   "mimetype": "text/x-python",
   "name": "python",
   "nbconvert_exporter": "python",
   "pygments_lexer": "ipython3",
   "version": "3.9.16"
  }
 },
 "nbformat": 4,
 "nbformat_minor": 5
}
