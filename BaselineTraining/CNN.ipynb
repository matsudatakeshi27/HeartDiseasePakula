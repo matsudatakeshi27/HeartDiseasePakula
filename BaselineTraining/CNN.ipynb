{
 "cells": [
  {
   "cell_type": "code",
   "execution_count": 1,
   "id": "c773be18",
   "metadata": {},
   "outputs": [],
   "source": [
    "import numpy as np\n",
    "import pandas as pd\n",
    "from keras.models import Sequential\n",
    "from keras.layers import Conv1D, MaxPooling1D, Flatten, Dense, Dropout\n",
    "from sklearn.metrics import confusion_matrix, classification_report"
   ]
  },
  {
   "cell_type": "code",
   "execution_count": 5,
   "id": "9a9d0451",
   "metadata": {},
   "outputs": [],
   "source": [
    "def RNN(path_train,path_test, epoch_num):\n",
    "    Train = pd.read_csv(path_train)\n",
    "    Test = pd.read_csv(path_test)\n",
    "    \n",
    "    X_train = Train.iloc[:,:-1]\n",
    "    Y_train = Train.iloc[:,-1]\n",
    "\n",
    "    X_test = Test.iloc[:,:-1]\n",
    "    Y_test = Test.iloc[:,-1]\n",
    "\n",
    "    #binarize the target\n",
    "    Y_train_binary = Y_train.apply(lambda x: 1 if x > 0 else 0)\n",
    "    Y_test_binary = Y_test.apply(lambda x: 1 if x > 0 else 0)\n",
    "\n",
    "    # CNN\n",
    "    model = Sequential()\n",
    "    model.add(Conv1D(filters=256, kernel_size=3, activation='relu', input_shape=(22,1)))\n",
    "    model.add(Conv1D(filters=256, kernel_size=3, activation='relu'))\n",
    "    model.add(MaxPooling1D(pool_size=2))\n",
    "\n",
    "    model.add(Conv1D(filters=512, kernel_size=3, activation='relu'))\n",
    "    model.add(MaxPooling1D(pool_size=2))\n",
    "\n",
    "    model.add(Flatten())\n",
    "    model.add(Dense(512, activation='relu'))\n",
    "    model.add(Dense(2, activation='sigmoid'))\n",
    "\n",
    "    model.compile(loss='sparse_categorical_crossentropy', optimizer='adam', metrics=['accuracy'])\n",
    "    \n",
    "    model.fit(X_train, Y_train_binary, epochs=epoch_num, batch_size=32)\n",
    "    Y_pred = model.predict(X_test).argmax(axis=1)\n",
    "    \n",
    "    cm = confusion_matrix(Y_pred, Y_test_binary)\n",
    "    print(cm)\n",
    "    print(classification_report(Y_test_binary, Y_pred))\n",
    "    \n",
    "    mismatch = [i for i, (a,b) in enumerate(zip(Y_pred, Y_test_binary)) if a != b]\n",
    "    print(mismatch)"
   ]
  },
  {
   "cell_type": "markdown",
   "id": "011932f6",
   "metadata": {},
   "source": [
    "# Cleveland"
   ]
  },
  {
   "cell_type": "code",
   "execution_count": 6,
   "id": "87e10642",
   "metadata": {
    "scrolled": true
   },
   "outputs": [
    {
     "name": "stdout",
     "output_type": "stream",
     "text": [
      "Epoch 1/19\n",
      "7/7 [==============================] - 2s 44ms/step - loss: 0.6474 - accuracy: 0.6274\n",
      "Epoch 2/19\n",
      "7/7 [==============================] - 0s 34ms/step - loss: 0.4992 - accuracy: 0.7594\n",
      "Epoch 3/19\n",
      "7/7 [==============================] - 0s 33ms/step - loss: 0.4342 - accuracy: 0.8113\n",
      "Epoch 4/19\n",
      "7/7 [==============================] - 0s 32ms/step - loss: 0.4443 - accuracy: 0.7925\n",
      "Epoch 5/19\n",
      "7/7 [==============================] - 0s 37ms/step - loss: 0.4223 - accuracy: 0.8019\n",
      "Epoch 6/19\n",
      "7/7 [==============================] - 0s 37ms/step - loss: 0.4190 - accuracy: 0.8113\n",
      "Epoch 7/19\n",
      "7/7 [==============================] - 0s 35ms/step - loss: 0.4018 - accuracy: 0.8208\n",
      "Epoch 8/19\n",
      "7/7 [==============================] - 0s 33ms/step - loss: 0.4115 - accuracy: 0.7925\n",
      "Epoch 9/19\n",
      "7/7 [==============================] - 0s 32ms/step - loss: 0.3960 - accuracy: 0.8255\n",
      "Epoch 10/19\n",
      "7/7 [==============================] - 0s 37ms/step - loss: 0.3743 - accuracy: 0.8255\n",
      "Epoch 11/19\n",
      "7/7 [==============================] - 0s 41ms/step - loss: 0.3649 - accuracy: 0.8208\n",
      "Epoch 12/19\n",
      "7/7 [==============================] - 0s 36ms/step - loss: 0.3565 - accuracy: 0.8396\n",
      "Epoch 13/19\n",
      "7/7 [==============================] - 0s 35ms/step - loss: 0.3937 - accuracy: 0.8255\n",
      "Epoch 14/19\n",
      "7/7 [==============================] - 0s 35ms/step - loss: 0.3603 - accuracy: 0.8255\n",
      "Epoch 15/19\n",
      "7/7 [==============================] - 0s 34ms/step - loss: 0.3725 - accuracy: 0.8255\n",
      "Epoch 16/19\n",
      "7/7 [==============================] - 0s 34ms/step - loss: 0.3514 - accuracy: 0.8349\n",
      "Epoch 17/19\n",
      "7/7 [==============================] - 0s 36ms/step - loss: 0.3293 - accuracy: 0.8443\n",
      "Epoch 18/19\n",
      "7/7 [==============================] - 0s 32ms/step - loss: 0.3383 - accuracy: 0.8443\n",
      "Epoch 19/19\n",
      "7/7 [==============================] - 0s 36ms/step - loss: 0.3225 - accuracy: 0.8491\n",
      "[[40  8]\n",
      " [11 32]]\n",
      "              precision    recall  f1-score   support\n",
      "\n",
      "           0       0.83      0.78      0.81        51\n",
      "           1       0.74      0.80      0.77        40\n",
      "\n",
      "    accuracy                           0.79        91\n",
      "   macro avg       0.79      0.79      0.79        91\n",
      "weighted avg       0.79      0.79      0.79        91\n",
      "\n",
      "[0, 7, 9, 10, 19, 21, 22, 28, 30, 32, 38, 52, 53, 60, 61, 67, 69, 70, 77]\n"
     ]
    }
   ],
   "source": [
    "path_train = '../traintestdata/cle_train.csv'\n",
    "path_test = '../traintestdata/cle_test.csv'\n",
    "RNN(path_train,path_test,19)"
   ]
  },
  {
   "cell_type": "markdown",
   "id": "a6188e68",
   "metadata": {},
   "source": [
    "# Virginia"
   ]
  },
  {
   "cell_type": "code",
   "execution_count": 8,
   "id": "8b19b95f",
   "metadata": {
    "scrolled": true
   },
   "outputs": [
    {
     "name": "stdout",
     "output_type": "stream",
     "text": [
      "Epoch 1/15\n",
      "5/5 [==============================] - 1s 32ms/step - loss: 0.5991 - accuracy: 0.6286\n",
      "Epoch 2/15\n",
      "5/5 [==============================] - 0s 31ms/step - loss: 0.5835 - accuracy: 0.7286\n",
      "Epoch 3/15\n",
      "5/5 [==============================] - 0s 31ms/step - loss: 0.5683 - accuracy: 0.7286\n",
      "Epoch 4/15\n",
      "5/5 [==============================] - 0s 32ms/step - loss: 0.5413 - accuracy: 0.7286\n",
      "Epoch 5/15\n",
      "5/5 [==============================] - 0s 33ms/step - loss: 0.5366 - accuracy: 0.7286\n",
      "Epoch 6/15\n",
      "5/5 [==============================] - 0s 33ms/step - loss: 0.5214 - accuracy: 0.7286\n",
      "Epoch 7/15\n",
      "5/5 [==============================] - 0s 33ms/step - loss: 0.5085 - accuracy: 0.7429\n",
      "Epoch 8/15\n",
      "5/5 [==============================] - 0s 35ms/step - loss: 0.4911 - accuracy: 0.7714\n",
      "Epoch 9/15\n",
      "5/5 [==============================] - 0s 36ms/step - loss: 0.4771 - accuracy: 0.7714\n",
      "Epoch 10/15\n",
      "5/5 [==============================] - 0s 39ms/step - loss: 0.4983 - accuracy: 0.8143\n",
      "Epoch 11/15\n",
      "5/5 [==============================] - 0s 35ms/step - loss: 0.4698 - accuracy: 0.7571\n",
      "Epoch 12/15\n",
      "5/5 [==============================] - 0s 35ms/step - loss: 0.5078 - accuracy: 0.7643\n",
      "Epoch 13/15\n",
      "5/5 [==============================] - 0s 28ms/step - loss: 0.4678 - accuracy: 0.7857\n",
      "Epoch 14/15\n",
      "5/5 [==============================] - 0s 32ms/step - loss: 0.4551 - accuracy: 0.8000\n",
      "Epoch 15/15\n",
      "5/5 [==============================] - 0s 31ms/step - loss: 0.4531 - accuracy: 0.8214\n",
      "[[ 3  3]\n",
      " [10 44]]\n",
      "              precision    recall  f1-score   support\n",
      "\n",
      "           0       0.50      0.23      0.32        13\n",
      "           1       0.81      0.94      0.87        47\n",
      "\n",
      "    accuracy                           0.78        60\n",
      "   macro avg       0.66      0.58      0.59        60\n",
      "weighted avg       0.75      0.78      0.75        60\n",
      "\n",
      "[3, 6, 14, 22, 28, 32, 34, 42, 48, 49, 56, 57, 58]\n"
     ]
    }
   ],
   "source": [
    "path_train = '../traintestdata/vir_train.csv'\n",
    "path_test = '../traintestdata/vir_test.csv'\n",
    "RNN(path_train,path_test, 15)"
   ]
  },
  {
   "cell_type": "markdown",
   "id": "2847dd00",
   "metadata": {},
   "source": [
    "# Hungary"
   ]
  },
  {
   "cell_type": "code",
   "execution_count": 9,
   "id": "46feda2a",
   "metadata": {
    "scrolled": true
   },
   "outputs": [
    {
     "name": "stdout",
     "output_type": "stream",
     "text": [
      "Epoch 1/20\n",
      "7/7 [==============================] - 1s 44ms/step - loss: 0.6507 - accuracy: 0.5951\n",
      "Epoch 2/20\n",
      "7/7 [==============================] - 0s 33ms/step - loss: 0.4873 - accuracy: 0.8195\n",
      "Epoch 3/20\n",
      "7/7 [==============================] - 0s 32ms/step - loss: 0.3996 - accuracy: 0.8293\n",
      "Epoch 4/20\n",
      "7/7 [==============================] - 0s 33ms/step - loss: 0.3580 - accuracy: 0.8293\n",
      "Epoch 5/20\n",
      "7/7 [==============================] - 0s 28ms/step - loss: 0.3328 - accuracy: 0.8195\n",
      "Epoch 6/20\n",
      "7/7 [==============================] - 0s 33ms/step - loss: 0.3140 - accuracy: 0.8488\n",
      "Epoch 7/20\n",
      "7/7 [==============================] - 0s 34ms/step - loss: 0.2991 - accuracy: 0.8341\n",
      "Epoch 8/20\n",
      "7/7 [==============================] - 0s 34ms/step - loss: 0.2890 - accuracy: 0.8488\n",
      "Epoch 9/20\n",
      "7/7 [==============================] - 0s 33ms/step - loss: 0.2958 - accuracy: 0.8634\n",
      "Epoch 10/20\n",
      "7/7 [==============================] - 0s 33ms/step - loss: 0.2668 - accuracy: 0.8683\n",
      "Epoch 11/20\n",
      "7/7 [==============================] - 0s 34ms/step - loss: 0.2547 - accuracy: 0.8976\n",
      "Epoch 12/20\n",
      "7/7 [==============================] - 0s 32ms/step - loss: 0.2364 - accuracy: 0.9024\n",
      "Epoch 13/20\n",
      "7/7 [==============================] - 0s 34ms/step - loss: 0.2314 - accuracy: 0.9024\n",
      "Epoch 14/20\n",
      "7/7 [==============================] - 0s 33ms/step - loss: 0.2443 - accuracy: 0.8732\n",
      "Epoch 15/20\n",
      "7/7 [==============================] - 0s 34ms/step - loss: 0.2469 - accuracy: 0.8878\n",
      "Epoch 16/20\n",
      "7/7 [==============================] - 0s 31ms/step - loss: 0.2293 - accuracy: 0.8976\n",
      "Epoch 17/20\n",
      "7/7 [==============================] - 0s 34ms/step - loss: 0.2029 - accuracy: 0.9366\n",
      "Epoch 18/20\n",
      "7/7 [==============================] - 0s 35ms/step - loss: 0.2920 - accuracy: 0.8780\n",
      "Epoch 19/20\n",
      "7/7 [==============================] - 0s 34ms/step - loss: 0.2179 - accuracy: 0.8976\n",
      "Epoch 20/20\n",
      "7/7 [==============================] - 0s 33ms/step - loss: 0.2175 - accuracy: 0.9268\n",
      "[[53  8]\n",
      " [ 4 24]]\n",
      "              precision    recall  f1-score   support\n",
      "\n",
      "           0       0.87      0.93      0.90        57\n",
      "           1       0.86      0.75      0.80        32\n",
      "\n",
      "    accuracy                           0.87        89\n",
      "   macro avg       0.86      0.84      0.85        89\n",
      "weighted avg       0.86      0.87      0.86        89\n",
      "\n",
      "[1, 8, 12, 14, 23, 29, 42, 53, 54, 61, 64, 86]\n"
     ]
    }
   ],
   "source": [
    "path_train = '../traintestdata/hun_train.csv'\n",
    "path_test = '../traintestdata/hun_test.csv'\n",
    "RNN(path_train,path_test, 20)"
   ]
  },
  {
   "cell_type": "markdown",
   "id": "6a67e1ad",
   "metadata": {},
   "source": [
    "# Switzerland"
   ]
  },
  {
   "cell_type": "code",
   "execution_count": 10,
   "id": "dbf05ad3",
   "metadata": {
    "scrolled": true
   },
   "outputs": [
    {
     "name": "stdout",
     "output_type": "stream",
     "text": [
      "Epoch 1/20\n",
      "3/3 [==============================] - 1s 32ms/step - loss: 0.4991 - accuracy: 0.6744\n",
      "Epoch 2/20\n",
      "3/3 [==============================] - 0s 34ms/step - loss: 0.4429 - accuracy: 0.9302\n",
      "Epoch 3/20\n",
      "3/3 [==============================] - 0s 34ms/step - loss: 0.3458 - accuracy: 0.9302\n",
      "Epoch 4/20\n",
      "3/3 [==============================] - 0s 33ms/step - loss: 0.2627 - accuracy: 0.9302\n",
      "Epoch 5/20\n",
      "3/3 [==============================] - 0s 36ms/step - loss: 0.3185 - accuracy: 0.9302\n",
      "Epoch 6/20\n",
      "3/3 [==============================] - 0s 33ms/step - loss: 0.2709 - accuracy: 0.9302\n",
      "Epoch 7/20\n",
      "3/3 [==============================] - 0s 33ms/step - loss: 0.2492 - accuracy: 0.9302\n",
      "Epoch 8/20\n",
      "3/3 [==============================] - 0s 36ms/step - loss: 0.2704 - accuracy: 0.9302\n",
      "Epoch 9/20\n",
      "3/3 [==============================] - 0s 35ms/step - loss: 0.2637 - accuracy: 0.9302\n",
      "Epoch 10/20\n",
      "3/3 [==============================] - 0s 33ms/step - loss: 0.2290 - accuracy: 0.9302\n",
      "Epoch 11/20\n",
      "3/3 [==============================] - 0s 34ms/step - loss: 0.2389 - accuracy: 0.9302\n",
      "Epoch 12/20\n",
      "3/3 [==============================] - 0s 33ms/step - loss: 0.2406 - accuracy: 0.9302\n",
      "Epoch 13/20\n",
      "3/3 [==============================] - 0s 33ms/step - loss: 0.2238 - accuracy: 0.9302\n",
      "Epoch 14/20\n",
      "3/3 [==============================] - 0s 33ms/step - loss: 0.2206 - accuracy: 0.9302\n",
      "Epoch 15/20\n",
      "3/3 [==============================] - 0s 34ms/step - loss: 0.2188 - accuracy: 0.9302\n",
      "Epoch 16/20\n",
      "3/3 [==============================] - 0s 32ms/step - loss: 0.2116 - accuracy: 0.9302\n",
      "Epoch 17/20\n",
      "3/3 [==============================] - 0s 35ms/step - loss: 0.2003 - accuracy: 0.9302\n",
      "Epoch 18/20\n",
      "3/3 [==============================] - 0s 33ms/step - loss: 0.1925 - accuracy: 0.9302\n",
      "Epoch 19/20\n",
      "3/3 [==============================] - 0s 32ms/step - loss: 0.1870 - accuracy: 0.9302\n",
      "Epoch 20/20\n",
      "3/3 [==============================] - 0s 33ms/step - loss: 0.1774 - accuracy: 0.9302\n",
      "WARNING:tensorflow:5 out of the last 11 calls to <function Model.make_predict_function.<locals>.predict_function at 0x0000015CD46184C0> triggered tf.function retracing. Tracing is expensive and the excessive number of tracings could be due to (1) creating @tf.function repeatedly in a loop, (2) passing tensors with different shapes, (3) passing Python objects instead of tensors. For (1), please define your @tf.function outside of the loop. For (2), @tf.function has experimental_relax_shapes=True option that relaxes argument shapes that can avoid unnecessary retracing. For (3), please refer to https://www.tensorflow.org/guide/function#controlling_retracing and https://www.tensorflow.org/api_docs/python/tf/function for  more details.\n",
      "[[ 0  0]\n",
      " [ 2 35]]\n",
      "              precision    recall  f1-score   support\n",
      "\n",
      "           0       0.00      0.00      0.00         2\n",
      "           1       0.95      1.00      0.97        35\n",
      "\n",
      "    accuracy                           0.95        37\n",
      "   macro avg       0.47      0.50      0.49        37\n",
      "weighted avg       0.89      0.95      0.92        37\n",
      "\n",
      "[20, 25]\n"
     ]
    },
    {
     "name": "stderr",
     "output_type": "stream",
     "text": [
      "c:\\users\\votri\\appdata\\local\\programs\\python\\python38\\lib\\site-packages\\sklearn\\metrics\\_classification.py:1318: UndefinedMetricWarning: Precision and F-score are ill-defined and being set to 0.0 in labels with no predicted samples. Use `zero_division` parameter to control this behavior.\n",
      "  _warn_prf(average, modifier, msg_start, len(result))\n",
      "c:\\users\\votri\\appdata\\local\\programs\\python\\python38\\lib\\site-packages\\sklearn\\metrics\\_classification.py:1318: UndefinedMetricWarning: Precision and F-score are ill-defined and being set to 0.0 in labels with no predicted samples. Use `zero_division` parameter to control this behavior.\n",
      "  _warn_prf(average, modifier, msg_start, len(result))\n",
      "c:\\users\\votri\\appdata\\local\\programs\\python\\python38\\lib\\site-packages\\sklearn\\metrics\\_classification.py:1318: UndefinedMetricWarning: Precision and F-score are ill-defined and being set to 0.0 in labels with no predicted samples. Use `zero_division` parameter to control this behavior.\n",
      "  _warn_prf(average, modifier, msg_start, len(result))\n"
     ]
    }
   ],
   "source": [
    "path_train = '../traintestdata/swi_train.csv'\n",
    "path_test = '../traintestdata/swi_test.csv'\n",
    "RNN(path_train,path_test, 20)"
   ]
  },
  {
   "cell_type": "markdown",
   "id": "d3164806",
   "metadata": {},
   "source": [
    "# Europe"
   ]
  },
  {
   "cell_type": "code",
   "execution_count": 11,
   "id": "709e58d6",
   "metadata": {
    "scrolled": true
   },
   "outputs": [
    {
     "name": "stdout",
     "output_type": "stream",
     "text": [
      "Epoch 1/20\n",
      "10/10 [==============================] - 2s 34ms/step - loss: 0.5714 - accuracy: 0.7045\n",
      "Epoch 2/20\n",
      "10/10 [==============================] - 0s 34ms/step - loss: 0.3896 - accuracy: 0.8454\n",
      "Epoch 3/20\n",
      "10/10 [==============================] - 0s 29ms/step - loss: 0.4277 - accuracy: 0.8041\n",
      "Epoch 4/20\n",
      "10/10 [==============================] - 0s 31ms/step - loss: 0.3679 - accuracy: 0.8282\n",
      "Epoch 5/20\n",
      "10/10 [==============================] - 0s 30ms/step - loss: 0.3308 - accuracy: 0.8419\n",
      "Epoch 6/20\n",
      "10/10 [==============================] - 0s 28ms/step - loss: 0.3312 - accuracy: 0.8316\n",
      "Epoch 7/20\n",
      "10/10 [==============================] - 0s 40ms/step - loss: 0.3236 - accuracy: 0.8625\n",
      "Epoch 8/20\n",
      "10/10 [==============================] - 0s 34ms/step - loss: 0.3309 - accuracy: 0.8351\n",
      "Epoch 9/20\n",
      "10/10 [==============================] - 0s 32ms/step - loss: 0.3049 - accuracy: 0.8797\n",
      "Epoch 10/20\n",
      "10/10 [==============================] - 0s 33ms/step - loss: 0.2836 - accuracy: 0.8832\n",
      "Epoch 11/20\n",
      "10/10 [==============================] - 0s 33ms/step - loss: 0.3109 - accuracy: 0.8660\n",
      "Epoch 12/20\n",
      "10/10 [==============================] - 0s 33ms/step - loss: 0.3327 - accuracy: 0.8454\n",
      "Epoch 13/20\n",
      "10/10 [==============================] - 0s 32ms/step - loss: 0.3114 - accuracy: 0.8591\n",
      "Epoch 14/20\n",
      "10/10 [==============================] - 0s 32ms/step - loss: 0.2742 - accuracy: 0.8591\n",
      "Epoch 15/20\n",
      "10/10 [==============================] - 0s 31ms/step - loss: 0.2762 - accuracy: 0.8763\n",
      "Epoch 16/20\n",
      "10/10 [==============================] - 0s 34ms/step - loss: 0.2624 - accuracy: 0.9003\n",
      "Epoch 17/20\n",
      "10/10 [==============================] - 0s 31ms/step - loss: 0.3685 - accuracy: 0.8213\n",
      "Epoch 18/20\n",
      "10/10 [==============================] - 0s 27ms/step - loss: 0.2992 - accuracy: 0.8660\n",
      "Epoch 19/20\n",
      "10/10 [==============================] - 0s 31ms/step - loss: 0.2775 - accuracy: 0.8694\n",
      "Epoch 20/20\n",
      "10/10 [==============================] - 0s 32ms/step - loss: 0.2540 - accuracy: 0.8969\n",
      "WARNING:tensorflow:6 out of the last 13 calls to <function Model.make_predict_function.<locals>.predict_function at 0x0000015CD33B1790> triggered tf.function retracing. Tracing is expensive and the excessive number of tracings could be due to (1) creating @tf.function repeatedly in a loop, (2) passing tensors with different shapes, (3) passing Python objects instead of tensors. For (1), please define your @tf.function outside of the loop. For (2), @tf.function has experimental_relax_shapes=True option that relaxes argument shapes that can avoid unnecessary retracing. For (3), please refer to https://www.tensorflow.org/guide/function#controlling_retracing and https://www.tensorflow.org/api_docs/python/tf/function for  more details.\n",
      "[[51 11]\n",
      " [ 8 56]]\n",
      "              precision    recall  f1-score   support\n",
      "\n",
      "           0       0.82      0.86      0.84        59\n",
      "           1       0.88      0.84      0.85        67\n",
      "\n",
      "    accuracy                           0.85       126\n",
      "   macro avg       0.85      0.85      0.85       126\n",
      "weighted avg       0.85      0.85      0.85       126\n",
      "\n",
      "[1, 12, 14, 17, 23, 29, 33, 42, 46, 53, 54, 61, 64, 86, 101, 104, 109, 116, 117]\n"
     ]
    }
   ],
   "source": [
    "path_train = '../traintestdata/euro_train.csv'\n",
    "path_test = '../traintestdata/euro_test.csv'\n",
    "RNN(path_train,path_test, 20)"
   ]
  },
  {
   "cell_type": "markdown",
   "id": "a7bf0136",
   "metadata": {},
   "source": [
    "# Combined"
   ]
  },
  {
   "cell_type": "code",
   "execution_count": 12,
   "id": "fc9f6787",
   "metadata": {
    "scrolled": true
   },
   "outputs": [
    {
     "name": "stdout",
     "output_type": "stream",
     "text": [
      "Epoch 1/20\n",
      "21/21 [==============================] - 2s 35ms/step - loss: 0.6072 - accuracy: 0.6770\n",
      "Epoch 2/20\n",
      "21/21 [==============================] - 1s 36ms/step - loss: 0.4916 - accuracy: 0.7547\n",
      "Epoch 3/20\n",
      "21/21 [==============================] - 1s 34ms/step - loss: 0.4807 - accuracy: 0.7842\n",
      "Epoch 4/20\n",
      "21/21 [==============================] - 1s 33ms/step - loss: 0.4421 - accuracy: 0.8168\n",
      "Epoch 5/20\n",
      "21/21 [==============================] - 1s 33ms/step - loss: 0.4320 - accuracy: 0.8106\n",
      "Epoch 6/20\n",
      "21/21 [==============================] - 1s 34ms/step - loss: 0.4148 - accuracy: 0.8245\n",
      "Epoch 7/20\n",
      "21/21 [==============================] - 1s 32ms/step - loss: 0.4059 - accuracy: 0.8245\n",
      "Epoch 8/20\n",
      "21/21 [==============================] - 1s 33ms/step - loss: 0.3861 - accuracy: 0.8230\n",
      "Epoch 9/20\n",
      "21/21 [==============================] - 1s 32ms/step - loss: 0.3854 - accuracy: 0.8292\n",
      "Epoch 10/20\n",
      "21/21 [==============================] - 1s 33ms/step - loss: 0.4113 - accuracy: 0.8168\n",
      "Epoch 11/20\n",
      "21/21 [==============================] - 1s 33ms/step - loss: 0.3826 - accuracy: 0.8292\n",
      "Epoch 12/20\n",
      "21/21 [==============================] - 1s 32ms/step - loss: 0.3933 - accuracy: 0.8339\n",
      "Epoch 13/20\n",
      "21/21 [==============================] - 1s 35ms/step - loss: 0.3698 - accuracy: 0.8478\n",
      "Epoch 14/20\n",
      "21/21 [==============================] - 1s 33ms/step - loss: 0.3666 - accuracy: 0.8339\n",
      "Epoch 15/20\n",
      "21/21 [==============================] - 1s 33ms/step - loss: 0.3700 - accuracy: 0.8370\n",
      "Epoch 16/20\n",
      "21/21 [==============================] - 1s 33ms/step - loss: 0.3633 - accuracy: 0.8525\n",
      "Epoch 17/20\n",
      "21/21 [==============================] - 1s 33ms/step - loss: 0.3490 - accuracy: 0.8463\n",
      "Epoch 18/20\n",
      "21/21 [==============================] - 1s 33ms/step - loss: 0.3361 - accuracy: 0.8525\n",
      "Epoch 19/20\n",
      "21/21 [==============================] - 1s 34ms/step - loss: 0.3269 - accuracy: 0.8509\n",
      "Epoch 20/20\n",
      "21/21 [==============================] - 1s 36ms/step - loss: 0.3480 - accuracy: 0.8463\n",
      "[[101  24]\n",
      " [ 21 130]]\n",
      "              precision    recall  f1-score   support\n",
      "\n",
      "           0       0.81      0.83      0.82       122\n",
      "           1       0.86      0.84      0.85       154\n",
      "\n",
      "    accuracy                           0.84       276\n",
      "   macro avg       0.83      0.84      0.84       276\n",
      "weighted avg       0.84      0.84      0.84       276\n",
      "\n",
      "[11, 38, 42, 52, 59, 63, 76, 79, 83, 88, 91, 104, 106, 116, 121, 122, 125, 127, 130, 135, 146, 148, 155, 158, 164, 167, 169, 173, 184, 188, 190, 195, 214, 217, 221, 222, 225, 228, 234, 247, 258, 259, 264, 274, 275]\n"
     ]
    }
   ],
   "source": [
    "path_train = '../traintestdata/com_train.csv'\n",
    "path_test = '../traintestdata/com_test.csv'\n",
    "RNN(path_train,path_test, 20)"
   ]
  },
  {
   "cell_type": "markdown",
   "id": "69ce7695",
   "metadata": {},
   "source": [
    "# Testing models on different data"
   ]
  },
  {
   "cell_type": "code",
   "execution_count": 13,
   "id": "218319b2",
   "metadata": {
    "scrolled": true
   },
   "outputs": [
    {
     "name": "stdout",
     "output_type": "stream",
     "text": [
      "Epoch 1/20\n",
      "7/7 [==============================] - 2s 43ms/step - loss: 0.7291 - accuracy: 0.5708\n",
      "Epoch 2/20\n",
      "7/7 [==============================] - 0s 40ms/step - loss: 0.6514 - accuracy: 0.6179\n",
      "Epoch 3/20\n",
      "7/7 [==============================] - 0s 42ms/step - loss: 0.5329 - accuracy: 0.7783\n",
      "Epoch 4/20\n",
      "7/7 [==============================] - 0s 35ms/step - loss: 0.4682 - accuracy: 0.7783\n",
      "Epoch 5/20\n",
      "7/7 [==============================] - 0s 37ms/step - loss: 0.4474 - accuracy: 0.7877\n",
      "Epoch 6/20\n",
      "7/7 [==============================] - 0s 34ms/step - loss: 0.4184 - accuracy: 0.7925\n",
      "Epoch 7/20\n",
      "7/7 [==============================] - 0s 34ms/step - loss: 0.4309 - accuracy: 0.7925\n",
      "Epoch 8/20\n",
      "7/7 [==============================] - 0s 34ms/step - loss: 0.4167 - accuracy: 0.7877\n",
      "Epoch 9/20\n",
      "7/7 [==============================] - 0s 33ms/step - loss: 0.4127 - accuracy: 0.8066\n",
      "Epoch 10/20\n",
      "7/7 [==============================] - 0s 36ms/step - loss: 0.3934 - accuracy: 0.8349\n",
      "Epoch 11/20\n",
      "7/7 [==============================] - 0s 35ms/step - loss: 0.3774 - accuracy: 0.8208\n",
      "Epoch 12/20\n",
      "7/7 [==============================] - 0s 32ms/step - loss: 0.3833 - accuracy: 0.8160\n",
      "Epoch 13/20\n",
      "7/7 [==============================] - 0s 33ms/step - loss: 0.3829 - accuracy: 0.8160\n",
      "Epoch 14/20\n",
      "7/7 [==============================] - 0s 32ms/step - loss: 0.3590 - accuracy: 0.8443\n",
      "Epoch 15/20\n",
      "7/7 [==============================] - 0s 35ms/step - loss: 0.3669 - accuracy: 0.8349\n",
      "Epoch 16/20\n",
      "7/7 [==============================] - 0s 32ms/step - loss: 0.3467 - accuracy: 0.8491\n",
      "Epoch 17/20\n",
      "7/7 [==============================] - 0s 34ms/step - loss: 0.3476 - accuracy: 0.8491\n",
      "Epoch 18/20\n",
      "7/7 [==============================] - 0s 32ms/step - loss: 0.3210 - accuracy: 0.8443\n",
      "Epoch 19/20\n",
      "7/7 [==============================] - 0s 34ms/step - loss: 0.3352 - accuracy: 0.8585\n",
      "Epoch 20/20\n",
      "7/7 [==============================] - 0s 37ms/step - loss: 0.3267 - accuracy: 0.8491\n",
      "[[22 12]\n",
      " [37 55]]\n",
      "              precision    recall  f1-score   support\n",
      "\n",
      "           0       0.65      0.37      0.47        59\n",
      "           1       0.60      0.82      0.69        67\n",
      "\n",
      "    accuracy                           0.61       126\n",
      "   macro avg       0.62      0.60      0.58       126\n",
      "weighted avg       0.62      0.61      0.59       126\n",
      "\n",
      "[0, 1, 3, 9, 10, 12, 13, 14, 16, 18, 20, 21, 22, 23, 26, 29, 31, 32, 35, 36, 37, 39, 40, 42, 43, 44, 45, 46, 47, 48, 50, 51, 54, 60, 62, 66, 71, 72, 75, 85, 87, 88, 90, 95, 104, 109, 111, 116, 117]\n"
     ]
    }
   ],
   "source": [
    "path_train = '../traintestdata/cle_train.csv'\n",
    "path_test = '../traintestdata/euro_test.csv'\n",
    "RNN(path_train,path_test, 20)"
   ]
  },
  {
   "cell_type": "code",
   "execution_count": 14,
   "id": "b94b89c2",
   "metadata": {
    "scrolled": true
   },
   "outputs": [
    {
     "name": "stdout",
     "output_type": "stream",
     "text": [
      "Epoch 1/20\n",
      "10/10 [==============================] - 1s 32ms/step - loss: 0.5948 - accuracy: 0.6632\n",
      "Epoch 2/20\n",
      "10/10 [==============================] - 0s 31ms/step - loss: 0.4660 - accuracy: 0.7904\n",
      "Epoch 3/20\n",
      "10/10 [==============================] - 0s 30ms/step - loss: 0.4507 - accuracy: 0.7629\n",
      "Epoch 4/20\n",
      "10/10 [==============================] - 0s 31ms/step - loss: 0.4332 - accuracy: 0.7973\n",
      "Epoch 5/20\n",
      "10/10 [==============================] - 0s 30ms/step - loss: 0.3825 - accuracy: 0.8247\n",
      "Epoch 6/20\n",
      "10/10 [==============================] - 0s 29ms/step - loss: 0.3820 - accuracy: 0.8144\n",
      "Epoch 7/20\n",
      "10/10 [==============================] - 0s 30ms/step - loss: 0.3465 - accuracy: 0.8419\n",
      "Epoch 8/20\n",
      "10/10 [==============================] - 0s 30ms/step - loss: 0.3462 - accuracy: 0.8625\n",
      "Epoch 9/20\n",
      "10/10 [==============================] - 0s 30ms/step - loss: 0.3225 - accuracy: 0.8557\n",
      "Epoch 10/20\n",
      "10/10 [==============================] - 0s 30ms/step - loss: 0.3063 - accuracy: 0.8591\n",
      "Epoch 11/20\n",
      "10/10 [==============================] - 0s 31ms/step - loss: 0.3039 - accuracy: 0.8763\n",
      "Epoch 12/20\n",
      "10/10 [==============================] - 0s 30ms/step - loss: 0.3067 - accuracy: 0.8660\n",
      "Epoch 13/20\n",
      "10/10 [==============================] - 0s 30ms/step - loss: 0.3337 - accuracy: 0.8488\n",
      "Epoch 14/20\n",
      "10/10 [==============================] - 0s 30ms/step - loss: 0.3246 - accuracy: 0.8591\n",
      "Epoch 15/20\n",
      "10/10 [==============================] - 0s 31ms/step - loss: 0.3066 - accuracy: 0.8694\n",
      "Epoch 16/20\n",
      "10/10 [==============================] - 0s 30ms/step - loss: 0.3155 - accuracy: 0.8797\n",
      "Epoch 17/20\n",
      "10/10 [==============================] - 0s 29ms/step - loss: 0.2962 - accuracy: 0.8591\n",
      "Epoch 18/20\n",
      "10/10 [==============================] - 0s 27ms/step - loss: 0.3308 - accuracy: 0.8832\n",
      "Epoch 19/20\n",
      "10/10 [==============================] - 0s 29ms/step - loss: 0.2616 - accuracy: 0.8935\n",
      "Epoch 20/20\n",
      "10/10 [==============================] - 0s 28ms/step - loss: 0.2520 - accuracy: 0.8866\n",
      "[[18  4]\n",
      " [33 36]]\n",
      "              precision    recall  f1-score   support\n",
      "\n",
      "           0       0.82      0.35      0.49        51\n",
      "           1       0.52      0.90      0.66        40\n",
      "\n",
      "    accuracy                           0.59        91\n",
      "   macro avg       0.67      0.63      0.58        91\n",
      "weighted avg       0.69      0.59      0.57        91\n",
      "\n",
      "[0, 2, 3, 5, 7, 10, 11, 14, 19, 22, 23, 24, 25, 28, 31, 32, 33, 36, 38, 39, 46, 47, 48, 51, 60, 61, 62, 63, 64, 67, 69, 77, 78, 83, 87, 88, 90]\n"
     ]
    }
   ],
   "source": [
    "path_train = '../traintestdata/euro_train.csv'\n",
    "path_test = '../traintestdata/cle_test.csv'\n",
    "RNN(path_train,path_test, 20)"
   ]
  },
  {
   "cell_type": "code",
   "execution_count": null,
   "id": "c01339e4",
   "metadata": {},
   "outputs": [],
   "source": []
  }
 ],
 "metadata": {
  "kernelspec": {
   "display_name": "Python 3 (ipykernel)",
   "language": "python",
   "name": "python3"
  },
  "language_info": {
   "codemirror_mode": {
    "name": "ipython",
    "version": 3
   },
   "file_extension": ".py",
   "mimetype": "text/x-python",
   "name": "python",
   "nbconvert_exporter": "python",
   "pygments_lexer": "ipython3",
   "version": "3.8.3"
  }
 },
 "nbformat": 4,
 "nbformat_minor": 5
}
