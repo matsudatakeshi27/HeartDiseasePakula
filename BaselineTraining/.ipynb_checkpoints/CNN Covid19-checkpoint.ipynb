{
 "cells": [
  {
   "cell_type": "code",
   "execution_count": 1,
   "id": "c773be18",
   "metadata": {},
   "outputs": [],
   "source": [
    "import numpy as np\n",
    "import pandas as pd\n",
    "from keras.models import Sequential\n",
    "from keras.layers import Dense, SimpleRNN\n",
    "from sklearn.metrics import confusion_matrix, classification_report"
   ]
  },
  {
   "cell_type": "code",
   "execution_count": 2,
   "id": "9a9d0451",
   "metadata": {},
   "outputs": [],
   "source": [
    "def RNN(path_train,path_test):\n",
    "    #Split the data\n",
    "    Train = pd.read_csv(path_train)\n",
    "    Test = pd.read_csv(path_test)\n",
    "    \n",
    "    X_train = Train.iloc[:,:-1]\n",
    "    Y_train = Train.iloc[:,-1]\n",
    "\n",
    "    X_test = Test.iloc[:,:-1]\n",
    "    Y_test = Test.iloc[:,-1]\n",
    "\n",
    "    #binarize the target\n",
    "    Y_train_binary = Y_train.apply(lambda x: 1 if x > 0 else 0)\n",
    "    Y_test_binary = Y_test.apply(lambda x: 1 if x > 0 else 0)\n",
    "\n",
    "    # define the model architecture\n",
    "    model = Sequential()\n",
    "    model.add(SimpleRNN(units=64, return_sequences=True, input_shape=(22, 1)))\n",
    "    model.add(SimpleRNN(units=32, return_sequences=True))\n",
    "    model.add(SimpleRNN(units=16))\n",
    "    model.add(Dense(units=2, activation='sigmoid'))\n",
    "    model.compile(optimizer='adam', loss='sparse_categorical_crossentropy', metrics=['accuracy'])\n",
    "    \n",
    "    model.fit(X_train, Y_train_binary, epochs=10, batch_size=32)\n",
    "    Y_pred = model.predict(X_test).argmax(axis=1)\n",
    "    \n",
    "    cm = confusion_matrix(Y_pred, Y_test_binary)\n",
    "    print(cm)\n",
    "    print(classification_report(Y_test_binary, Y_pred))"
   ]
  },
  {
   "cell_type": "markdown",
   "id": "011932f6",
   "metadata": {},
   "source": [
    "# Cleveland"
   ]
  },
  {
   "cell_type": "code",
   "execution_count": 3,
   "id": "87e10642",
   "metadata": {
    "scrolled": true
   },
   "outputs": [
    {
     "name": "stdout",
     "output_type": "stream",
     "text": [
      "Epoch 1/10\n",
      "7/7 [==============================] - 3s 14ms/step - loss: 0.5629 - accuracy: 0.7170\n",
      "Epoch 2/10\n",
      "7/7 [==============================] - 0s 15ms/step - loss: 0.4261 - accuracy: 0.7925\n",
      "Epoch 3/10\n",
      "7/7 [==============================] - 0s 14ms/step - loss: 0.4139 - accuracy: 0.8113\n",
      "Epoch 4/10\n",
      "7/7 [==============================] - 0s 14ms/step - loss: 0.3866 - accuracy: 0.8113\n",
      "Epoch 5/10\n",
      "7/7 [==============================] - 0s 15ms/step - loss: 0.3643 - accuracy: 0.8255\n",
      "Epoch 6/10\n",
      "7/7 [==============================] - 0s 14ms/step - loss: 0.3472 - accuracy: 0.8396\n",
      "Epoch 7/10\n",
      "7/7 [==============================] - 0s 15ms/step - loss: 0.3332 - accuracy: 0.8585\n",
      "Epoch 8/10\n",
      "7/7 [==============================] - 0s 15ms/step - loss: 0.3232 - accuracy: 0.8632\n",
      "Epoch 9/10\n",
      "7/7 [==============================] - 0s 15ms/step - loss: 0.3219 - accuracy: 0.8538\n",
      "Epoch 10/10\n",
      "7/7 [==============================] - 0s 15ms/step - loss: 0.3005 - accuracy: 0.8585\n",
      "[[39  6]\n",
      " [12 34]]\n",
      "              precision    recall  f1-score   support\n",
      "\n",
      "           0       0.87      0.76      0.81        51\n",
      "           1       0.74      0.85      0.79        40\n",
      "\n",
      "    accuracy                           0.80        91\n",
      "   macro avg       0.80      0.81      0.80        91\n",
      "weighted avg       0.81      0.80      0.80        91\n",
      "\n"
     ]
    }
   ],
   "source": [
    "path_train = '../traintestdata/cle_train.csv'\n",
    "path_test = '../traintestdata/cle_test.csv'\n",
    "RNN(path_train,path_test)"
   ]
  },
  {
   "cell_type": "markdown",
   "id": "a6188e68",
   "metadata": {},
   "source": [
    "# Virginia"
   ]
  },
  {
   "cell_type": "code",
   "execution_count": 4,
   "id": "8b19b95f",
   "metadata": {
    "scrolled": true
   },
   "outputs": [
    {
     "name": "stdout",
     "output_type": "stream",
     "text": [
      "Epoch 1/10\n",
      "5/5 [==============================] - 3s 17ms/step - loss: 0.5730 - accuracy: 0.7143\n",
      "Epoch 2/10\n",
      "5/5 [==============================] - 0s 19ms/step - loss: 0.5024 - accuracy: 0.7714\n",
      "Epoch 3/10\n",
      "5/5 [==============================] - 0s 18ms/step - loss: 0.4786 - accuracy: 0.7857\n",
      "Epoch 4/10\n",
      "5/5 [==============================] - 0s 17ms/step - loss: 0.4480 - accuracy: 0.7857\n",
      "Epoch 5/10\n",
      "5/5 [==============================] - 0s 20ms/step - loss: 0.4358 - accuracy: 0.8071\n",
      "Epoch 6/10\n",
      "5/5 [==============================] - 0s 19ms/step - loss: 0.4213 - accuracy: 0.8143\n",
      "Epoch 7/10\n",
      "5/5 [==============================] - 0s 19ms/step - loss: 0.4135 - accuracy: 0.8143\n",
      "Epoch 8/10\n",
      "5/5 [==============================] - 0s 18ms/step - loss: 0.3941 - accuracy: 0.8500\n",
      "Epoch 9/10\n",
      "5/5 [==============================] - 0s 18ms/step - loss: 0.3809 - accuracy: 0.8429\n",
      "Epoch 10/10\n",
      "5/5 [==============================] - 0s 29ms/step - loss: 0.3721 - accuracy: 0.8429\n",
      "[[ 3  4]\n",
      " [10 43]]\n",
      "              precision    recall  f1-score   support\n",
      "\n",
      "           0       0.43      0.23      0.30        13\n",
      "           1       0.81      0.91      0.86        47\n",
      "\n",
      "    accuracy                           0.77        60\n",
      "   macro avg       0.62      0.57      0.58        60\n",
      "weighted avg       0.73      0.77      0.74        60\n",
      "\n"
     ]
    }
   ],
   "source": [
    "path_train = '../traintestdata/vir_train.csv'\n",
    "path_test = '../traintestdata/vir_test.csv'\n",
    "RNN(path_train,path_test)"
   ]
  },
  {
   "cell_type": "markdown",
   "id": "2847dd00",
   "metadata": {},
   "source": [
    "# Hungary"
   ]
  },
  {
   "cell_type": "code",
   "execution_count": 5,
   "id": "46feda2a",
   "metadata": {
    "scrolled": true
   },
   "outputs": [
    {
     "name": "stdout",
     "output_type": "stream",
     "text": [
      "Epoch 1/10\n",
      "7/7 [==============================] - 3s 16ms/step - loss: 0.5334 - accuracy: 0.7122\n",
      "Epoch 2/10\n",
      "7/7 [==============================] - 0s 17ms/step - loss: 0.3931 - accuracy: 0.8439\n",
      "Epoch 3/10\n",
      "7/7 [==============================] - 0s 20ms/step - loss: 0.3746 - accuracy: 0.8293\n",
      "Epoch 4/10\n",
      "7/7 [==============================] - 0s 19ms/step - loss: 0.3652 - accuracy: 0.8244\n",
      "Epoch 5/10\n",
      "7/7 [==============================] - 0s 17ms/step - loss: 0.3475 - accuracy: 0.8439\n",
      "Epoch 6/10\n",
      "7/7 [==============================] - 0s 18ms/step - loss: 0.3199 - accuracy: 0.8488\n",
      "Epoch 7/10\n",
      "7/7 [==============================] - 0s 16ms/step - loss: 0.3081 - accuracy: 0.8585\n",
      "Epoch 8/10\n",
      "7/7 [==============================] - 0s 16ms/step - loss: 0.3053 - accuracy: 0.8780\n",
      "Epoch 9/10\n",
      "7/7 [==============================] - 0s 16ms/step - loss: 0.2906 - accuracy: 0.8634\n",
      "Epoch 10/10\n",
      "7/7 [==============================] - 0s 15ms/step - loss: 0.2759 - accuracy: 0.8878\n",
      "[[52  8]\n",
      " [ 5 24]]\n",
      "              precision    recall  f1-score   support\n",
      "\n",
      "           0       0.87      0.91      0.89        57\n",
      "           1       0.83      0.75      0.79        32\n",
      "\n",
      "    accuracy                           0.85        89\n",
      "   macro avg       0.85      0.83      0.84        89\n",
      "weighted avg       0.85      0.85      0.85        89\n",
      "\n"
     ]
    }
   ],
   "source": [
    "path_train = '../traintestdata/hun_train.csv'\n",
    "path_test = '../traintestdata/hun_test.csv'\n",
    "RNN(path_train,path_test)"
   ]
  },
  {
   "cell_type": "markdown",
   "id": "6a67e1ad",
   "metadata": {},
   "source": [
    "# Switzerland"
   ]
  },
  {
   "cell_type": "code",
   "execution_count": 6,
   "id": "dbf05ad3",
   "metadata": {
    "scrolled": true
   },
   "outputs": [
    {
     "name": "stdout",
     "output_type": "stream",
     "text": [
      "Epoch 1/10\n",
      "3/3 [==============================] - 3s 14ms/step - loss: 0.5461 - accuracy: 0.7558\n",
      "Epoch 2/10\n",
      "3/3 [==============================] - 0s 18ms/step - loss: 0.2569 - accuracy: 0.9302\n",
      "Epoch 3/10\n",
      "3/3 [==============================] - 0s 19ms/step - loss: 0.2330 - accuracy: 0.9302\n",
      "Epoch 4/10\n",
      "3/3 [==============================] - 0s 18ms/step - loss: 0.2046 - accuracy: 0.9302\n",
      "Epoch 5/10\n",
      "3/3 [==============================] - 0s 24ms/step - loss: 0.1839 - accuracy: 0.9302\n",
      "Epoch 6/10\n",
      "3/3 [==============================] - 0s 17ms/step - loss: 0.1582 - accuracy: 0.9302\n",
      "Epoch 7/10\n",
      "3/3 [==============================] - 0s 19ms/step - loss: 0.1485 - accuracy: 0.9535\n",
      "Epoch 8/10\n",
      "3/3 [==============================] - 0s 22ms/step - loss: 0.1431 - accuracy: 0.9535\n",
      "Epoch 9/10\n",
      "3/3 [==============================] - 0s 27ms/step - loss: 0.1336 - accuracy: 0.9651\n",
      "Epoch 10/10\n",
      "3/3 [==============================] - 0s 22ms/step - loss: 0.1263 - accuracy: 0.9651\n",
      "[[ 0  1]\n",
      " [ 2 34]]\n",
      "              precision    recall  f1-score   support\n",
      "\n",
      "           0       0.00      0.00      0.00         2\n",
      "           1       0.94      0.97      0.96        35\n",
      "\n",
      "    accuracy                           0.92        37\n",
      "   macro avg       0.47      0.49      0.48        37\n",
      "weighted avg       0.89      0.92      0.91        37\n",
      "\n"
     ]
    }
   ],
   "source": [
    "path_train = '../traintestdata/swi_train.csv'\n",
    "path_test = '../traintestdata/swi_test.csv'\n",
    "RNN(path_train,path_test)"
   ]
  },
  {
   "cell_type": "markdown",
   "id": "d3164806",
   "metadata": {},
   "source": [
    "# Europe"
   ]
  },
  {
   "cell_type": "code",
   "execution_count": 7,
   "id": "709e58d6",
   "metadata": {
    "scrolled": true
   },
   "outputs": [
    {
     "name": "stdout",
     "output_type": "stream",
     "text": [
      "Epoch 1/10\n",
      "10/10 [==============================] - 3s 15ms/step - loss: 0.5980 - accuracy: 0.7113\n",
      "Epoch 2/10\n",
      "10/10 [==============================] - 0s 15ms/step - loss: 0.4302 - accuracy: 0.7869\n",
      "Epoch 3/10\n",
      "10/10 [==============================] - 0s 15ms/step - loss: 0.3778 - accuracy: 0.8488\n",
      "Epoch 4/10\n",
      "10/10 [==============================] - 0s 15ms/step - loss: 0.3509 - accuracy: 0.8488\n",
      "Epoch 5/10\n",
      "10/10 [==============================] - 0s 14ms/step - loss: 0.3226 - accuracy: 0.8625\n",
      "Epoch 6/10\n",
      "10/10 [==============================] - 0s 15ms/step - loss: 0.3073 - accuracy: 0.8660\n",
      "Epoch 7/10\n",
      "10/10 [==============================] - 0s 15ms/step - loss: 0.3266 - accuracy: 0.8488\n",
      "Epoch 8/10\n",
      "10/10 [==============================] - 0s 16ms/step - loss: 0.3037 - accuracy: 0.8729\n",
      "Epoch 9/10\n",
      "10/10 [==============================] - 0s 16ms/step - loss: 0.3001 - accuracy: 0.8729\n",
      "Epoch 10/10\n",
      "10/10 [==============================] - 0s 15ms/step - loss: 0.2784 - accuracy: 0.8832\n",
      "WARNING:tensorflow:5 out of the last 11 calls to <function Model.make_predict_function.<locals>.predict_function at 0x0000023C42C37700> triggered tf.function retracing. Tracing is expensive and the excessive number of tracings could be due to (1) creating @tf.function repeatedly in a loop, (2) passing tensors with different shapes, (3) passing Python objects instead of tensors. For (1), please define your @tf.function outside of the loop. For (2), @tf.function has experimental_relax_shapes=True option that relaxes argument shapes that can avoid unnecessary retracing. For (3), please refer to https://www.tensorflow.org/guide/function#controlling_retracing and https://www.tensorflow.org/api_docs/python/tf/function for  more details.\n",
      "[[53 13]\n",
      " [ 6 54]]\n",
      "              precision    recall  f1-score   support\n",
      "\n",
      "           0       0.80      0.90      0.85        59\n",
      "           1       0.90      0.81      0.85        67\n",
      "\n",
      "    accuracy                           0.85       126\n",
      "   macro avg       0.85      0.85      0.85       126\n",
      "weighted avg       0.85      0.85      0.85       126\n",
      "\n"
     ]
    }
   ],
   "source": [
    "path_train = '../traintestdata/euro_train.csv'\n",
    "path_test = '../traintestdata/euro_test.csv'\n",
    "RNN(path_train,path_test)"
   ]
  },
  {
   "cell_type": "markdown",
   "id": "a7bf0136",
   "metadata": {},
   "source": [
    "# Combined"
   ]
  },
  {
   "cell_type": "code",
   "execution_count": 8,
   "id": "fc9f6787",
   "metadata": {
    "scrolled": true
   },
   "outputs": [
    {
     "name": "stdout",
     "output_type": "stream",
     "text": [
      "Epoch 1/10\n",
      "21/21 [==============================] - 3s 14ms/step - loss: 0.5311 - accuracy: 0.7407\n",
      "Epoch 2/10\n",
      "21/21 [==============================] - 0s 14ms/step - loss: 0.4347 - accuracy: 0.8012\n",
      "Epoch 3/10\n",
      "21/21 [==============================] - 0s 14ms/step - loss: 0.4052 - accuracy: 0.8183\n",
      "Epoch 4/10\n",
      "21/21 [==============================] - 0s 14ms/step - loss: 0.4009 - accuracy: 0.8245\n",
      "Epoch 5/10\n",
      "21/21 [==============================] - 0s 14ms/step - loss: 0.3964 - accuracy: 0.8183\n",
      "Epoch 6/10\n",
      "21/21 [==============================] - 0s 15ms/step - loss: 0.3975 - accuracy: 0.8370\n",
      "Epoch 7/10\n",
      "21/21 [==============================] - 0s 14ms/step - loss: 0.3878 - accuracy: 0.8416\n",
      "Epoch 8/10\n",
      "21/21 [==============================] - 0s 14ms/step - loss: 0.3762 - accuracy: 0.8292\n",
      "Epoch 9/10\n",
      "21/21 [==============================] - 0s 14ms/step - loss: 0.3783 - accuracy: 0.8339\n",
      "Epoch 10/10\n",
      "21/21 [==============================] - 0s 14ms/step - loss: 0.3743 - accuracy: 0.8385\n",
      "WARNING:tensorflow:5 out of the last 12 calls to <function Model.make_predict_function.<locals>.predict_function at 0x0000023C48375040> triggered tf.function retracing. Tracing is expensive and the excessive number of tracings could be due to (1) creating @tf.function repeatedly in a loop, (2) passing tensors with different shapes, (3) passing Python objects instead of tensors. For (1), please define your @tf.function outside of the loop. For (2), @tf.function has experimental_relax_shapes=True option that relaxes argument shapes that can avoid unnecessary retracing. For (3), please refer to https://www.tensorflow.org/guide/function#controlling_retracing and https://www.tensorflow.org/api_docs/python/tf/function for  more details.\n",
      "[[101  22]\n",
      " [ 21 132]]\n",
      "              precision    recall  f1-score   support\n",
      "\n",
      "           0       0.82      0.83      0.82       122\n",
      "           1       0.86      0.86      0.86       154\n",
      "\n",
      "    accuracy                           0.84       276\n",
      "   macro avg       0.84      0.84      0.84       276\n",
      "weighted avg       0.84      0.84      0.84       276\n",
      "\n"
     ]
    }
   ],
   "source": [
    "path_train = '../traintestdata/com_train.csv'\n",
    "path_test = '../traintestdata/com_test.csv'\n",
    "RNN(path_train,path_test)"
   ]
  },
  {
   "cell_type": "markdown",
   "id": "69ce7695",
   "metadata": {},
   "source": [
    "# Testing models on different data"
   ]
  },
  {
   "cell_type": "code",
   "execution_count": 9,
   "id": "218319b2",
   "metadata": {
    "scrolled": true
   },
   "outputs": [
    {
     "name": "stdout",
     "output_type": "stream",
     "text": [
      "Epoch 1/10\n",
      "7/7 [==============================] - 3s 16ms/step - loss: 0.5725 - accuracy: 0.7123\n",
      "Epoch 2/10\n",
      "7/7 [==============================] - 0s 18ms/step - loss: 0.4494 - accuracy: 0.8019\n",
      "Epoch 3/10\n",
      "7/7 [==============================] - 0s 17ms/step - loss: 0.4217 - accuracy: 0.7877\n",
      "Epoch 4/10\n",
      "7/7 [==============================] - 0s 17ms/step - loss: 0.3963 - accuracy: 0.8160\n",
      "Epoch 5/10\n",
      "7/7 [==============================] - 0s 17ms/step - loss: 0.3837 - accuracy: 0.8396\n",
      "Epoch 6/10\n",
      "7/7 [==============================] - 0s 18ms/step - loss: 0.3781 - accuracy: 0.8302\n",
      "Epoch 7/10\n",
      "7/7 [==============================] - 0s 18ms/step - loss: 0.3629 - accuracy: 0.8160\n",
      "Epoch 8/10\n",
      "7/7 [==============================] - 0s 18ms/step - loss: 0.3590 - accuracy: 0.8349\n",
      "Epoch 9/10\n",
      "7/7 [==============================] - 0s 16ms/step - loss: 0.3548 - accuracy: 0.8396\n",
      "Epoch 10/10\n",
      "7/7 [==============================] - 0s 16ms/step - loss: 0.3400 - accuracy: 0.8538\n",
      "[[48  8]\n",
      " [11 59]]\n",
      "              precision    recall  f1-score   support\n",
      "\n",
      "           0       0.86      0.81      0.83        59\n",
      "           1       0.84      0.88      0.86        67\n",
      "\n",
      "    accuracy                           0.85       126\n",
      "   macro avg       0.85      0.85      0.85       126\n",
      "weighted avg       0.85      0.85      0.85       126\n",
      "\n"
     ]
    }
   ],
   "source": [
    "path_train = '../traintestdata/cle_train.csv'\n",
    "path_test = '../traintestdata/euro_test.csv'\n",
    "RNN(path_train,path_test)"
   ]
  },
  {
   "cell_type": "code",
   "execution_count": 10,
   "id": "b94b89c2",
   "metadata": {
    "scrolled": true
   },
   "outputs": [
    {
     "name": "stdout",
     "output_type": "stream",
     "text": [
      "Epoch 1/10\n",
      "10/10 [==============================] - 3s 14ms/step - loss: 0.5170 - accuracy: 0.7354\n",
      "Epoch 2/10\n",
      "10/10 [==============================] - 0s 15ms/step - loss: 0.3781 - accuracy: 0.8351\n",
      "Epoch 3/10\n",
      "10/10 [==============================] - 0s 14ms/step - loss: 0.3581 - accuracy: 0.8454\n",
      "Epoch 4/10\n",
      "10/10 [==============================] - 0s 15ms/step - loss: 0.3423 - accuracy: 0.8625\n",
      "Epoch 5/10\n",
      "10/10 [==============================] - 0s 15ms/step - loss: 0.3069 - accuracy: 0.8625\n",
      "Epoch 6/10\n",
      "10/10 [==============================] - 0s 16ms/step - loss: 0.3545 - accuracy: 0.8213\n",
      "Epoch 7/10\n",
      "10/10 [==============================] - 0s 14ms/step - loss: 0.3432 - accuracy: 0.8419\n",
      "Epoch 8/10\n",
      "10/10 [==============================] - 0s 15ms/step - loss: 0.3009 - accuracy: 0.8866\n",
      "Epoch 9/10\n",
      "10/10 [==============================] - 0s 14ms/step - loss: 0.2689 - accuracy: 0.8935\n",
      "Epoch 10/10\n",
      "10/10 [==============================] - 0s 16ms/step - loss: 0.2886 - accuracy: 0.8763\n",
      "[[26  5]\n",
      " [25 35]]\n",
      "              precision    recall  f1-score   support\n",
      "\n",
      "           0       0.84      0.51      0.63        51\n",
      "           1       0.58      0.88      0.70        40\n",
      "\n",
      "    accuracy                           0.67        91\n",
      "   macro avg       0.71      0.69      0.67        91\n",
      "weighted avg       0.73      0.67      0.66        91\n",
      "\n"
     ]
    }
   ],
   "source": [
    "path_train = '../traintestdata/euro_train.csv'\n",
    "path_test = '../traintestdata/cle_test.csv'\n",
    "RNN(path_train,path_test)"
   ]
  },
  {
   "cell_type": "code",
   "execution_count": null,
   "id": "c01339e4",
   "metadata": {},
   "outputs": [],
   "source": []
  }
 ],
 "metadata": {
  "kernelspec": {
   "display_name": "Python 3 (ipykernel)",
   "language": "python",
   "name": "python3"
  },
  "language_info": {
   "codemirror_mode": {
    "name": "ipython",
    "version": 3
   },
   "file_extension": ".py",
   "mimetype": "text/x-python",
   "name": "python",
   "nbconvert_exporter": "python",
   "pygments_lexer": "ipython3",
   "version": "3.8.3"
  }
 },
 "nbformat": 4,
 "nbformat_minor": 5
}
