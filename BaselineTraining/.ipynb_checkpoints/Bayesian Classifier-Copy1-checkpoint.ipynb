{
 "cells": [
  {
   "cell_type": "code",
   "execution_count": 1,
   "id": "de74fb36",
   "metadata": {},
   "outputs": [],
   "source": [
    "import numpy as np\n",
    "import pandas as pd\n",
    "from sklearn.naive_bayes import GaussianNB\n",
    "from sklearn.metrics import confusion_matrix, classification_report"
   ]
  },
  {
   "cell_type": "code",
   "execution_count": 2,
   "id": "15dd0ec5",
   "metadata": {},
   "outputs": [],
   "source": [
    "def BayesianClassifier(path_train,path_test):\n",
    "    #Split the data\n",
    "    Train = pd.read_csv(path_train)\n",
    "    Test = pd.read_csv(path_test)\n",
    "    \n",
    "    X_train = Train.iloc[:,:-1]\n",
    "    Y_train = Train.iloc[:,-1]\n",
    "\n",
    "    X_test = Test.iloc[:,:-1]\n",
    "    Y_test = Test.iloc[:,-1]\n",
    "\n",
    "    #binarize the target\n",
    "    Y_train_binary = Y_train.apply(lambda x: 1 if x > 0 else 0)\n",
    "    Y_test_binary = Y_test.apply(lambda x: 1 if x > 0 else 0)\n",
    "\n",
    "    #Bayesian Classifier\n",
    "    classifier = GaussianNB()\n",
    "    classifier.fit(X_train, Y_train_binary)\n",
    "    Y_pred = classifier.predict(X_test)\n",
    "    cm = confusion_matrix(Y_pred, Y_test_binary)\n",
    "    print(cm)\n",
    "    print(classification_report(Y_test_binary, Y_pred))"
   ]
  },
  {
   "cell_type": "markdown",
   "id": "2226ba52",
   "metadata": {},
   "source": [
    "# Cleveland"
   ]
  },
  {
   "cell_type": "code",
   "execution_count": 3,
   "id": "9897cc53",
   "metadata": {},
   "outputs": [
    {
     "name": "stdout",
     "output_type": "stream",
     "text": [
      "[[47 12]\n",
      " [ 4 28]]\n",
      "              precision    recall  f1-score   support\n",
      "\n",
      "           0       0.80      0.92      0.85        51\n",
      "           1       0.88      0.70      0.78        40\n",
      "\n",
      "    accuracy                           0.82        91\n",
      "   macro avg       0.84      0.81      0.82        91\n",
      "weighted avg       0.83      0.82      0.82        91\n",
      "\n"
     ]
    }
   ],
   "source": [
    "path_train = '../traintestdata/cle_train.csv'\n",
    "path_test = '../traintestdata/cle_test.csv'\n",
    "BayesianClassifier(path_train,path_test)"
   ]
  },
  {
   "cell_type": "markdown",
   "id": "cbf856e1",
   "metadata": {},
   "source": [
    "# Virginia"
   ]
  },
  {
   "cell_type": "code",
   "execution_count": 4,
   "id": "534f5c11",
   "metadata": {
    "scrolled": true
   },
   "outputs": [
    {
     "name": "stdout",
     "output_type": "stream",
     "text": [
      "[[ 7  6]\n",
      " [ 6 41]]\n",
      "              precision    recall  f1-score   support\n",
      "\n",
      "           0       0.54      0.54      0.54        13\n",
      "           1       0.87      0.87      0.87        47\n",
      "\n",
      "    accuracy                           0.80        60\n",
      "   macro avg       0.71      0.71      0.71        60\n",
      "weighted avg       0.80      0.80      0.80        60\n",
      "\n"
     ]
    }
   ],
   "source": [
    "path_train = '../traintestdata/vir_train.csv'\n",
    "path_test = '../traintestdata/vir_test.csv'\n",
    "BayesianClassifier(path_train,path_test)"
   ]
  },
  {
   "cell_type": "markdown",
   "id": "6e9954e2",
   "metadata": {},
   "source": [
    "# Hungary"
   ]
  },
  {
   "cell_type": "code",
   "execution_count": 5,
   "id": "8ff2bdae",
   "metadata": {},
   "outputs": [
    {
     "name": "stdout",
     "output_type": "stream",
     "text": [
      "[[ 7  1]\n",
      " [50 31]]\n",
      "              precision    recall  f1-score   support\n",
      "\n",
      "           0       0.88      0.12      0.22        57\n",
      "           1       0.38      0.97      0.55        32\n",
      "\n",
      "    accuracy                           0.43        89\n",
      "   macro avg       0.63      0.55      0.38        89\n",
      "weighted avg       0.70      0.43      0.34        89\n",
      "\n"
     ]
    }
   ],
   "source": [
    "path_train = '../traintestdata/hun_train.csv'\n",
    "path_test = '../traintestdata/hun_test.csv'\n",
    "BayesianClassifier(path_train,path_test)"
   ]
  },
  {
   "cell_type": "markdown",
   "id": "69ce3d28",
   "metadata": {},
   "source": [
    "# Switzerland"
   ]
  },
  {
   "cell_type": "code",
   "execution_count": 6,
   "id": "bdbe4c6c",
   "metadata": {},
   "outputs": [
    {
     "name": "stdout",
     "output_type": "stream",
     "text": [
      "[[ 1 15]\n",
      " [ 1 20]]\n",
      "              precision    recall  f1-score   support\n",
      "\n",
      "           0       0.06      0.50      0.11         2\n",
      "           1       0.95      0.57      0.71        35\n",
      "\n",
      "    accuracy                           0.57        37\n",
      "   macro avg       0.51      0.54      0.41        37\n",
      "weighted avg       0.90      0.57      0.68        37\n",
      "\n"
     ]
    }
   ],
   "source": [
    "path_train = '../traintestdata/swi_train.csv'\n",
    "path_test = '../traintestdata/swi_test.csv'\n",
    "BayesianClassifier(path_train,path_test)"
   ]
  },
  {
   "cell_type": "markdown",
   "id": "693c119b",
   "metadata": {},
   "source": [
    "# European"
   ]
  },
  {
   "cell_type": "code",
   "execution_count": 7,
   "id": "27fe20ac",
   "metadata": {},
   "outputs": [
    {
     "name": "stdout",
     "output_type": "stream",
     "text": [
      "[[52  8]\n",
      " [ 7 59]]\n",
      "              precision    recall  f1-score   support\n",
      "\n",
      "           0       0.87      0.88      0.87        59\n",
      "           1       0.89      0.88      0.89        67\n",
      "\n",
      "    accuracy                           0.88       126\n",
      "   macro avg       0.88      0.88      0.88       126\n",
      "weighted avg       0.88      0.88      0.88       126\n",
      "\n"
     ]
    }
   ],
   "source": [
    "path_train = '../traintestdata/euro_train.csv'\n",
    "path_test = '../traintestdata/euro_test.csv'\n",
    "BayesianClassifier(path_train,path_test)"
   ]
  },
  {
   "cell_type": "markdown",
   "id": "56f9a575",
   "metadata": {},
   "source": [
    "# Combined"
   ]
  },
  {
   "cell_type": "code",
   "execution_count": 8,
   "id": "eb29f71f",
   "metadata": {},
   "outputs": [
    {
     "name": "stdout",
     "output_type": "stream",
     "text": [
      "[[ 98  23]\n",
      " [ 24 131]]\n",
      "              precision    recall  f1-score   support\n",
      "\n",
      "           0       0.81      0.80      0.81       122\n",
      "           1       0.85      0.85      0.85       154\n",
      "\n",
      "    accuracy                           0.83       276\n",
      "   macro avg       0.83      0.83      0.83       276\n",
      "weighted avg       0.83      0.83      0.83       276\n",
      "\n"
     ]
    }
   ],
   "source": [
    "path_train = '../traintestdata/com_train.csv'\n",
    "path_test = '../traintestdata/com_test.csv'\n",
    "BayesianClassifier(path_train,path_test)"
   ]
  },
  {
   "cell_type": "code",
   "execution_count": null,
   "id": "68cf185a",
   "metadata": {},
   "outputs": [],
   "source": []
  }
 ],
 "metadata": {
  "kernelspec": {
   "display_name": "Python 3 (ipykernel)",
   "language": "python",
   "name": "python3"
  },
  "language_info": {
   "codemirror_mode": {
    "name": "ipython",
    "version": 3
   },
   "file_extension": ".py",
   "mimetype": "text/x-python",
   "name": "python",
   "nbconvert_exporter": "python",
   "pygments_lexer": "ipython3",
   "version": "3.8.3"
  }
 },
 "nbformat": 4,
 "nbformat_minor": 5
}
