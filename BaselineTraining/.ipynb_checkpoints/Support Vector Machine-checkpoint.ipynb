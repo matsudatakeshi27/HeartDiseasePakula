{
 "cells": [
  {
   "cell_type": "code",
   "execution_count": 1,
   "id": "a4ab5c3a",
   "metadata": {},
   "outputs": [],
   "source": [
    "import numpy as np \n",
    "import pandas as pd\n",
    "import matplotlib.pyplot as plt\n",
    "from sklearn.model_selection import train_test_split\n",
    "from sklearn.svm import SVC\n",
    "from sklearn.metrics import confusion_matrix, classification_report\n",
    "from sklearn import preprocessing as sk_preprocessing"
   ]
  },
  {
   "cell_type": "code",
   "execution_count": 2,
   "id": "40ce4c8c",
   "metadata": {},
   "outputs": [],
   "source": [
    "def svm(path_train,path_test):\n",
    "    #load the train-test data\n",
    "    Train = pd.read_csv(path_train)\n",
    "    Test = pd.read_csv(path_test)\n",
    "    \n",
    "    X_train = Train.iloc[:,:-1]\n",
    "    Y_train = Train.iloc[:,-1]\n",
    "\n",
    "    X_test = Test.iloc[:,:-1]\n",
    "    Y_test = Test.iloc[:,-1]\n",
    "\n",
    "    #binarylize the target\n",
    "    Y_train_binary = Y_train.apply(lambda x: 1 if x > 0 else 0)\n",
    "    Y_test_binary = Y_test.apply(lambda x: 1 if x > 0 else 0)\n",
    "    \n",
    "    #SVM\n",
    "    svc = SVC()\n",
    "    svc.fit(X_train, Y_train_binary.values.ravel())\n",
    "    y_pred = svc.predict(X_test)\n",
    "    print(confusion_matrix(Y_test_binary, y_pred))\n",
    "    print(classification_report(Y_test_binary, y_pred))"
   ]
  },
  {
   "cell_type": "markdown",
   "id": "b5a10de3",
   "metadata": {},
   "source": [
    "# Cleveland"
   ]
  },
  {
   "cell_type": "code",
   "execution_count": 3,
   "id": "93b4053f",
   "metadata": {},
   "outputs": [
    {
     "name": "stdout",
     "output_type": "stream",
     "text": [
      "[[43  8]\n",
      " [ 5 35]]\n",
      "              precision    recall  f1-score   support\n",
      "\n",
      "           0       0.90      0.84      0.87        51\n",
      "           1       0.81      0.88      0.84        40\n",
      "\n",
      "    accuracy                           0.86        91\n",
      "   macro avg       0.85      0.86      0.86        91\n",
      "weighted avg       0.86      0.86      0.86        91\n",
      "\n"
     ]
    }
   ],
   "source": [
    "path_train = '../traintestdata/cle_train.csv'\n",
    "path_test = '../traintestdata/cle_test.csv'\n",
    "svm(path_train,path_test)"
   ]
  },
  {
   "cell_type": "markdown",
   "id": "3988ed16",
   "metadata": {},
   "source": [
    "# Virginia"
   ]
  },
  {
   "cell_type": "code",
   "execution_count": 4,
   "id": "9c2b2f91",
   "metadata": {
    "scrolled": true
   },
   "outputs": [
    {
     "name": "stdout",
     "output_type": "stream",
     "text": [
      "[[ 3 10]\n",
      " [ 1 46]]\n",
      "              precision    recall  f1-score   support\n",
      "\n",
      "           0       0.75      0.23      0.35        13\n",
      "           1       0.82      0.98      0.89        47\n",
      "\n",
      "    accuracy                           0.82        60\n",
      "   macro avg       0.79      0.60      0.62        60\n",
      "weighted avg       0.81      0.82      0.78        60\n",
      "\n"
     ]
    }
   ],
   "source": [
    "path_train = '../traintestdata/vir_train.csv'\n",
    "path_test = '../traintestdata/vir_test.csv'\n",
    "svm(path_train,path_test)"
   ]
  },
  {
   "cell_type": "markdown",
   "id": "6b2629f9",
   "metadata": {},
   "source": [
    "# Hungary"
   ]
  },
  {
   "cell_type": "code",
   "execution_count": 5,
   "id": "89081fc4",
   "metadata": {},
   "outputs": [
    {
     "name": "stdout",
     "output_type": "stream",
     "text": [
      "[[53  4]\n",
      " [10 22]]\n",
      "              precision    recall  f1-score   support\n",
      "\n",
      "           0       0.84      0.93      0.88        57\n",
      "           1       0.85      0.69      0.76        32\n",
      "\n",
      "    accuracy                           0.84        89\n",
      "   macro avg       0.84      0.81      0.82        89\n",
      "weighted avg       0.84      0.84      0.84        89\n",
      "\n"
     ]
    }
   ],
   "source": [
    "path_train = '../traintestdata/hun_train.csv'\n",
    "path_test = '../traintestdata/hun_test.csv'\n",
    "svm(path_train,path_test)"
   ]
  },
  {
   "cell_type": "markdown",
   "id": "54ff20d6",
   "metadata": {},
   "source": [
    "# Switzerland"
   ]
  },
  {
   "cell_type": "code",
   "execution_count": 6,
   "id": "72beaf45",
   "metadata": {},
   "outputs": [
    {
     "name": "stdout",
     "output_type": "stream",
     "text": [
      "[[ 0  2]\n",
      " [ 0 35]]\n",
      "              precision    recall  f1-score   support\n",
      "\n",
      "           0       0.00      0.00      0.00         2\n",
      "           1       0.95      1.00      0.97        35\n",
      "\n",
      "    accuracy                           0.95        37\n",
      "   macro avg       0.47      0.50      0.49        37\n",
      "weighted avg       0.89      0.95      0.92        37\n",
      "\n"
     ]
    },
    {
     "name": "stderr",
     "output_type": "stream",
     "text": [
      "c:\\users\\votri\\appdata\\local\\programs\\python\\python38\\lib\\site-packages\\sklearn\\metrics\\_classification.py:1318: UndefinedMetricWarning: Precision and F-score are ill-defined and being set to 0.0 in labels with no predicted samples. Use `zero_division` parameter to control this behavior.\n",
      "  _warn_prf(average, modifier, msg_start, len(result))\n",
      "c:\\users\\votri\\appdata\\local\\programs\\python\\python38\\lib\\site-packages\\sklearn\\metrics\\_classification.py:1318: UndefinedMetricWarning: Precision and F-score are ill-defined and being set to 0.0 in labels with no predicted samples. Use `zero_division` parameter to control this behavior.\n",
      "  _warn_prf(average, modifier, msg_start, len(result))\n",
      "c:\\users\\votri\\appdata\\local\\programs\\python\\python38\\lib\\site-packages\\sklearn\\metrics\\_classification.py:1318: UndefinedMetricWarning: Precision and F-score are ill-defined and being set to 0.0 in labels with no predicted samples. Use `zero_division` parameter to control this behavior.\n",
      "  _warn_prf(average, modifier, msg_start, len(result))\n"
     ]
    }
   ],
   "source": [
    "path_train = '../traintestdata/swi_train.csv'\n",
    "path_test = '../traintestdata/swi_test.csv'\n",
    "svm(path_train,path_test)"
   ]
  },
  {
   "cell_type": "markdown",
   "id": "4b96540d",
   "metadata": {},
   "source": [
    "# European"
   ]
  },
  {
   "cell_type": "code",
   "execution_count": 7,
   "id": "9192032b",
   "metadata": {},
   "outputs": [
    {
     "name": "stdout",
     "output_type": "stream",
     "text": [
      "[[53  6]\n",
      " [10 57]]\n",
      "              precision    recall  f1-score   support\n",
      "\n",
      "           0       0.84      0.90      0.87        59\n",
      "           1       0.90      0.85      0.88        67\n",
      "\n",
      "    accuracy                           0.87       126\n",
      "   macro avg       0.87      0.87      0.87       126\n",
      "weighted avg       0.88      0.87      0.87       126\n",
      "\n"
     ]
    }
   ],
   "source": [
    "path_train = '../traintestdata/euro_train.csv'\n",
    "path_test = '../traintestdata/euro_test.csv'\n",
    "svm(path_train,path_test)"
   ]
  },
  {
   "cell_type": "markdown",
   "id": "5e69c9e2",
   "metadata": {},
   "source": [
    "# Combined"
   ]
  },
  {
   "cell_type": "code",
   "execution_count": 8,
   "id": "491ce026",
   "metadata": {},
   "outputs": [
    {
     "name": "stdout",
     "output_type": "stream",
     "text": [
      "[[100  22]\n",
      " [ 18 136]]\n",
      "              precision    recall  f1-score   support\n",
      "\n",
      "           0       0.85      0.82      0.83       122\n",
      "           1       0.86      0.88      0.87       154\n",
      "\n",
      "    accuracy                           0.86       276\n",
      "   macro avg       0.85      0.85      0.85       276\n",
      "weighted avg       0.85      0.86      0.85       276\n",
      "\n"
     ]
    }
   ],
   "source": [
    "path_train = '../traintestdata/com_train.csv'\n",
    "path_test = '../traintestdata/com_test.csv'\n",
    "svm(path_train,path_test)"
   ]
  },
  {
   "cell_type": "code",
   "execution_count": null,
   "id": "b8659151",
   "metadata": {},
   "outputs": [],
   "source": []
  }
 ],
 "metadata": {
  "kernelspec": {
   "display_name": "Python 3 (ipykernel)",
   "language": "python",
   "name": "python3"
  },
  "language_info": {
   "codemirror_mode": {
    "name": "ipython",
    "version": 3
   },
   "file_extension": ".py",
   "mimetype": "text/x-python",
   "name": "python",
   "nbconvert_exporter": "python",
   "pygments_lexer": "ipython3",
   "version": "3.8.3"
  }
 },
 "nbformat": 4,
 "nbformat_minor": 5
}
