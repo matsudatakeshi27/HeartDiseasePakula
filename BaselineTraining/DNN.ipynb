{
 "cells": [
  {
   "cell_type": "code",
   "execution_count": 1,
   "id": "c773be18",
   "metadata": {},
   "outputs": [],
   "source": [
    "import numpy as np\n",
    "import pandas as pd\n",
    "from keras.models import Sequential\n",
    "from keras.layers import Conv1D, MaxPooling1D, Flatten, Dense, Dropout\n",
    "from sklearn.metrics import confusion_matrix, classification_report"
   ]
  },
  {
   "cell_type": "code",
   "execution_count": 4,
   "id": "9a9d0451",
   "metadata": {},
   "outputs": [],
   "source": [
    "def RNN(path_train,path_test, epoch_num):\n",
    "    Train = pd.read_csv(path_train)\n",
    "    Test = pd.read_csv(path_test)\n",
    "    \n",
    "    X_train = Train.iloc[:,:-1]\n",
    "    Y_train = Train.iloc[:,-1]\n",
    "\n",
    "    X_test = Test.iloc[:,:-1]\n",
    "    Y_test = Test.iloc[:,-1]\n",
    "\n",
    "    #binarize the target\n",
    "    Y_train_binary = Y_train.apply(lambda x: 1 if x > 0 else 0)\n",
    "    Y_test_binary = Y_test.apply(lambda x: 1 if x > 0 else 0)\n",
    "\n",
    "    # CNN\n",
    "    model = Sequential()\n",
    "    model.add(Dense(64, input_shape=(22,), activation='relu'))\n",
    "    model.add(Dense(128, activation='relu'))\n",
    "    model.add(Dense(256, activation='relu'))\n",
    "    model.add(Dense(2, activation='sigmoid'))\n",
    "\n",
    "    model.compile(loss='sparse_categorical_crossentropy', optimizer='adam', metrics=['accuracy'])\n",
    "    \n",
    "    model.fit(X_train, Y_train_binary, epochs=epoch_num, batch_size=32)\n",
    "    Y_pred = model.predict(X_test).argmax(axis=1)\n",
    "    \n",
    "    cm = confusion_matrix(Y_pred, Y_test_binary)\n",
    "    print(cm)\n",
    "    print(classification_report(Y_test_binary, Y_pred))\n",
    "    \n",
    "    mismatch = [i for i, (a,b) in enumerate(zip(Y_pred, Y_test_binary)) if a != b]\n",
    "    print(mismatch)"
   ]
  },
  {
   "cell_type": "markdown",
   "id": "011932f6",
   "metadata": {},
   "source": [
    "# Cleveland"
   ]
  },
  {
   "cell_type": "code",
   "execution_count": 5,
   "id": "87e10642",
   "metadata": {
    "scrolled": true
   },
   "outputs": [
    {
     "name": "stdout",
     "output_type": "stream",
     "text": [
      "Epoch 1/19\n",
      "7/7 [==============================] - 1s 3ms/step - loss: 0.6617 - accuracy: 0.6840\n",
      "Epoch 2/19\n",
      "7/7 [==============================] - 0s 3ms/step - loss: 0.5235 - accuracy: 0.8255\n",
      "Epoch 3/19\n",
      "7/7 [==============================] - 0s 3ms/step - loss: 0.4376 - accuracy: 0.8255\n",
      "Epoch 4/19\n",
      "7/7 [==============================] - 0s 3ms/step - loss: 0.3924 - accuracy: 0.8208\n",
      "Epoch 5/19\n",
      "7/7 [==============================] - 0s 3ms/step - loss: 0.3755 - accuracy: 0.8255\n",
      "Epoch 6/19\n",
      "7/7 [==============================] - 0s 3ms/step - loss: 0.3508 - accuracy: 0.8396\n",
      "Epoch 7/19\n",
      "7/7 [==============================] - 0s 3ms/step - loss: 0.3300 - accuracy: 0.8585\n",
      "Epoch 8/19\n",
      "7/7 [==============================] - 0s 3ms/step - loss: 0.3141 - accuracy: 0.8774\n",
      "Epoch 9/19\n",
      "7/7 [==============================] - 0s 3ms/step - loss: 0.3031 - accuracy: 0.8726\n",
      "Epoch 10/19\n",
      "7/7 [==============================] - 0s 3ms/step - loss: 0.2868 - accuracy: 0.8821\n",
      "Epoch 11/19\n",
      "7/7 [==============================] - 0s 3ms/step - loss: 0.2752 - accuracy: 0.8915\n",
      "Epoch 12/19\n",
      "7/7 [==============================] - 0s 3ms/step - loss: 0.2713 - accuracy: 0.8915\n",
      "Epoch 13/19\n",
      "7/7 [==============================] - 0s 3ms/step - loss: 0.2406 - accuracy: 0.9057\n",
      "Epoch 14/19\n",
      "7/7 [==============================] - 0s 3ms/step - loss: 0.2340 - accuracy: 0.8962\n",
      "Epoch 15/19\n",
      "7/7 [==============================] - 0s 2ms/step - loss: 0.2191 - accuracy: 0.9057\n",
      "Epoch 16/19\n",
      "7/7 [==============================] - 0s 3ms/step - loss: 0.2068 - accuracy: 0.9104\n",
      "Epoch 17/19\n",
      "7/7 [==============================] - 0s 2ms/step - loss: 0.2005 - accuracy: 0.9340\n",
      "Epoch 18/19\n",
      "7/7 [==============================] - 0s 3ms/step - loss: 0.1969 - accuracy: 0.9198\n",
      "Epoch 19/19\n",
      "7/7 [==============================] - 0s 3ms/step - loss: 0.1784 - accuracy: 0.9434\n",
      "3/3 [==============================] - 0s 2ms/step\n",
      "[[39  5]\n",
      " [12 35]]\n",
      "              precision    recall  f1-score   support\n",
      "\n",
      "           0       0.89      0.76      0.82        51\n",
      "           1       0.74      0.88      0.80        40\n",
      "\n",
      "    accuracy                           0.81        91\n",
      "   macro avg       0.82      0.82      0.81        91\n",
      "weighted avg       0.82      0.81      0.81        91\n",
      "\n",
      "[0, 19, 24, 28, 30, 31, 32, 38, 53, 60, 64, 67, 69, 70, 77, 78, 89]\n"
     ]
    }
   ],
   "source": [
    "path_train = '../traintestdata/cle_train.csv'\n",
    "path_test = '../traintestdata/cle_test.csv'\n",
    "RNN(path_train,path_test,19)"
   ]
  },
  {
   "cell_type": "markdown",
   "id": "a6188e68",
   "metadata": {},
   "source": [
    "# Virginia"
   ]
  },
  {
   "cell_type": "code",
   "execution_count": 6,
   "id": "8b19b95f",
   "metadata": {
    "scrolled": true
   },
   "outputs": [
    {
     "name": "stdout",
     "output_type": "stream",
     "text": [
      "Epoch 1/15\n",
      "5/5 [==============================] - 1s 3ms/step - loss: 0.6440 - accuracy: 0.6286\n",
      "Epoch 2/15\n",
      "5/5 [==============================] - 0s 3ms/step - loss: 0.5587 - accuracy: 0.7286\n",
      "Epoch 3/15\n",
      "5/5 [==============================] - 0s 3ms/step - loss: 0.5438 - accuracy: 0.7286\n",
      "Epoch 4/15\n",
      "5/5 [==============================] - 0s 3ms/step - loss: 0.5125 - accuracy: 0.7286\n",
      "Epoch 5/15\n",
      "5/5 [==============================] - 0s 4ms/step - loss: 0.4917 - accuracy: 0.7571\n",
      "Epoch 6/15\n",
      "5/5 [==============================] - 0s 3ms/step - loss: 0.4691 - accuracy: 0.7786\n",
      "Epoch 7/15\n",
      "5/5 [==============================] - 0s 4ms/step - loss: 0.4543 - accuracy: 0.7857\n",
      "Epoch 8/15\n",
      "5/5 [==============================] - 0s 4ms/step - loss: 0.4369 - accuracy: 0.7857\n",
      "Epoch 9/15\n",
      "5/5 [==============================] - 0s 4ms/step - loss: 0.4444 - accuracy: 0.7643\n",
      "Epoch 10/15\n",
      "5/5 [==============================] - 0s 6ms/step - loss: 0.3985 - accuracy: 0.8143\n",
      "Epoch 11/15\n",
      "5/5 [==============================] - 0s 3ms/step - loss: 0.4104 - accuracy: 0.8143\n",
      "Epoch 12/15\n",
      "5/5 [==============================] - 0s 3ms/step - loss: 0.3729 - accuracy: 0.8357\n",
      "Epoch 13/15\n",
      "5/5 [==============================] - 0s 3ms/step - loss: 0.3779 - accuracy: 0.8643\n",
      "Epoch 14/15\n",
      "5/5 [==============================] - 0s 3ms/step - loss: 0.3495 - accuracy: 0.8714\n",
      "Epoch 15/15\n",
      "5/5 [==============================] - 0s 3ms/step - loss: 0.3308 - accuracy: 0.8786\n",
      "2/2 [==============================] - 0s 2ms/step\n",
      "[[ 4  4]\n",
      " [ 9 43]]\n",
      "              precision    recall  f1-score   support\n",
      "\n",
      "           0       0.50      0.31      0.38        13\n",
      "           1       0.83      0.91      0.87        47\n",
      "\n",
      "    accuracy                           0.78        60\n",
      "   macro avg       0.66      0.61      0.62        60\n",
      "weighted avg       0.76      0.78      0.76        60\n",
      "\n",
      "[1, 3, 6, 14, 17, 28, 32, 34, 48, 49, 52, 57, 58]\n"
     ]
    }
   ],
   "source": [
    "path_train = '../traintestdata/vir_train.csv'\n",
    "path_test = '../traintestdata/vir_test.csv'\n",
    "RNN(path_train,path_test, 15)"
   ]
  },
  {
   "cell_type": "markdown",
   "id": "2847dd00",
   "metadata": {},
   "source": [
    "# Hungary"
   ]
  },
  {
   "cell_type": "code",
   "execution_count": 7,
   "id": "46feda2a",
   "metadata": {
    "scrolled": true
   },
   "outputs": [
    {
     "name": "stdout",
     "output_type": "stream",
     "text": [
      "Epoch 1/20\n",
      "7/7 [==============================] - 1s 3ms/step - loss: 0.6439 - accuracy: 0.6390\n",
      "Epoch 2/20\n",
      "7/7 [==============================] - 0s 3ms/step - loss: 0.4969 - accuracy: 0.8098\n",
      "Epoch 3/20\n",
      "7/7 [==============================] - 0s 3ms/step - loss: 0.3921 - accuracy: 0.8293\n",
      "Epoch 4/20\n",
      "7/7 [==============================] - 0s 3ms/step - loss: 0.3407 - accuracy: 0.8585\n",
      "Epoch 5/20\n",
      "7/7 [==============================] - 0s 3ms/step - loss: 0.3069 - accuracy: 0.8732\n",
      "Epoch 6/20\n",
      "7/7 [==============================] - 0s 3ms/step - loss: 0.2842 - accuracy: 0.8976\n",
      "Epoch 7/20\n",
      "7/7 [==============================] - 0s 3ms/step - loss: 0.2560 - accuracy: 0.8927\n",
      "Epoch 8/20\n",
      "7/7 [==============================] - 0s 3ms/step - loss: 0.2376 - accuracy: 0.8878\n",
      "Epoch 9/20\n",
      "7/7 [==============================] - 0s 3ms/step - loss: 0.2262 - accuracy: 0.9366\n",
      "Epoch 10/20\n",
      "7/7 [==============================] - 0s 3ms/step - loss: 0.2037 - accuracy: 0.9220\n",
      "Epoch 11/20\n",
      "7/7 [==============================] - 0s 3ms/step - loss: 0.1946 - accuracy: 0.9415\n",
      "Epoch 12/20\n",
      "7/7 [==============================] - 0s 3ms/step - loss: 0.1750 - accuracy: 0.9512\n",
      "Epoch 13/20\n",
      "7/7 [==============================] - 0s 3ms/step - loss: 0.1653 - accuracy: 0.9463\n",
      "Epoch 14/20\n",
      "7/7 [==============================] - 0s 3ms/step - loss: 0.1575 - accuracy: 0.9512\n",
      "Epoch 15/20\n",
      "7/7 [==============================] - 0s 3ms/step - loss: 0.1494 - accuracy: 0.9610\n",
      "Epoch 16/20\n",
      "7/7 [==============================] - 0s 3ms/step - loss: 0.1443 - accuracy: 0.9561\n",
      "Epoch 17/20\n",
      "7/7 [==============================] - 0s 3ms/step - loss: 0.1280 - accuracy: 0.9659\n",
      "Epoch 18/20\n",
      "7/7 [==============================] - 0s 3ms/step - loss: 0.1275 - accuracy: 0.9707\n",
      "Epoch 19/20\n",
      "7/7 [==============================] - 0s 3ms/step - loss: 0.1291 - accuracy: 0.9610\n",
      "Epoch 20/20\n",
      "7/7 [==============================] - 0s 3ms/step - loss: 0.1097 - accuracy: 0.9659\n",
      "3/3 [==============================] - 0s 2ms/step\n",
      "[[53  4]\n",
      " [ 4 28]]\n",
      "              precision    recall  f1-score   support\n",
      "\n",
      "           0       0.93      0.93      0.93        57\n",
      "           1       0.88      0.88      0.88        32\n",
      "\n",
      "    accuracy                           0.91        89\n",
      "   macro avg       0.90      0.90      0.90        89\n",
      "weighted avg       0.91      0.91      0.91        89\n",
      "\n",
      "[8, 12, 14, 23, 29, 42, 46, 54]\n"
     ]
    }
   ],
   "source": [
    "path_train = '../traintestdata/hun_train.csv'\n",
    "path_test = '../traintestdata/hun_test.csv'\n",
    "RNN(path_train,path_test, 20)"
   ]
  },
  {
   "cell_type": "markdown",
   "id": "6a67e1ad",
   "metadata": {},
   "source": [
    "# Switzerland"
   ]
  },
  {
   "cell_type": "code",
   "execution_count": 8,
   "id": "dbf05ad3",
   "metadata": {
    "scrolled": true
   },
   "outputs": [
    {
     "name": "stdout",
     "output_type": "stream",
     "text": [
      "Epoch 1/20\n",
      "3/3 [==============================] - 1s 3ms/step - loss: 0.5989 - accuracy: 0.7791\n",
      "Epoch 2/20\n",
      "3/3 [==============================] - 0s 5ms/step - loss: 0.3886 - accuracy: 0.9302\n",
      "Epoch 3/20\n",
      "3/3 [==============================] - 0s 4ms/step - loss: 0.2800 - accuracy: 0.9302\n",
      "Epoch 4/20\n",
      "3/3 [==============================] - 0s 5ms/step - loss: 0.2394 - accuracy: 0.9302\n",
      "Epoch 5/20\n",
      "3/3 [==============================] - 0s 4ms/step - loss: 0.2357 - accuracy: 0.9302\n",
      "Epoch 6/20\n",
      "3/3 [==============================] - 0s 5ms/step - loss: 0.2356 - accuracy: 0.9302\n",
      "Epoch 7/20\n",
      "3/3 [==============================] - 0s 4ms/step - loss: 0.2297 - accuracy: 0.9302\n",
      "Epoch 8/20\n",
      "3/3 [==============================] - 0s 4ms/step - loss: 0.2111 - accuracy: 0.9302\n",
      "Epoch 9/20\n",
      "3/3 [==============================] - 0s 4ms/step - loss: 0.1985 - accuracy: 0.9302\n",
      "Epoch 10/20\n",
      "3/3 [==============================] - 0s 4ms/step - loss: 0.1886 - accuracy: 0.9302\n",
      "Epoch 11/20\n",
      "3/3 [==============================] - 0s 5ms/step - loss: 0.1776 - accuracy: 0.9302\n",
      "Epoch 12/20\n",
      "3/3 [==============================] - 0s 4ms/step - loss: 0.1707 - accuracy: 0.9302\n",
      "Epoch 13/20\n",
      "3/3 [==============================] - 0s 4ms/step - loss: 0.1592 - accuracy: 0.9302\n",
      "Epoch 14/20\n",
      "3/3 [==============================] - 0s 4ms/step - loss: 0.1494 - accuracy: 0.9302\n",
      "Epoch 15/20\n",
      "3/3 [==============================] - 0s 4ms/step - loss: 0.1407 - accuracy: 0.9302\n",
      "Epoch 16/20\n",
      "3/3 [==============================] - 0s 3ms/step - loss: 0.1305 - accuracy: 0.9302\n",
      "Epoch 17/20\n",
      "3/3 [==============================] - 0s 3ms/step - loss: 0.1210 - accuracy: 0.9302\n",
      "Epoch 18/20\n",
      "3/3 [==============================] - 0s 2ms/step - loss: 0.1119 - accuracy: 0.9302\n",
      "Epoch 19/20\n",
      "3/3 [==============================] - 0s 3ms/step - loss: 0.1044 - accuracy: 0.9419\n",
      "Epoch 20/20\n",
      "3/3 [==============================] - 0s 2ms/step - loss: 0.0977 - accuracy: 0.9535\n",
      "2/2 [==============================] - 0s 2ms/step\n",
      "[[ 1  2]\n",
      " [ 1 33]]\n",
      "              precision    recall  f1-score   support\n",
      "\n",
      "           0       0.33      0.50      0.40         2\n",
      "           1       0.97      0.94      0.96        35\n",
      "\n",
      "    accuracy                           0.92        37\n",
      "   macro avg       0.65      0.72      0.68        37\n",
      "weighted avg       0.94      0.92      0.93        37\n",
      "\n",
      "[15, 20, 27]\n"
     ]
    }
   ],
   "source": [
    "path_train = '../traintestdata/swi_train.csv'\n",
    "path_test = '../traintestdata/swi_test.csv'\n",
    "RNN(path_train,path_test, 20)"
   ]
  },
  {
   "cell_type": "markdown",
   "id": "d3164806",
   "metadata": {},
   "source": [
    "# Europe"
   ]
  },
  {
   "cell_type": "code",
   "execution_count": 9,
   "id": "709e58d6",
   "metadata": {
    "scrolled": true
   },
   "outputs": [
    {
     "name": "stdout",
     "output_type": "stream",
     "text": [
      "Epoch 1/20\n",
      "10/10 [==============================] - 1s 3ms/step - loss: 0.6107 - accuracy: 0.7388\n",
      "Epoch 2/20\n",
      "10/10 [==============================] - 0s 3ms/step - loss: 0.4557 - accuracy: 0.8454\n",
      "Epoch 3/20\n",
      "10/10 [==============================] - 0s 3ms/step - loss: 0.3587 - accuracy: 0.8351\n",
      "Epoch 4/20\n",
      "10/10 [==============================] - 0s 2ms/step - loss: 0.3196 - accuracy: 0.8557\n",
      "Epoch 5/20\n",
      "10/10 [==============================] - 0s 3ms/step - loss: 0.2861 - accuracy: 0.8935\n",
      "Epoch 6/20\n",
      "10/10 [==============================] - 0s 3ms/step - loss: 0.2769 - accuracy: 0.8935\n",
      "Epoch 7/20\n",
      "10/10 [==============================] - 0s 3ms/step - loss: 0.2767 - accuracy: 0.8729\n",
      "Epoch 8/20\n",
      "10/10 [==============================] - 0s 3ms/step - loss: 0.2543 - accuracy: 0.9072\n",
      "Epoch 9/20\n",
      "10/10 [==============================] - 0s 3ms/step - loss: 0.2383 - accuracy: 0.9175\n",
      "Epoch 10/20\n",
      "10/10 [==============================] - 0s 3ms/step - loss: 0.2201 - accuracy: 0.9210\n",
      "Epoch 11/20\n",
      "10/10 [==============================] - 0s 3ms/step - loss: 0.2071 - accuracy: 0.9313\n",
      "Epoch 12/20\n",
      "10/10 [==============================] - 0s 2ms/step - loss: 0.2008 - accuracy: 0.9347\n",
      "Epoch 13/20\n",
      "10/10 [==============================] - 0s 2ms/step - loss: 0.1905 - accuracy: 0.9347\n",
      "Epoch 14/20\n",
      "10/10 [==============================] - 0s 3ms/step - loss: 0.1916 - accuracy: 0.9381\n",
      "Epoch 15/20\n",
      "10/10 [==============================] - 0s 3ms/step - loss: 0.1618 - accuracy: 0.9485\n",
      "Epoch 16/20\n",
      "10/10 [==============================] - 0s 3ms/step - loss: 0.1663 - accuracy: 0.9485\n",
      "Epoch 17/20\n",
      "10/10 [==============================] - 0s 3ms/step - loss: 0.1484 - accuracy: 0.9553\n",
      "Epoch 18/20\n",
      "10/10 [==============================] - 0s 3ms/step - loss: 0.1607 - accuracy: 0.9519\n",
      "Epoch 19/20\n",
      "10/10 [==============================] - 0s 3ms/step - loss: 0.1454 - accuracy: 0.9519\n",
      "Epoch 20/20\n",
      "10/10 [==============================] - 0s 3ms/step - loss: 0.1466 - accuracy: 0.9519\n",
      "WARNING:tensorflow:5 out of the last 11 calls to <function Model.make_predict_function.<locals>.predict_function at 0x000002592BFB3F70> triggered tf.function retracing. Tracing is expensive and the excessive number of tracings could be due to (1) creating @tf.function repeatedly in a loop, (2) passing tensors with different shapes, (3) passing Python objects instead of tensors. For (1), please define your @tf.function outside of the loop. For (2), @tf.function has reduce_retracing=True option that can avoid unnecessary retracing. For (3), please refer to https://www.tensorflow.org/guide/function#controlling_retracing and https://www.tensorflow.org/api_docs/python/tf/function for  more details.\n",
      "4/4 [==============================] - 0s 2ms/step\n",
      "[[52  6]\n",
      " [ 7 61]]\n",
      "              precision    recall  f1-score   support\n",
      "\n",
      "           0       0.90      0.88      0.89        59\n",
      "           1       0.90      0.91      0.90        67\n",
      "\n",
      "    accuracy                           0.90       126\n",
      "   macro avg       0.90      0.90      0.90       126\n",
      "weighted avg       0.90      0.90      0.90       126\n",
      "\n",
      "[1, 3, 8, 14, 23, 29, 42, 46, 54, 86, 104, 109, 116]\n"
     ]
    }
   ],
   "source": [
    "path_train = '../traintestdata/euro_train.csv'\n",
    "path_test = '../traintestdata/euro_test.csv'\n",
    "RNN(path_train,path_test, 20)"
   ]
  },
  {
   "cell_type": "markdown",
   "id": "a7bf0136",
   "metadata": {},
   "source": [
    "# Combined"
   ]
  },
  {
   "cell_type": "code",
   "execution_count": 10,
   "id": "fc9f6787",
   "metadata": {
    "scrolled": true
   },
   "outputs": [
    {
     "name": "stdout",
     "output_type": "stream",
     "text": [
      "Epoch 1/20\n",
      "21/21 [==============================] - 1s 2ms/step - loss: 0.5567 - accuracy: 0.7252\n",
      "Epoch 2/20\n",
      "21/21 [==============================] - 0s 2ms/step - loss: 0.4511 - accuracy: 0.7826\n",
      "Epoch 3/20\n",
      "21/21 [==============================] - 0s 2ms/step - loss: 0.4216 - accuracy: 0.8043\n",
      "Epoch 4/20\n",
      "21/21 [==============================] - 0s 2ms/step - loss: 0.4125 - accuracy: 0.8121\n",
      "Epoch 5/20\n",
      "21/21 [==============================] - 0s 2ms/step - loss: 0.3893 - accuracy: 0.8199\n",
      "Epoch 6/20\n",
      "21/21 [==============================] - 0s 2ms/step - loss: 0.3706 - accuracy: 0.8447\n",
      "Epoch 7/20\n",
      "21/21 [==============================] - 0s 2ms/step - loss: 0.3662 - accuracy: 0.8478\n",
      "Epoch 8/20\n",
      "21/21 [==============================] - 0s 3ms/step - loss: 0.3654 - accuracy: 0.8416\n",
      "Epoch 9/20\n",
      "21/21 [==============================] - 0s 2ms/step - loss: 0.3419 - accuracy: 0.8680\n",
      "Epoch 10/20\n",
      "21/21 [==============================] - 0s 2ms/step - loss: 0.3421 - accuracy: 0.8587\n",
      "Epoch 11/20\n",
      "21/21 [==============================] - 0s 2ms/step - loss: 0.3228 - accuracy: 0.8727\n",
      "Epoch 12/20\n",
      "21/21 [==============================] - 0s 2ms/step - loss: 0.3056 - accuracy: 0.8727\n",
      "Epoch 13/20\n",
      "21/21 [==============================] - 0s 2ms/step - loss: 0.3145 - accuracy: 0.8711\n",
      "Epoch 14/20\n",
      "21/21 [==============================] - 0s 2ms/step - loss: 0.2925 - accuracy: 0.8835\n",
      "Epoch 15/20\n",
      "21/21 [==============================] - 0s 2ms/step - loss: 0.2758 - accuracy: 0.8944\n",
      "Epoch 16/20\n",
      "21/21 [==============================] - 0s 2ms/step - loss: 0.2656 - accuracy: 0.8975\n",
      "Epoch 17/20\n",
      "21/21 [==============================] - 0s 2ms/step - loss: 0.2694 - accuracy: 0.8991\n",
      "Epoch 18/20\n",
      "21/21 [==============================] - 0s 2ms/step - loss: 0.2494 - accuracy: 0.9084\n",
      "Epoch 19/20\n",
      "21/21 [==============================] - 0s 2ms/step - loss: 0.2555 - accuracy: 0.9053\n",
      "Epoch 20/20\n",
      "21/21 [==============================] - 0s 2ms/step - loss: 0.2293 - accuracy: 0.9193\n",
      "WARNING:tensorflow:5 out of the last 12 calls to <function Model.make_predict_function.<locals>.predict_function at 0x000002592D9534C0> triggered tf.function retracing. Tracing is expensive and the excessive number of tracings could be due to (1) creating @tf.function repeatedly in a loop, (2) passing tensors with different shapes, (3) passing Python objects instead of tensors. For (1), please define your @tf.function outside of the loop. For (2), @tf.function has reduce_retracing=True option that can avoid unnecessary retracing. For (3), please refer to https://www.tensorflow.org/guide/function#controlling_retracing and https://www.tensorflow.org/api_docs/python/tf/function for  more details.\n",
      "9/9 [==============================] - 0s 2ms/step\n",
      "[[106  38]\n",
      " [ 16 116]]\n",
      "              precision    recall  f1-score   support\n",
      "\n",
      "           0       0.74      0.87      0.80       122\n",
      "           1       0.88      0.75      0.81       154\n",
      "\n",
      "    accuracy                           0.80       276\n",
      "   macro avg       0.81      0.81      0.80       276\n",
      "weighted avg       0.82      0.80      0.80       276\n",
      "\n",
      "[7, 11, 20, 28, 29, 34, 37, 42, 47, 51, 52, 59, 66, 68, 76, 80, 84, 88, 90, 95, 104, 111, 121, 125, 130, 134, 135, 151, 152, 158, 164, 169, 171, 184, 190, 193, 195, 198, 201, 208, 213, 214, 217, 218, 221, 222, 228, 234, 247, 248, 254, 264, 274, 275]\n"
     ]
    }
   ],
   "source": [
    "path_train = '../traintestdata/com_train.csv'\n",
    "path_test = '../traintestdata/com_test.csv'\n",
    "RNN(path_train,path_test, 20)"
   ]
  },
  {
   "cell_type": "code",
   "execution_count": null,
   "id": "c01339e4",
   "metadata": {},
   "outputs": [],
   "source": []
  }
 ],
 "metadata": {
  "kernelspec": {
   "display_name": "Python 3 (ipykernel)",
   "language": "python",
   "name": "python3"
  },
  "language_info": {
   "codemirror_mode": {
    "name": "ipython",
    "version": 3
   },
   "file_extension": ".py",
   "mimetype": "text/x-python",
   "name": "python",
   "nbconvert_exporter": "python",
   "pygments_lexer": "ipython3",
   "version": "3.9.12"
  }
 },
 "nbformat": 4,
 "nbformat_minor": 5
}
