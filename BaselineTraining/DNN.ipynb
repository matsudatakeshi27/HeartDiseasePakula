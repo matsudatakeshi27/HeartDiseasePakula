{
 "cells": [
  {
   "cell_type": "code",
   "execution_count": 9,
   "id": "c773be18",
   "metadata": {},
   "outputs": [],
   "source": [
    "import numpy as np\n",
    "import pandas as pd\n",
    "from keras.models import Sequential\n",
    "from keras.layers import Conv1D, MaxPooling1D, Flatten, Dense, Dropout\n",
    "from sklearn.metrics import confusion_matrix, classification_report"
   ]
  },
  {
   "cell_type": "code",
   "execution_count": 10,
   "id": "9a9d0451",
   "metadata": {},
   "outputs": [],
   "source": [
    "def RNN(path_train,path_test, epoch_num):\n",
    "    Train = pd.read_csv(path_train)\n",
    "    Test = pd.read_csv(path_test)\n",
    "    \n",
    "    X_train = Train.iloc[:,:-1]\n",
    "    Y_train = Train.iloc[:,-1]\n",
    "\n",
    "    X_test = Test.iloc[:,:-1]\n",
    "    Y_test = Test.iloc[:,-1]\n",
    "\n",
    "    #binarize the target\n",
    "    Y_train_binary = Y_train.apply(lambda x: 1 if x > 0 else 0)\n",
    "    Y_test_binary = Y_test.apply(lambda x: 1 if x > 0 else 0)\n",
    "\n",
    "    # CNN\n",
    "    model = Sequential()\n",
    "    model.add(Dense(64, input_shape=(22,), activation='relu'))\n",
    "    model.add(Dense(128, activation='relu'))\n",
    "    model.add(Dense(256, activation='relu'))\n",
    "    model.add(Dense(2, activation='sigmoid'))\n",
    "\n",
    "    model.compile(loss='sparse_categorical_crossentropy', optimizer='adam', metrics=['accuracy'])\n",
    "    \n",
    "    model.fit(X_train, Y_train_binary, epochs=epoch_num, batch_size=32)\n",
    "    Y_pred = model.predict(X_test).argmax(axis=1)\n",
    "    \n",
    "    cm = confusion_matrix(Y_pred, Y_test_binary)\n",
    "    print(cm)\n",
    "    print(classification_report(Y_test_binary, Y_pred,digits = 4))\n",
    "    \n",
    "    mismatch = [i for i, (a,b) in enumerate(zip(Y_pred, Y_test_binary)) if a != b]\n",
    "    model.save(str(path_train[-13:][:3]) +'_dnn.h5')\n",
    "    print(mismatch)"
   ]
  },
  {
   "cell_type": "markdown",
   "id": "011932f6",
   "metadata": {},
   "source": [
    "# Cleveland"
   ]
  },
  {
   "cell_type": "code",
   "execution_count": 11,
   "id": "87e10642",
   "metadata": {
    "scrolled": true
   },
   "outputs": [
    {
     "name": "stdout",
     "output_type": "stream",
     "text": [
      "Epoch 1/19\n",
      "7/7 [==============================] - 0s 1ms/step - loss: 0.6870 - accuracy: 0.4906\n",
      "Epoch 2/19\n",
      "7/7 [==============================] - 0s 1000us/step - loss: 0.5609 - accuracy: 0.7925\n",
      "Epoch 3/19\n",
      "7/7 [==============================] - 0s 1000us/step - loss: 0.4552 - accuracy: 0.8019\n",
      "Epoch 4/19\n",
      "7/7 [==============================] - 0s 1000us/step - loss: 0.3907 - accuracy: 0.7925\n",
      "Epoch 5/19\n",
      "7/7 [==============================] - 0s 833us/step - loss: 0.3688 - accuracy: 0.7925\n",
      "Epoch 6/19\n",
      "7/7 [==============================] - 0s 1000us/step - loss: 0.3608 - accuracy: 0.8302\n",
      "Epoch 7/19\n",
      "7/7 [==============================] - 0s 1000us/step - loss: 0.3328 - accuracy: 0.8396\n",
      "Epoch 8/19\n",
      "7/7 [==============================] - 0s 1000us/step - loss: 0.3137 - accuracy: 0.8491\n",
      "Epoch 9/19\n",
      "7/7 [==============================] - 0s 1ms/step - loss: 0.3101 - accuracy: 0.8585\n",
      "Epoch 10/19\n",
      "7/7 [==============================] - 0s 1ms/step - loss: 0.2883 - accuracy: 0.8774\n",
      "Epoch 11/19\n",
      "7/7 [==============================] - 0s 1ms/step - loss: 0.2696 - accuracy: 0.8962\n",
      "Epoch 12/19\n",
      "7/7 [==============================] - 0s 1000us/step - loss: 0.2627 - accuracy: 0.8821\n",
      "Epoch 13/19\n",
      "7/7 [==============================] - 0s 1000us/step - loss: 0.2556 - accuracy: 0.8915\n",
      "Epoch 14/19\n",
      "7/7 [==============================] - 0s 833us/step - loss: 0.2442 - accuracy: 0.9009\n",
      "Epoch 15/19\n",
      "7/7 [==============================] - 0s 833us/step - loss: 0.2382 - accuracy: 0.9057\n",
      "Epoch 16/19\n",
      "7/7 [==============================] - 0s 1ms/step - loss: 0.2226 - accuracy: 0.9151\n",
      "Epoch 17/19\n",
      "7/7 [==============================] - 0s 833us/step - loss: 0.2166 - accuracy: 0.9245\n",
      "Epoch 18/19\n",
      "7/7 [==============================] - 0s 833us/step - loss: 0.2021 - accuracy: 0.9245\n",
      "Epoch 19/19\n",
      "7/7 [==============================] - 0s 834us/step - loss: 0.1901 - accuracy: 0.9387\n",
      "WARNING:tensorflow:5 out of the last 11 calls to <function Model.make_predict_function.<locals>.predict_function at 0x000001AEEE6CE940> triggered tf.function retracing. Tracing is expensive and the excessive number of tracings could be due to (1) creating @tf.function repeatedly in a loop, (2) passing tensors with different shapes, (3) passing Python objects instead of tensors. For (1), please define your @tf.function outside of the loop. For (2), @tf.function has reduce_retracing=True option that can avoid unnecessary retracing. For (3), please refer to https://www.tensorflow.org/guide/function#controlling_retracing and https://www.tensorflow.org/api_docs/python/tf/function for  more details.\n",
      "3/3 [==============================] - 0s 1ms/step\n",
      "[[39  4]\n",
      " [12 36]]\n",
      "              precision    recall  f1-score   support\n",
      "\n",
      "           0     0.9070    0.7647    0.8298        51\n",
      "           1     0.7500    0.9000    0.8182        40\n",
      "\n",
      "    accuracy                         0.8242        91\n",
      "   macro avg     0.8285    0.8324    0.8240        91\n",
      "weighted avg     0.8380    0.8242    0.8247        91\n",
      "\n",
      "[0, 19, 24, 28, 30, 31, 32, 38, 53, 60, 64, 67, 69, 70, 77, 78]\n"
     ]
    }
   ],
   "source": [
    "path_train = '../traintestdata/cle_train.csv'\n",
    "path_test = '../traintestdata/cle_test.csv'\n",
    "RNN(path_train,path_test,19)"
   ]
  },
  {
   "cell_type": "markdown",
   "id": "a6188e68",
   "metadata": {},
   "source": [
    "# Virginia"
   ]
  },
  {
   "cell_type": "code",
   "execution_count": 12,
   "id": "8b19b95f",
   "metadata": {
    "scrolled": true
   },
   "outputs": [
    {
     "name": "stdout",
     "output_type": "stream",
     "text": [
      "Epoch 1/15\n",
      "5/5 [==============================] - 0s 1ms/step - loss: 0.6109 - accuracy: 0.7071\n",
      "Epoch 2/15\n",
      "5/5 [==============================] - 0s 1ms/step - loss: 0.5639 - accuracy: 0.7286\n",
      "Epoch 3/15\n",
      "5/5 [==============================] - 0s 1ms/step - loss: 0.5299 - accuracy: 0.7286\n",
      "Epoch 4/15\n",
      "5/5 [==============================] - 0s 1ms/step - loss: 0.5026 - accuracy: 0.7286\n",
      "Epoch 5/15\n",
      "5/5 [==============================] - 0s 1ms/step - loss: 0.4902 - accuracy: 0.7571\n",
      "Epoch 6/15\n",
      "5/5 [==============================] - 0s 1ms/step - loss: 0.4730 - accuracy: 0.7857\n",
      "Epoch 7/15\n",
      "5/5 [==============================] - 0s 1ms/step - loss: 0.4542 - accuracy: 0.7857\n",
      "Epoch 8/15\n",
      "5/5 [==============================] - 0s 1000us/step - loss: 0.4385 - accuracy: 0.7857\n",
      "Epoch 9/15\n",
      "5/5 [==============================] - 0s 1000us/step - loss: 0.4215 - accuracy: 0.8071\n",
      "Epoch 10/15\n",
      "5/5 [==============================] - 0s 1ms/step - loss: 0.4051 - accuracy: 0.8143\n",
      "Epoch 11/15\n",
      "5/5 [==============================] - 0s 1000us/step - loss: 0.3913 - accuracy: 0.8286\n",
      "Epoch 12/15\n",
      "5/5 [==============================] - 0s 1000us/step - loss: 0.3737 - accuracy: 0.8429\n",
      "Epoch 13/15\n",
      "5/5 [==============================] - 0s 1ms/step - loss: 0.3539 - accuracy: 0.8714\n",
      "Epoch 14/15\n",
      "5/5 [==============================] - 0s 1000us/step - loss: 0.3333 - accuracy: 0.8571\n",
      "Epoch 15/15\n",
      "5/5 [==============================] - 0s 1000us/step - loss: 0.3183 - accuracy: 0.8714\n",
      "2/2 [==============================] - 0s 1000us/step\n",
      "[[ 2  3]\n",
      " [11 44]]\n",
      "              precision    recall  f1-score   support\n",
      "\n",
      "           0     0.4000    0.1538    0.2222        13\n",
      "           1     0.8000    0.9362    0.8627        47\n",
      "\n",
      "    accuracy                         0.7667        60\n",
      "   macro avg     0.6000    0.5450    0.5425        60\n",
      "weighted avg     0.7133    0.7667    0.7240        60\n",
      "\n",
      "[3, 6, 14, 17, 19, 28, 30, 32, 34, 48, 49, 52, 57, 58]\n"
     ]
    }
   ],
   "source": [
    "path_train = '../traintestdata/vir_train.csv'\n",
    "path_test = '../traintestdata/vir_test.csv'\n",
    "RNN(path_train,path_test, 15)"
   ]
  },
  {
   "cell_type": "markdown",
   "id": "2847dd00",
   "metadata": {},
   "source": [
    "# Hungary"
   ]
  },
  {
   "cell_type": "code",
   "execution_count": 13,
   "id": "46feda2a",
   "metadata": {
    "scrolled": true
   },
   "outputs": [
    {
     "name": "stdout",
     "output_type": "stream",
     "text": [
      "Epoch 1/20\n",
      "7/7 [==============================] - 0s 1ms/step - loss: 0.6593 - accuracy: 0.5854\n",
      "Epoch 2/20\n",
      "7/7 [==============================] - 0s 1ms/step - loss: 0.5355 - accuracy: 0.6780\n",
      "Epoch 3/20\n",
      "7/7 [==============================] - 0s 1ms/step - loss: 0.4238 - accuracy: 0.8488\n",
      "Epoch 4/20\n",
      "7/7 [==============================] - 0s 1ms/step - loss: 0.3333 - accuracy: 0.8634\n",
      "Epoch 5/20\n",
      "7/7 [==============================] - 0s 999us/step - loss: 0.3075 - accuracy: 0.8634\n",
      "Epoch 6/20\n",
      "7/7 [==============================] - 0s 1ms/step - loss: 0.3207 - accuracy: 0.8537\n",
      "Epoch 7/20\n",
      "7/7 [==============================] - 0s 1ms/step - loss: 0.2963 - accuracy: 0.8829\n",
      "Epoch 8/20\n",
      "7/7 [==============================] - 0s 987us/step - loss: 0.2596 - accuracy: 0.8829\n",
      "Epoch 9/20\n",
      "7/7 [==============================] - 0s 1ms/step - loss: 0.2465 - accuracy: 0.8780\n",
      "Epoch 10/20\n",
      "7/7 [==============================] - 0s 1ms/step - loss: 0.2296 - accuracy: 0.9171\n",
      "Epoch 11/20\n",
      "7/7 [==============================] - 0s 1000us/step - loss: 0.2096 - accuracy: 0.9366\n",
      "Epoch 12/20\n",
      "7/7 [==============================] - 0s 1ms/step - loss: 0.1977 - accuracy: 0.9415\n",
      "Epoch 13/20\n",
      "7/7 [==============================] - 0s 833us/step - loss: 0.1926 - accuracy: 0.9317\n",
      "Epoch 14/20\n",
      "7/7 [==============================] - 0s 834us/step - loss: 0.1778 - accuracy: 0.9415\n",
      "Epoch 15/20\n",
      "7/7 [==============================] - 0s 833us/step - loss: 0.1681 - accuracy: 0.9463\n",
      "Epoch 16/20\n",
      "7/7 [==============================] - 0s 833us/step - loss: 0.1567 - accuracy: 0.9512\n",
      "Epoch 17/20\n",
      "7/7 [==============================] - 0s 1ms/step - loss: 0.1488 - accuracy: 0.9512\n",
      "Epoch 18/20\n",
      "7/7 [==============================] - 0s 833us/step - loss: 0.1377 - accuracy: 0.9561\n",
      "Epoch 19/20\n",
      "7/7 [==============================] - 0s 833us/step - loss: 0.1303 - accuracy: 0.9561\n",
      "Epoch 20/20\n",
      "7/7 [==============================] - 0s 833us/step - loss: 0.1247 - accuracy: 0.9659\n",
      "3/3 [==============================] - 0s 1ms/step\n",
      "[[53  7]\n",
      " [ 4 25]]\n",
      "              precision    recall  f1-score   support\n",
      "\n",
      "           0     0.8833    0.9298    0.9060        57\n",
      "           1     0.8621    0.7812    0.8197        32\n",
      "\n",
      "    accuracy                         0.8764        89\n",
      "   macro avg     0.8727    0.8555    0.8628        89\n",
      "weighted avg     0.8757    0.8764    0.8749        89\n",
      "\n",
      "[8, 12, 14, 23, 29, 30, 42, 46, 54, 59, 86]\n"
     ]
    }
   ],
   "source": [
    "path_train = '../traintestdata/hun_train.csv'\n",
    "path_test = '../traintestdata/hun_test.csv'\n",
    "RNN(path_train,path_test, 20)"
   ]
  },
  {
   "cell_type": "markdown",
   "id": "6a67e1ad",
   "metadata": {},
   "source": [
    "# Switzerland"
   ]
  },
  {
   "cell_type": "code",
   "execution_count": 14,
   "id": "dbf05ad3",
   "metadata": {
    "scrolled": true
   },
   "outputs": [
    {
     "name": "stdout",
     "output_type": "stream",
     "text": [
      "Epoch 1/20\n",
      "3/3 [==============================] - 0s 2ms/step - loss: 0.6149 - accuracy: 0.7907\n",
      "Epoch 2/20\n",
      "3/3 [==============================] - 0s 1ms/step - loss: 0.4159 - accuracy: 0.9302\n",
      "Epoch 3/20\n",
      "3/3 [==============================] - 0s 2ms/step - loss: 0.3006 - accuracy: 0.9302\n",
      "Epoch 4/20\n",
      "3/3 [==============================] - 0s 1ms/step - loss: 0.2364 - accuracy: 0.9302\n",
      "Epoch 5/20\n",
      "3/3 [==============================] - 0s 1ms/step - loss: 0.2342 - accuracy: 0.9302\n",
      "Epoch 6/20\n",
      "3/3 [==============================] - 0s 2ms/step - loss: 0.2352 - accuracy: 0.9302\n",
      "Epoch 7/20\n",
      "3/3 [==============================] - 0s 1ms/step - loss: 0.2305 - accuracy: 0.9302\n",
      "Epoch 8/20\n",
      "3/3 [==============================] - 0s 1ms/step - loss: 0.2195 - accuracy: 0.9302\n",
      "Epoch 9/20\n",
      "3/3 [==============================] - 0s 2ms/step - loss: 0.1987 - accuracy: 0.9302\n",
      "Epoch 10/20\n",
      "3/3 [==============================] - 0s 2ms/step - loss: 0.1858 - accuracy: 0.9302\n",
      "Epoch 11/20\n",
      "3/3 [==============================] - 0s 1ms/step - loss: 0.1797 - accuracy: 0.9302\n",
      "Epoch 12/20\n",
      "3/3 [==============================] - 0s 1000us/step - loss: 0.1669 - accuracy: 0.9302\n",
      "Epoch 13/20\n",
      "3/3 [==============================] - 0s 999us/step - loss: 0.1556 - accuracy: 0.9302\n",
      "Epoch 14/20\n",
      "3/3 [==============================] - 0s 1000us/step - loss: 0.1468 - accuracy: 0.9302\n",
      "Epoch 15/20\n",
      "3/3 [==============================] - 0s 1ms/step - loss: 0.1374 - accuracy: 0.9302\n",
      "Epoch 16/20\n",
      "3/3 [==============================] - 0s 1ms/step - loss: 0.1283 - accuracy: 0.9302\n",
      "Epoch 17/20\n",
      "3/3 [==============================] - 0s 1000us/step - loss: 0.1216 - accuracy: 0.9302\n",
      "Epoch 18/20\n",
      "3/3 [==============================] - 0s 1ms/step - loss: 0.1135 - accuracy: 0.9535\n",
      "Epoch 19/20\n",
      "3/3 [==============================] - 0s 2ms/step - loss: 0.1057 - accuracy: 0.9535\n",
      "Epoch 20/20\n",
      "3/3 [==============================] - 0s 1ms/step - loss: 0.0994 - accuracy: 0.9535\n",
      "2/2 [==============================] - 0s 1000us/step\n",
      "[[ 1  2]\n",
      " [ 1 33]]\n",
      "              precision    recall  f1-score   support\n",
      "\n",
      "           0     0.3333    0.5000    0.4000         2\n",
      "           1     0.9706    0.9429    0.9565        35\n",
      "\n",
      "    accuracy                         0.9189        37\n",
      "   macro avg     0.6520    0.7214    0.6783        37\n",
      "weighted avg     0.9361    0.9189    0.9264        37\n",
      "\n",
      "[15, 20, 27]\n"
     ]
    }
   ],
   "source": [
    "path_train = '../traintestdata/swi_train.csv'\n",
    "path_test = '../traintestdata/swi_test.csv'\n",
    "RNN(path_train,path_test, 20)"
   ]
  },
  {
   "cell_type": "markdown",
   "id": "d3164806",
   "metadata": {},
   "source": [
    "# Europe"
   ]
  },
  {
   "cell_type": "code",
   "execution_count": 7,
   "id": "709e58d6",
   "metadata": {
    "scrolled": true
   },
   "outputs": [
    {
     "name": "stdout",
     "output_type": "stream",
     "text": [
      "Epoch 1/20\n",
      "10/10 [==============================] - 0s 889us/step - loss: 0.5851 - accuracy: 0.8110\n",
      "Epoch 2/20\n",
      "10/10 [==============================] - 0s 778us/step - loss: 0.4108 - accuracy: 0.8454\n",
      "Epoch 3/20\n",
      "10/10 [==============================] - 0s 889us/step - loss: 0.3450 - accuracy: 0.8488\n",
      "Epoch 4/20\n",
      "10/10 [==============================] - 0s 889us/step - loss: 0.3298 - accuracy: 0.8522\n",
      "Epoch 5/20\n",
      "10/10 [==============================] - 0s 889us/step - loss: 0.2964 - accuracy: 0.8797\n",
      "Epoch 6/20\n",
      "10/10 [==============================] - 0s 889us/step - loss: 0.2746 - accuracy: 0.8832\n",
      "Epoch 7/20\n",
      "10/10 [==============================] - 0s 778us/step - loss: 0.2600 - accuracy: 0.8900\n",
      "Epoch 8/20\n",
      "10/10 [==============================] - 0s 889us/step - loss: 0.2424 - accuracy: 0.9003\n",
      "Epoch 9/20\n",
      "10/10 [==============================] - 0s 888us/step - loss: 0.2336 - accuracy: 0.9175\n",
      "Epoch 10/20\n",
      "10/10 [==============================] - 0s 778us/step - loss: 0.2175 - accuracy: 0.9278\n",
      "Epoch 11/20\n",
      "10/10 [==============================] - 0s 778us/step - loss: 0.2109 - accuracy: 0.9347\n",
      "Epoch 12/20\n",
      "10/10 [==============================] - 0s 778us/step - loss: 0.2098 - accuracy: 0.9313\n",
      "Epoch 13/20\n",
      "10/10 [==============================] - 0s 889us/step - loss: 0.1942 - accuracy: 0.9244\n",
      "Epoch 14/20\n",
      "10/10 [==============================] - 0s 778us/step - loss: 0.1875 - accuracy: 0.9416\n",
      "Epoch 15/20\n",
      "10/10 [==============================] - 0s 889us/step - loss: 0.1619 - accuracy: 0.9450\n",
      "Epoch 16/20\n",
      "10/10 [==============================] - 0s 778us/step - loss: 0.1647 - accuracy: 0.9347\n",
      "Epoch 17/20\n",
      "10/10 [==============================] - 0s 778us/step - loss: 0.1512 - accuracy: 0.9519\n",
      "Epoch 18/20\n",
      "10/10 [==============================] - 0s 778us/step - loss: 0.1324 - accuracy: 0.9588\n",
      "Epoch 19/20\n",
      "10/10 [==============================] - 0s 778us/step - loss: 0.1348 - accuracy: 0.9656\n",
      "Epoch 20/20\n",
      "10/10 [==============================] - 0s 889us/step - loss: 0.1265 - accuracy: 0.9519\n",
      "WARNING:tensorflow:5 out of the last 11 calls to <function Model.make_predict_function.<locals>.predict_function at 0x000002557A128670> triggered tf.function retracing. Tracing is expensive and the excessive number of tracings could be due to (1) creating @tf.function repeatedly in a loop, (2) passing tensors with different shapes, (3) passing Python objects instead of tensors. For (1), please define your @tf.function outside of the loop. For (2), @tf.function has reduce_retracing=True option that can avoid unnecessary retracing. For (3), please refer to https://www.tensorflow.org/guide/function#controlling_retracing and https://www.tensorflow.org/api_docs/python/tf/function for  more details.\n",
      "4/4 [==============================] - 0s 669us/step\n",
      "[[55  8]\n",
      " [ 4 59]]\n",
      "              precision    recall  f1-score   support\n",
      "\n",
      "           0     0.8730    0.9322    0.9016        59\n",
      "           1     0.9365    0.8806    0.9077        67\n",
      "\n",
      "    accuracy                         0.9048       126\n",
      "   macro avg     0.9048    0.9064    0.9047       126\n",
      "weighted avg     0.9068    0.9048    0.9049       126\n",
      "\n",
      "[8, 12, 14, 23, 29, 42, 54, 59, 101, 104, 109, 116]\n"
     ]
    }
   ],
   "source": [
    "path_train = '../traintestdata/euro_train.csv'\n",
    "path_test = '../traintestdata/euro_test.csv'\n",
    "RNN(path_train,path_test, 20)"
   ]
  },
  {
   "cell_type": "markdown",
   "id": "a7bf0136",
   "metadata": {},
   "source": [
    "# Combined"
   ]
  },
  {
   "cell_type": "code",
   "execution_count": 8,
   "id": "fc9f6787",
   "metadata": {
    "scrolled": true
   },
   "outputs": [
    {
     "name": "stdout",
     "output_type": "stream",
     "text": [
      "Epoch 1/20\n",
      "21/21 [==============================] - 0s 850us/step - loss: 0.5623 - accuracy: 0.7562\n",
      "Epoch 2/20\n",
      "21/21 [==============================] - 0s 750us/step - loss: 0.4301 - accuracy: 0.8059\n",
      "Epoch 3/20\n",
      "21/21 [==============================] - 0s 800us/step - loss: 0.3905 - accuracy: 0.8276\n",
      "Epoch 4/20\n",
      "21/21 [==============================] - 0s 800us/step - loss: 0.3750 - accuracy: 0.8323\n",
      "Epoch 5/20\n",
      "21/21 [==============================] - 0s 800us/step - loss: 0.3601 - accuracy: 0.8416\n",
      "Epoch 6/20\n",
      "21/21 [==============================] - 0s 900us/step - loss: 0.3546 - accuracy: 0.8401\n",
      "Epoch 7/20\n",
      "21/21 [==============================] - 0s 850us/step - loss: 0.3530 - accuracy: 0.8618\n",
      "Epoch 8/20\n",
      "21/21 [==============================] - 0s 800us/step - loss: 0.3366 - accuracy: 0.8587\n",
      "Epoch 9/20\n",
      "21/21 [==============================] - 0s 800us/step - loss: 0.3308 - accuracy: 0.8634\n",
      "Epoch 10/20\n",
      "21/21 [==============================] - 0s 846us/step - loss: 0.3103 - accuracy: 0.8742\n",
      "Epoch 11/20\n",
      "21/21 [==============================] - 0s 748us/step - loss: 0.3014 - accuracy: 0.8758\n",
      "Epoch 12/20\n",
      "21/21 [==============================] - 0s 794us/step - loss: 0.2825 - accuracy: 0.8898\n",
      "Epoch 13/20\n",
      "21/21 [==============================] - 0s 800us/step - loss: 0.2791 - accuracy: 0.8804\n",
      "Epoch 14/20\n",
      "21/21 [==============================] - 0s 750us/step - loss: 0.2778 - accuracy: 0.8758\n",
      "Epoch 15/20\n",
      "21/21 [==============================] - 0s 750us/step - loss: 0.2557 - accuracy: 0.8975\n",
      "Epoch 16/20\n",
      "21/21 [==============================] - 0s 750us/step - loss: 0.2355 - accuracy: 0.9084\n",
      "Epoch 17/20\n",
      "21/21 [==============================] - 0s 750us/step - loss: 0.2290 - accuracy: 0.9177\n",
      "Epoch 18/20\n",
      "21/21 [==============================] - 0s 750us/step - loss: 0.2186 - accuracy: 0.9053\n",
      "Epoch 19/20\n",
      "21/21 [==============================] - 0s 750us/step - loss: 0.2031 - accuracy: 0.9255\n",
      "Epoch 20/20\n",
      "21/21 [==============================] - 0s 800us/step - loss: 0.2011 - accuracy: 0.9208\n",
      "WARNING:tensorflow:5 out of the last 12 calls to <function Model.make_predict_function.<locals>.predict_function at 0x000002557B288550> triggered tf.function retracing. Tracing is expensive and the excessive number of tracings could be due to (1) creating @tf.function repeatedly in a loop, (2) passing tensors with different shapes, (3) passing Python objects instead of tensors. For (1), please define your @tf.function outside of the loop. For (2), @tf.function has reduce_retracing=True option that can avoid unnecessary retracing. For (3), please refer to https://www.tensorflow.org/guide/function#controlling_retracing and https://www.tensorflow.org/api_docs/python/tf/function for  more details.\n",
      "9/9 [==============================] - 0s 625us/step\n",
      "[[103  27]\n",
      " [ 19 127]]\n",
      "              precision    recall  f1-score   support\n",
      "\n",
      "           0     0.7923    0.8443    0.8175       122\n",
      "           1     0.8699    0.8247    0.8467       154\n",
      "\n",
      "    accuracy                         0.8333       276\n",
      "   macro avg     0.8311    0.8345    0.8321       276\n",
      "weighted avg     0.8356    0.8333    0.8338       276\n",
      "\n",
      "[11, 28, 29, 33, 42, 47, 52, 59, 66, 70, 76, 80, 88, 90, 91, 101, 104, 105, 111, 116, 121, 130, 135, 158, 164, 168, 169, 171, 184, 190, 198, 200, 201, 208, 210, 213, 214, 217, 228, 234, 247, 259, 264, 273, 274, 275]\n"
     ]
    }
   ],
   "source": [
    "path_train = '../traintestdata/com_train.csv'\n",
    "path_test = '../traintestdata/com_test.csv'\n",
    "RNN(path_train,path_test, 20)"
   ]
  },
  {
   "cell_type": "code",
   "execution_count": null,
   "id": "c01339e4",
   "metadata": {},
   "outputs": [],
   "source": []
  }
 ],
 "metadata": {
  "kernelspec": {
   "display_name": "Python 3 (ipykernel)",
   "language": "python",
   "name": "python3"
  },
  "language_info": {
   "codemirror_mode": {
    "name": "ipython",
    "version": 3
   },
   "file_extension": ".py",
   "mimetype": "text/x-python",
   "name": "python",
   "nbconvert_exporter": "python",
   "pygments_lexer": "ipython3",
   "version": "3.9.16"
  }
 },
 "nbformat": 4,
 "nbformat_minor": 5
}
