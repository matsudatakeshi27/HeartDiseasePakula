{
 "cells": [
  {
   "cell_type": "code",
   "execution_count": 1,
   "id": "c773be18",
   "metadata": {},
   "outputs": [],
   "source": [
    "import numpy as np\n",
    "import pandas as pd\n",
    "from keras.models import Sequential\n",
    "from keras.layers import Dense, SimpleRNN\n",
    "from sklearn.metrics import confusion_matrix, classification_report"
   ]
  },
  {
   "cell_type": "code",
   "execution_count": 8,
   "id": "9a9d0451",
   "metadata": {},
   "outputs": [],
   "source": [
    "def RNN(path_train,path_test):\n",
    "    #Split the data\n",
    "    Train = pd.read_csv(path_train)\n",
    "    Test = pd.read_csv(path_test)\n",
    "    \n",
    "    X_train = Train.iloc[:,:-1]\n",
    "    Y_train = Train.iloc[:,-1]\n",
    "\n",
    "    X_test = Test.iloc[:,:-1]\n",
    "    Y_test = Test.iloc[:,-1]\n",
    "\n",
    "    #binarize the target\n",
    "    Y_train_binary = Y_train.apply(lambda x: 1 if x > 0 else 0)\n",
    "    Y_test_binary = Y_test.apply(lambda x: 1 if x > 0 else 0)\n",
    "\n",
    "    # define the model architecture\n",
    "    model = Sequential()\n",
    "    model.add(SimpleRNN(units=64, return_sequences=True, input_shape=(22, 1)))\n",
    "    model.add(SimpleRNN(units=32, return_sequences=True))\n",
    "    model.add(SimpleRNN(units=16))\n",
    "    model.add(Dense(units=2, activation='sigmoid'))\n",
    "    model.compile(optimizer='adam', loss='sparse_categorical_crossentropy', metrics=['accuracy'])\n",
    "    \n",
    "    model.fit(X_train, Y_train_binary, epochs=20, batch_size=32)\n",
    "    Y_pred = model.predict(X_test).argmax(axis=1)\n",
    "    \n",
    "    cm = confusion_matrix(Y_pred, Y_test_binary)\n",
    "    model.save(str(path_train[-13:][:3]) +'_rnn.h5')\n",
    "    print(cm)\n",
    "    print(classification_report(Y_test_binary, Y_pred, digits=4))"
   ]
  },
  {
   "cell_type": "markdown",
   "id": "011932f6",
   "metadata": {},
   "source": [
    "# Cleveland"
   ]
  },
  {
   "cell_type": "code",
   "execution_count": 9,
   "id": "87e10642",
   "metadata": {
    "scrolled": true
   },
   "outputs": [
    {
     "name": "stdout",
     "output_type": "stream",
     "text": [
      "Epoch 1/20\n",
      "7/7 [==============================] - 1s 5ms/step - loss: 0.5558 - accuracy: 0.7217\n",
      "Epoch 2/20\n",
      "7/7 [==============================] - 0s 4ms/step - loss: 0.4281 - accuracy: 0.8066\n",
      "Epoch 3/20\n",
      "7/7 [==============================] - 0s 4ms/step - loss: 0.4128 - accuracy: 0.8019\n",
      "Epoch 4/20\n",
      "7/7 [==============================] - 0s 4ms/step - loss: 0.3949 - accuracy: 0.8113\n",
      "Epoch 5/20\n",
      "7/7 [==============================] - 0s 4ms/step - loss: 0.3693 - accuracy: 0.8160\n",
      "Epoch 6/20\n",
      "7/7 [==============================] - 0s 4ms/step - loss: 0.3583 - accuracy: 0.8538\n",
      "Epoch 7/20\n",
      "7/7 [==============================] - 0s 4ms/step - loss: 0.3506 - accuracy: 0.8349\n",
      "Epoch 8/20\n",
      "7/7 [==============================] - 0s 4ms/step - loss: 0.3471 - accuracy: 0.8491\n",
      "Epoch 9/20\n",
      "7/7 [==============================] - 0s 4ms/step - loss: 0.3217 - accuracy: 0.8585\n",
      "Epoch 10/20\n",
      "7/7 [==============================] - 0s 4ms/step - loss: 0.3292 - accuracy: 0.8208\n",
      "Epoch 11/20\n",
      "7/7 [==============================] - 0s 4ms/step - loss: 0.3374 - accuracy: 0.8632\n",
      "Epoch 12/20\n",
      "7/7 [==============================] - 0s 4ms/step - loss: 0.3075 - accuracy: 0.8585\n",
      "Epoch 13/20\n",
      "7/7 [==============================] - 0s 4ms/step - loss: 0.2943 - accuracy: 0.8632\n",
      "Epoch 14/20\n",
      "7/7 [==============================] - 0s 4ms/step - loss: 0.2998 - accuracy: 0.8726\n",
      "Epoch 15/20\n",
      "7/7 [==============================] - 0s 4ms/step - loss: 0.2796 - accuracy: 0.8868\n",
      "Epoch 16/20\n",
      "7/7 [==============================] - 0s 4ms/step - loss: 0.2815 - accuracy: 0.8774\n",
      "Epoch 17/20\n",
      "7/7 [==============================] - 0s 4ms/step - loss: 0.2651 - accuracy: 0.8915\n",
      "Epoch 18/20\n",
      "7/7 [==============================] - 0s 4ms/step - loss: 0.2661 - accuracy: 0.8774\n",
      "Epoch 19/20\n",
      "7/7 [==============================] - 0s 4ms/step - loss: 0.2562 - accuracy: 0.9009\n",
      "Epoch 20/20\n",
      "7/7 [==============================] - 0s 4ms/step - loss: 0.2490 - accuracy: 0.9009\n",
      "3/3 [==============================] - 0s 2ms/step\n",
      "[[42  5]\n",
      " [ 9 35]]\n",
      "              precision    recall  f1-score   support\n",
      "\n",
      "           0       0.89      0.82      0.86        51\n",
      "           1       0.80      0.88      0.83        40\n",
      "\n",
      "    accuracy                           0.85        91\n",
      "   macro avg       0.84      0.85      0.85        91\n",
      "weighted avg       0.85      0.85      0.85        91\n",
      "\n"
     ]
    }
   ],
   "source": [
    "path_train = '../cle_train.csv'\n",
    "path_test = '../cle_test.csv'\n",
    "RNN(path_train,path_test)"
   ]
  },
  {
   "cell_type": "markdown",
   "id": "a6188e68",
   "metadata": {},
   "source": [
    "# Virginia"
   ]
  },
  {
   "cell_type": "code",
   "execution_count": 10,
   "id": "8b19b95f",
   "metadata": {
    "scrolled": true
   },
   "outputs": [
    {
     "name": "stdout",
     "output_type": "stream",
     "text": [
      "Epoch 1/20\n",
      "5/5 [==============================] - 1s 6ms/step - loss: 0.7216 - accuracy: 0.6429\n",
      "Epoch 2/20\n",
      "5/5 [==============================] - 0s 4ms/step - loss: 0.5697 - accuracy: 0.7286\n",
      "Epoch 3/20\n",
      "5/5 [==============================] - 0s 4ms/step - loss: 0.5292 - accuracy: 0.7357\n",
      "Epoch 4/20\n",
      "5/5 [==============================] - 0s 4ms/step - loss: 0.5009 - accuracy: 0.7357\n",
      "Epoch 5/20\n",
      "5/5 [==============================] - 0s 4ms/step - loss: 0.4750 - accuracy: 0.7714\n",
      "Epoch 6/20\n",
      "5/5 [==============================] - 0s 4ms/step - loss: 0.4626 - accuracy: 0.7714\n",
      "Epoch 7/20\n",
      "5/5 [==============================] - 0s 4ms/step - loss: 0.4488 - accuracy: 0.7714\n",
      "Epoch 8/20\n",
      "5/5 [==============================] - 0s 4ms/step - loss: 0.4367 - accuracy: 0.7786\n",
      "Epoch 9/20\n",
      "5/5 [==============================] - 0s 4ms/step - loss: 0.4286 - accuracy: 0.8000\n",
      "Epoch 10/20\n",
      "5/5 [==============================] - 0s 4ms/step - loss: 0.4226 - accuracy: 0.8071\n",
      "Epoch 11/20\n",
      "5/5 [==============================] - 0s 4ms/step - loss: 0.4044 - accuracy: 0.8214\n",
      "Epoch 12/20\n",
      "5/5 [==============================] - 0s 4ms/step - loss: 0.4101 - accuracy: 0.8000\n",
      "Epoch 13/20\n",
      "5/5 [==============================] - 0s 4ms/step - loss: 0.4240 - accuracy: 0.8000\n",
      "Epoch 14/20\n",
      "5/5 [==============================] - 0s 4ms/step - loss: 0.3767 - accuracy: 0.8286\n",
      "Epoch 15/20\n",
      "5/5 [==============================] - 0s 4ms/step - loss: 0.3735 - accuracy: 0.8286\n",
      "Epoch 16/20\n",
      "5/5 [==============================] - 0s 4ms/step - loss: 0.4064 - accuracy: 0.8143\n",
      "Epoch 17/20\n",
      "5/5 [==============================] - 0s 4ms/step - loss: 0.3488 - accuracy: 0.8429\n",
      "Epoch 18/20\n",
      "5/5 [==============================] - 0s 4ms/step - loss: 0.3838 - accuracy: 0.8357\n",
      "Epoch 19/20\n",
      "5/5 [==============================] - 0s 4ms/step - loss: 0.3414 - accuracy: 0.8571\n",
      "Epoch 20/20\n",
      "5/5 [==============================] - 0s 4ms/step - loss: 0.3373 - accuracy: 0.8429\n",
      "2/2 [==============================] - 0s 3ms/step\n",
      "[[ 4  4]\n",
      " [ 9 43]]\n",
      "              precision    recall  f1-score   support\n",
      "\n",
      "           0       0.50      0.31      0.38        13\n",
      "           1       0.83      0.91      0.87        47\n",
      "\n",
      "    accuracy                           0.78        60\n",
      "   macro avg       0.66      0.61      0.62        60\n",
      "weighted avg       0.76      0.78      0.76        60\n",
      "\n"
     ]
    }
   ],
   "source": [
    "path_train = '../vir_train.csv'\n",
    "path_test = '../vir_test.csv'\n",
    "RNN(path_train,path_test)"
   ]
  },
  {
   "cell_type": "markdown",
   "id": "2847dd00",
   "metadata": {},
   "source": [
    "# Hungary"
   ]
  },
  {
   "cell_type": "code",
   "execution_count": 11,
   "id": "46feda2a",
   "metadata": {
    "scrolled": true
   },
   "outputs": [
    {
     "name": "stdout",
     "output_type": "stream",
     "text": [
      "Epoch 1/20\n",
      "7/7 [==============================] - 1s 5ms/step - loss: 0.6023 - accuracy: 0.6780\n",
      "Epoch 2/20\n",
      "7/7 [==============================] - 0s 4ms/step - loss: 0.4237 - accuracy: 0.8098\n",
      "Epoch 3/20\n",
      "7/7 [==============================] - 0s 4ms/step - loss: 0.3871 - accuracy: 0.8244\n",
      "Epoch 4/20\n",
      "7/7 [==============================] - 0s 4ms/step - loss: 0.3671 - accuracy: 0.8195\n",
      "Epoch 5/20\n",
      "7/7 [==============================] - 0s 4ms/step - loss: 0.3304 - accuracy: 0.8341\n",
      "Epoch 6/20\n",
      "7/7 [==============================] - 0s 4ms/step - loss: 0.3165 - accuracy: 0.8634\n",
      "Epoch 7/20\n",
      "7/7 [==============================] - 0s 4ms/step - loss: 0.2915 - accuracy: 0.8829\n",
      "Epoch 8/20\n",
      "7/7 [==============================] - 0s 5ms/step - loss: 0.2871 - accuracy: 0.8780\n",
      "Epoch 9/20\n",
      "7/7 [==============================] - 0s 5ms/step - loss: 0.2840 - accuracy: 0.8732\n",
      "Epoch 10/20\n",
      "7/7 [==============================] - 0s 4ms/step - loss: 0.2642 - accuracy: 0.8878\n",
      "Epoch 11/20\n",
      "7/7 [==============================] - 0s 4ms/step - loss: 0.2780 - accuracy: 0.8829\n",
      "Epoch 12/20\n",
      "7/7 [==============================] - 0s 4ms/step - loss: 0.2525 - accuracy: 0.8976\n",
      "Epoch 13/20\n",
      "7/7 [==============================] - 0s 4ms/step - loss: 0.2613 - accuracy: 0.8976\n",
      "Epoch 14/20\n",
      "7/7 [==============================] - 0s 5ms/step - loss: 0.2490 - accuracy: 0.8927\n",
      "Epoch 15/20\n",
      "7/7 [==============================] - 0s 4ms/step - loss: 0.2522 - accuracy: 0.9024\n",
      "Epoch 16/20\n",
      "7/7 [==============================] - 0s 4ms/step - loss: 0.2360 - accuracy: 0.9024\n",
      "Epoch 17/20\n",
      "7/7 [==============================] - 0s 4ms/step - loss: 0.2413 - accuracy: 0.9122\n",
      "Epoch 18/20\n",
      "7/7 [==============================] - 0s 4ms/step - loss: 0.2308 - accuracy: 0.9122\n",
      "Epoch 19/20\n",
      "7/7 [==============================] - 0s 4ms/step - loss: 0.2207 - accuracy: 0.9024\n",
      "Epoch 20/20\n",
      "7/7 [==============================] - 0s 4ms/step - loss: 0.2110 - accuracy: 0.9171\n",
      "WARNING:tensorflow:5 out of the last 12 calls to <function Model.make_predict_function.<locals>.predict_function at 0x0000020D199D5700> triggered tf.function retracing. Tracing is expensive and the excessive number of tracings could be due to (1) creating @tf.function repeatedly in a loop, (2) passing tensors with different shapes, (3) passing Python objects instead of tensors. For (1), please define your @tf.function outside of the loop. For (2), @tf.function has reduce_retracing=True option that can avoid unnecessary retracing. For (3), please refer to https://www.tensorflow.org/guide/function#controlling_retracing and https://www.tensorflow.org/api_docs/python/tf/function for  more details.\n",
      "3/3 [==============================] - 0s 3ms/step\n",
      "[[53  8]\n",
      " [ 4 24]]\n",
      "              precision    recall  f1-score   support\n",
      "\n",
      "           0       0.87      0.93      0.90        57\n",
      "           1       0.86      0.75      0.80        32\n",
      "\n",
      "    accuracy                           0.87        89\n",
      "   macro avg       0.86      0.84      0.85        89\n",
      "weighted avg       0.86      0.87      0.86        89\n",
      "\n"
     ]
    }
   ],
   "source": [
    "path_train = '../hun_train.csv'\n",
    "path_test = '../hun_test.csv'\n",
    "RNN(path_train,path_test)"
   ]
  },
  {
   "cell_type": "markdown",
   "id": "6a67e1ad",
   "metadata": {},
   "source": [
    "# Switzerland"
   ]
  },
  {
   "cell_type": "code",
   "execution_count": 12,
   "id": "dbf05ad3",
   "metadata": {
    "scrolled": true
   },
   "outputs": [
    {
     "name": "stdout",
     "output_type": "stream",
     "text": [
      "Epoch 1/20\n",
      "3/3 [==============================] - 1s 6ms/step - loss: 0.8555 - accuracy: 0.5000\n",
      "Epoch 2/20\n",
      "3/3 [==============================] - 0s 5ms/step - loss: 0.2503 - accuracy: 0.9302\n",
      "Epoch 3/20\n",
      "3/3 [==============================] - 0s 4ms/step - loss: 0.2362 - accuracy: 0.9302\n",
      "Epoch 4/20\n",
      "3/3 [==============================] - 0s 5ms/step - loss: 0.2198 - accuracy: 0.9186\n",
      "Epoch 5/20\n",
      "3/3 [==============================] - 0s 5ms/step - loss: 0.2001 - accuracy: 0.9186\n",
      "Epoch 6/20\n",
      "3/3 [==============================] - 0s 4ms/step - loss: 0.1754 - accuracy: 0.9419\n",
      "Epoch 7/20\n",
      "3/3 [==============================] - 0s 4ms/step - loss: 0.1624 - accuracy: 0.9419\n",
      "Epoch 8/20\n",
      "3/3 [==============================] - 0s 5ms/step - loss: 0.1549 - accuracy: 0.9419\n",
      "Epoch 9/20\n",
      "3/3 [==============================] - 0s 5ms/step - loss: 0.1510 - accuracy: 0.9419\n",
      "Epoch 10/20\n",
      "3/3 [==============================] - 0s 5ms/step - loss: 0.1459 - accuracy: 0.9535\n",
      "Epoch 11/20\n",
      "3/3 [==============================] - 0s 5ms/step - loss: 0.1369 - accuracy: 0.9419\n",
      "Epoch 12/20\n",
      "3/3 [==============================] - 0s 5ms/step - loss: 0.1344 - accuracy: 0.9419\n",
      "Epoch 13/20\n",
      "3/3 [==============================] - 0s 5ms/step - loss: 0.1314 - accuracy: 0.9419\n",
      "Epoch 14/20\n",
      "3/3 [==============================] - 0s 4ms/step - loss: 0.1254 - accuracy: 0.9535\n",
      "Epoch 15/20\n",
      "3/3 [==============================] - 0s 5ms/step - loss: 0.1248 - accuracy: 0.9419\n",
      "Epoch 16/20\n",
      "3/3 [==============================] - 0s 5ms/step - loss: 0.1197 - accuracy: 0.9535\n",
      "Epoch 17/20\n",
      "3/3 [==============================] - 0s 5ms/step - loss: 0.1181 - accuracy: 0.9651\n",
      "Epoch 18/20\n",
      "3/3 [==============================] - 0s 6ms/step - loss: 0.1136 - accuracy: 0.9651\n",
      "Epoch 19/20\n",
      "3/3 [==============================] - 0s 5ms/step - loss: 0.1138 - accuracy: 0.9651\n",
      "Epoch 20/20\n",
      "3/3 [==============================] - 0s 5ms/step - loss: 0.1083 - accuracy: 0.9767\n",
      "WARNING:tensorflow:5 out of the last 12 calls to <function Model.make_predict_function.<locals>.predict_function at 0x0000020D0FED9040> triggered tf.function retracing. Tracing is expensive and the excessive number of tracings could be due to (1) creating @tf.function repeatedly in a loop, (2) passing tensors with different shapes, (3) passing Python objects instead of tensors. For (1), please define your @tf.function outside of the loop. For (2), @tf.function has reduce_retracing=True option that can avoid unnecessary retracing. For (3), please refer to https://www.tensorflow.org/guide/function#controlling_retracing and https://www.tensorflow.org/api_docs/python/tf/function for  more details.\n",
      "2/2 [==============================] - 0s 3ms/step\n",
      "[[ 1  1]\n",
      " [ 1 34]]\n",
      "              precision    recall  f1-score   support\n",
      "\n",
      "           0       0.50      0.50      0.50         2\n",
      "           1       0.97      0.97      0.97        35\n",
      "\n",
      "    accuracy                           0.95        37\n",
      "   macro avg       0.74      0.74      0.74        37\n",
      "weighted avg       0.95      0.95      0.95        37\n",
      "\n"
     ]
    }
   ],
   "source": [
    "path_train = '../swi_train.csv'\n",
    "path_test = '../swi_test.csv'\n",
    "RNN(path_train,path_test)"
   ]
  },
  {
   "cell_type": "markdown",
   "id": "a7bf0136",
   "metadata": {},
   "source": [
    "# Combined"
   ]
  },
  {
   "cell_type": "code",
   "execution_count": 8,
   "id": "fc9f6787",
   "metadata": {
    "scrolled": true
   },
   "outputs": [
    {
     "name": "stdout",
     "output_type": "stream",
     "text": [
      "Epoch 1/10\n",
      "21/21 [==============================] - 3s 14ms/step - loss: 0.5311 - accuracy: 0.7407\n",
      "Epoch 2/10\n",
      "21/21 [==============================] - 0s 14ms/step - loss: 0.4347 - accuracy: 0.8012\n",
      "Epoch 3/10\n",
      "21/21 [==============================] - 0s 14ms/step - loss: 0.4052 - accuracy: 0.8183\n",
      "Epoch 4/10\n",
      "21/21 [==============================] - 0s 14ms/step - loss: 0.4009 - accuracy: 0.8245\n",
      "Epoch 5/10\n",
      "21/21 [==============================] - 0s 14ms/step - loss: 0.3964 - accuracy: 0.8183\n",
      "Epoch 6/10\n",
      "21/21 [==============================] - 0s 15ms/step - loss: 0.3975 - accuracy: 0.8370\n",
      "Epoch 7/10\n",
      "21/21 [==============================] - 0s 14ms/step - loss: 0.3878 - accuracy: 0.8416\n",
      "Epoch 8/10\n",
      "21/21 [==============================] - 0s 14ms/step - loss: 0.3762 - accuracy: 0.8292\n",
      "Epoch 9/10\n",
      "21/21 [==============================] - 0s 14ms/step - loss: 0.3783 - accuracy: 0.8339\n",
      "Epoch 10/10\n",
      "21/21 [==============================] - 0s 14ms/step - loss: 0.3743 - accuracy: 0.8385\n",
      "WARNING:tensorflow:5 out of the last 12 calls to <function Model.make_predict_function.<locals>.predict_function at 0x0000023C48375040> triggered tf.function retracing. Tracing is expensive and the excessive number of tracings could be due to (1) creating @tf.function repeatedly in a loop, (2) passing tensors with different shapes, (3) passing Python objects instead of tensors. For (1), please define your @tf.function outside of the loop. For (2), @tf.function has experimental_relax_shapes=True option that relaxes argument shapes that can avoid unnecessary retracing. For (3), please refer to https://www.tensorflow.org/guide/function#controlling_retracing and https://www.tensorflow.org/api_docs/python/tf/function for  more details.\n",
      "[[101  22]\n",
      " [ 21 132]]\n",
      "              precision    recall  f1-score   support\n",
      "\n",
      "           0       0.82      0.83      0.82       122\n",
      "           1       0.86      0.86      0.86       154\n",
      "\n",
      "    accuracy                           0.84       276\n",
      "   macro avg       0.84      0.84      0.84       276\n",
      "weighted avg       0.84      0.84      0.84       276\n",
      "\n"
     ]
    }
   ],
   "source": [
    "path_train = '../com_train.csv'\n",
    "path_test = '../com_test.csv'\n",
    "RNN(path_train,path_test)"
   ]
  },
  {
   "cell_type": "code",
   "execution_count": null,
   "id": "c01339e4",
   "metadata": {},
   "outputs": [],
   "source": []
  }
 ],
 "metadata": {
  "kernelspec": {
   "display_name": "Python 3 (ipykernel)",
   "language": "python",
   "name": "python3"
  },
  "language_info": {
   "codemirror_mode": {
    "name": "ipython",
    "version": 3
   },
   "file_extension": ".py",
   "mimetype": "text/x-python",
   "name": "python",
   "nbconvert_exporter": "python",
   "pygments_lexer": "ipython3",
   "version": "3.8.3"
  }
 },
 "nbformat": 4,
 "nbformat_minor": 5
}
