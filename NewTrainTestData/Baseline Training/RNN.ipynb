{
 "cells": [
  {
   "cell_type": "code",
   "execution_count": 1,
   "id": "c773be18",
   "metadata": {},
   "outputs": [],
   "source": [
    "import numpy as np\n",
    "import pandas as pd\n",
    "from keras.models import Sequential\n",
    "from keras.layers import Dense, SimpleRNN\n",
    "from sklearn.metrics import confusion_matrix, classification_report"
   ]
  },
  {
   "cell_type": "code",
   "execution_count": 2,
   "id": "9a9d0451",
   "metadata": {},
   "outputs": [],
   "source": [
    "def RNN(path_train,path_test):\n",
    "    #Split the data\n",
    "    Train = pd.read_csv(path_train)\n",
    "    Test = pd.read_csv(path_test)\n",
    "    \n",
    "    X_train = Train.iloc[:,:-1]\n",
    "    Y_train = Train.iloc[:,-1]\n",
    "\n",
    "    X_test = Test.iloc[:,:-1]\n",
    "    Y_test = Test.iloc[:,-1]\n",
    "\n",
    "    #binarize the target\n",
    "    Y_train_binary = Y_train.apply(lambda x: 1 if x > 0 else 0)\n",
    "    Y_test_binary = Y_test.apply(lambda x: 1 if x > 0 else 0)\n",
    "\n",
    "    # define the model architecture\n",
    "    model = Sequential()\n",
    "    model.add(SimpleRNN(units=64, return_sequences=True, input_shape=(22, 1)))\n",
    "    model.add(SimpleRNN(units=32, return_sequences=True))\n",
    "    model.add(SimpleRNN(units=16))\n",
    "    model.add(Dense(units=2, activation='sigmoid'))\n",
    "    model.compile(optimizer='adam', loss='sparse_categorical_crossentropy', metrics=['accuracy'])\n",
    "    \n",
    "    model.fit(X_train, Y_train_binary, epochs=20, batch_size=32)\n",
    "    Y_pred = model.predict(X_test).argmax(axis=1)\n",
    "    \n",
    "    cm = confusion_matrix(Y_pred, Y_test_binary)\n",
    "    model.save(str(path_train[-13:][:3]) +'_rnn.h5')\n",
    "    print(cm)\n",
    "    print(classification_report(Y_test_binary, Y_pred, digits=4))"
   ]
  },
  {
   "cell_type": "markdown",
   "id": "011932f6",
   "metadata": {},
   "source": [
    "# Cleveland"
   ]
  },
  {
   "cell_type": "code",
   "execution_count": 3,
   "id": "87e10642",
   "metadata": {
    "scrolled": true
   },
   "outputs": [
    {
     "name": "stdout",
     "output_type": "stream",
     "text": [
      "Epoch 1/20\n",
      "7/7 [==============================] - 4s 24ms/step - loss: 0.5492 - accuracy: 0.7476\n",
      "Epoch 2/20\n",
      "7/7 [==============================] - 0s 26ms/step - loss: 0.4480 - accuracy: 0.8048\n",
      "Epoch 3/20\n",
      "7/7 [==============================] - 0s 26ms/step - loss: 0.4222 - accuracy: 0.8048\n",
      "Epoch 4/20\n",
      "7/7 [==============================] - 0s 26ms/step - loss: 0.4020 - accuracy: 0.8190\n",
      "Epoch 5/20\n",
      "7/7 [==============================] - 0s 27ms/step - loss: 0.3894 - accuracy: 0.8286\n",
      "Epoch 6/20\n",
      "7/7 [==============================] - 0s 25ms/step - loss: 0.3907 - accuracy: 0.8286\n",
      "Epoch 7/20\n",
      "7/7 [==============================] - 0s 26ms/step - loss: 0.3716 - accuracy: 0.8190\n",
      "Epoch 8/20\n",
      "7/7 [==============================] - 0s 25ms/step - loss: 0.3705 - accuracy: 0.8476\n",
      "Epoch 9/20\n",
      "7/7 [==============================] - 0s 27ms/step - loss: 0.3656 - accuracy: 0.8381\n",
      "Epoch 10/20\n",
      "7/7 [==============================] - 0s 26ms/step - loss: 0.3526 - accuracy: 0.8476\n",
      "Epoch 11/20\n",
      "7/7 [==============================] - 0s 27ms/step - loss: 0.3403 - accuracy: 0.8619\n",
      "Epoch 12/20\n",
      "7/7 [==============================] - 0s 25ms/step - loss: 0.3315 - accuracy: 0.8667\n",
      "Epoch 13/20\n",
      "7/7 [==============================] - 0s 26ms/step - loss: 0.3232 - accuracy: 0.8714\n",
      "Epoch 14/20\n",
      "7/7 [==============================] - 0s 26ms/step - loss: 0.3265 - accuracy: 0.8429\n",
      "Epoch 15/20\n",
      "7/7 [==============================] - 0s 27ms/step - loss: 0.3224 - accuracy: 0.8667\n",
      "Epoch 16/20\n",
      "7/7 [==============================] - 0s 25ms/step - loss: 0.3020 - accuracy: 0.8810\n",
      "Epoch 17/20\n",
      "7/7 [==============================] - 0s 26ms/step - loss: 0.3040 - accuracy: 0.8810\n",
      "Epoch 18/20\n",
      "7/7 [==============================] - 0s 27ms/step - loss: 0.2945 - accuracy: 0.8857\n",
      "Epoch 19/20\n",
      "7/7 [==============================] - 0s 27ms/step - loss: 0.3023 - accuracy: 0.8524\n",
      "Epoch 20/20\n",
      "7/7 [==============================] - 0s 26ms/step - loss: 0.2854 - accuracy: 0.8952\n",
      "[[42  5]\n",
      " [11 35]]\n",
      "              precision    recall  f1-score   support\n",
      "\n",
      "           0     0.8936    0.7925    0.8400        53\n",
      "           1     0.7609    0.8750    0.8140        40\n",
      "\n",
      "    accuracy                         0.8280        93\n",
      "   macro avg     0.8272    0.8337    0.8270        93\n",
      "weighted avg     0.8365    0.8280    0.8288        93\n",
      "\n"
     ]
    }
   ],
   "source": [
    "path_train = '../cle_train.csv'\n",
    "path_test = '../cle_test.csv'\n",
    "RNN(path_train,path_test)"
   ]
  },
  {
   "cell_type": "markdown",
   "id": "a6188e68",
   "metadata": {},
   "source": [
    "# Virginia"
   ]
  },
  {
   "cell_type": "code",
   "execution_count": 4,
   "id": "8b19b95f",
   "metadata": {
    "scrolled": true
   },
   "outputs": [
    {
     "name": "stdout",
     "output_type": "stream",
     "text": [
      "Epoch 1/20\n",
      "5/5 [==============================] - 3s 23ms/step - loss: 1.0907 - accuracy: 0.3406\n",
      "Epoch 2/20\n",
      "5/5 [==============================] - 0s 25ms/step - loss: 0.5345 - accuracy: 0.7754\n",
      "Epoch 3/20\n",
      "5/5 [==============================] - 0s 23ms/step - loss: 0.5022 - accuracy: 0.7681\n",
      "Epoch 4/20\n",
      "5/5 [==============================] - 0s 20ms/step - loss: 0.4261 - accuracy: 0.7971\n",
      "Epoch 5/20\n",
      "5/5 [==============================] - 0s 18ms/step - loss: 0.4047 - accuracy: 0.8043\n",
      "Epoch 6/20\n",
      "5/5 [==============================] - 0s 22ms/step - loss: 0.3613 - accuracy: 0.8478\n",
      "Epoch 7/20\n",
      "5/5 [==============================] - 0s 22ms/step - loss: 0.3365 - accuracy: 0.8841\n",
      "Epoch 8/20\n",
      "5/5 [==============================] - 0s 23ms/step - loss: 0.3352 - accuracy: 0.8406\n",
      "Epoch 9/20\n",
      "5/5 [==============================] - 0s 24ms/step - loss: 0.3039 - accuracy: 0.9130\n",
      "Epoch 10/20\n",
      "5/5 [==============================] - 0s 25ms/step - loss: 0.2826 - accuracy: 0.9130\n",
      "Epoch 11/20\n",
      "5/5 [==============================] - 0s 27ms/step - loss: 0.2832 - accuracy: 0.8986\n",
      "Epoch 12/20\n",
      "5/5 [==============================] - 0s 29ms/step - loss: 0.2682 - accuracy: 0.9058\n",
      "Epoch 13/20\n",
      "5/5 [==============================] - 0s 24ms/step - loss: 0.2585 - accuracy: 0.9130\n",
      "Epoch 14/20\n",
      "5/5 [==============================] - 0s 24ms/step - loss: 0.2531 - accuracy: 0.8913\n",
      "Epoch 15/20\n",
      "5/5 [==============================] - 0s 25ms/step - loss: 0.2476 - accuracy: 0.8841\n",
      "Epoch 16/20\n",
      "5/5 [==============================] - 0s 28ms/step - loss: 0.2478 - accuracy: 0.8913\n",
      "Epoch 17/20\n",
      "5/5 [==============================] - 0s 27ms/step - loss: 0.2385 - accuracy: 0.8986\n",
      "Epoch 18/20\n",
      "5/5 [==============================] - 0s 28ms/step - loss: 0.2271 - accuracy: 0.9130\n",
      "Epoch 19/20\n",
      "5/5 [==============================] - 0s 27ms/step - loss: 0.2172 - accuracy: 0.9275\n",
      "Epoch 20/20\n",
      "5/5 [==============================] - 0s 26ms/step - loss: 0.2074 - accuracy: 0.9348\n",
      "[[ 5  4]\n",
      " [15 38]]\n",
      "              precision    recall  f1-score   support\n",
      "\n",
      "           0     0.5556    0.2500    0.3448        20\n",
      "           1     0.7170    0.9048    0.8000        42\n",
      "\n",
      "    accuracy                         0.6935        62\n",
      "   macro avg     0.6363    0.5774    0.5724        62\n",
      "weighted avg     0.6649    0.6935    0.6532        62\n",
      "\n"
     ]
    }
   ],
   "source": [
    "path_train = '../vir_train.csv'\n",
    "path_test = '../vir_test.csv'\n",
    "RNN(path_train,path_test)"
   ]
  },
  {
   "cell_type": "markdown",
   "id": "2847dd00",
   "metadata": {},
   "source": [
    "# Hungary"
   ]
  },
  {
   "cell_type": "code",
   "execution_count": 5,
   "id": "46feda2a",
   "metadata": {
    "scrolled": true
   },
   "outputs": [
    {
     "name": "stdout",
     "output_type": "stream",
     "text": [
      "Epoch 1/20\n",
      "7/7 [==============================] - 4s 25ms/step - loss: 0.4767 - accuracy: 0.7650\n",
      "Epoch 2/20\n",
      "7/7 [==============================] - 0s 25ms/step - loss: 0.3840 - accuracy: 0.8350\n",
      "Epoch 3/20\n",
      "7/7 [==============================] - 0s 25ms/step - loss: 0.3564 - accuracy: 0.8200\n",
      "Epoch 4/20\n",
      "7/7 [==============================] - 0s 24ms/step - loss: 0.3397 - accuracy: 0.8300\n",
      "Epoch 5/20\n",
      "7/7 [==============================] - 0s 26ms/step - loss: 0.3216 - accuracy: 0.8550\n",
      "Epoch 6/20\n",
      "7/7 [==============================] - 0s 44ms/step - loss: 0.3028 - accuracy: 0.8650\n",
      "Epoch 7/20\n",
      "7/7 [==============================] - 0s 33ms/step - loss: 0.2946 - accuracy: 0.8600\n",
      "Epoch 8/20\n",
      "7/7 [==============================] - 0s 23ms/step - loss: 0.2954 - accuracy: 0.8550\n",
      "Epoch 9/20\n",
      "7/7 [==============================] - 0s 24ms/step - loss: 0.2955 - accuracy: 0.8650\n",
      "Epoch 10/20\n",
      "7/7 [==============================] - 0s 23ms/step - loss: 0.2639 - accuracy: 0.8800\n",
      "Epoch 11/20\n",
      "7/7 [==============================] - 0s 24ms/step - loss: 0.2643 - accuracy: 0.9050\n",
      "Epoch 12/20\n",
      "7/7 [==============================] - 0s 24ms/step - loss: 0.2462 - accuracy: 0.8950\n",
      "Epoch 13/20\n",
      "7/7 [==============================] - 0s 26ms/step - loss: 0.2381 - accuracy: 0.9050\n",
      "Epoch 14/20\n",
      "7/7 [==============================] - 0s 32ms/step - loss: 0.2330 - accuracy: 0.9000\n",
      "Epoch 15/20\n",
      "7/7 [==============================] - 0s 23ms/step - loss: 0.2339 - accuracy: 0.9100\n",
      "Epoch 16/20\n",
      "7/7 [==============================] - 0s 26ms/step - loss: 0.2558 - accuracy: 0.8900\n",
      "Epoch 17/20\n",
      "7/7 [==============================] - 0s 28ms/step - loss: 0.2614 - accuracy: 0.9000\n",
      "Epoch 18/20\n",
      "7/7 [==============================] - 0s 23ms/step - loss: 0.2284 - accuracy: 0.8900\n",
      "Epoch 19/20\n",
      "7/7 [==============================] - 0s 23ms/step - loss: 0.2350 - accuracy: 0.8950\n",
      "Epoch 20/20\n",
      "7/7 [==============================] - 0s 24ms/step - loss: 0.2282 - accuracy: 0.9000\n",
      "[[49  9]\n",
      " [ 5 31]]\n",
      "              precision    recall  f1-score   support\n",
      "\n",
      "           0     0.8448    0.9074    0.8750        54\n",
      "           1     0.8611    0.7750    0.8158        40\n",
      "\n",
      "    accuracy                         0.8511        94\n",
      "   macro avg     0.8530    0.8412    0.8454        94\n",
      "weighted avg     0.8518    0.8511    0.8498        94\n",
      "\n"
     ]
    }
   ],
   "source": [
    "path_train = '../hun_train.csv'\n",
    "path_test = '../hun_test.csv'\n",
    "RNN(path_train,path_test)"
   ]
  },
  {
   "cell_type": "markdown",
   "id": "6a67e1ad",
   "metadata": {},
   "source": [
    "# Switzerland"
   ]
  },
  {
   "cell_type": "code",
   "execution_count": 6,
   "id": "dbf05ad3",
   "metadata": {
    "scrolled": true
   },
   "outputs": [
    {
     "name": "stdout",
     "output_type": "stream",
     "text": [
      "Epoch 1/20\n",
      "3/3 [==============================] - 4s 24ms/step - loss: 0.5893 - accuracy: 0.6585\n",
      "Epoch 2/20\n",
      "3/3 [==============================] - 0s 25ms/step - loss: 0.2428 - accuracy: 0.9268\n",
      "Epoch 3/20\n",
      "3/3 [==============================] - 0s 27ms/step - loss: 0.2481 - accuracy: 0.9268\n",
      "Epoch 4/20\n",
      "3/3 [==============================] - 0s 27ms/step - loss: 0.2448 - accuracy: 0.9268\n",
      "Epoch 5/20\n",
      "3/3 [==============================] - 0s 26ms/step - loss: 0.2365 - accuracy: 0.9268\n",
      "Epoch 6/20\n",
      "3/3 [==============================] - 0s 26ms/step - loss: 0.2211 - accuracy: 0.9268\n",
      "Epoch 7/20\n",
      "3/3 [==============================] - 0s 27ms/step - loss: 0.2012 - accuracy: 0.9268\n",
      "Epoch 8/20\n",
      "3/3 [==============================] - 0s 27ms/step - loss: 0.1877 - accuracy: 0.9390\n",
      "Epoch 9/20\n",
      "3/3 [==============================] - 0s 25ms/step - loss: 0.1727 - accuracy: 0.9390\n",
      "Epoch 10/20\n",
      "3/3 [==============================] - 0s 28ms/step - loss: 0.1667 - accuracy: 0.9512\n",
      "Epoch 11/20\n",
      "3/3 [==============================] - 0s 19ms/step - loss: 0.1576 - accuracy: 0.9512\n",
      "Epoch 12/20\n",
      "3/3 [==============================] - 0s 16ms/step - loss: 0.1520 - accuracy: 0.9512\n",
      "Epoch 13/20\n",
      "3/3 [==============================] - 0s 16ms/step - loss: 0.1497 - accuracy: 0.9634\n",
      "Epoch 14/20\n",
      "3/3 [==============================] - 0s 24ms/step - loss: 0.1435 - accuracy: 0.9634\n",
      "Epoch 15/20\n",
      "3/3 [==============================] - 0s 24ms/step - loss: 0.1416 - accuracy: 0.9634\n",
      "Epoch 16/20\n",
      "3/3 [==============================] - 0s 23ms/step - loss: 0.1334 - accuracy: 0.9634\n",
      "Epoch 17/20\n",
      "3/3 [==============================] - 0s 23ms/step - loss: 0.1294 - accuracy: 0.9634\n",
      "Epoch 18/20\n",
      "3/3 [==============================] - 0s 23ms/step - loss: 0.1263 - accuracy: 0.9634\n",
      "Epoch 19/20\n",
      "3/3 [==============================] - 0s 23ms/step - loss: 0.1258 - accuracy: 0.9634\n",
      "Epoch 20/20\n",
      "3/3 [==============================] - 0s 34ms/step - loss: 0.1237 - accuracy: 0.9634\n",
      "[[ 2  4]\n",
      " [ 0 35]]\n",
      "              precision    recall  f1-score   support\n",
      "\n",
      "           0     0.3333    1.0000    0.5000         2\n",
      "           1     1.0000    0.8974    0.9459        39\n",
      "\n",
      "    accuracy                         0.9024        41\n",
      "   macro avg     0.6667    0.9487    0.7230        41\n",
      "weighted avg     0.9675    0.9024    0.9242        41\n",
      "\n"
     ]
    }
   ],
   "source": [
    "path_train = '../swi_train.csv'\n",
    "path_test = '../swi_test.csv'\n",
    "RNN(path_train,path_test)"
   ]
  },
  {
   "cell_type": "markdown",
   "id": "a7bf0136",
   "metadata": {},
   "source": [
    "# Combined"
   ]
  },
  {
   "cell_type": "code",
   "execution_count": 7,
   "id": "fc9f6787",
   "metadata": {
    "scrolled": true
   },
   "outputs": [
    {
     "name": "stdout",
     "output_type": "stream",
     "text": [
      "Epoch 1/20\n",
      "21/21 [==============================] - 5s 26ms/step - loss: 0.4791 - accuracy: 0.7702\n",
      "Epoch 2/20\n",
      "21/21 [==============================] - 1s 24ms/step - loss: 0.4435 - accuracy: 0.7997\n",
      "Epoch 3/20\n",
      "21/21 [==============================] - 1s 26ms/step - loss: 0.4402 - accuracy: 0.7935\n",
      "Epoch 4/20\n",
      "21/21 [==============================] - 1s 29ms/step - loss: 0.4123 - accuracy: 0.8214\n",
      "Epoch 5/20\n",
      "21/21 [==============================] - 0s 23ms/step - loss: 0.3877 - accuracy: 0.8292\n",
      "Epoch 6/20\n",
      "21/21 [==============================] - 1s 24ms/step - loss: 0.3888 - accuracy: 0.8214\n",
      "Epoch 7/20\n",
      "21/21 [==============================] - 1s 25ms/step - loss: 0.3930 - accuracy: 0.8261\n",
      "Epoch 8/20\n",
      "21/21 [==============================] - 1s 24ms/step - loss: 0.3797 - accuracy: 0.8230\n",
      "Epoch 9/20\n",
      "21/21 [==============================] - 1s 26ms/step - loss: 0.3707 - accuracy: 0.8354\n",
      "Epoch 10/20\n",
      "21/21 [==============================] - 1s 25ms/step - loss: 0.3824 - accuracy: 0.8354\n",
      "Epoch 11/20\n",
      "21/21 [==============================] - 1s 25ms/step - loss: 0.3717 - accuracy: 0.8509\n",
      "Epoch 12/20\n",
      "21/21 [==============================] - 0s 22ms/step - loss: 0.3521 - accuracy: 0.8509\n",
      "Epoch 13/20\n",
      "21/21 [==============================] - 0s 22ms/step - loss: 0.3464 - accuracy: 0.8509\n",
      "Epoch 14/20\n",
      "21/21 [==============================] - 1s 25ms/step - loss: 0.3489 - accuracy: 0.8509\n",
      "Epoch 15/20\n",
      "21/21 [==============================] - 1s 27ms/step - loss: 0.3392 - accuracy: 0.8711\n",
      "Epoch 16/20\n",
      "21/21 [==============================] - 1s 26ms/step - loss: 0.3459 - accuracy: 0.8494\n",
      "Epoch 17/20\n",
      "21/21 [==============================] - 1s 25ms/step - loss: 0.3253 - accuracy: 0.8571\n",
      "Epoch 18/20\n",
      "21/21 [==============================] - 1s 25ms/step - loss: 0.3187 - accuracy: 0.8742\n",
      "Epoch 19/20\n",
      "21/21 [==============================] - 1s 25ms/step - loss: 0.3210 - accuracy: 0.8680\n",
      "Epoch 20/20\n",
      "21/21 [==============================] - 1s 25ms/step - loss: 0.3099 - accuracy: 0.8789\n",
      "WARNING:tensorflow:5 out of the last 11 calls to <function Model.make_predict_function.<locals>.predict_function at 0x00000253C6D98F70> triggered tf.function retracing. Tracing is expensive and the excessive number of tracings could be due to (1) creating @tf.function repeatedly in a loop, (2) passing tensors with different shapes, (3) passing Python objects instead of tensors. For (1), please define your @tf.function outside of the loop. For (2), @tf.function has experimental_relax_shapes=True option that relaxes argument shapes that can avoid unnecessary retracing. For (3), please refer to https://www.tensorflow.org/guide/function#controlling_retracing and https://www.tensorflow.org/api_docs/python/tf/function for  more details.\n",
      "[[ 98  28]\n",
      " [ 24 126]]\n",
      "              precision    recall  f1-score   support\n",
      "\n",
      "           0     0.7778    0.8033    0.7903       122\n",
      "           1     0.8400    0.8182    0.8289       154\n",
      "\n",
      "    accuracy                         0.8116       276\n",
      "   macro avg     0.8089    0.8107    0.8096       276\n",
      "weighted avg     0.8125    0.8116    0.8119       276\n",
      "\n"
     ]
    }
   ],
   "source": [
    "path_train = '../com_train.csv'\n",
    "path_test = '../com_test.csv'\n",
    "RNN(path_train,path_test)"
   ]
  },
  {
   "cell_type": "code",
   "execution_count": null,
   "id": "c01339e4",
   "metadata": {},
   "outputs": [],
   "source": []
  }
 ],
 "metadata": {
  "kernelspec": {
   "display_name": "Python 3 (ipykernel)",
   "language": "python",
   "name": "python3"
  },
  "language_info": {
   "codemirror_mode": {
    "name": "ipython",
    "version": 3
   },
   "file_extension": ".py",
   "mimetype": "text/x-python",
   "name": "python",
   "nbconvert_exporter": "python",
   "pygments_lexer": "ipython3",
   "version": "3.8.3"
  }
 },
 "nbformat": 4,
 "nbformat_minor": 5
}
