{
 "cells": [
  {
   "cell_type": "code",
   "execution_count": 1,
   "id": "12a8294d",
   "metadata": {},
   "outputs": [],
   "source": [
    "import numpy as np\n",
    "import pandas as pd\n",
    "from sklearn.ensemble import RandomForestClassifier\n",
    "from sklearn.metrics import confusion_matrix, classification_report"
   ]
  },
  {
   "cell_type": "code",
   "execution_count": 2,
   "id": "10fafc0b",
   "metadata": {},
   "outputs": [],
   "source": [
    "def RandomForest(path_train,path_test):\n",
    "    #Split the data\n",
    "    Train = pd.read_csv(path_train)\n",
    "    Test = pd.read_csv(path_test)\n",
    "    \n",
    "    X_train = Train.iloc[:,:-1]\n",
    "    Y_train = Train.iloc[:,-1]\n",
    "\n",
    "    X_test = Test.iloc[:,:-1]\n",
    "    Y_test = Test.iloc[:,-1]\n",
    "\n",
    "    #binarize the target\n",
    "    Y_train_binary = Y_train.apply(lambda x: 1 if x > 0 else 0)\n",
    "    Y_test_binary = Y_test.apply(lambda x: 1 if x > 0 else 0)\n",
    "\n",
    "    #Bayesian Classifier\n",
    "    classifier = RandomForestClassifier(n_estimators=100, random_state=42)\n",
    "    classifier.fit(X_train, Y_train_binary)\n",
    "    Y_pred = classifier.predict(X_test)\n",
    "    cm = confusion_matrix(Y_pred, Y_test_binary)\n",
    "    print(cm)\n",
    "    print(classification_report(Y_test_binary, Y_pred, digits=4))"
   ]
  },
  {
   "cell_type": "markdown",
   "id": "f221abe5",
   "metadata": {},
   "source": [
    "# Cleveland"
   ]
  },
  {
   "cell_type": "code",
   "execution_count": 3,
   "id": "34da9a86",
   "metadata": {},
   "outputs": [
    {
     "name": "stdout",
     "output_type": "stream",
     "text": [
      "[[45  6]\n",
      " [ 8 34]]\n",
      "              precision    recall  f1-score   support\n",
      "\n",
      "           0     0.8824    0.8491    0.8654        53\n",
      "           1     0.8095    0.8500    0.8293        40\n",
      "\n",
      "    accuracy                         0.8495        93\n",
      "   macro avg     0.8459    0.8495    0.8473        93\n",
      "weighted avg     0.8510    0.8495    0.8499        93\n",
      "\n"
     ]
    }
   ],
   "source": [
    "path_train = '../cle_train.csv'\n",
    "path_test = '../cle_test.csv'\n",
    "RandomForest(path_train,path_test)"
   ]
  },
  {
   "cell_type": "markdown",
   "id": "82fc6d33",
   "metadata": {},
   "source": [
    "# Virginia"
   ]
  },
  {
   "cell_type": "code",
   "execution_count": 4,
   "id": "8686863d",
   "metadata": {
    "scrolled": true
   },
   "outputs": [
    {
     "name": "stdout",
     "output_type": "stream",
     "text": [
      "[[ 6  3]\n",
      " [14 39]]\n",
      "              precision    recall  f1-score   support\n",
      "\n",
      "           0     0.6667    0.3000    0.4138        20\n",
      "           1     0.7358    0.9286    0.8211        42\n",
      "\n",
      "    accuracy                         0.7258        62\n",
      "   macro avg     0.7013    0.6143    0.6174        62\n",
      "weighted avg     0.7135    0.7258    0.6897        62\n",
      "\n"
     ]
    }
   ],
   "source": [
    "path_train = '../vir_train.csv'\n",
    "path_test = '../vir_test.csv'\n",
    "RandomForest(path_train,path_test)"
   ]
  },
  {
   "cell_type": "markdown",
   "id": "e9e5ba85",
   "metadata": {},
   "source": [
    "# Hungary"
   ]
  },
  {
   "cell_type": "code",
   "execution_count": 5,
   "id": "c6addee2",
   "metadata": {},
   "outputs": [
    {
     "name": "stdout",
     "output_type": "stream",
     "text": [
      "[[52  8]\n",
      " [ 2 32]]\n",
      "              precision    recall  f1-score   support\n",
      "\n",
      "           0     0.8667    0.9630    0.9123        54\n",
      "           1     0.9412    0.8000    0.8649        40\n",
      "\n",
      "    accuracy                         0.8936        94\n",
      "   macro avg     0.9039    0.8815    0.8886        94\n",
      "weighted avg     0.8984    0.8936    0.8921        94\n",
      "\n"
     ]
    }
   ],
   "source": [
    "path_train = '../hun_train.csv'\n",
    "path_test = '../hun_test.csv'\n",
    "RandomForest(path_train,path_test)"
   ]
  },
  {
   "cell_type": "markdown",
   "id": "daf016ac",
   "metadata": {},
   "source": [
    "# Switzerland"
   ]
  },
  {
   "cell_type": "code",
   "execution_count": 6,
   "id": "77f8dcb9",
   "metadata": {},
   "outputs": [
    {
     "name": "stdout",
     "output_type": "stream",
     "text": [
      "[[ 0  0]\n",
      " [ 2 39]]\n",
      "              precision    recall  f1-score   support\n",
      "\n",
      "           0     0.0000    0.0000    0.0000         2\n",
      "           1     0.9512    1.0000    0.9750        39\n",
      "\n",
      "    accuracy                         0.9512        41\n",
      "   macro avg     0.4756    0.5000    0.4875        41\n",
      "weighted avg     0.9048    0.9512    0.9274        41\n",
      "\n"
     ]
    },
    {
     "name": "stderr",
     "output_type": "stream",
     "text": [
      "c:\\users\\votri\\appdata\\local\\programs\\python\\python38\\lib\\site-packages\\sklearn\\metrics\\_classification.py:1318: UndefinedMetricWarning: Precision and F-score are ill-defined and being set to 0.0 in labels with no predicted samples. Use `zero_division` parameter to control this behavior.\n",
      "  _warn_prf(average, modifier, msg_start, len(result))\n",
      "c:\\users\\votri\\appdata\\local\\programs\\python\\python38\\lib\\site-packages\\sklearn\\metrics\\_classification.py:1318: UndefinedMetricWarning: Precision and F-score are ill-defined and being set to 0.0 in labels with no predicted samples. Use `zero_division` parameter to control this behavior.\n",
      "  _warn_prf(average, modifier, msg_start, len(result))\n",
      "c:\\users\\votri\\appdata\\local\\programs\\python\\python38\\lib\\site-packages\\sklearn\\metrics\\_classification.py:1318: UndefinedMetricWarning: Precision and F-score are ill-defined and being set to 0.0 in labels with no predicted samples. Use `zero_division` parameter to control this behavior.\n",
      "  _warn_prf(average, modifier, msg_start, len(result))\n"
     ]
    }
   ],
   "source": [
    "path_train = '../swi_train.csv'\n",
    "path_test = '../swi_test.csv'\n",
    "RandomForest(path_train,path_test)"
   ]
  },
  {
   "cell_type": "markdown",
   "id": "e734e975",
   "metadata": {},
   "source": [
    "# Combined"
   ]
  },
  {
   "cell_type": "code",
   "execution_count": 7,
   "id": "a5d16080",
   "metadata": {},
   "outputs": [
    {
     "name": "stdout",
     "output_type": "stream",
     "text": [
      "[[101  20]\n",
      " [ 21 134]]\n",
      "              precision    recall  f1-score   support\n",
      "\n",
      "           0     0.8347    0.8279    0.8313       122\n",
      "           1     0.8645    0.8701    0.8673       154\n",
      "\n",
      "    accuracy                         0.8514       276\n",
      "   macro avg     0.8496    0.8490    0.8493       276\n",
      "weighted avg     0.8513    0.8514    0.8514       276\n",
      "\n"
     ]
    }
   ],
   "source": [
    "path_train = '../com_train.csv'\n",
    "path_test = '../com_test.csv'\n",
    "RandomForest(path_train,path_test)"
   ]
  },
  {
   "cell_type": "code",
   "execution_count": null,
   "id": "86099ca3",
   "metadata": {},
   "outputs": [],
   "source": []
  }
 ],
 "metadata": {
  "kernelspec": {
   "display_name": "Python 3 (ipykernel)",
   "language": "python",
   "name": "python3"
  },
  "language_info": {
   "codemirror_mode": {
    "name": "ipython",
    "version": 3
   },
   "file_extension": ".py",
   "mimetype": "text/x-python",
   "name": "python",
   "nbconvert_exporter": "python",
   "pygments_lexer": "ipython3",
   "version": "3.8.3"
  }
 },
 "nbformat": 4,
 "nbformat_minor": 5
}
