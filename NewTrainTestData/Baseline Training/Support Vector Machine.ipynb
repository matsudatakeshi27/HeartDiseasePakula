{
 "cells": [
  {
   "cell_type": "code",
   "execution_count": 1,
   "id": "a4ab5c3a",
   "metadata": {},
   "outputs": [],
   "source": [
    "import numpy as np \n",
    "import pandas as pd\n",
    "import matplotlib.pyplot as plt\n",
    "from sklearn.model_selection import train_test_split\n",
    "from sklearn.svm import SVC\n",
    "from sklearn.metrics import confusion_matrix, classification_report\n",
    "from sklearn import preprocessing as sk_preprocessing"
   ]
  },
  {
   "cell_type": "code",
   "execution_count": 2,
   "id": "40ce4c8c",
   "metadata": {},
   "outputs": [],
   "source": [
    "def svm(path_train,path_test):\n",
    "    #load the train-test data\n",
    "    Train = pd.read_csv(path_train)\n",
    "    Test = pd.read_csv(path_test)\n",
    "    \n",
    "    X_train = Train.iloc[:,:-1]\n",
    "    Y_train = Train.iloc[:,-1]\n",
    "\n",
    "    X_test = Test.iloc[:,:-1]\n",
    "    Y_test = Test.iloc[:,-1]\n",
    "\n",
    "    #binarylize the target\n",
    "    Y_train_binary = Y_train.apply(lambda x: 1 if x > 0 else 0)\n",
    "    Y_test_binary = Y_test.apply(lambda x: 1 if x > 0 else 0)\n",
    "    \n",
    "    #SVM\n",
    "    svc = SVC()\n",
    "    svc.fit(X_train, Y_train_binary.values.ravel())\n",
    "    y_pred = svc.predict(X_test)\n",
    "    print(confusion_matrix(Y_test_binary, y_pred))\n",
    "    print(classification_report(Y_test_binary, y_pred, digits=4))"
   ]
  },
  {
   "cell_type": "markdown",
   "id": "b5a10de3",
   "metadata": {},
   "source": [
    "# Cleveland"
   ]
  },
  {
   "cell_type": "code",
   "execution_count": 3,
   "id": "93b4053f",
   "metadata": {},
   "outputs": [
    {
     "name": "stdout",
     "output_type": "stream",
     "text": [
      "[[48  5]\n",
      " [ 5 35]]\n",
      "              precision    recall  f1-score   support\n",
      "\n",
      "           0     0.9057    0.9057    0.9057        53\n",
      "           1     0.8750    0.8750    0.8750        40\n",
      "\n",
      "    accuracy                         0.8925        93\n",
      "   macro avg     0.8903    0.8903    0.8903        93\n",
      "weighted avg     0.8925    0.8925    0.8925        93\n",
      "\n"
     ]
    }
   ],
   "source": [
    "path_train = '../cle_train.csv'\n",
    "path_test = '../cle_test.csv'\n",
    "svm(path_train,path_test)"
   ]
  },
  {
   "cell_type": "markdown",
   "id": "3988ed16",
   "metadata": {},
   "source": [
    "# Virginia"
   ]
  },
  {
   "cell_type": "code",
   "execution_count": 4,
   "id": "9c2b2f91",
   "metadata": {
    "scrolled": true
   },
   "outputs": [
    {
     "name": "stdout",
     "output_type": "stream",
     "text": [
      "[[ 4 16]\n",
      " [ 1 41]]\n",
      "              precision    recall  f1-score   support\n",
      "\n",
      "           0     0.8000    0.2000    0.3200        20\n",
      "           1     0.7193    0.9762    0.8283        42\n",
      "\n",
      "    accuracy                         0.7258        62\n",
      "   macro avg     0.7596    0.5881    0.5741        62\n",
      "weighted avg     0.7453    0.7258    0.6643        62\n",
      "\n"
     ]
    }
   ],
   "source": [
    "path_train = '../vir_train.csv'\n",
    "path_test = '../vir_test.csv'\n",
    "svm(path_train,path_test)"
   ]
  },
  {
   "cell_type": "markdown",
   "id": "6b2629f9",
   "metadata": {},
   "source": [
    "# Hungary"
   ]
  },
  {
   "cell_type": "code",
   "execution_count": 5,
   "id": "89081fc4",
   "metadata": {},
   "outputs": [
    {
     "name": "stdout",
     "output_type": "stream",
     "text": [
      "[[52  2]\n",
      " [11 29]]\n",
      "              precision    recall  f1-score   support\n",
      "\n",
      "           0     0.8254    0.9630    0.8889        54\n",
      "           1     0.9355    0.7250    0.8169        40\n",
      "\n",
      "    accuracy                         0.8617        94\n",
      "   macro avg     0.8804    0.8440    0.8529        94\n",
      "weighted avg     0.8722    0.8617    0.8583        94\n",
      "\n"
     ]
    }
   ],
   "source": [
    "path_train = '../hun_train.csv'\n",
    "path_test = '../hun_test.csv'\n",
    "svm(path_train,path_test)"
   ]
  },
  {
   "cell_type": "markdown",
   "id": "54ff20d6",
   "metadata": {},
   "source": [
    "# Switzerland"
   ]
  },
  {
   "cell_type": "code",
   "execution_count": 6,
   "id": "72beaf45",
   "metadata": {},
   "outputs": [
    {
     "name": "stdout",
     "output_type": "stream",
     "text": [
      "[[ 0  2]\n",
      " [ 0 39]]\n",
      "              precision    recall  f1-score   support\n",
      "\n",
      "           0     0.0000    0.0000    0.0000         2\n",
      "           1     0.9512    1.0000    0.9750        39\n",
      "\n",
      "    accuracy                         0.9512        41\n",
      "   macro avg     0.4756    0.5000    0.4875        41\n",
      "weighted avg     0.9048    0.9512    0.9274        41\n",
      "\n"
     ]
    },
    {
     "name": "stderr",
     "output_type": "stream",
     "text": [
      "c:\\users\\votri\\appdata\\local\\programs\\python\\python38\\lib\\site-packages\\sklearn\\metrics\\_classification.py:1318: UndefinedMetricWarning: Precision and F-score are ill-defined and being set to 0.0 in labels with no predicted samples. Use `zero_division` parameter to control this behavior.\n",
      "  _warn_prf(average, modifier, msg_start, len(result))\n",
      "c:\\users\\votri\\appdata\\local\\programs\\python\\python38\\lib\\site-packages\\sklearn\\metrics\\_classification.py:1318: UndefinedMetricWarning: Precision and F-score are ill-defined and being set to 0.0 in labels with no predicted samples. Use `zero_division` parameter to control this behavior.\n",
      "  _warn_prf(average, modifier, msg_start, len(result))\n",
      "c:\\users\\votri\\appdata\\local\\programs\\python\\python38\\lib\\site-packages\\sklearn\\metrics\\_classification.py:1318: UndefinedMetricWarning: Precision and F-score are ill-defined and being set to 0.0 in labels with no predicted samples. Use `zero_division` parameter to control this behavior.\n",
      "  _warn_prf(average, modifier, msg_start, len(result))\n"
     ]
    }
   ],
   "source": [
    "path_train = '../swi_train.csv'\n",
    "path_test = '../swi_test.csv'\n",
    "svm(path_train,path_test)"
   ]
  },
  {
   "cell_type": "markdown",
   "id": "5e69c9e2",
   "metadata": {},
   "source": [
    "# Combined"
   ]
  },
  {
   "cell_type": "code",
   "execution_count": 7,
   "id": "491ce026",
   "metadata": {},
   "outputs": [
    {
     "name": "stdout",
     "output_type": "stream",
     "text": [
      "[[100  22]\n",
      " [ 18 136]]\n",
      "              precision    recall  f1-score   support\n",
      "\n",
      "           0     0.8475    0.8197    0.8333       122\n",
      "           1     0.8608    0.8831    0.8718       154\n",
      "\n",
      "    accuracy                         0.8551       276\n",
      "   macro avg     0.8541    0.8514    0.8526       276\n",
      "weighted avg     0.8549    0.8551    0.8548       276\n",
      "\n"
     ]
    }
   ],
   "source": [
    "path_train = '../com_train.csv'\n",
    "path_test = '../com_test.csv'\n",
    "svm(path_train,path_test)"
   ]
  },
  {
   "cell_type": "code",
   "execution_count": null,
   "id": "b8659151",
   "metadata": {},
   "outputs": [],
   "source": []
  }
 ],
 "metadata": {
  "kernelspec": {
   "display_name": "Python 3 (ipykernel)",
   "language": "python",
   "name": "python3"
  },
  "language_info": {
   "codemirror_mode": {
    "name": "ipython",
    "version": 3
   },
   "file_extension": ".py",
   "mimetype": "text/x-python",
   "name": "python",
   "nbconvert_exporter": "python",
   "pygments_lexer": "ipython3",
   "version": "3.8.3"
  }
 },
 "nbformat": 4,
 "nbformat_minor": 5
}
