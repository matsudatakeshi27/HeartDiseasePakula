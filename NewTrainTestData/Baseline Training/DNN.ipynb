{
 "cells": [
  {
   "cell_type": "code",
   "execution_count": 1,
   "id": "c773be18",
   "metadata": {},
   "outputs": [],
   "source": [
    "import numpy as np\n",
    "import pandas as pd\n",
    "from keras.models import Sequential\n",
    "from keras.layers import Conv1D, MaxPooling1D, Flatten, Dense, Dropout\n",
    "from sklearn.metrics import confusion_matrix, classification_report"
   ]
  },
  {
   "cell_type": "code",
   "execution_count": 2,
   "id": "9a9d0451",
   "metadata": {},
   "outputs": [],
   "source": [
    "def DNN(path_train,path_test, epoch_num):\n",
    "    Train = pd.read_csv(path_train)\n",
    "    Test = pd.read_csv(path_test)\n",
    "    \n",
    "    X_train = Train.iloc[:,:-1]\n",
    "    Y_train = Train.iloc[:,-1]\n",
    "\n",
    "    X_test = Test.iloc[:,:-1]\n",
    "    Y_test = Test.iloc[:,-1]\n",
    "\n",
    "    #binarize the target\n",
    "    Y_train_binary = Y_train.apply(lambda x: 1 if x > 0 else 0)\n",
    "    Y_test_binary = Y_test.apply(lambda x: 1 if x > 0 else 0)\n",
    "\n",
    "    # CNN\n",
    "    model = Sequential()\n",
    "    model.add(Dense(64, input_shape=(22,), activation='relu'))\n",
    "    model.add(Dense(128, activation='relu'))\n",
    "    model.add(Dense(256, activation='relu'))\n",
    "    model.add(Dense(2, activation='sigmoid'))\n",
    "\n",
    "    model.compile(loss='sparse_categorical_crossentropy', optimizer='adam', metrics=['accuracy'])\n",
    "    \n",
    "    model.fit(X_train, Y_train_binary, epochs=epoch_num, batch_size=32)\n",
    "    Y_pred = model.predict(X_test).argmax(axis=1)\n",
    "    \n",
    "    cm = confusion_matrix(Y_pred, Y_test_binary)\n",
    "    print(cm)\n",
    "    print(classification_report(Y_test_binary, Y_pred,digits = 4))\n",
    "    \n",
    "    mismatch = [i for i, (a,b) in enumerate(zip(Y_pred, Y_test_binary)) if a != b]\n",
    "    model.save(str(path_train[-13:][:3]) +'_dnn.h5')\n",
    "    print(mismatch)"
   ]
  },
  {
   "cell_type": "markdown",
   "id": "011932f6",
   "metadata": {},
   "source": [
    "# Cleveland"
   ]
  },
  {
   "cell_type": "code",
   "execution_count": 3,
   "id": "87e10642",
   "metadata": {
    "scrolled": true
   },
   "outputs": [
    {
     "name": "stdout",
     "output_type": "stream",
     "text": [
      "Epoch 1/19\n",
      "7/7 [==============================] - 1s 3ms/step - loss: 0.6634 - accuracy: 0.6524\n",
      "Epoch 2/19\n",
      "7/7 [==============================] - 0s 3ms/step - loss: 0.5575 - accuracy: 0.8143\n",
      "Epoch 3/19\n",
      "7/7 [==============================] - 0s 3ms/step - loss: 0.4791 - accuracy: 0.8048\n",
      "Epoch 4/19\n",
      "7/7 [==============================] - 0s 4ms/step - loss: 0.4198 - accuracy: 0.8048\n",
      "Epoch 5/19\n",
      "7/7 [==============================] - 0s 3ms/step - loss: 0.4061 - accuracy: 0.8143\n",
      "Epoch 6/19\n",
      "7/7 [==============================] - 0s 3ms/step - loss: 0.3885 - accuracy: 0.8381\n",
      "Epoch 7/19\n",
      "7/7 [==============================] - 0s 4ms/step - loss: 0.3673 - accuracy: 0.8333\n",
      "Epoch 8/19\n",
      "7/7 [==============================] - 0s 4ms/step - loss: 0.3504 - accuracy: 0.8333\n",
      "Epoch 9/19\n",
      "7/7 [==============================] - 0s 3ms/step - loss: 0.3319 - accuracy: 0.8667\n",
      "Epoch 10/19\n",
      "7/7 [==============================] - 0s 4ms/step - loss: 0.3195 - accuracy: 0.8810\n",
      "Epoch 11/19\n",
      "7/7 [==============================] - 0s 3ms/step - loss: 0.3053 - accuracy: 0.8952\n",
      "Epoch 12/19\n",
      "7/7 [==============================] - 0s 3ms/step - loss: 0.2920 - accuracy: 0.8857\n",
      "Epoch 13/19\n",
      "7/7 [==============================] - 0s 3ms/step - loss: 0.2753 - accuracy: 0.9048\n",
      "Epoch 14/19\n",
      "7/7 [==============================] - 0s 3ms/step - loss: 0.2674 - accuracy: 0.9048\n",
      "Epoch 15/19\n",
      "7/7 [==============================] - 0s 5ms/step - loss: 0.2850 - accuracy: 0.8857\n",
      "Epoch 16/19\n",
      "7/7 [==============================] - 0s 4ms/step - loss: 0.2817 - accuracy: 0.8714\n",
      "Epoch 17/19\n",
      "7/7 [==============================] - 0s 6ms/step - loss: 0.2533 - accuracy: 0.9095\n",
      "Epoch 18/19\n",
      "7/7 [==============================] - 0s 6ms/step - loss: 0.2342 - accuracy: 0.9143\n",
      "Epoch 19/19\n",
      "7/7 [==============================] - 0s 6ms/step - loss: 0.2049 - accuracy: 0.9238\n",
      "[[41  6]\n",
      " [12 34]]\n",
      "              precision    recall  f1-score   support\n",
      "\n",
      "           0     0.8723    0.7736    0.8200        53\n",
      "           1     0.7391    0.8500    0.7907        40\n",
      "\n",
      "    accuracy                         0.8065        93\n",
      "   macro avg     0.8057    0.8118    0.8053        93\n",
      "weighted avg     0.8150    0.8065    0.8074        93\n",
      "\n",
      "[3, 4, 5, 14, 24, 33, 36, 55, 59, 61, 62, 64, 70, 77, 79, 80, 88, 91]\n"
     ]
    }
   ],
   "source": [
    "path_train = '../cle_train.csv'\n",
    "path_test = '../cle_test.csv'\n",
    "DNN(path_train,path_test,19)"
   ]
  },
  {
   "cell_type": "markdown",
   "id": "a6188e68",
   "metadata": {},
   "source": [
    "# Virginia"
   ]
  },
  {
   "cell_type": "code",
   "execution_count": 4,
   "id": "8b19b95f",
   "metadata": {
    "scrolled": true
   },
   "outputs": [
    {
     "name": "stdout",
     "output_type": "stream",
     "text": [
      "Epoch 1/15\n",
      "5/5 [==============================] - 1s 3ms/step - loss: 0.6118 - accuracy: 0.6957\n",
      "Epoch 2/15\n",
      "5/5 [==============================] - 0s 3ms/step - loss: 0.4909 - accuracy: 0.7754\n",
      "Epoch 3/15\n",
      "5/5 [==============================] - 0s 4ms/step - loss: 0.4753 - accuracy: 0.7754\n",
      "Epoch 4/15\n",
      "5/5 [==============================] - 0s 4ms/step - loss: 0.4514 - accuracy: 0.7754\n",
      "Epoch 5/15\n",
      "5/5 [==============================] - 0s 4ms/step - loss: 0.4140 - accuracy: 0.7826\n",
      "Epoch 6/15\n",
      "5/5 [==============================] - 0s 4ms/step - loss: 0.3912 - accuracy: 0.8043\n",
      "Epoch 7/15\n",
      "5/5 [==============================] - 0s 4ms/step - loss: 0.3656 - accuracy: 0.8188\n",
      "Epoch 8/15\n",
      "5/5 [==============================] - 0s 4ms/step - loss: 0.3385 - accuracy: 0.8623\n",
      "Epoch 9/15\n",
      "5/5 [==============================] - 0s 3ms/step - loss: 0.3119 - accuracy: 0.8768\n",
      "Epoch 10/15\n",
      "5/5 [==============================] - 0s 4ms/step - loss: 0.2867 - accuracy: 0.8913\n",
      "Epoch 11/15\n",
      "5/5 [==============================] - 0s 3ms/step - loss: 0.2642 - accuracy: 0.9058\n",
      "Epoch 12/15\n",
      "5/5 [==============================] - 0s 4ms/step - loss: 0.2445 - accuracy: 0.9130\n",
      "Epoch 13/15\n",
      "5/5 [==============================] - 0s 4ms/step - loss: 0.2286 - accuracy: 0.9203\n",
      "Epoch 14/15\n",
      "5/5 [==============================] - 0s 3ms/step - loss: 0.2073 - accuracy: 0.9275\n",
      "Epoch 15/15\n",
      "5/5 [==============================] - 0s 4ms/step - loss: 0.1852 - accuracy: 0.9420\n",
      "[[ 5  3]\n",
      " [15 39]]\n",
      "              precision    recall  f1-score   support\n",
      "\n",
      "           0     0.6250    0.2500    0.3571        20\n",
      "           1     0.7222    0.9286    0.8125        42\n",
      "\n",
      "    accuracy                         0.7097        62\n",
      "   macro avg     0.6736    0.5893    0.5848        62\n",
      "weighted avg     0.6909    0.7097    0.6656        62\n",
      "\n",
      "[0, 4, 7, 10, 13, 14, 15, 19, 24, 27, 33, 35, 37, 41, 44, 45, 55, 59]\n"
     ]
    }
   ],
   "source": [
    "path_train = '../vir_train.csv'\n",
    "path_test = '../vir_test.csv'\n",
    "DNN(path_train,path_test, 15)"
   ]
  },
  {
   "cell_type": "markdown",
   "id": "2847dd00",
   "metadata": {},
   "source": [
    "# Hungary"
   ]
  },
  {
   "cell_type": "code",
   "execution_count": 5,
   "id": "46feda2a",
   "metadata": {
    "scrolled": true
   },
   "outputs": [
    {
     "name": "stdout",
     "output_type": "stream",
     "text": [
      "Epoch 1/20\n",
      "7/7 [==============================] - 1s 3ms/step - loss: 0.6124 - accuracy: 0.7250\n",
      "Epoch 2/20\n",
      "7/7 [==============================] - 0s 3ms/step - loss: 0.4842 - accuracy: 0.7900\n",
      "Epoch 3/20\n",
      "7/7 [==============================] - 0s 4ms/step - loss: 0.3940 - accuracy: 0.8350\n",
      "Epoch 4/20\n",
      "7/7 [==============================] - 0s 4ms/step - loss: 0.3545 - accuracy: 0.8300\n",
      "Epoch 5/20\n",
      "7/7 [==============================] - 0s 4ms/step - loss: 0.3179 - accuracy: 0.8550\n",
      "Epoch 6/20\n",
      "7/7 [==============================] - 0s 4ms/step - loss: 0.2960 - accuracy: 0.8800\n",
      "Epoch 7/20\n",
      "7/7 [==============================] - 0s 4ms/step - loss: 0.2653 - accuracy: 0.9000\n",
      "Epoch 8/20\n",
      "7/7 [==============================] - 0s 3ms/step - loss: 0.2543 - accuracy: 0.8800\n",
      "Epoch 9/20\n",
      "7/7 [==============================] - 0s 4ms/step - loss: 0.2367 - accuracy: 0.9100\n",
      "Epoch 10/20\n",
      "7/7 [==============================] - 0s 4ms/step - loss: 0.2068 - accuracy: 0.9400\n",
      "Epoch 11/20\n",
      "7/7 [==============================] - 0s 4ms/step - loss: 0.2095 - accuracy: 0.9250\n",
      "Epoch 12/20\n",
      "7/7 [==============================] - 0s 4ms/step - loss: 0.1865 - accuracy: 0.9450\n",
      "Epoch 13/20\n",
      "7/7 [==============================] - 0s 3ms/step - loss: 0.1741 - accuracy: 0.9450\n",
      "Epoch 14/20\n",
      "7/7 [==============================] - 0s 4ms/step - loss: 0.1633 - accuracy: 0.9550\n",
      "Epoch 15/20\n",
      "7/7 [==============================] - 0s 4ms/step - loss: 0.1578 - accuracy: 0.9500\n",
      "Epoch 16/20\n",
      "7/7 [==============================] - 0s 3ms/step - loss: 0.1465 - accuracy: 0.9600\n",
      "Epoch 17/20\n",
      "7/7 [==============================] - 0s 4ms/step - loss: 0.1377 - accuracy: 0.9600\n",
      "Epoch 18/20\n",
      "7/7 [==============================] - 0s 3ms/step - loss: 0.1355 - accuracy: 0.9550\n",
      "Epoch 19/20\n",
      "7/7 [==============================] - 0s 3ms/step - loss: 0.1249 - accuracy: 0.9550\n",
      "Epoch 20/20\n",
      "7/7 [==============================] - 0s 3ms/step - loss: 0.1257 - accuracy: 0.9650\n",
      "[[52  5]\n",
      " [ 2 35]]\n",
      "              precision    recall  f1-score   support\n",
      "\n",
      "           0     0.9123    0.9630    0.9369        54\n",
      "           1     0.9459    0.8750    0.9091        40\n",
      "\n",
      "    accuracy                         0.9255        94\n",
      "   macro avg     0.9291    0.9190    0.9230        94\n",
      "weighted avg     0.9266    0.9255    0.9251        94\n",
      "\n",
      "[4, 39, 44, 66, 68, 86, 90]\n"
     ]
    }
   ],
   "source": [
    "path_train = '../hun_train.csv'\n",
    "path_test = '../hun_test.csv'\n",
    "DNN(path_train,path_test, 20)"
   ]
  },
  {
   "cell_type": "markdown",
   "id": "6a67e1ad",
   "metadata": {},
   "source": [
    "# Switzerland"
   ]
  },
  {
   "cell_type": "code",
   "execution_count": 6,
   "id": "dbf05ad3",
   "metadata": {
    "scrolled": true
   },
   "outputs": [
    {
     "name": "stdout",
     "output_type": "stream",
     "text": [
      "Epoch 1/20\n",
      "3/3 [==============================] - 1s 6ms/step - loss: 0.7377 - accuracy: 0.4146\n",
      "Epoch 2/20\n",
      "3/3 [==============================] - 0s 5ms/step - loss: 0.4429 - accuracy: 0.9268\n",
      "Epoch 3/20\n",
      "3/3 [==============================] - 0s 4ms/step - loss: 0.2878 - accuracy: 0.9268\n",
      "Epoch 4/20\n",
      "3/3 [==============================] - 0s 5ms/step - loss: 0.2395 - accuracy: 0.9268\n",
      "Epoch 5/20\n",
      "3/3 [==============================] - 0s 4ms/step - loss: 0.2379 - accuracy: 0.9268\n",
      "Epoch 6/20\n",
      "3/3 [==============================] - 0s 3ms/step - loss: 0.2464 - accuracy: 0.9268\n",
      "Epoch 7/20\n",
      "3/3 [==============================] - 0s 4ms/step - loss: 0.2443 - accuracy: 0.9268\n",
      "Epoch 8/20\n",
      "3/3 [==============================] - 0s 4ms/step - loss: 0.2332 - accuracy: 0.9268\n",
      "Epoch 9/20\n",
      "3/3 [==============================] - 0s 4ms/step - loss: 0.2129 - accuracy: 0.9268\n",
      "Epoch 10/20\n",
      "3/3 [==============================] - 0s 4ms/step - loss: 0.1963 - accuracy: 0.9268\n",
      "Epoch 11/20\n",
      "3/3 [==============================] - 0s 3ms/step - loss: 0.1919 - accuracy: 0.9268\n",
      "Epoch 12/20\n",
      "3/3 [==============================] - 0s 3ms/step - loss: 0.1797 - accuracy: 0.9268\n",
      "Epoch 13/20\n",
      "3/3 [==============================] - 0s 4ms/step - loss: 0.1737 - accuracy: 0.9268\n",
      "Epoch 14/20\n",
      "3/3 [==============================] - 0s 4ms/step - loss: 0.1640 - accuracy: 0.9268\n",
      "Epoch 15/20\n",
      "3/3 [==============================] - 0s 3ms/step - loss: 0.1574 - accuracy: 0.9268\n",
      "Epoch 16/20\n",
      "3/3 [==============================] - 0s 3ms/step - loss: 0.1503 - accuracy: 0.9268\n",
      "Epoch 17/20\n",
      "3/3 [==============================] - 0s 4ms/step - loss: 0.1434 - accuracy: 0.9390\n",
      "Epoch 18/20\n",
      "3/3 [==============================] - 0s 4ms/step - loss: 0.1381 - accuracy: 0.9634\n",
      "Epoch 19/20\n",
      "3/3 [==============================] - 0s 4ms/step - loss: 0.1306 - accuracy: 0.9634\n",
      "Epoch 20/20\n",
      "3/3 [==============================] - 0s 3ms/step - loss: 0.1254 - accuracy: 0.9634\n",
      "[[ 1  2]\n",
      " [ 1 37]]\n",
      "              precision    recall  f1-score   support\n",
      "\n",
      "           0     0.3333    0.5000    0.4000         2\n",
      "           1     0.9737    0.9487    0.9610        39\n",
      "\n",
      "    accuracy                         0.9268        41\n",
      "   macro avg     0.6535    0.7244    0.6805        41\n",
      "weighted avg     0.9424    0.9268    0.9337        41\n",
      "\n",
      "[5, 14, 24]\n"
     ]
    }
   ],
   "source": [
    "path_train = '../swi_train.csv'\n",
    "path_test = '../swi_test.csv'\n",
    "DNN(path_train,path_test, 20)"
   ]
  },
  {
   "cell_type": "markdown",
   "id": "a7bf0136",
   "metadata": {},
   "source": [
    "# Combined"
   ]
  },
  {
   "cell_type": "code",
   "execution_count": 7,
   "id": "fc9f6787",
   "metadata": {
    "scrolled": true
   },
   "outputs": [
    {
     "name": "stdout",
     "output_type": "stream",
     "text": [
      "Epoch 1/20\n",
      "21/21 [==============================] - 1s 3ms/step - loss: 0.5651 - accuracy: 0.7593\n",
      "Epoch 2/20\n",
      "21/21 [==============================] - 0s 3ms/step - loss: 0.4510 - accuracy: 0.7919\n",
      "Epoch 3/20\n",
      "21/21 [==============================] - 0s 3ms/step - loss: 0.4062 - accuracy: 0.8230\n",
      "Epoch 4/20\n",
      "21/21 [==============================] - 0s 3ms/step - loss: 0.3882 - accuracy: 0.8354\n",
      "Epoch 5/20\n",
      "21/21 [==============================] - 0s 3ms/step - loss: 0.3776 - accuracy: 0.8370\n",
      "Epoch 6/20\n",
      "21/21 [==============================] - 0s 3ms/step - loss: 0.3629 - accuracy: 0.8494\n",
      "Epoch 7/20\n",
      "21/21 [==============================] - 0s 3ms/step - loss: 0.3532 - accuracy: 0.8447\n",
      "Epoch 8/20\n",
      "21/21 [==============================] - 0s 3ms/step - loss: 0.3443 - accuracy: 0.8540\n",
      "Epoch 9/20\n",
      "21/21 [==============================] - 0s 3ms/step - loss: 0.3294 - accuracy: 0.8649\n",
      "Epoch 10/20\n",
      "21/21 [==============================] - 0s 3ms/step - loss: 0.3114 - accuracy: 0.8773\n",
      "Epoch 11/20\n",
      "21/21 [==============================] - 0s 3ms/step - loss: 0.3023 - accuracy: 0.8820\n",
      "Epoch 12/20\n",
      "21/21 [==============================] - 0s 3ms/step - loss: 0.2938 - accuracy: 0.8789\n",
      "Epoch 13/20\n",
      "21/21 [==============================] - 0s 3ms/step - loss: 0.2798 - accuracy: 0.8851\n",
      "Epoch 14/20\n",
      "21/21 [==============================] - 0s 3ms/step - loss: 0.2697 - accuracy: 0.8929\n",
      "Epoch 15/20\n",
      "21/21 [==============================] - 0s 3ms/step - loss: 0.2601 - accuracy: 0.8960\n",
      "Epoch 16/20\n",
      "21/21 [==============================] - 0s 3ms/step - loss: 0.2503 - accuracy: 0.9006\n",
      "Epoch 17/20\n",
      "21/21 [==============================] - 0s 3ms/step - loss: 0.2431 - accuracy: 0.9022\n",
      "Epoch 18/20\n",
      "21/21 [==============================] - 0s 3ms/step - loss: 0.2427 - accuracy: 0.9068\n",
      "Epoch 19/20\n",
      "21/21 [==============================] - 0s 3ms/step - loss: 0.2197 - accuracy: 0.9193\n",
      "Epoch 20/20\n",
      "21/21 [==============================] - 0s 3ms/step - loss: 0.2055 - accuracy: 0.9255\n",
      "WARNING:tensorflow:5 out of the last 11 calls to <function Model.make_predict_function.<locals>.predict_function at 0x0000014541166430> triggered tf.function retracing. Tracing is expensive and the excessive number of tracings could be due to (1) creating @tf.function repeatedly in a loop, (2) passing tensors with different shapes, (3) passing Python objects instead of tensors. For (1), please define your @tf.function outside of the loop. For (2), @tf.function has experimental_relax_shapes=True option that relaxes argument shapes that can avoid unnecessary retracing. For (3), please refer to https://www.tensorflow.org/guide/function#controlling_retracing and https://www.tensorflow.org/api_docs/python/tf/function for  more details.\n",
      "[[101  14]\n",
      " [ 21 140]]\n",
      "              precision    recall  f1-score   support\n",
      "\n",
      "           0     0.8783    0.8279    0.8523       122\n",
      "           1     0.8696    0.9091    0.8889       154\n",
      "\n",
      "    accuracy                         0.8732       276\n",
      "   macro avg     0.8739    0.8685    0.8706       276\n",
      "weighted avg     0.8734    0.8732    0.8727       276\n",
      "\n",
      "[11, 14, 20, 29, 33, 42, 52, 59, 76, 80, 88, 90, 91, 104, 105, 113, 121, 127, 130, 135, 148, 158, 164, 169, 172, 184, 190, 198, 214, 217, 234, 248, 264, 274, 275]\n"
     ]
    }
   ],
   "source": [
    "path_train = '../com_train.csv'\n",
    "path_test = '../com_test.csv'\n",
    "DNN(path_train,path_test, 20)"
   ]
  },
  {
   "cell_type": "code",
   "execution_count": null,
   "id": "c01339e4",
   "metadata": {},
   "outputs": [],
   "source": []
  }
 ],
 "metadata": {
  "kernelspec": {
   "display_name": "Python 3 (ipykernel)",
   "language": "python",
   "name": "python3"
  },
  "language_info": {
   "codemirror_mode": {
    "name": "ipython",
    "version": 3
   },
   "file_extension": ".py",
   "mimetype": "text/x-python",
   "name": "python",
   "nbconvert_exporter": "python",
   "pygments_lexer": "ipython3",
   "version": "3.8.3"
  }
 },
 "nbformat": 4,
 "nbformat_minor": 5
}
