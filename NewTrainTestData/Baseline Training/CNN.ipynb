{
 "cells": [
  {
   "cell_type": "code",
   "execution_count": 1,
   "id": "c773be18",
   "metadata": {},
   "outputs": [],
   "source": [
    "import numpy as np\n",
    "import pandas as pd\n",
    "from keras.models import Sequential\n",
    "from keras.layers import Conv1D, MaxPooling1D, Flatten, Dense, Dropout\n",
    "from sklearn.metrics import confusion_matrix, classification_report"
   ]
  },
  {
   "cell_type": "code",
   "execution_count": 2,
   "id": "9a9d0451",
   "metadata": {},
   "outputs": [],
   "source": [
    "def CNN(path_train,path_test, epoch_num):\n",
    "    Train = pd.read_csv(path_train)\n",
    "    Test = pd.read_csv(path_test)\n",
    "    \n",
    "    X_train = Train.iloc[:,:-1]\n",
    "    Y_train = Train.iloc[:,-1]\n",
    "\n",
    "    X_test = Test.iloc[:,:-1]\n",
    "    Y_test = Test.iloc[:,-1]\n",
    "\n",
    "    #binarize the target\n",
    "    Y_train_binary = Y_train.apply(lambda x: 1 if x > 0 else 0)\n",
    "    Y_test_binary = Y_test.apply(lambda x: 1 if x > 0 else 0)\n",
    "\n",
    "    # CNN\n",
    "    model = Sequential()\n",
    "    model.add(Conv1D(filters=256, kernel_size=3, activation='relu', input_shape=(22,1)))\n",
    "    model.add(Conv1D(filters=256, kernel_size=3, activation='relu'))\n",
    "    model.add(MaxPooling1D(pool_size=2))\n",
    "\n",
    "    model.add(Conv1D(filters=512, kernel_size=3, activation='relu'))\n",
    "    model.add(MaxPooling1D(pool_size=2))\n",
    "\n",
    "    model.add(Flatten())\n",
    "    model.add(Dense(512, activation='relu'))\n",
    "    model.add(Dense(2, activation='sigmoid'))\n",
    "\n",
    "    model.compile(loss='sparse_categorical_crossentropy', optimizer='adam', metrics=['accuracy'])\n",
    "    \n",
    "    model.fit(X_train, Y_train_binary, epochs=epoch_num, batch_size=32)\n",
    "    Y_pred = model.predict(X_test).argmax(axis=1)\n",
    "    \n",
    "    cm = confusion_matrix(Y_pred, Y_test_binary)\n",
    "    print(cm)\n",
    "    print(classification_report(Y_test_binary, Y_pred, digits=4))\n",
    "    \n",
    "    mismatch = [i for i, (a,b) in enumerate(zip(Y_pred, Y_test_binary)) if a != b]\n",
    "    print(mismatch)"
   ]
  },
  {
   "cell_type": "markdown",
   "id": "011932f6",
   "metadata": {},
   "source": [
    "# Cleveland"
   ]
  },
  {
   "cell_type": "code",
   "execution_count": 3,
   "id": "87e10642",
   "metadata": {
    "scrolled": true
   },
   "outputs": [
    {
     "name": "stdout",
     "output_type": "stream",
     "text": [
      "Epoch 1/19\n",
      "7/7 [==============================] - 2s 33ms/step - loss: 0.6707 - accuracy: 0.6381\n",
      "Epoch 2/19\n",
      "7/7 [==============================] - 0s 37ms/step - loss: 0.5178 - accuracy: 0.7714\n",
      "Epoch 3/19\n",
      "7/7 [==============================] - 0s 33ms/step - loss: 0.5031 - accuracy: 0.7571\n",
      "Epoch 4/19\n",
      "7/7 [==============================] - 0s 32ms/step - loss: 0.4601 - accuracy: 0.7762\n",
      "Epoch 5/19\n",
      "7/7 [==============================] - 0s 31ms/step - loss: 0.4357 - accuracy: 0.7810\n",
      "Epoch 6/19\n",
      "7/7 [==============================] - 0s 30ms/step - loss: 0.4336 - accuracy: 0.8000\n",
      "Epoch 7/19\n",
      "7/7 [==============================] - 0s 32ms/step - loss: 0.4153 - accuracy: 0.8048\n",
      "Epoch 8/19\n",
      "7/7 [==============================] - 0s 33ms/step - loss: 0.4011 - accuracy: 0.8333\n",
      "Epoch 9/19\n",
      "7/7 [==============================] - 0s 32ms/step - loss: 0.3924 - accuracy: 0.8143\n",
      "Epoch 10/19\n",
      "7/7 [==============================] - 0s 32ms/step - loss: 0.4053 - accuracy: 0.8048\n",
      "Epoch 11/19\n",
      "7/7 [==============================] - 0s 30ms/step - loss: 0.3768 - accuracy: 0.8143\n",
      "Epoch 12/19\n",
      "7/7 [==============================] - 0s 32ms/step - loss: 0.3868 - accuracy: 0.8095\n",
      "Epoch 13/19\n",
      "7/7 [==============================] - 0s 32ms/step - loss: 0.3681 - accuracy: 0.8333\n",
      "Epoch 14/19\n",
      "7/7 [==============================] - 0s 30ms/step - loss: 0.3706 - accuracy: 0.8095\n",
      "Epoch 15/19\n",
      "7/7 [==============================] - 0s 34ms/step - loss: 0.3326 - accuracy: 0.8524\n",
      "Epoch 16/19\n",
      "7/7 [==============================] - 0s 29ms/step - loss: 0.3441 - accuracy: 0.8333\n",
      "Epoch 17/19\n",
      "7/7 [==============================] - 0s 31ms/step - loss: 0.3152 - accuracy: 0.8524\n",
      "Epoch 18/19\n",
      "7/7 [==============================] - 0s 31ms/step - loss: 0.3501 - accuracy: 0.8381\n",
      "Epoch 19/19\n",
      "7/7 [==============================] - 0s 30ms/step - loss: 0.3360 - accuracy: 0.8524\n",
      "[[40  4]\n",
      " [13 36]]\n",
      "              precision    recall  f1-score   support\n",
      "\n",
      "           0     0.9091    0.7547    0.8247        53\n",
      "           1     0.7347    0.9000    0.8090        40\n",
      "\n",
      "    accuracy                         0.8172        93\n",
      "   macro avg     0.8219    0.8274    0.8169        93\n",
      "weighted avg     0.8341    0.8172    0.8180        93\n",
      "\n",
      "[3, 4, 5, 14, 24, 33, 34, 36, 40, 55, 62, 64, 67, 75, 77, 83, 91]\n"
     ]
    }
   ],
   "source": [
    "path_train = '../cle_train.csv'\n",
    "path_test = '../cle_test.csv'\n",
    "CNN(path_train,path_test,19)"
   ]
  },
  {
   "cell_type": "markdown",
   "id": "a6188e68",
   "metadata": {},
   "source": [
    "# Virginia"
   ]
  },
  {
   "cell_type": "code",
   "execution_count": 4,
   "id": "8b19b95f",
   "metadata": {
    "scrolled": true
   },
   "outputs": [
    {
     "name": "stdout",
     "output_type": "stream",
     "text": [
      "Epoch 1/15\n",
      "5/5 [==============================] - 2s 27ms/step - loss: 0.5701 - accuracy: 0.7246\n",
      "Epoch 2/15\n",
      "5/5 [==============================] - 0s 27ms/step - loss: 0.5049 - accuracy: 0.7754\n",
      "Epoch 3/15\n",
      "5/5 [==============================] - 0s 27ms/step - loss: 0.4695 - accuracy: 0.7754\n",
      "Epoch 4/15\n",
      "5/5 [==============================] - 0s 28ms/step - loss: 0.4925 - accuracy: 0.7754\n",
      "Epoch 5/15\n",
      "5/5 [==============================] - 0s 28ms/step - loss: 0.4608 - accuracy: 0.7754\n",
      "Epoch 6/15\n",
      "5/5 [==============================] - 0s 28ms/step - loss: 0.4161 - accuracy: 0.7754\n",
      "Epoch 7/15\n",
      "5/5 [==============================] - 0s 30ms/step - loss: 0.4187 - accuracy: 0.7971\n",
      "Epoch 8/15\n",
      "5/5 [==============================] - 0s 29ms/step - loss: 0.3780 - accuracy: 0.8696\n",
      "Epoch 9/15\n",
      "5/5 [==============================] - 0s 27ms/step - loss: 0.3603 - accuracy: 0.8261\n",
      "Epoch 10/15\n",
      "5/5 [==============================] - 0s 28ms/step - loss: 0.3531 - accuracy: 0.8768\n",
      "Epoch 11/15\n",
      "5/5 [==============================] - 0s 28ms/step - loss: 0.3459 - accuracy: 0.8551\n",
      "Epoch 12/15\n",
      "5/5 [==============================] - 0s 28ms/step - loss: 0.2938 - accuracy: 0.9058\n",
      "Epoch 13/15\n",
      "5/5 [==============================] - 0s 28ms/step - loss: 0.2886 - accuracy: 0.8986\n",
      "Epoch 14/15\n",
      "5/5 [==============================] - 0s 27ms/step - loss: 0.2467 - accuracy: 0.9058\n",
      "Epoch 15/15\n",
      "5/5 [==============================] - 0s 28ms/step - loss: 0.2322 - accuracy: 0.9275\n",
      "[[ 7 11]\n",
      " [13 31]]\n",
      "              precision    recall  f1-score   support\n",
      "\n",
      "           0     0.3889    0.3500    0.3684        20\n",
      "           1     0.7045    0.7381    0.7209        42\n",
      "\n",
      "    accuracy                         0.6129        62\n",
      "   macro avg     0.5467    0.5440    0.5447        62\n",
      "weighted avg     0.6027    0.6129    0.6072        62\n",
      "\n",
      "[0, 4, 7, 10, 13, 14, 15, 17, 19, 20, 24, 27, 32, 33, 41, 44, 45, 48, 51, 54, 55, 57, 59, 60]\n"
     ]
    }
   ],
   "source": [
    "path_train = '../vir_train.csv'\n",
    "path_test = '../vir_test.csv'\n",
    "CNN(path_train,path_test, 15)"
   ]
  },
  {
   "cell_type": "markdown",
   "id": "2847dd00",
   "metadata": {},
   "source": [
    "# Hungary"
   ]
  },
  {
   "cell_type": "code",
   "execution_count": 5,
   "id": "46feda2a",
   "metadata": {
    "scrolled": true
   },
   "outputs": [
    {
     "name": "stdout",
     "output_type": "stream",
     "text": [
      "Epoch 1/20\n",
      "7/7 [==============================] - 1s 30ms/step - loss: 0.6143 - accuracy: 0.6700\n",
      "Epoch 2/20\n",
      "7/7 [==============================] - 0s 32ms/step - loss: 0.4629 - accuracy: 0.8250\n",
      "Epoch 3/20\n",
      "7/7 [==============================] - 0s 27ms/step - loss: 0.4099 - accuracy: 0.8100\n",
      "Epoch 4/20\n",
      "7/7 [==============================] - 0s 28ms/step - loss: 0.3825 - accuracy: 0.8250\n",
      "Epoch 5/20\n",
      "7/7 [==============================] - 0s 29ms/step - loss: 0.3392 - accuracy: 0.8400\n",
      "Epoch 6/20\n",
      "7/7 [==============================] - 0s 29ms/step - loss: 0.3205 - accuracy: 0.8550\n",
      "Epoch 7/20\n",
      "7/7 [==============================] - 0s 29ms/step - loss: 0.2963 - accuracy: 0.8750\n",
      "Epoch 8/20\n",
      "7/7 [==============================] - 0s 33ms/step - loss: 0.2845 - accuracy: 0.9050\n",
      "Epoch 9/20\n",
      "7/7 [==============================] - 0s 36ms/step - loss: 0.3628 - accuracy: 0.8250\n",
      "Epoch 10/20\n",
      "7/7 [==============================] - 0s 27ms/step - loss: 0.2807 - accuracy: 0.8850\n",
      "Epoch 11/20\n",
      "7/7 [==============================] - 0s 32ms/step - loss: 0.3140 - accuracy: 0.8850\n",
      "Epoch 12/20\n",
      "7/7 [==============================] - 0s 28ms/step - loss: 0.2627 - accuracy: 0.9000\n",
      "Epoch 13/20\n",
      "7/7 [==============================] - 0s 30ms/step - loss: 0.2525 - accuracy: 0.8950\n",
      "Epoch 14/20\n",
      "7/7 [==============================] - 0s 30ms/step - loss: 0.2461 - accuracy: 0.9050\n",
      "Epoch 15/20\n",
      "7/7 [==============================] - 0s 31ms/step - loss: 0.2383 - accuracy: 0.9000\n",
      "Epoch 16/20\n",
      "7/7 [==============================] - 0s 31ms/step - loss: 0.2254 - accuracy: 0.9150\n",
      "Epoch 17/20\n",
      "7/7 [==============================] - 0s 31ms/step - loss: 0.2647 - accuracy: 0.8850\n",
      "Epoch 18/20\n",
      "7/7 [==============================] - 0s 30ms/step - loss: 0.2356 - accuracy: 0.8950\n",
      "Epoch 19/20\n",
      "7/7 [==============================] - 0s 30ms/step - loss: 0.2148 - accuracy: 0.8900\n",
      "Epoch 20/20\n",
      "7/7 [==============================] - 0s 36ms/step - loss: 0.2121 - accuracy: 0.9250\n",
      "[[51 14]\n",
      " [ 3 26]]\n",
      "              precision    recall  f1-score   support\n",
      "\n",
      "           0     0.7846    0.9444    0.8571        54\n",
      "           1     0.8966    0.6500    0.7536        40\n",
      "\n",
      "    accuracy                         0.8191        94\n",
      "   macro avg     0.8406    0.7972    0.8054        94\n",
      "weighted avg     0.8322    0.8191    0.8131        94\n",
      "\n",
      "[3, 4, 24, 31, 33, 37, 39, 44, 59, 61, 65, 66, 68, 75, 76, 86, 90]\n"
     ]
    }
   ],
   "source": [
    "path_train = '../hun_train.csv'\n",
    "path_test = '../hun_test.csv'\n",
    "CNN(path_train,path_test, 20)"
   ]
  },
  {
   "cell_type": "markdown",
   "id": "6a67e1ad",
   "metadata": {},
   "source": [
    "# Switzerland"
   ]
  },
  {
   "cell_type": "code",
   "execution_count": 6,
   "id": "dbf05ad3",
   "metadata": {
    "scrolled": true
   },
   "outputs": [
    {
     "name": "stdout",
     "output_type": "stream",
     "text": [
      "Epoch 1/20\n",
      "3/3 [==============================] - 1s 30ms/step - loss: 0.5401 - accuracy: 0.5610\n",
      "Epoch 2/20\n",
      "3/3 [==============================] - 0s 31ms/step - loss: 0.3821 - accuracy: 0.9268\n",
      "Epoch 3/20\n",
      "3/3 [==============================] - 0s 29ms/step - loss: 0.3113 - accuracy: 0.9268\n",
      "Epoch 4/20\n",
      "3/3 [==============================] - 0s 28ms/step - loss: 0.3044 - accuracy: 0.9268\n",
      "Epoch 5/20\n",
      "3/3 [==============================] - 0s 27ms/step - loss: 0.2736 - accuracy: 0.9268\n",
      "Epoch 6/20\n",
      "3/3 [==============================] - 0s 28ms/step - loss: 0.2604 - accuracy: 0.9268\n",
      "Epoch 7/20\n",
      "3/3 [==============================] - 0s 29ms/step - loss: 0.2547 - accuracy: 0.9268\n",
      "Epoch 8/20\n",
      "3/3 [==============================] - 0s 27ms/step - loss: 0.2436 - accuracy: 0.9268\n",
      "Epoch 9/20\n",
      "3/3 [==============================] - 0s 29ms/step - loss: 0.2511 - accuracy: 0.9268\n",
      "Epoch 10/20\n",
      "3/3 [==============================] - 0s 28ms/step - loss: 0.2439 - accuracy: 0.9268\n",
      "Epoch 11/20\n",
      "3/3 [==============================] - 0s 29ms/step - loss: 0.2344 - accuracy: 0.9268\n",
      "Epoch 12/20\n",
      "3/3 [==============================] - 0s 27ms/step - loss: 0.2310 - accuracy: 0.9268\n",
      "Epoch 13/20\n",
      "3/3 [==============================] - 0s 28ms/step - loss: 0.2302 - accuracy: 0.9268\n",
      "Epoch 14/20\n",
      "3/3 [==============================] - 0s 28ms/step - loss: 0.2204 - accuracy: 0.9268\n",
      "Epoch 15/20\n",
      "3/3 [==============================] - 0s 28ms/step - loss: 0.2114 - accuracy: 0.9268\n",
      "Epoch 16/20\n",
      "3/3 [==============================] - 0s 29ms/step - loss: 0.2221 - accuracy: 0.9268\n",
      "Epoch 17/20\n",
      "3/3 [==============================] - 0s 28ms/step - loss: 0.1997 - accuracy: 0.9268\n",
      "Epoch 18/20\n",
      "3/3 [==============================] - 0s 28ms/step - loss: 0.1989 - accuracy: 0.9268\n",
      "Epoch 19/20\n",
      "3/3 [==============================] - 0s 29ms/step - loss: 0.1920 - accuracy: 0.9268\n",
      "Epoch 20/20\n",
      "3/3 [==============================] - 0s 31ms/step - loss: 0.1869 - accuracy: 0.9268\n",
      "[[ 0  0]\n",
      " [ 2 39]]\n",
      "              precision    recall  f1-score   support\n",
      "\n",
      "           0     0.0000    0.0000    0.0000         2\n",
      "           1     0.9512    1.0000    0.9750        39\n",
      "\n",
      "    accuracy                         0.9512        41\n",
      "   macro avg     0.4756    0.5000    0.4875        41\n",
      "weighted avg     0.9048    0.9512    0.9274        41\n",
      "\n",
      "[24, 31]\n"
     ]
    },
    {
     "name": "stderr",
     "output_type": "stream",
     "text": [
      "c:\\users\\votri\\appdata\\local\\programs\\python\\python38\\lib\\site-packages\\sklearn\\metrics\\_classification.py:1318: UndefinedMetricWarning: Precision and F-score are ill-defined and being set to 0.0 in labels with no predicted samples. Use `zero_division` parameter to control this behavior.\n",
      "  _warn_prf(average, modifier, msg_start, len(result))\n",
      "c:\\users\\votri\\appdata\\local\\programs\\python\\python38\\lib\\site-packages\\sklearn\\metrics\\_classification.py:1318: UndefinedMetricWarning: Precision and F-score are ill-defined and being set to 0.0 in labels with no predicted samples. Use `zero_division` parameter to control this behavior.\n",
      "  _warn_prf(average, modifier, msg_start, len(result))\n",
      "c:\\users\\votri\\appdata\\local\\programs\\python\\python38\\lib\\site-packages\\sklearn\\metrics\\_classification.py:1318: UndefinedMetricWarning: Precision and F-score are ill-defined and being set to 0.0 in labels with no predicted samples. Use `zero_division` parameter to control this behavior.\n",
      "  _warn_prf(average, modifier, msg_start, len(result))\n"
     ]
    }
   ],
   "source": [
    "path_train = '../swi_train.csv'\n",
    "path_test = '../swi_test.csv'\n",
    "CNN(path_train,path_test, 20)"
   ]
  },
  {
   "cell_type": "markdown",
   "id": "a7bf0136",
   "metadata": {},
   "source": [
    "# Combined"
   ]
  },
  {
   "cell_type": "code",
   "execution_count": 7,
   "id": "fc9f6787",
   "metadata": {
    "scrolled": true
   },
   "outputs": [
    {
     "name": "stdout",
     "output_type": "stream",
     "text": [
      "Epoch 1/20\n",
      "21/21 [==============================] - 2s 31ms/step - loss: 0.6010 - accuracy: 0.6817\n",
      "Epoch 2/20\n",
      "21/21 [==============================] - 1s 32ms/step - loss: 0.4983 - accuracy: 0.7857\n",
      "Epoch 3/20\n",
      "21/21 [==============================] - 1s 30ms/step - loss: 0.4533 - accuracy: 0.7904\n",
      "Epoch 4/20\n",
      "21/21 [==============================] - 1s 33ms/step - loss: 0.4403 - accuracy: 0.7981\n",
      "Epoch 5/20\n",
      "21/21 [==============================] - 1s 34ms/step - loss: 0.4523 - accuracy: 0.7888\n",
      "Epoch 6/20\n",
      "21/21 [==============================] - 1s 39ms/step - loss: 0.4109 - accuracy: 0.8245\n",
      "Epoch 7/20\n",
      "21/21 [==============================] - 1s 35ms/step - loss: 0.4056 - accuracy: 0.8261\n",
      "Epoch 8/20\n",
      "21/21 [==============================] - 1s 32ms/step - loss: 0.4050 - accuracy: 0.8292\n",
      "Epoch 9/20\n",
      "21/21 [==============================] - 1s 29ms/step - loss: 0.4195 - accuracy: 0.8230\n",
      "Epoch 10/20\n",
      "21/21 [==============================] - 1s 29ms/step - loss: 0.3879 - accuracy: 0.8245\n",
      "Epoch 11/20\n",
      "21/21 [==============================] - 1s 29ms/step - loss: 0.3735 - accuracy: 0.8432\n",
      "Epoch 12/20\n",
      "21/21 [==============================] - 1s 29ms/step - loss: 0.3636 - accuracy: 0.8478\n",
      "Epoch 13/20\n",
      "21/21 [==============================] - 1s 30ms/step - loss: 0.3774 - accuracy: 0.8370\n",
      "Epoch 14/20\n",
      "21/21 [==============================] - 1s 34ms/step - loss: 0.3677 - accuracy: 0.8540\n",
      "Epoch 15/20\n",
      "21/21 [==============================] - 1s 29ms/step - loss: 0.3625 - accuracy: 0.8478\n",
      "Epoch 16/20\n",
      "21/21 [==============================] - 1s 30ms/step - loss: 0.3647 - accuracy: 0.8478\n",
      "Epoch 17/20\n",
      "21/21 [==============================] - 1s 31ms/step - loss: 0.3536 - accuracy: 0.8509\n",
      "Epoch 18/20\n",
      "21/21 [==============================] - 1s 31ms/step - loss: 0.3396 - accuracy: 0.8556\n",
      "Epoch 19/20\n",
      "21/21 [==============================] - 1s 30ms/step - loss: 0.3454 - accuracy: 0.8525\n",
      "Epoch 20/20\n",
      "21/21 [==============================] - 1s 32ms/step - loss: 0.3557 - accuracy: 0.8401\n",
      "WARNING:tensorflow:5 out of the last 11 calls to <function Model.make_predict_function.<locals>.predict_function at 0x00000257A13F99D0> triggered tf.function retracing. Tracing is expensive and the excessive number of tracings could be due to (1) creating @tf.function repeatedly in a loop, (2) passing tensors with different shapes, (3) passing Python objects instead of tensors. For (1), please define your @tf.function outside of the loop. For (2), @tf.function has experimental_relax_shapes=True option that relaxes argument shapes that can avoid unnecessary retracing. For (3), please refer to https://www.tensorflow.org/guide/function#controlling_retracing and https://www.tensorflow.org/api_docs/python/tf/function for  more details.\n",
      "[[ 99  24]\n",
      " [ 23 130]]\n",
      "              precision    recall  f1-score   support\n",
      "\n",
      "           0     0.8049    0.8115    0.8082       122\n",
      "           1     0.8497    0.8442    0.8469       154\n",
      "\n",
      "    accuracy                         0.8297       276\n",
      "   macro avg     0.8273    0.8278    0.8275       276\n",
      "weighted avg     0.8299    0.8297    0.8298       276\n",
      "\n",
      "[11, 28, 29, 38, 42, 52, 59, 63, 76, 79, 83, 88, 91, 94, 104, 109, 116, 121, 122, 127, 130, 135, 146, 148, 155, 158, 162, 164, 167, 169, 173, 184, 190, 195, 198, 213, 214, 217, 221, 222, 225, 234, 247, 259, 264, 274, 275]\n"
     ]
    }
   ],
   "source": [
    "path_train = '../com_train.csv'\n",
    "path_test = '../com_test.csv'\n",
    "CNN(path_train,path_test, 20)"
   ]
  },
  {
   "cell_type": "code",
   "execution_count": null,
   "id": "c01339e4",
   "metadata": {},
   "outputs": [],
   "source": []
  }
 ],
 "metadata": {
  "kernelspec": {
   "display_name": "Python 3 (ipykernel)",
   "language": "python",
   "name": "python3"
  },
  "language_info": {
   "codemirror_mode": {
    "name": "ipython",
    "version": 3
   },
   "file_extension": ".py",
   "mimetype": "text/x-python",
   "name": "python",
   "nbconvert_exporter": "python",
   "pygments_lexer": "ipython3",
   "version": "3.8.3"
  }
 },
 "nbformat": 4,
 "nbformat_minor": 5
}
