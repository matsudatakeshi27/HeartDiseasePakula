{
 "cells": [
  {
   "cell_type": "code",
   "execution_count": 1,
   "id": "de74fb36",
   "metadata": {},
   "outputs": [],
   "source": [
    "import numpy as np\n",
    "import pandas as pd\n",
    "from sklearn.naive_bayes import GaussianNB\n",
    "from sklearn.metrics import confusion_matrix, classification_report"
   ]
  },
  {
   "cell_type": "code",
   "execution_count": 2,
   "id": "15dd0ec5",
   "metadata": {},
   "outputs": [],
   "source": [
    "def BayesianClassifier(path_train,path_test):\n",
    "    #Split the data\n",
    "    Train = pd.read_csv(path_train)\n",
    "    Test = pd.read_csv(path_test)\n",
    "    \n",
    "    X_train = Train.iloc[:,:-1]\n",
    "    Y_train = Train.iloc[:,-1]\n",
    "\n",
    "    X_test = Test.iloc[:,:-1]\n",
    "    Y_test = Test.iloc[:,-1]\n",
    "\n",
    "    #binarize the target\n",
    "    Y_train_binary = Y_train.apply(lambda x: 1 if x > 0 else 0)\n",
    "    Y_test_binary = Y_test.apply(lambda x: 1 if x > 0 else 0)\n",
    "\n",
    "    #Bayesian Classifier\n",
    "    classifier = GaussianNB()\n",
    "    classifier.fit(X_train, Y_train_binary)\n",
    "    Y_pred = classifier.predict(X_test)\n",
    "    cm = confusion_matrix(Y_pred, Y_test_binary)\n",
    "    print(cm)\n",
    "    print(classification_report(Y_test_binary, Y_pred, digits=4))"
   ]
  },
  {
   "cell_type": "markdown",
   "id": "2226ba52",
   "metadata": {},
   "source": [
    "# Cleveland"
   ]
  },
  {
   "cell_type": "code",
   "execution_count": 3,
   "id": "9897cc53",
   "metadata": {},
   "outputs": [
    {
     "name": "stdout",
     "output_type": "stream",
     "text": [
      "[[44  5]\n",
      " [ 9 35]]\n",
      "              precision    recall  f1-score   support\n",
      "\n",
      "           0     0.8980    0.8302    0.8627        53\n",
      "           1     0.7955    0.8750    0.8333        40\n",
      "\n",
      "    accuracy                         0.8495        93\n",
      "   macro avg     0.8467    0.8526    0.8480        93\n",
      "weighted avg     0.8539    0.8495    0.8501        93\n",
      "\n"
     ]
    }
   ],
   "source": [
    "path_train = '../cle_train.csv'\n",
    "path_test = '../cle_test.csv'\n",
    "BayesianClassifier(path_train,path_test)"
   ]
  },
  {
   "cell_type": "markdown",
   "id": "cbf856e1",
   "metadata": {},
   "source": [
    "# Virginia"
   ]
  },
  {
   "cell_type": "code",
   "execution_count": 4,
   "id": "534f5c11",
   "metadata": {
    "scrolled": true
   },
   "outputs": [
    {
     "name": "stdout",
     "output_type": "stream",
     "text": [
      "[[ 5  9]\n",
      " [15 33]]\n",
      "              precision    recall  f1-score   support\n",
      "\n",
      "           0     0.3571    0.2500    0.2941        20\n",
      "           1     0.6875    0.7857    0.7333        42\n",
      "\n",
      "    accuracy                         0.6129        62\n",
      "   macro avg     0.5223    0.5179    0.5137        62\n",
      "weighted avg     0.5809    0.6129    0.5917        62\n",
      "\n"
     ]
    }
   ],
   "source": [
    "path_train = '../vir_train.csv'\n",
    "path_test = '../vir_test.csv'\n",
    "BayesianClassifier(path_train,path_test)"
   ]
  },
  {
   "cell_type": "markdown",
   "id": "6e9954e2",
   "metadata": {},
   "source": [
    "# Hungary"
   ]
  },
  {
   "cell_type": "code",
   "execution_count": 5,
   "id": "8ff2bdae",
   "metadata": {},
   "outputs": [
    {
     "name": "stdout",
     "output_type": "stream",
     "text": [
      "[[36  2]\n",
      " [18 38]]\n",
      "              precision    recall  f1-score   support\n",
      "\n",
      "           0     0.9474    0.6667    0.7826        54\n",
      "           1     0.6786    0.9500    0.7917        40\n",
      "\n",
      "    accuracy                         0.7872        94\n",
      "   macro avg     0.8130    0.8083    0.7871        94\n",
      "weighted avg     0.8330    0.7872    0.7865        94\n",
      "\n"
     ]
    }
   ],
   "source": [
    "path_train = '../hun_train.csv'\n",
    "path_test = '../hun_test.csv'\n",
    "BayesianClassifier(path_train,path_test)"
   ]
  },
  {
   "cell_type": "markdown",
   "id": "69ce3d28",
   "metadata": {},
   "source": [
    "# Switzerland"
   ]
  },
  {
   "cell_type": "code",
   "execution_count": 6,
   "id": "bdbe4c6c",
   "metadata": {},
   "outputs": [
    {
     "name": "stdout",
     "output_type": "stream",
     "text": [
      "[[ 2 24]\n",
      " [ 0 15]]\n",
      "              precision    recall  f1-score   support\n",
      "\n",
      "           0     0.0769    1.0000    0.1429         2\n",
      "           1     1.0000    0.3846    0.5556        39\n",
      "\n",
      "    accuracy                         0.4146        41\n",
      "   macro avg     0.5385    0.6923    0.3492        41\n",
      "weighted avg     0.9550    0.4146    0.5354        41\n",
      "\n"
     ]
    }
   ],
   "source": [
    "path_train = '../swi_train.csv'\n",
    "path_test = '../swi_test.csv'\n",
    "BayesianClassifier(path_train,path_test)"
   ]
  },
  {
   "cell_type": "markdown",
   "id": "56f9a575",
   "metadata": {},
   "source": [
    "# Combined"
   ]
  },
  {
   "cell_type": "code",
   "execution_count": 7,
   "id": "eb29f71f",
   "metadata": {},
   "outputs": [
    {
     "name": "stdout",
     "output_type": "stream",
     "text": [
      "[[ 98  23]\n",
      " [ 24 131]]\n",
      "              precision    recall  f1-score   support\n",
      "\n",
      "           0     0.8099    0.8033    0.8066       122\n",
      "           1     0.8452    0.8506    0.8479       154\n",
      "\n",
      "    accuracy                         0.8297       276\n",
      "   macro avg     0.8275    0.8270    0.8272       276\n",
      "weighted avg     0.8296    0.8297    0.8296       276\n",
      "\n"
     ]
    }
   ],
   "source": [
    "path_train = '../com_train.csv'\n",
    "path_test = '../com_test.csv'\n",
    "BayesianClassifier(path_train,path_test)"
   ]
  }
 ],
 "metadata": {
  "kernelspec": {
   "display_name": "Python 3 (ipykernel)",
   "language": "python",
   "name": "python3"
  },
  "language_info": {
   "codemirror_mode": {
    "name": "ipython",
    "version": 3
   },
   "file_extension": ".py",
   "mimetype": "text/x-python",
   "name": "python",
   "nbconvert_exporter": "python",
   "pygments_lexer": "ipython3",
   "version": "3.8.3"
  }
 },
 "nbformat": 4,
 "nbformat_minor": 5
}
