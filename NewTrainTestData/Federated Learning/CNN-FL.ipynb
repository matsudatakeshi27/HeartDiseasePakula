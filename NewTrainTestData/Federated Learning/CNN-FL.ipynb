{
 "cells": [
  {
   "cell_type": "code",
   "execution_count": 1,
   "id": "b9f37971",
   "metadata": {},
   "outputs": [],
   "source": [
    "import numpy as np\n",
    "import random\n",
    "import cv2\n",
    "import os\n",
    "from imutils import paths\n",
    "from sklearn.preprocessing import LabelBinarizer\n",
    "from sklearn.model_selection import train_test_split\n",
    "from sklearn.utils import shuffle\n",
    "from sklearn.metrics import accuracy_score\n",
    "import pandas as pd\n",
    "\n",
    "import tensorflow as tf\n",
    "from tensorflow.keras.models import Sequential\n",
    "from tensorflow.keras.layers import Conv1D, MaxPooling1D, Activation, Flatten, Dense, Dropout\n",
    "from tensorflow.keras.optimizers import SGD\n",
    "from tensorflow.keras import backend as K\n",
    "from sklearn.metrics import confusion_matrix, classification_report"
   ]
  },
  {
   "cell_type": "code",
   "execution_count": 2,
   "id": "05fdffd3",
   "metadata": {},
   "outputs": [],
   "source": [
    "#binarize the labels\n",
    "lb = LabelBinarizer()\n",
    "\n",
    "import pandas as pd\n",
    "\n",
    "data_files = ['cle_train.csv','cle_test.csv','hun_train.csv','hun_test.csv','swi_train.csv','swi_test.csv','vir_train.csv','vir_test.csv']\n",
    "\n",
    "datasets = {}\n",
    "\n",
    "for file in data_files:\n",
    "    data = pd.read_csv('../' + file)\n",
    "    \n",
    "    X = data.iloc[:, :-1]\n",
    "    Y = data.iloc[:, -1]\n",
    "    \n",
    "    Y_binary = Y.apply(lambda x: 1 if x > 0 else 0)\n",
    "    \n",
    "    # Extract the name from the file path\n",
    "    name = file.split('.')[0]\n",
    "    \n",
    "    # Store the dataset components in a dictionary\n",
    "    datasets[name] = {'X': X, 'Y': Y, 'Y_binary': Y_binary}\n",
    "\n",
    "# Unpack the dictionary values in a loop\n",
    "variables = ['cle', 'hun', 'swi', 'vir']\n",
    "train_test = ['train', 'test']\n",
    "\n",
    "for var in variables:\n",
    "    for tt in train_test:\n",
    "        X, Y, Y_binary = datasets[f'{var}_{tt}'].values()\n",
    "        globals()[f'{var}_X_{tt}'] = X\n",
    "        globals()[f'{var}_Y_{tt}'] = Y\n",
    "        globals()[f'{var}_Y_{tt}_binary'] = Y_binary"
   ]
  },
  {
   "cell_type": "code",
   "execution_count": 3,
   "id": "8171119e",
   "metadata": {},
   "outputs": [],
   "source": [
    "X_test = pd.concat([cle_X_test,hun_X_test,swi_X_test,vir_X_test])\n",
    "y_test = pd.concat([cle_Y_test_binary,hun_Y_test_binary,swi_Y_test_binary,vir_Y_test_binary])\n",
    "\n",
    "X_train = pd.concat([cle_X_train,hun_X_train,swi_X_train,vir_X_train])\n",
    "y_train = pd.concat([cle_Y_train_binary,hun_Y_train_binary,swi_Y_train_binary,vir_Y_train_binary])"
   ]
  },
  {
   "cell_type": "code",
   "execution_count": 4,
   "id": "3fc05e42",
   "metadata": {},
   "outputs": [],
   "source": [
    "def create_clients():\n",
    "    cle_zip = list(zip(cle_X_train.values,cle_Y_train_binary))\n",
    "    hun_zip = list(zip(hun_X_train.values,hun_Y_train_binary))\n",
    "    vir_zip = list(zip(vir_X_train.values,vir_Y_train_binary))\n",
    "    swi_zip = list(zip(swi_X_train.values,swi_Y_train_binary))\n",
    "    \n",
    "    shards = [cle_zip, hun_zip, vir_zip,swi_zip]\n",
    "    client_names = [\"client_1\",\"client_2\",\"client_3\",\"client_4\"]\n",
    "    dic = {client_names[i] : shards[i] for i in range(len(client_names))}\n",
    "    return dic\n",
    "\n",
    "\n",
    "def batch_data(data_shard, bs=32):\n",
    "    '''Takes in a clients data shard and create a tfds object off it\n",
    "    args:\n",
    "        shard: a data, label constituting a client's data shard\n",
    "        bs:batch size\n",
    "    return:\n",
    "        tfds object'''\n",
    "    #seperate shard into data and labels lists\n",
    "    data, label = zip(*data_shard)\n",
    "    dataset = tf.data.Dataset.from_tensor_slices((list(data), list(label)))\n",
    "    return dataset.shuffle(len(label)).batch(bs)\n",
    "\n",
    "\n",
    "class CNN:\n",
    "    @staticmethod\n",
    "    def build(shape, classes):\n",
    "        model = Sequential()\n",
    "        model.add(Conv1D(filters=64, kernel_size=3, activation='relu', input_shape=(22,1)))\n",
    "        model.add(Conv1D(filters=64, kernel_size=3, activation='relu'))\n",
    "        model.add(MaxPooling1D(pool_size=2))\n",
    "\n",
    "        model.add(Conv1D(filters=128, kernel_size=3, activation='relu'))\n",
    "        model.add(MaxPooling1D(pool_size=2))\n",
    "\n",
    "        model.add(Flatten())\n",
    "        model.add(Dense(256, activation='relu'))\n",
    "        model.add(Dense(2, activation='sigmoid'))\n",
    "\n",
    "        model.compile(loss='sparse_categorical_crossentropy', optimizer='adam', metrics=['accuracy'])\n",
    "        return model\n",
    "    \n",
    "\n",
    "def weight_scalling_factor(clients_trn_data, client_name):\n",
    "    client_names = list(clients_trn_data.keys())\n",
    "    #get the bs\n",
    "    bs = list(clients_trn_data[client_name])[0][0].shape[0]\n",
    "    #first calculate the total training data points across clinets\n",
    "    global_count = sum([tf.data.experimental.cardinality(clients_trn_data[client_name]).numpy() for client_name in client_names])*bs\n",
    "    # get the total number of data points held by a client\n",
    "    local_count = tf.data.experimental.cardinality(clients_trn_data[client_name]).numpy()*bs\n",
    "    return local_count/global_count\n",
    "\n",
    "\n",
    "def scale_model_weights(weight, scalar):\n",
    "    '''function for scaling a models weights'''\n",
    "    weight_final = []\n",
    "    steps = len(weight)\n",
    "    for i in range(steps):\n",
    "        weight_final.append(scalar * weight[i])\n",
    "    return weight_final\n",
    "\n",
    "\n",
    "def sum_scaled_weights(scaled_weight_list):\n",
    "    '''Return the sum of the listed scaled weights. The is equivalent to scaled avg of the weights'''\n",
    "    avg_grad = list()\n",
    "    #get the average grad accross all client gradients\n",
    "    for grad_list_tuple in zip(*scaled_weight_list):\n",
    "        layer_mean = tf.math.reduce_sum(grad_list_tuple, axis=0)\n",
    "        avg_grad.append(layer_mean)\n",
    "        \n",
    "    return avg_grad\n",
    "\n",
    "\n",
    "def test_model(X_test, Y_test,  model, comm_round):\n",
    "    cce = tf.keras.losses.SparseCategoricalCrossentropy(from_logits=True)\n",
    "    #logits = model.predict(X_test, batch_size=100)\n",
    "    logits = model.predict(X_test)\n",
    "    length = len(y_test)\n",
    "    Y_test = tf.reshape(Y_test,(length,1))\n",
    "    loss = cce(Y_test, logits)\n",
    "    acc = accuracy_score(tf.argmax(logits, axis=1), Y_test)\n",
    "    print('comm_round: {} | global_acc: {:.3%} | global_loss: {}'.format(comm_round, acc, loss))\n",
    "    return acc, loss"
   ]
  },
  {
   "cell_type": "code",
   "execution_count": 5,
   "id": "c94fcc46",
   "metadata": {
    "scrolled": true
   },
   "outputs": [
    {
     "name": "stderr",
     "output_type": "stream",
     "text": [
      "c:\\users\\votri\\appdata\\local\\programs\\python\\python38\\lib\\site-packages\\keras\\optimizer_v2\\gradient_descent.py:102: UserWarning: The `lr` argument is deprecated, use `learning_rate` instead.\n",
      "  super(SGD, self).__init__(name, **kwargs)\n"
     ]
    },
    {
     "name": "stdout",
     "output_type": "stream",
     "text": [
      "comm_round: 0 | global_acc: 55.172% | global_loss: 0.6928995847702026\n",
      "comm_round: 1 | global_acc: 66.897% | global_loss: 0.6920645833015442\n",
      "comm_round: 2 | global_acc: 68.621% | global_loss: 0.6914945840835571\n",
      "comm_round: 3 | global_acc: 66.897% | global_loss: 0.6910414099693298\n",
      "comm_round: 4 | global_acc: 73.103% | global_loss: 0.690123438835144\n",
      "comm_round: 5 | global_acc: 73.793% | global_loss: 0.6894394755363464\n",
      "comm_round: 6 | global_acc: 72.414% | global_loss: 0.6887753009796143\n",
      "comm_round: 7 | global_acc: 73.448% | global_loss: 0.6883134245872498\n",
      "comm_round: 8 | global_acc: 73.448% | global_loss: 0.6876694560050964\n",
      "comm_round: 9 | global_acc: 74.138% | global_loss: 0.6870371103286743\n",
      "comm_round: 10 | global_acc: 73.793% | global_loss: 0.686455488204956\n",
      "comm_round: 11 | global_acc: 75.172% | global_loss: 0.6856493949890137\n",
      "comm_round: 12 | global_acc: 75.862% | global_loss: 0.6847979426383972\n",
      "comm_round: 13 | global_acc: 75.517% | global_loss: 0.6840035319328308\n",
      "comm_round: 14 | global_acc: 74.138% | global_loss: 0.6829774379730225\n",
      "comm_round: 15 | global_acc: 74.138% | global_loss: 0.6821333765983582\n",
      "comm_round: 16 | global_acc: 74.138% | global_loss: 0.6811951994895935\n",
      "comm_round: 17 | global_acc: 74.828% | global_loss: 0.6804613471031189\n",
      "comm_round: 18 | global_acc: 75.172% | global_loss: 0.6794063448905945\n",
      "comm_round: 19 | global_acc: 74.483% | global_loss: 0.678152322769165\n",
      "comm_round: 20 | global_acc: 74.483% | global_loss: 0.6770025491714478\n",
      "comm_round: 21 | global_acc: 74.138% | global_loss: 0.6759635210037231\n",
      "comm_round: 22 | global_acc: 75.172% | global_loss: 0.6749868392944336\n",
      "comm_round: 23 | global_acc: 75.517% | global_loss: 0.6736027598381042\n",
      "comm_round: 24 | global_acc: 75.517% | global_loss: 0.6724603176116943\n",
      "comm_round: 25 | global_acc: 75.517% | global_loss: 0.671042263507843\n",
      "comm_round: 26 | global_acc: 75.517% | global_loss: 0.6696768999099731\n",
      "comm_round: 27 | global_acc: 75.517% | global_loss: 0.6681904792785645\n",
      "comm_round: 28 | global_acc: 75.517% | global_loss: 0.6665591597557068\n",
      "comm_round: 29 | global_acc: 75.517% | global_loss: 0.6648755669593811\n",
      "comm_round: 30 | global_acc: 75.517% | global_loss: 0.6630334258079529\n",
      "comm_round: 31 | global_acc: 75.862% | global_loss: 0.6608912348747253\n",
      "comm_round: 32 | global_acc: 75.862% | global_loss: 0.6588228344917297\n",
      "comm_round: 33 | global_acc: 75.862% | global_loss: 0.6569759249687195\n",
      "comm_round: 34 | global_acc: 75.862% | global_loss: 0.6541734337806702\n",
      "comm_round: 35 | global_acc: 76.207% | global_loss: 0.652205765247345\n",
      "comm_round: 36 | global_acc: 75.517% | global_loss: 0.6503939628601074\n",
      "comm_round: 37 | global_acc: 76.207% | global_loss: 0.6474797129631042\n",
      "comm_round: 38 | global_acc: 76.207% | global_loss: 0.6453263759613037\n",
      "comm_round: 39 | global_acc: 76.897% | global_loss: 0.6429750919342041\n",
      "comm_round: 40 | global_acc: 76.552% | global_loss: 0.6401391625404358\n",
      "comm_round: 41 | global_acc: 76.552% | global_loss: 0.6380554437637329\n",
      "comm_round: 42 | global_acc: 76.552% | global_loss: 0.6357434988021851\n",
      "comm_round: 43 | global_acc: 76.207% | global_loss: 0.6330950856208801\n",
      "comm_round: 44 | global_acc: 75.862% | global_loss: 0.6310247182846069\n",
      "comm_round: 45 | global_acc: 76.552% | global_loss: 0.6284281611442566\n",
      "comm_round: 46 | global_acc: 76.207% | global_loss: 0.6262851357460022\n",
      "comm_round: 47 | global_acc: 76.207% | global_loss: 0.6236633062362671\n",
      "comm_round: 48 | global_acc: 76.207% | global_loss: 0.6220638155937195\n",
      "comm_round: 49 | global_acc: 76.207% | global_loss: 0.6193580627441406\n",
      "comm_round: 50 | global_acc: 76.552% | global_loss: 0.6169772744178772\n",
      "comm_round: 51 | global_acc: 76.207% | global_loss: 0.6181936860084534\n",
      "comm_round: 52 | global_acc: 77.241% | global_loss: 0.6118041276931763\n",
      "comm_round: 53 | global_acc: 76.552% | global_loss: 0.612212598323822\n",
      "comm_round: 54 | global_acc: 76.552% | global_loss: 0.608786404132843\n",
      "comm_round: 55 | global_acc: 76.552% | global_loss: 0.609915018081665\n",
      "comm_round: 56 | global_acc: 76.897% | global_loss: 0.605444610118866\n",
      "comm_round: 57 | global_acc: 76.552% | global_loss: 0.607513964176178\n",
      "comm_round: 58 | global_acc: 77.241% | global_loss: 0.6022139191627502\n",
      "comm_round: 59 | global_acc: 75.517% | global_loss: 0.6027553081512451\n",
      "comm_round: 60 | global_acc: 76.207% | global_loss: 0.5999720096588135\n",
      "comm_round: 61 | global_acc: 75.517% | global_loss: 0.5996953248977661\n",
      "comm_round: 62 | global_acc: 76.207% | global_loss: 0.5998561978340149\n",
      "comm_round: 63 | global_acc: 75.517% | global_loss: 0.5972933769226074\n",
      "comm_round: 64 | global_acc: 77.241% | global_loss: 0.6011549234390259\n",
      "comm_round: 65 | global_acc: 75.862% | global_loss: 0.5952886939048767\n",
      "comm_round: 66 | global_acc: 75.862% | global_loss: 0.5960602164268494\n",
      "comm_round: 67 | global_acc: 76.897% | global_loss: 0.593153178691864\n",
      "comm_round: 68 | global_acc: 75.517% | global_loss: 0.5939368009567261\n",
      "comm_round: 69 | global_acc: 75.172% | global_loss: 0.5928667783737183\n",
      "comm_round: 70 | global_acc: 76.207% | global_loss: 0.5905926823616028\n",
      "comm_round: 71 | global_acc: 76.552% | global_loss: 0.5921677947044373\n",
      "comm_round: 72 | global_acc: 74.828% | global_loss: 0.5905023217201233\n",
      "comm_round: 73 | global_acc: 75.172% | global_loss: 0.5899564027786255\n",
      "comm_round: 74 | global_acc: 77.241% | global_loss: 0.587765634059906\n",
      "comm_round: 75 | global_acc: 76.207% | global_loss: 0.5880445837974548\n",
      "comm_round: 76 | global_acc: 77.241% | global_loss: 0.58693927526474\n",
      "comm_round: 77 | global_acc: 76.897% | global_loss: 0.589465320110321\n",
      "comm_round: 78 | global_acc: 76.552% | global_loss: 0.5867065191268921\n",
      "comm_round: 79 | global_acc: 75.517% | global_loss: 0.5911290049552917\n",
      "comm_round: 80 | global_acc: 77.241% | global_loss: 0.5855696201324463\n",
      "comm_round: 81 | global_acc: 76.207% | global_loss: 0.5865258574485779\n",
      "comm_round: 82 | global_acc: 76.552% | global_loss: 0.5852960348129272\n",
      "comm_round: 83 | global_acc: 76.897% | global_loss: 0.5841047763824463\n",
      "comm_round: 84 | global_acc: 76.552% | global_loss: 0.5866446495056152\n",
      "comm_round: 85 | global_acc: 76.552% | global_loss: 0.584902822971344\n",
      "comm_round: 86 | global_acc: 77.241% | global_loss: 0.5828006267547607\n",
      "comm_round: 87 | global_acc: 76.552% | global_loss: 0.5833684206008911\n",
      "comm_round: 88 | global_acc: 76.552% | global_loss: 0.5831233859062195\n",
      "comm_round: 89 | global_acc: 76.552% | global_loss: 0.5831119418144226\n",
      "comm_round: 90 | global_acc: 76.897% | global_loss: 0.5821079015731812\n",
      "comm_round: 91 | global_acc: 76.552% | global_loss: 0.5828931331634521\n",
      "comm_round: 92 | global_acc: 76.552% | global_loss: 0.5830897092819214\n",
      "comm_round: 93 | global_acc: 76.897% | global_loss: 0.5824479460716248\n",
      "comm_round: 94 | global_acc: 77.586% | global_loss: 0.5863003730773926\n",
      "comm_round: 95 | global_acc: 76.552% | global_loss: 0.5811883211135864\n",
      "comm_round: 96 | global_acc: 76.207% | global_loss: 0.5831971168518066\n",
      "comm_round: 97 | global_acc: 76.207% | global_loss: 0.5820797085762024\n",
      "comm_round: 98 | global_acc: 76.552% | global_loss: 0.5808396339416504\n",
      "comm_round: 99 | global_acc: 76.897% | global_loss: 0.5798133611679077\n",
      "comm_round: 1 | global_acc: 78.276% | global_loss: 0.5703117251396179\n"
     ]
    }
   ],
   "source": [
    "#create clients\n",
    "clients = create_clients()\n",
    "\n",
    "#process and batch the training data for each client\n",
    "clients_batched = dict()\n",
    "for (client_name, data) in clients.items():\n",
    "    clients_batched[client_name] = batch_data(data)\n",
    "    \n",
    "#process and batch the test set  \n",
    "test_batched = tf.data.Dataset.from_tensor_slices((X_test, y_test)).batch(len(y_test))\n",
    "\n",
    "comms_round = 100\n",
    "    \n",
    "#create optimizer\n",
    "lr = 0.01 \n",
    "loss='sparse_categorical_crossentropy'\n",
    "metrics = ['accuracy']\n",
    "optimizer = tf.keras.optimizers.SGD(lr=lr, decay=lr / comms_round, momentum=0.9) \n",
    "\n",
    "#initialize global model\n",
    "smlp_global = CNN()\n",
    "global_model = smlp_global.build(22, 2)\n",
    "        \n",
    "#commence global training loop\n",
    "for comm_round in range(comms_round):\n",
    "            \n",
    "    # get the global model's weights - will serve as the initial weights for all local models\n",
    "    global_weights = global_model.get_weights()\n",
    "    \n",
    "    #initial list to collect local model weights after scalling\n",
    "    scaled_local_weight_list = list()\n",
    "\n",
    "    #randomize client data - using keys\n",
    "    client_names= list(clients_batched.keys())\n",
    "    random.shuffle(client_names)\n",
    "    \n",
    "    #loop through each client and create new local model\n",
    "    for client in client_names:\n",
    "        smlp_local = CNN()\n",
    "        local_model = smlp_local.build(22, 2)\n",
    "        local_model.compile(loss=loss, \n",
    "                      optimizer=optimizer, \n",
    "                      metrics=metrics)\n",
    "        \n",
    "        #set local model weight to the weight of the global model\n",
    "        local_model.set_weights(global_weights)\n",
    "        \n",
    "        #fit local model with client's data\n",
    "        local_model.fit(clients_batched[client], epochs=1, verbose=0)\n",
    "        \n",
    "        #scale the model weights and add to list\n",
    "        scaling_factor = weight_scalling_factor(clients_batched, client)\n",
    "        scaled_weights = scale_model_weights(local_model.get_weights(), scaling_factor)\n",
    "        scaled_local_weight_list.append(scaled_weights)\n",
    "        \n",
    "        #clear session to free memory after each communication round\n",
    "        K.clear_session()\n",
    "        \n",
    "    #to get the average over all the local model, we simply take the sum of the scaled weights\n",
    "    average_weights = sum_scaled_weights(scaled_local_weight_list)\n",
    "    \n",
    "    #update global model \n",
    "    global_model.set_weights(average_weights)\n",
    "\n",
    "    #test global model and print out metrics after each communications round\n",
    "    for(X_test, Y_test) in test_batched:\n",
    "        global_acc, global_loss = test_model(X_test, Y_test, global_model, comm_round)\n",
    "        SGD_dataset = tf.data.Dataset.from_tensor_slices((X_train, y_train)).shuffle(len(y_train)).batch(250)\n",
    "        smlp_SGD = CNN()\n",
    "        SGD_model = smlp_SGD.build(22, 2) \n",
    "\n",
    "        SGD_model.compile(loss=loss, optimizer=optimizer, metrics=metrics)\n",
    "\n",
    "# fit the SGD training data to model\n",
    "_ = SGD_model.fit(SGD_dataset, epochs=100, verbose=0)\n",
    "\n",
    "#test the SGD global model and print out metrics\n",
    "for(X_test, Y_test) in test_batched:\n",
    "        SGD_acc, SGD_loss = test_model(X_test, Y_test, SGD_model, 1)"
   ]
  },
  {
   "cell_type": "code",
   "execution_count": 6,
   "id": "9b13ff1f",
   "metadata": {},
   "outputs": [],
   "source": [
    "Y_predictions = np.argmax(SGD_model.predict(X_test),axis = 1)"
   ]
  },
  {
   "cell_type": "code",
   "execution_count": 7,
   "id": "9bc551a0",
   "metadata": {
    "scrolled": true
   },
   "outputs": [
    {
     "data": {
      "text/plain": [
       "array([[ 87,  21],\n",
       "       [ 42, 140]], dtype=int64)"
      ]
     },
     "execution_count": 7,
     "metadata": {},
     "output_type": "execute_result"
    }
   ],
   "source": [
    "cm = confusion_matrix(Y_predictions, Y_test)\n",
    "cm"
   ]
  },
  {
   "cell_type": "code",
   "execution_count": 8,
   "id": "8a83e0bb",
   "metadata": {},
   "outputs": [
    {
     "name": "stdout",
     "output_type": "stream",
     "text": [
      "              precision    recall  f1-score   support\n",
      "\n",
      "           0     0.8056    0.6744    0.7342       129\n",
      "           1     0.7692    0.8696    0.8163       161\n",
      "\n",
      "    accuracy                         0.7828       290\n",
      "   macro avg     0.7874    0.7720    0.7753       290\n",
      "weighted avg     0.7854    0.7828    0.7798       290\n",
      "\n"
     ]
    }
   ],
   "source": [
    "print(classification_report(Y_test, Y_predictions, digits=4))"
   ]
  },
  {
   "cell_type": "markdown",
   "id": "56495b0e",
   "metadata": {},
   "source": [
    "# Testing on each dataset"
   ]
  },
  {
   "cell_type": "code",
   "execution_count": 9,
   "id": "ec02651a",
   "metadata": {
    "scrolled": true
   },
   "outputs": [
    {
     "name": "stdout",
     "output_type": "stream",
     "text": [
      "[[41  5]\n",
      " [12 35]]\n",
      "              precision    recall  f1-score   support\n",
      "\n",
      "           0     0.7736    0.8913    0.8283        46\n",
      "           1     0.8750    0.7447    0.8046        47\n",
      "\n",
      "    accuracy                         0.8172        93\n",
      "   macro avg     0.8243    0.8180    0.8164        93\n",
      "weighted avg     0.8248    0.8172    0.8163        93\n",
      "\n"
     ]
    }
   ],
   "source": [
    "Y_cle = np.argmax(SGD_model.predict(cle_X_test),axis = 1)\n",
    "cm_cle = confusion_matrix(Y_cle, cle_Y_test_binary)\n",
    "print(cm_cle)\n",
    "print(classification_report(Y_cle, cle_Y_test_binary, digits=4))"
   ]
  },
  {
   "cell_type": "code",
   "execution_count": 10,
   "id": "87b7cedd",
   "metadata": {},
   "outputs": [
    {
     "name": "stdout",
     "output_type": "stream",
     "text": [
      "[3, 4, 14, 24, 27, 28, 34, 36, 55, 59, 62, 64, 77, 80, 83, 86, 91]\n"
     ]
    }
   ],
   "source": [
    "mismatch = [i for i, (a,b) in enumerate(zip(Y_cle, cle_Y_test_binary)) if a != b]\n",
    "print(mismatch)"
   ]
  },
  {
   "cell_type": "code",
   "execution_count": 11,
   "id": "b2d4cc1c",
   "metadata": {
    "scrolled": true
   },
   "outputs": [
    {
     "name": "stdout",
     "output_type": "stream",
     "text": [
      "[[ 4  4]\n",
      " [16 38]]\n",
      "              precision    recall  f1-score   support\n",
      "\n",
      "           0     0.2000    0.5000    0.2857         8\n",
      "           1     0.9048    0.7037    0.7917        54\n",
      "\n",
      "    accuracy                         0.6774        62\n",
      "   macro avg     0.5524    0.6019    0.5387        62\n",
      "weighted avg     0.8138    0.6774    0.7264        62\n",
      "\n"
     ]
    }
   ],
   "source": [
    "Y_vir = np.argmax(SGD_model.predict(vir_X_test),axis = 1)\n",
    "cm_vir = confusion_matrix(Y_vir, vir_Y_test_binary)\n",
    "print(cm_vir)\n",
    "print(classification_report(Y_vir, vir_Y_test_binary, digits=4))"
   ]
  },
  {
   "cell_type": "code",
   "execution_count": 12,
   "id": "625cfaa5",
   "metadata": {},
   "outputs": [
    {
     "name": "stdout",
     "output_type": "stream",
     "text": [
      "[0, 2, 4, 13, 14, 15, 19, 22, 24, 28, 33, 35, 37, 38, 41, 44, 51, 55, 59, 60]\n"
     ]
    }
   ],
   "source": [
    "mismatch = [i for i, (a,b) in enumerate(zip(Y_vir, vir_Y_test_binary)) if a != b]\n",
    "print(mismatch)"
   ]
  },
  {
   "cell_type": "code",
   "execution_count": 13,
   "id": "9c031520",
   "metadata": {
    "scrolled": true
   },
   "outputs": [
    {
     "name": "stdout",
     "output_type": "stream",
     "text": [
      "[[41  5]\n",
      " [13 35]]\n",
      "              precision    recall  f1-score   support\n",
      "\n",
      "           0     0.7593    0.8913    0.8200        46\n",
      "           1     0.8750    0.7292    0.7955        48\n",
      "\n",
      "    accuracy                         0.8085        94\n",
      "   macro avg     0.8171    0.8102    0.8077        94\n",
      "weighted avg     0.8184    0.8085    0.8075        94\n",
      "\n"
     ]
    }
   ],
   "source": [
    "Y_hun = np.argmax(SGD_model.predict(hun_X_test),axis = 1)\n",
    "cm_hun = confusion_matrix(Y_hun, hun_Y_test_binary)\n",
    "print(cm_hun)\n",
    "print(classification_report(Y_hun, hun_Y_test_binary, digits=4))"
   ]
  },
  {
   "cell_type": "code",
   "execution_count": 14,
   "id": "ec7ffbc9",
   "metadata": {},
   "outputs": [
    {
     "name": "stdout",
     "output_type": "stream",
     "text": [
      "[4, 5, 13, 30, 40, 43, 44, 47, 55, 61, 64, 65, 66, 73, 77, 81, 86, 90]\n"
     ]
    }
   ],
   "source": [
    "mismatch = [i for i, (a,b) in enumerate(zip(Y_hun, hun_Y_test_binary)) if a != b]\n",
    "print(mismatch)"
   ]
  },
  {
   "cell_type": "code",
   "execution_count": 15,
   "id": "2e837211",
   "metadata": {
    "scrolled": true
   },
   "outputs": [
    {
     "name": "stdout",
     "output_type": "stream",
     "text": [
      "[[ 1  7]\n",
      " [ 1 32]]\n",
      "              precision    recall  f1-score   support\n",
      "\n",
      "           0     0.5000    0.1250    0.2000         8\n",
      "           1     0.8205    0.9697    0.8889        33\n",
      "\n",
      "    accuracy                         0.8049        41\n",
      "   macro avg     0.6603    0.5473    0.5444        41\n",
      "weighted avg     0.7580    0.8049    0.7545        41\n",
      "\n"
     ]
    }
   ],
   "source": [
    "Y_swi = np.argmax(SGD_model.predict(swi_X_test),axis = 1)\n",
    "cm_swi = confusion_matrix(Y_swi, swi_Y_test_binary)\n",
    "print(cm_swi)\n",
    "print(classification_report(Y_swi, swi_Y_test_binary, digits=4))"
   ]
  },
  {
   "cell_type": "code",
   "execution_count": 16,
   "id": "805b6caf",
   "metadata": {},
   "outputs": [
    {
     "name": "stdout",
     "output_type": "stream",
     "text": [
      "[3, 5, 8, 11, 14, 20, 21, 24]\n"
     ]
    }
   ],
   "source": [
    "mismatch = [i for i, (a,b) in enumerate(zip(Y_swi, swi_Y_test_binary)) if a != b]\n",
    "print(mismatch)"
   ]
  },
  {
   "cell_type": "markdown",
   "id": "7d33fd8b",
   "metadata": {},
   "source": []
  }
 ],
 "metadata": {
  "kernelspec": {
   "display_name": "Python 3 (ipykernel)",
   "language": "python",
   "name": "python3"
  },
  "language_info": {
   "codemirror_mode": {
    "name": "ipython",
    "version": 3
   },
   "file_extension": ".py",
   "mimetype": "text/x-python",
   "name": "python",
   "nbconvert_exporter": "python",
   "pygments_lexer": "ipython3",
   "version": "3.8.3"
  }
 },
 "nbformat": 4,
 "nbformat_minor": 5
}
