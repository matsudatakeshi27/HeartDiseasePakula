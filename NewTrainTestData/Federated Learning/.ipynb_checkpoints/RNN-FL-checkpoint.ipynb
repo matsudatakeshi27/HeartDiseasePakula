{
 "cells": [
  {
   "cell_type": "code",
   "execution_count": 1,
   "id": "b9f37971",
   "metadata": {},
   "outputs": [],
   "source": [
    "import numpy as np\n",
    "import random\n",
    "import cv2\n",
    "import os\n",
    "from imutils import paths\n",
    "from sklearn.preprocessing import LabelBinarizer\n",
    "from sklearn.model_selection import train_test_split\n",
    "from sklearn.utils import shuffle\n",
    "from sklearn.metrics import accuracy_score\n",
    "import pandas as pd\n",
    "\n",
    "import tensorflow as tf\n",
    "from tensorflow.keras.models import Sequential\n",
    "from tensorflow.keras.layers import Conv2D\n",
    "from tensorflow.keras.layers import MaxPooling2D\n",
    "from tensorflow.keras.layers import Activation\n",
    "from tensorflow.keras.layers import Flatten\n",
    "from tensorflow.keras.layers import Dense, SimpleRNN\n",
    "from tensorflow.keras.optimizers import SGD\n",
    "from tensorflow.keras import backend as K\n",
    "from sklearn.metrics import confusion_matrix, classification_report"
   ]
  },
  {
   "cell_type": "code",
   "execution_count": 2,
   "id": "05fdffd3",
   "metadata": {},
   "outputs": [],
   "source": [
    "#binarize the labels\n",
    "lb = LabelBinarizer()\n",
    "\n",
    "import pandas as pd\n",
    "\n",
    "data_files = ['cle_train.csv','cle_test.csv','hun_train.csv','hun_test.csv','swi_train.csv','swi_test.csv','vir_train.csv','vir_test.csv']\n",
    "\n",
    "datasets = {}\n",
    "\n",
    "for file in data_files:\n",
    "    data = pd.read_csv('../' + file)\n",
    "    \n",
    "    X = data.iloc[:, :-1]\n",
    "    Y = data.iloc[:, -1]\n",
    "    \n",
    "    Y_binary = Y.apply(lambda x: 1 if x > 0 else 0)\n",
    "    \n",
    "    # Extract the name from the file path\n",
    "    name = file.split('.')[0]\n",
    "    \n",
    "    # Store the dataset components in a dictionary\n",
    "    datasets[name] = {'X': X, 'Y': Y, 'Y_binary': Y_binary}\n",
    "\n",
    "# Unpack the dictionary values in a loop\n",
    "variables = ['cle', 'hun', 'swi', 'vir']\n",
    "train_test = ['train', 'test']\n",
    "\n",
    "for var in variables:\n",
    "    for tt in train_test:\n",
    "        X, Y, Y_binary = datasets[f'{var}_{tt}'].values()\n",
    "        globals()[f'{var}_X_{tt}'] = X\n",
    "        globals()[f'{var}_Y_{tt}'] = Y\n",
    "        globals()[f'{var}_Y_{tt}_binary'] = Y_binary"
   ]
  },
  {
   "cell_type": "code",
   "execution_count": 3,
   "id": "8171119e",
   "metadata": {},
   "outputs": [],
   "source": [
    "X_test = pd.concat([cle_X_test,hun_X_test,swi_X_test,vir_X_test])\n",
    "y_test = pd.concat([cle_Y_test_binary,hun_Y_test_binary,swi_Y_test_binary,vir_Y_test_binary])\n",
    "\n",
    "X_train = pd.concat([cle_X_train,hun_X_train,swi_X_train,vir_X_train])\n",
    "y_train = pd.concat([cle_Y_train_binary,hun_Y_train_binary,swi_Y_train_binary,vir_Y_train_binary])"
   ]
  },
  {
   "cell_type": "code",
   "execution_count": 4,
   "id": "3fc05e42",
   "metadata": {},
   "outputs": [],
   "source": [
    "def create_clients():\n",
    "    cle_zip = list(zip(cle_X_train.values,cle_Y_train_binary))\n",
    "    hun_zip = list(zip(hun_X_train.values,hun_Y_train_binary))\n",
    "    vir_zip = list(zip(vir_X_train.values,vir_Y_train_binary))\n",
    "    swi_zip = list(zip(swi_X_train.values,swi_Y_train_binary))\n",
    "    \n",
    "    shards = [cle_zip, hun_zip, vir_zip,swi_zip]\n",
    "    client_names = [\"client_1\",\"client_2\",\"client_3\",\"client_4\"]\n",
    "    dic = {client_names[i] : shards[i] for i in range(len(client_names))}\n",
    "    return dic\n",
    "\n",
    "\n",
    "def batch_data(data_shard, bs=32):\n",
    "    '''Takes in a clients data shard and create a tfds object off it\n",
    "    args:\n",
    "        shard: a data, label constituting a client's data shard\n",
    "        bs:batch size\n",
    "    return:\n",
    "        tfds object'''\n",
    "    #seperate shard into data and labels lists\n",
    "    data, label = zip(*data_shard)\n",
    "    dataset = tf.data.Dataset.from_tensor_slices((list(data), list(label)))\n",
    "    return dataset.shuffle(len(label)).batch(bs)\n",
    "\n",
    "\n",
    "class RNN:\n",
    "    @staticmethod\n",
    "    def build(shape, classes):\n",
    "        model = Sequential()\n",
    "        model.add(SimpleRNN(units=64, return_sequences=True, input_shape=(22, 1)))\n",
    "        model.add(SimpleRNN(units=32, return_sequences=True))\n",
    "        model.add(SimpleRNN(units=16))\n",
    "        model.add(Dense(units=2, activation='sigmoid'))\n",
    "        model.compile(optimizer='adam', loss='sparse_categorical_crossentropy', metrics=['accuracy'])\n",
    "        return model\n",
    "    \n",
    "\n",
    "def weight_scalling_factor(clients_trn_data, client_name):\n",
    "    client_names = list(clients_trn_data.keys())\n",
    "    #get the bs\n",
    "    bs = list(clients_trn_data[client_name])[0][0].shape[0]\n",
    "    #first calculate the total training data points across clinets\n",
    "    global_count = sum([tf.data.experimental.cardinality(clients_trn_data[client_name]).numpy() for client_name in client_names])*bs\n",
    "    # get the total number of data points held by a client\n",
    "    local_count = tf.data.experimental.cardinality(clients_trn_data[client_name]).numpy()*bs\n",
    "    return local_count/global_count\n",
    "\n",
    "\n",
    "def scale_model_weights(weight, scalar):\n",
    "    '''function for scaling a models weights'''\n",
    "    weight_final = []\n",
    "    steps = len(weight)\n",
    "    for i in range(steps):\n",
    "        weight_final.append(scalar * weight[i])\n",
    "    return weight_final\n",
    "\n",
    "\n",
    "def sum_scaled_weights(scaled_weight_list):\n",
    "    '''Return the sum of the listed scaled weights. The is equivalent to scaled avg of the weights'''\n",
    "    avg_grad = list()\n",
    "    #get the average grad accross all client gradients\n",
    "    for grad_list_tuple in zip(*scaled_weight_list):\n",
    "        layer_mean = tf.math.reduce_sum(grad_list_tuple, axis=0)\n",
    "        avg_grad.append(layer_mean)\n",
    "        \n",
    "    return avg_grad\n",
    "\n",
    "\n",
    "def test_model(X_test, Y_test,  model, comm_round):\n",
    "    cce = tf.keras.losses.SparseCategoricalCrossentropy(from_logits=True)\n",
    "    #logits = model.predict(X_test, batch_size=100)\n",
    "    logits = model.predict(X_test)\n",
    "    length = len(y_test)\n",
    "    Y_test = tf.reshape(Y_test,(length,1))\n",
    "    loss = cce(Y_test, logits)\n",
    "    acc = accuracy_score(tf.argmax(logits, axis=1), Y_test)\n",
    "    print('comm_round: {} | global_acc: {:.3%} | global_loss: {}'.format(comm_round, acc, loss))\n",
    "    return acc, loss"
   ]
  },
  {
   "cell_type": "code",
   "execution_count": 5,
   "id": "c94fcc46",
   "metadata": {
    "scrolled": true
   },
   "outputs": [
    {
     "name": "stderr",
     "output_type": "stream",
     "text": [
      "c:\\users\\votri\\appdata\\local\\programs\\python\\python38\\lib\\site-packages\\keras\\optimizer_v2\\gradient_descent.py:102: UserWarning: The `lr` argument is deprecated, use `learning_rate` instead.\n",
      "  super(SGD, self).__init__(name, **kwargs)\n"
     ]
    },
    {
     "name": "stdout",
     "output_type": "stream",
     "text": [
      "comm_round: 0 | global_acc: 63.448% | global_loss: 0.6717495322227478\n",
      "comm_round: 1 | global_acc: 77.586% | global_loss: 0.608271598815918\n",
      "comm_round: 2 | global_acc: 78.966% | global_loss: 0.6024912595748901\n",
      "comm_round: 3 | global_acc: 79.310% | global_loss: 0.5896257162094116\n",
      "comm_round: 4 | global_acc: 80.000% | global_loss: 0.5908492803573608\n",
      "comm_round: 5 | global_acc: 78.966% | global_loss: 0.5863795876502991\n",
      "comm_round: 6 | global_acc: 78.276% | global_loss: 0.5893552303314209\n",
      "comm_round: 7 | global_acc: 78.966% | global_loss: 0.5816392302513123\n",
      "comm_round: 8 | global_acc: 79.310% | global_loss: 0.5830850005149841\n",
      "comm_round: 9 | global_acc: 79.655% | global_loss: 0.5812556743621826\n",
      "comm_round: 10 | global_acc: 80.345% | global_loss: 0.5789662599563599\n",
      "comm_round: 11 | global_acc: 80.345% | global_loss: 0.5773584246635437\n",
      "comm_round: 12 | global_acc: 78.621% | global_loss: 0.580890953540802\n",
      "comm_round: 13 | global_acc: 80.690% | global_loss: 0.5777463316917419\n",
      "comm_round: 14 | global_acc: 80.690% | global_loss: 0.5783882737159729\n",
      "comm_round: 15 | global_acc: 81.034% | global_loss: 0.5734587907791138\n",
      "comm_round: 16 | global_acc: 81.724% | global_loss: 0.5743020176887512\n",
      "comm_round: 17 | global_acc: 78.966% | global_loss: 0.5737407803535461\n",
      "comm_round: 18 | global_acc: 80.345% | global_loss: 0.5859794616699219\n",
      "comm_round: 19 | global_acc: 80.000% | global_loss: 0.5754193067550659\n",
      "comm_round: 20 | global_acc: 79.310% | global_loss: 0.5770226716995239\n",
      "comm_round: 21 | global_acc: 81.034% | global_loss: 0.572462797164917\n",
      "comm_round: 22 | global_acc: 80.690% | global_loss: 0.5685142278671265\n",
      "comm_round: 23 | global_acc: 80.690% | global_loss: 0.571017324924469\n",
      "comm_round: 24 | global_acc: 81.379% | global_loss: 0.5651735663414001\n",
      "comm_round: 25 | global_acc: 81.379% | global_loss: 0.5711826086044312\n",
      "comm_round: 26 | global_acc: 81.379% | global_loss: 0.5709890723228455\n",
      "comm_round: 27 | global_acc: 80.690% | global_loss: 0.5671000480651855\n",
      "comm_round: 28 | global_acc: 81.034% | global_loss: 0.56864994764328\n",
      "comm_round: 29 | global_acc: 81.034% | global_loss: 0.5655450224876404\n",
      "comm_round: 30 | global_acc: 80.690% | global_loss: 0.5635108947753906\n",
      "comm_round: 31 | global_acc: 80.345% | global_loss: 0.5652964115142822\n",
      "comm_round: 32 | global_acc: 81.034% | global_loss: 0.5676776170730591\n",
      "comm_round: 33 | global_acc: 80.000% | global_loss: 0.5631108283996582\n",
      "comm_round: 34 | global_acc: 80.000% | global_loss: 0.571124255657196\n",
      "comm_round: 35 | global_acc: 80.345% | global_loss: 0.5639771819114685\n",
      "comm_round: 36 | global_acc: 80.690% | global_loss: 0.5628342032432556\n",
      "comm_round: 37 | global_acc: 80.690% | global_loss: 0.5683140158653259\n",
      "comm_round: 38 | global_acc: 79.655% | global_loss: 0.5618623495101929\n",
      "comm_round: 39 | global_acc: 81.379% | global_loss: 0.5649796724319458\n",
      "comm_round: 40 | global_acc: 79.310% | global_loss: 0.5603285431861877\n",
      "comm_round: 41 | global_acc: 80.000% | global_loss: 0.5595000982284546\n",
      "comm_round: 42 | global_acc: 80.345% | global_loss: 0.5573219656944275\n",
      "comm_round: 43 | global_acc: 80.345% | global_loss: 0.5626760125160217\n",
      "comm_round: 44 | global_acc: 78.966% | global_loss: 0.5596499443054199\n",
      "comm_round: 45 | global_acc: 79.655% | global_loss: 0.558523952960968\n",
      "comm_round: 46 | global_acc: 79.655% | global_loss: 0.5580406188964844\n",
      "comm_round: 47 | global_acc: 80.345% | global_loss: 0.5592794418334961\n",
      "comm_round: 48 | global_acc: 79.655% | global_loss: 0.5572955012321472\n",
      "comm_round: 49 | global_acc: 79.655% | global_loss: 0.5558624863624573\n",
      "comm_round: 50 | global_acc: 80.000% | global_loss: 0.5577403903007507\n",
      "comm_round: 51 | global_acc: 81.034% | global_loss: 0.5521916151046753\n",
      "comm_round: 52 | global_acc: 80.345% | global_loss: 0.5580229163169861\n",
      "comm_round: 53 | global_acc: 79.655% | global_loss: 0.5563243627548218\n",
      "comm_round: 54 | global_acc: 80.345% | global_loss: 0.556596577167511\n",
      "comm_round: 55 | global_acc: 80.345% | global_loss: 0.5519326329231262\n",
      "comm_round: 56 | global_acc: 80.000% | global_loss: 0.5559238791465759\n",
      "comm_round: 57 | global_acc: 79.655% | global_loss: 0.5535028576850891\n",
      "comm_round: 58 | global_acc: 79.655% | global_loss: 0.5510515570640564\n",
      "comm_round: 59 | global_acc: 80.000% | global_loss: 0.5532983541488647\n",
      "comm_round: 60 | global_acc: 80.000% | global_loss: 0.5539723038673401\n",
      "comm_round: 61 | global_acc: 80.690% | global_loss: 0.5539871454238892\n",
      "comm_round: 62 | global_acc: 80.345% | global_loss: 0.553470253944397\n",
      "comm_round: 63 | global_acc: 79.655% | global_loss: 0.5488179922103882\n",
      "comm_round: 64 | global_acc: 79.310% | global_loss: 0.5495569705963135\n",
      "comm_round: 65 | global_acc: 80.690% | global_loss: 0.5499588847160339\n",
      "comm_round: 66 | global_acc: 80.690% | global_loss: 0.5478488802909851\n",
      "comm_round: 67 | global_acc: 81.379% | global_loss: 0.5516715049743652\n",
      "comm_round: 68 | global_acc: 80.000% | global_loss: 0.5452761054039001\n",
      "comm_round: 69 | global_acc: 80.690% | global_loss: 0.5520370006561279\n",
      "comm_round: 70 | global_acc: 79.655% | global_loss: 0.5458157658576965\n",
      "comm_round: 71 | global_acc: 81.034% | global_loss: 0.5513519048690796\n",
      "comm_round: 72 | global_acc: 80.000% | global_loss: 0.5446763038635254\n",
      "comm_round: 73 | global_acc: 79.655% | global_loss: 0.5453808903694153\n",
      "comm_round: 74 | global_acc: 80.345% | global_loss: 0.5465859770774841\n",
      "comm_round: 75 | global_acc: 81.034% | global_loss: 0.5452588200569153\n",
      "comm_round: 76 | global_acc: 80.000% | global_loss: 0.5455698370933533\n",
      "comm_round: 77 | global_acc: 80.000% | global_loss: 0.549064040184021\n",
      "comm_round: 78 | global_acc: 80.690% | global_loss: 0.5451571941375732\n",
      "comm_round: 79 | global_acc: 81.379% | global_loss: 0.5414588451385498\n",
      "comm_round: 80 | global_acc: 81.379% | global_loss: 0.5442789793014526\n",
      "comm_round: 81 | global_acc: 80.690% | global_loss: 0.5431522130966187\n",
      "comm_round: 82 | global_acc: 80.345% | global_loss: 0.5435120463371277\n",
      "comm_round: 83 | global_acc: 81.034% | global_loss: 0.5469821095466614\n",
      "comm_round: 84 | global_acc: 81.034% | global_loss: 0.5399930477142334\n",
      "comm_round: 85 | global_acc: 80.690% | global_loss: 0.5413897037506104\n",
      "comm_round: 86 | global_acc: 82.069% | global_loss: 0.5423375964164734\n",
      "comm_round: 87 | global_acc: 80.690% | global_loss: 0.539553701877594\n",
      "comm_round: 88 | global_acc: 81.379% | global_loss: 0.5424180626869202\n",
      "comm_round: 89 | global_acc: 81.379% | global_loss: 0.5392534732818604\n",
      "comm_round: 90 | global_acc: 80.000% | global_loss: 0.5386357307434082\n",
      "comm_round: 91 | global_acc: 80.000% | global_loss: 0.5401532649993896\n",
      "comm_round: 92 | global_acc: 82.069% | global_loss: 0.5395590662956238\n",
      "comm_round: 93 | global_acc: 81.034% | global_loss: 0.5387810468673706\n",
      "comm_round: 94 | global_acc: 82.759% | global_loss: 0.5393419861793518\n",
      "comm_round: 95 | global_acc: 81.724% | global_loss: 0.5391799211502075\n",
      "comm_round: 96 | global_acc: 81.034% | global_loss: 0.5402030944824219\n",
      "comm_round: 97 | global_acc: 81.724% | global_loss: 0.5366766452789307\n",
      "comm_round: 98 | global_acc: 81.724% | global_loss: 0.5404032468795776\n",
      "comm_round: 99 | global_acc: 82.759% | global_loss: 0.5400455594062805\n",
      "comm_round: 1 | global_acc: 84.138% | global_loss: 0.5250955820083618\n"
     ]
    }
   ],
   "source": [
    "#create clients\n",
    "clients = create_clients()\n",
    "\n",
    "#process and batch the training data for each client\n",
    "clients_batched = dict()\n",
    "for (client_name, data) in clients.items():\n",
    "    clients_batched[client_name] = batch_data(data)\n",
    "    \n",
    "#process and batch the test set  \n",
    "test_batched = tf.data.Dataset.from_tensor_slices((X_test, y_test)).batch(len(y_test))\n",
    "\n",
    "comms_round = 100\n",
    "    \n",
    "#create optimizer\n",
    "lr = 0.01 \n",
    "loss='sparse_categorical_crossentropy'\n",
    "metrics = ['accuracy']\n",
    "optimizer = tf.keras.optimizers.SGD(lr=lr, decay=lr / comms_round, momentum=0.9) \n",
    "\n",
    "#initialize global model\n",
    "smlp_global = RNN()\n",
    "global_model = smlp_global.build(22, 2)\n",
    "        \n",
    "#commence global training loop\n",
    "for comm_round in range(comms_round):\n",
    "            \n",
    "    # get the global model's weights - will serve as the initial weights for all local models\n",
    "    global_weights = global_model.get_weights()\n",
    "    \n",
    "    #initial list to collect local model weights after scalling\n",
    "    scaled_local_weight_list = list()\n",
    "\n",
    "    #randomize client data - using keys\n",
    "    client_names= list(clients_batched.keys())\n",
    "    random.shuffle(client_names)\n",
    "    \n",
    "    #loop through each client and create new local model\n",
    "    for client in client_names:\n",
    "        smlp_local = RNN()\n",
    "        local_model = smlp_local.build(22, 2)\n",
    "        local_model.compile(loss=loss, \n",
    "                      optimizer=optimizer, \n",
    "                      metrics=metrics)\n",
    "        \n",
    "        #set local model weight to the weight of the global model\n",
    "        local_model.set_weights(global_weights)\n",
    "        \n",
    "        #fit local model with client's data\n",
    "        local_model.fit(clients_batched[client], epochs=1, verbose=0)\n",
    "        \n",
    "        #scale the model weights and add to list\n",
    "        scaling_factor = weight_scalling_factor(clients_batched, client)\n",
    "        scaled_weights = scale_model_weights(local_model.get_weights(), scaling_factor)\n",
    "        scaled_local_weight_list.append(scaled_weights)\n",
    "        \n",
    "        #clear session to free memory after each communication round\n",
    "        K.clear_session()\n",
    "        \n",
    "    #to get the average over all the local model, we simply take the sum of the scaled weights\n",
    "    average_weights = sum_scaled_weights(scaled_local_weight_list)\n",
    "    \n",
    "    #update global model \n",
    "    global_model.set_weights(average_weights)\n",
    "\n",
    "    #test global model and print out metrics after each communications round\n",
    "    for(X_test, Y_test) in test_batched:\n",
    "        global_acc, global_loss = test_model(X_test, Y_test, global_model, comm_round)\n",
    "        SGD_dataset = tf.data.Dataset.from_tensor_slices((X_train, y_train)).shuffle(len(y_train)).batch(320)\n",
    "        smlp_SGD = RNN()\n",
    "        SGD_model = smlp_SGD.build(22, 2) \n",
    "\n",
    "        SGD_model.compile(loss=loss, optimizer=optimizer, metrics=metrics)\n",
    "\n",
    "# fit the SGD training data to model\n",
    "_ = SGD_model.fit(SGD_dataset, epochs=100, verbose=0)\n",
    "\n",
    "#test the SGD global model and print out metrics\n",
    "for(X_test, Y_test) in test_batched:\n",
    "        SGD_acc, SGD_loss = test_model(X_test, Y_test, SGD_model, 1)"
   ]
  },
  {
   "cell_type": "code",
   "execution_count": 6,
   "id": "9b13ff1f",
   "metadata": {},
   "outputs": [],
   "source": [
    "Y_predictions = np.argmax(SGD_model.predict(X_test),axis = 1)"
   ]
  },
  {
   "cell_type": "code",
   "execution_count": 7,
   "id": "9bc551a0",
   "metadata": {
    "scrolled": true
   },
   "outputs": [
    {
     "data": {
      "text/plain": [
       "array([[105,  22],\n",
       "       [ 24, 139]], dtype=int64)"
      ]
     },
     "execution_count": 7,
     "metadata": {},
     "output_type": "execute_result"
    }
   ],
   "source": [
    "cm = confusion_matrix(Y_predictions, Y_test)\n",
    "cm"
   ]
  },
  {
   "cell_type": "code",
   "execution_count": 8,
   "id": "8a83e0bb",
   "metadata": {
    "scrolled": true
   },
   "outputs": [
    {
     "name": "stdout",
     "output_type": "stream",
     "text": [
      "              precision    recall  f1-score   support\n",
      "\n",
      "           0     0.8268    0.8140    0.8203       129\n",
      "           1     0.8528    0.8634    0.8580       161\n",
      "\n",
      "    accuracy                         0.8414       290\n",
      "   macro avg     0.8398    0.8387    0.8392       290\n",
      "weighted avg     0.8412    0.8414    0.8412       290\n",
      "\n"
     ]
    }
   ],
   "source": [
    "print(classification_report(Y_test, Y_predictions, digits=4))"
   ]
  },
  {
   "cell_type": "code",
   "execution_count": 9,
   "id": "163a424b",
   "metadata": {},
   "outputs": [],
   "source": [
    "#SGD_model.save('FL_HD_ANN_85%.h5')"
   ]
  },
  {
   "cell_type": "markdown",
   "id": "f2f54fa3",
   "metadata": {},
   "source": [
    "# Test on each dataset"
   ]
  },
  {
   "cell_type": "code",
   "execution_count": 10,
   "id": "cc6e3982",
   "metadata": {},
   "outputs": [
    {
     "name": "stdout",
     "output_type": "stream",
     "text": [
      "[[47  7]\n",
      " [ 6 33]]\n",
      "              precision    recall  f1-score   support\n",
      "\n",
      "           0     0.8868    0.8704    0.8785        54\n",
      "           1     0.8250    0.8462    0.8354        39\n",
      "\n",
      "    accuracy                         0.8602        93\n",
      "   macro avg     0.8559    0.8583    0.8570        93\n",
      "weighted avg     0.8609    0.8602    0.8604        93\n",
      "\n"
     ]
    }
   ],
   "source": [
    "Y_cle = np.argmax(SGD_model.predict(cle_X_test),axis = 1)\n",
    "cm_cle = confusion_matrix(Y_cle, cle_Y_test_binary)\n",
    "print(cm_cle)\n",
    "print(classification_report(Y_cle, cle_Y_test_binary, digits=4))"
   ]
  },
  {
   "cell_type": "code",
   "execution_count": 11,
   "id": "517661db",
   "metadata": {},
   "outputs": [
    {
     "name": "stdout",
     "output_type": "stream",
     "text": [
      "[[ 7  4]\n",
      " [13 38]]\n",
      "              precision    recall  f1-score   support\n",
      "\n",
      "           0     0.3500    0.6364    0.4516        11\n",
      "           1     0.9048    0.7451    0.8172        51\n",
      "\n",
      "    accuracy                         0.7258        62\n",
      "   macro avg     0.6274    0.6907    0.6344        62\n",
      "weighted avg     0.8063    0.7258    0.7523        62\n",
      "\n"
     ]
    }
   ],
   "source": [
    "Y_vir = np.argmax(SGD_model.predict(vir_X_test),axis = 1)\n",
    "cm_vir = confusion_matrix(Y_vir, vir_Y_test_binary)\n",
    "print(cm_vir)\n",
    "print(classification_report(Y_vir, vir_Y_test_binary, digits=4))"
   ]
  },
  {
   "cell_type": "code",
   "execution_count": 12,
   "id": "1b259589",
   "metadata": {},
   "outputs": [
    {
     "name": "stdout",
     "output_type": "stream",
     "text": [
      "[[49  6]\n",
      " [ 5 34]]\n",
      "              precision    recall  f1-score   support\n",
      "\n",
      "           0     0.9074    0.8909    0.8991        55\n",
      "           1     0.8500    0.8718    0.8608        39\n",
      "\n",
      "    accuracy                         0.8830        94\n",
      "   macro avg     0.8787    0.8814    0.8799        94\n",
      "weighted avg     0.8836    0.8830    0.8832        94\n",
      "\n"
     ]
    }
   ],
   "source": [
    "Y_hun = np.argmax(SGD_model.predict(hun_X_test),axis = 1)\n",
    "cm_hun = confusion_matrix(Y_hun, hun_Y_test_binary)\n",
    "print(cm_hun)\n",
    "print(classification_report(Y_hun, hun_Y_test_binary, digits=4))"
   ]
  },
  {
   "cell_type": "code",
   "execution_count": 13,
   "id": "e21777c5",
   "metadata": {},
   "outputs": [
    {
     "name": "stdout",
     "output_type": "stream",
     "text": [
      "[[ 2  5]\n",
      " [ 0 34]]\n",
      "              precision    recall  f1-score   support\n",
      "\n",
      "           0     1.0000    0.2857    0.4444         7\n",
      "           1     0.8718    1.0000    0.9315        34\n",
      "\n",
      "    accuracy                         0.8780        41\n",
      "   macro avg     0.9359    0.6429    0.6880        41\n",
      "weighted avg     0.8937    0.8780    0.8483        41\n",
      "\n"
     ]
    }
   ],
   "source": [
    "Y_swi = np.argmax(SGD_model.predict(swi_X_test),axis = 1)\n",
    "cm_swi = confusion_matrix(Y_swi, swi_Y_test_binary)\n",
    "print(cm_swi)\n",
    "print(classification_report(Y_swi, swi_Y_test_binary, digits=4))"
   ]
  }
 ],
 "metadata": {
  "kernelspec": {
   "display_name": "Python 3 (ipykernel)",
   "language": "python",
   "name": "python3"
  },
  "language_info": {
   "codemirror_mode": {
    "name": "ipython",
    "version": 3
   },
   "file_extension": ".py",
   "mimetype": "text/x-python",
   "name": "python",
   "nbconvert_exporter": "python",
   "pygments_lexer": "ipython3",
   "version": "3.8.3"
  }
 },
 "nbformat": 4,
 "nbformat_minor": 5
}
